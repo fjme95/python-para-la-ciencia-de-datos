{
  "nbformat": 4,
  "nbformat_minor": 0,
  "metadata": {
    "colab": {
      "name": "Detección duplicados.ipynb",
      "provenance": [],
      "authorship_tag": "ABX9TyMqaesCqF6ph6FwOAawddty",
      "include_colab_link": true
    },
    "kernelspec": {
      "name": "python3",
      "display_name": "Python 3"
    },
    "language_info": {
      "name": "python"
    }
  },
  "cells": [
    {
      "cell_type": "markdown",
      "metadata": {
        "id": "view-in-github",
        "colab_type": "text"
      },
      "source": [
        "<a href=\"https://colab.research.google.com/github/fjme95/python-para-la-ciencia-de-datos/blob/main/Semana%206/Detecci%C3%B3n_duplicados.ipynb\" target=\"_parent\"><img src=\"https://colab.research.google.com/assets/colab-badge.svg\" alt=\"Open In Colab\"/></a>"
      ]
    },
    {
      "cell_type": "markdown",
      "metadata": {
        "id": "P_bGT2arhHty"
      },
      "source": [
        "# Dependencias"
      ]
    },
    {
      "cell_type": "code",
      "metadata": {
        "colab": {
          "base_uri": "https://localhost:8080/"
        },
        "id": "OfHZzk0VBw4o",
        "outputId": "41bbb9ea-109a-4daa-9a0e-af4d280f29aa"
      },
      "source": [
        "!pip install xgboost"
      ],
      "execution_count": 20,
      "outputs": [
        {
          "output_type": "stream",
          "name": "stdout",
          "text": [
            "Requirement already satisfied: xgboost in /usr/local/lib/python3.7/dist-packages (0.90)\n",
            "Requirement already satisfied: scipy in /usr/local/lib/python3.7/dist-packages (from xgboost) (1.4.1)\n",
            "Requirement already satisfied: numpy in /usr/local/lib/python3.7/dist-packages (from xgboost) (1.19.5)\n"
          ]
        }
      ]
    },
    {
      "cell_type": "code",
      "metadata": {
        "colab": {
          "base_uri": "https://localhost:8080/"
        },
        "id": "saV2anAsLpbg",
        "outputId": "d7660588-94ae-4561-a168-adb8e485ba18"
      },
      "source": [
        "!pip install -U gensim"
      ],
      "execution_count": 21,
      "outputs": [
        {
          "output_type": "stream",
          "name": "stdout",
          "text": [
            "Requirement already satisfied: gensim in /usr/local/lib/python3.7/dist-packages (4.1.2)\n",
            "Requirement already satisfied: scipy>=0.18.1 in /usr/local/lib/python3.7/dist-packages (from gensim) (1.4.1)\n",
            "Requirement already satisfied: smart-open>=1.8.1 in /usr/local/lib/python3.7/dist-packages (from gensim) (5.2.1)\n",
            "Requirement already satisfied: numpy>=1.17.0 in /usr/local/lib/python3.7/dist-packages (from gensim) (1.19.5)\n"
          ]
        }
      ]
    },
    {
      "cell_type": "code",
      "metadata": {
        "id": "JfFCkdr3FD9u"
      },
      "source": [
        "import zipfile\n",
        "\n",
        "import pandas as pd\n",
        "import numpy as np\n",
        "\n",
        "from sklearn.model_selection import train_test_split\n",
        "from sklearn.ensemble import AdaBoostClassifier\n",
        "from sklearn.metrics import classification_report\n",
        "\n",
        "from gensim.utils import tokenize as gensim_tokenize\n",
        "from gensim.models import Doc2Vec\n",
        "from gensim.models.doc2vec import TaggedDocument\n",
        "\n",
        "import nltk\n",
        "from nltk.corpus import stopwords\n",
        "\n",
        "from xgboost import XGBClassifier"
      ],
      "execution_count": 22,
      "outputs": []
    },
    {
      "cell_type": "code",
      "metadata": {
        "colab": {
          "base_uri": "https://localhost:8080/"
        },
        "id": "gJLDyeTeHM2X",
        "outputId": "917b3854-4cd4-437d-c7ac-6f9aa5c4ff12"
      },
      "source": [
        "nltk.download('stopwords')\n",
        "\n",
        "stopwords_list = stopwords.words('english') + ['would']"
      ],
      "execution_count": 23,
      "outputs": [
        {
          "output_type": "stream",
          "name": "stdout",
          "text": [
            "[nltk_data] Downloading package stopwords to /root/nltk_data...\n",
            "[nltk_data]   Package stopwords is already up-to-date!\n"
          ]
        }
      ]
    },
    {
      "cell_type": "markdown",
      "metadata": {
        "id": "jQhZ3RBYhO0K"
      },
      "source": [
        "# Datos"
      ]
    },
    {
      "cell_type": "markdown",
      "metadata": {
        "id": "v8ZNAlI9kQ2q"
      },
      "source": [
        "Vamos a ocupar el dataset \"[Questions Pairs Dataset](https://www.kaggle.com/quora/question-pairs-dataset)\" de Quora. Consiste en 404,351 pares de preguntas con una etiqueta que indica si ambas preguntas son lo mismo.\n",
        "\n",
        "Por ejemplo, el par de preguntas \n",
        "\n",
        "- Do you believe there is life after death?\n",
        "- Is it true that there is life after death?\n",
        "\n",
        "se refieren a lo mismo, por lo que estarán marcadas como duplicadas."
      ]
    },
    {
      "cell_type": "markdown",
      "metadata": {
        "id": "uKlDh5hAhP5M"
      },
      "source": [
        "## Descarga de datos"
      ]
    },
    {
      "cell_type": "code",
      "metadata": {
        "colab": {
          "base_uri": "https://localhost:8080/"
        },
        "id": "VhiHdfG_FK9r",
        "outputId": "dd286665-8471-47f4-d43f-94cc5ef4f5a6"
      },
      "source": [
        "!wget https://github.com/fjme95/python-para-la-ciencia-de-datos/blob/main/Semana%206/data/questions.csv.zip?raw=true"
      ],
      "execution_count": 24,
      "outputs": [
        {
          "output_type": "stream",
          "name": "stdout",
          "text": [
            "--2021-11-25 21:09:39--  https://github.com/fjme95/python-para-la-ciencia-de-datos/blob/main/Semana%206/data/questions.csv.zip?raw=true\n",
            "Resolving github.com (github.com)... 140.82.113.4\n",
            "Connecting to github.com (github.com)|140.82.113.4|:443... connected.\n",
            "HTTP request sent, awaiting response... 302 Found\n",
            "Location: https://github.com/fjme95/python-para-la-ciencia-de-datos/raw/main/Semana%206/data/questions.csv.zip [following]\n",
            "--2021-11-25 21:09:40--  https://github.com/fjme95/python-para-la-ciencia-de-datos/raw/main/Semana%206/data/questions.csv.zip\n",
            "Reusing existing connection to github.com:443.\n",
            "HTTP request sent, awaiting response... 302 Found\n",
            "Location: https://raw.githubusercontent.com/fjme95/python-para-la-ciencia-de-datos/main/Semana%206/data/questions.csv.zip [following]\n",
            "--2021-11-25 21:09:40--  https://raw.githubusercontent.com/fjme95/python-para-la-ciencia-de-datos/main/Semana%206/data/questions.csv.zip\n",
            "Resolving raw.githubusercontent.com (raw.githubusercontent.com)... 185.199.108.133, 185.199.109.133, 185.199.110.133, ...\n",
            "Connecting to raw.githubusercontent.com (raw.githubusercontent.com)|185.199.108.133|:443... connected.\n",
            "HTTP request sent, awaiting response... 200 OK\n",
            "Length: 21794834 (21M) [application/zip]\n",
            "Saving to: ‘questions.csv.zip?raw=true.2’\n",
            "\n",
            "questions.csv.zip?r 100%[===================>]  20.79M  --.-KB/s    in 0.1s    \n",
            "\n",
            "2021-11-25 21:09:40 (174 MB/s) - ‘questions.csv.zip?raw=true.2’ saved [21794834/21794834]\n",
            "\n"
          ]
        }
      ]
    },
    {
      "cell_type": "code",
      "metadata": {
        "id": "AZw-8b5LFTzZ"
      },
      "source": [
        "with zipfile.ZipFile('/content/questions.csv.zip?raw=true', 'r') as zip_ref:\n",
        "    zip_ref.extractall()"
      ],
      "execution_count": 25,
      "outputs": []
    },
    {
      "cell_type": "markdown",
      "metadata": {
        "id": "VNAWj2ZrhSsb"
      },
      "source": [
        "## Lectura de datos "
      ]
    },
    {
      "cell_type": "code",
      "metadata": {
        "colab": {
          "base_uri": "https://localhost:8080/",
          "height": 450
        },
        "id": "OxGy32-WFZhH",
        "outputId": "a258cc18-f2c9-420f-e90d-bca8f6c0b036"
      },
      "source": [
        "questions_raw = pd.read_csv('questions.csv').set_index('id')\n",
        "questions_raw"
      ],
      "execution_count": 26,
      "outputs": [
        {
          "output_type": "execute_result",
          "data": {
            "text/html": [
              "<div>\n",
              "<style scoped>\n",
              "    .dataframe tbody tr th:only-of-type {\n",
              "        vertical-align: middle;\n",
              "    }\n",
              "\n",
              "    .dataframe tbody tr th {\n",
              "        vertical-align: top;\n",
              "    }\n",
              "\n",
              "    .dataframe thead th {\n",
              "        text-align: right;\n",
              "    }\n",
              "</style>\n",
              "<table border=\"1\" class=\"dataframe\">\n",
              "  <thead>\n",
              "    <tr style=\"text-align: right;\">\n",
              "      <th></th>\n",
              "      <th>qid1</th>\n",
              "      <th>qid2</th>\n",
              "      <th>question1</th>\n",
              "      <th>question2</th>\n",
              "      <th>is_duplicate</th>\n",
              "    </tr>\n",
              "    <tr>\n",
              "      <th>id</th>\n",
              "      <th></th>\n",
              "      <th></th>\n",
              "      <th></th>\n",
              "      <th></th>\n",
              "      <th></th>\n",
              "    </tr>\n",
              "  </thead>\n",
              "  <tbody>\n",
              "    <tr>\n",
              "      <th>0</th>\n",
              "      <td>1</td>\n",
              "      <td>2</td>\n",
              "      <td>What is the step by step guide to invest in sh...</td>\n",
              "      <td>What is the step by step guide to invest in sh...</td>\n",
              "      <td>0</td>\n",
              "    </tr>\n",
              "    <tr>\n",
              "      <th>1</th>\n",
              "      <td>3</td>\n",
              "      <td>4</td>\n",
              "      <td>What is the story of Kohinoor (Koh-i-Noor) Dia...</td>\n",
              "      <td>What would happen if the Indian government sto...</td>\n",
              "      <td>0</td>\n",
              "    </tr>\n",
              "    <tr>\n",
              "      <th>2</th>\n",
              "      <td>5</td>\n",
              "      <td>6</td>\n",
              "      <td>How can I increase the speed of my internet co...</td>\n",
              "      <td>How can Internet speed be increased by hacking...</td>\n",
              "      <td>0</td>\n",
              "    </tr>\n",
              "    <tr>\n",
              "      <th>3</th>\n",
              "      <td>7</td>\n",
              "      <td>8</td>\n",
              "      <td>Why am I mentally very lonely? How can I solve...</td>\n",
              "      <td>Find the remainder when [math]23^{24}[/math] i...</td>\n",
              "      <td>0</td>\n",
              "    </tr>\n",
              "    <tr>\n",
              "      <th>4</th>\n",
              "      <td>9</td>\n",
              "      <td>10</td>\n",
              "      <td>Which one dissolve in water quikly sugar, salt...</td>\n",
              "      <td>Which fish would survive in salt water?</td>\n",
              "      <td>0</td>\n",
              "    </tr>\n",
              "    <tr>\n",
              "      <th>...</th>\n",
              "      <td>...</td>\n",
              "      <td>...</td>\n",
              "      <td>...</td>\n",
              "      <td>...</td>\n",
              "      <td>...</td>\n",
              "    </tr>\n",
              "    <tr>\n",
              "      <th>404346</th>\n",
              "      <td>789792</td>\n",
              "      <td>789793</td>\n",
              "      <td>How many keywords are there in the Racket prog...</td>\n",
              "      <td>How many keywords are there in PERL Programmin...</td>\n",
              "      <td>0</td>\n",
              "    </tr>\n",
              "    <tr>\n",
              "      <th>404347</th>\n",
              "      <td>789794</td>\n",
              "      <td>789795</td>\n",
              "      <td>Do you believe there is life after death?</td>\n",
              "      <td>Is it true that there is life after death?</td>\n",
              "      <td>1</td>\n",
              "    </tr>\n",
              "    <tr>\n",
              "      <th>404348</th>\n",
              "      <td>789796</td>\n",
              "      <td>789797</td>\n",
              "      <td>What is one coin?</td>\n",
              "      <td>What's this coin?</td>\n",
              "      <td>0</td>\n",
              "    </tr>\n",
              "    <tr>\n",
              "      <th>404349</th>\n",
              "      <td>789798</td>\n",
              "      <td>789799</td>\n",
              "      <td>What is the approx annual cost of living while...</td>\n",
              "      <td>I am having little hairfall problem but I want...</td>\n",
              "      <td>0</td>\n",
              "    </tr>\n",
              "    <tr>\n",
              "      <th>404350</th>\n",
              "      <td>789800</td>\n",
              "      <td>789801</td>\n",
              "      <td>What is like to have sex with cousin?</td>\n",
              "      <td>What is it like to have sex with your cousin?</td>\n",
              "      <td>0</td>\n",
              "    </tr>\n",
              "  </tbody>\n",
              "</table>\n",
              "<p>404351 rows × 5 columns</p>\n",
              "</div>"
            ],
            "text/plain": [
              "          qid1  ...  is_duplicate\n",
              "id              ...              \n",
              "0            1  ...             0\n",
              "1            3  ...             0\n",
              "2            5  ...             0\n",
              "3            7  ...             0\n",
              "4            9  ...             0\n",
              "...        ...  ...           ...\n",
              "404346  789792  ...             0\n",
              "404347  789794  ...             1\n",
              "404348  789796  ...             0\n",
              "404349  789798  ...             0\n",
              "404350  789800  ...             0\n",
              "\n",
              "[404351 rows x 5 columns]"
            ]
          },
          "metadata": {},
          "execution_count": 26
        }
      ]
    },
    {
      "cell_type": "markdown",
      "metadata": {
        "id": "SrQgU0jJhWlL"
      },
      "source": [
        "## Análisis de los datos"
      ]
    },
    {
      "cell_type": "code",
      "metadata": {
        "id": "ABi4TA-1FfA4",
        "colab": {
          "base_uri": "https://localhost:8080/"
        },
        "outputId": "6eae47cb-0e44-4b97-fe03-ab2d3da35b8c"
      },
      "source": [
        "questions_raw.is_duplicate.value_counts() / len(questions_raw)"
      ],
      "execution_count": 27,
      "outputs": [
        {
          "output_type": "execute_result",
          "data": {
            "text/plain": [
              "0    0.630752\n",
              "1    0.369248\n",
              "Name: is_duplicate, dtype: float64"
            ]
          },
          "metadata": {},
          "execution_count": 27
        }
      ]
    },
    {
      "cell_type": "code",
      "metadata": {
        "colab": {
          "base_uri": "https://localhost:8080/",
          "height": 450
        },
        "id": "QbDFrv5-KoAU",
        "outputId": "a5efe6a9-f47d-4565-891c-ed33e6e6905d"
      },
      "source": [
        "questions_raw.iloc[:, -1:]"
      ],
      "execution_count": 28,
      "outputs": [
        {
          "output_type": "execute_result",
          "data": {
            "text/html": [
              "<div>\n",
              "<style scoped>\n",
              "    .dataframe tbody tr th:only-of-type {\n",
              "        vertical-align: middle;\n",
              "    }\n",
              "\n",
              "    .dataframe tbody tr th {\n",
              "        vertical-align: top;\n",
              "    }\n",
              "\n",
              "    .dataframe thead th {\n",
              "        text-align: right;\n",
              "    }\n",
              "</style>\n",
              "<table border=\"1\" class=\"dataframe\">\n",
              "  <thead>\n",
              "    <tr style=\"text-align: right;\">\n",
              "      <th></th>\n",
              "      <th>is_duplicate</th>\n",
              "    </tr>\n",
              "    <tr>\n",
              "      <th>id</th>\n",
              "      <th></th>\n",
              "    </tr>\n",
              "  </thead>\n",
              "  <tbody>\n",
              "    <tr>\n",
              "      <th>0</th>\n",
              "      <td>0</td>\n",
              "    </tr>\n",
              "    <tr>\n",
              "      <th>1</th>\n",
              "      <td>0</td>\n",
              "    </tr>\n",
              "    <tr>\n",
              "      <th>2</th>\n",
              "      <td>0</td>\n",
              "    </tr>\n",
              "    <tr>\n",
              "      <th>3</th>\n",
              "      <td>0</td>\n",
              "    </tr>\n",
              "    <tr>\n",
              "      <th>4</th>\n",
              "      <td>0</td>\n",
              "    </tr>\n",
              "    <tr>\n",
              "      <th>...</th>\n",
              "      <td>...</td>\n",
              "    </tr>\n",
              "    <tr>\n",
              "      <th>404346</th>\n",
              "      <td>0</td>\n",
              "    </tr>\n",
              "    <tr>\n",
              "      <th>404347</th>\n",
              "      <td>1</td>\n",
              "    </tr>\n",
              "    <tr>\n",
              "      <th>404348</th>\n",
              "      <td>0</td>\n",
              "    </tr>\n",
              "    <tr>\n",
              "      <th>404349</th>\n",
              "      <td>0</td>\n",
              "    </tr>\n",
              "    <tr>\n",
              "      <th>404350</th>\n",
              "      <td>0</td>\n",
              "    </tr>\n",
              "  </tbody>\n",
              "</table>\n",
              "<p>404351 rows × 1 columns</p>\n",
              "</div>"
            ],
            "text/plain": [
              "        is_duplicate\n",
              "id                  \n",
              "0                  0\n",
              "1                  0\n",
              "2                  0\n",
              "3                  0\n",
              "4                  0\n",
              "...              ...\n",
              "404346             0\n",
              "404347             1\n",
              "404348             0\n",
              "404349             0\n",
              "404350             0\n",
              "\n",
              "[404351 rows x 1 columns]"
            ]
          },
          "metadata": {},
          "execution_count": 28
        }
      ]
    },
    {
      "cell_type": "markdown",
      "metadata": {
        "id": "JsylH1gBhZKA"
      },
      "source": [
        "## División en train y test"
      ]
    },
    {
      "cell_type": "code",
      "metadata": {
        "colab": {
          "base_uri": "https://localhost:8080/"
        },
        "id": "to4OXZoiIALs",
        "outputId": "efbdd44d-5499-4e94-aad5-7f2aa4331d9e"
      },
      "source": [
        "X_train, X_test, y_train, y_test = train_test_split(questions_raw.iloc[:, :-1], questions_raw.iloc[:, -1:], random_state=10)\n",
        "print(X_train.shape, X_test.shape, y_train.shape, y_test.shape)"
      ],
      "execution_count": 29,
      "outputs": [
        {
          "output_type": "stream",
          "name": "stdout",
          "text": [
            "(303263, 4) (101088, 4) (303263, 1) (101088, 1)\n"
          ]
        }
      ]
    },
    {
      "cell_type": "code",
      "metadata": {
        "colab": {
          "base_uri": "https://localhost:8080/",
          "height": 450
        },
        "id": "X8gXfL_LK9q-",
        "outputId": "06103d8a-bb35-460a-edd3-1e45e1a06c95"
      },
      "source": [
        "X_train"
      ],
      "execution_count": 30,
      "outputs": [
        {
          "output_type": "execute_result",
          "data": {
            "text/html": [
              "<div>\n",
              "<style scoped>\n",
              "    .dataframe tbody tr th:only-of-type {\n",
              "        vertical-align: middle;\n",
              "    }\n",
              "\n",
              "    .dataframe tbody tr th {\n",
              "        vertical-align: top;\n",
              "    }\n",
              "\n",
              "    .dataframe thead th {\n",
              "        text-align: right;\n",
              "    }\n",
              "</style>\n",
              "<table border=\"1\" class=\"dataframe\">\n",
              "  <thead>\n",
              "    <tr style=\"text-align: right;\">\n",
              "      <th></th>\n",
              "      <th>qid1</th>\n",
              "      <th>qid2</th>\n",
              "      <th>question1</th>\n",
              "      <th>question2</th>\n",
              "    </tr>\n",
              "    <tr>\n",
              "      <th>id</th>\n",
              "      <th></th>\n",
              "      <th></th>\n",
              "      <th></th>\n",
              "      <th></th>\n",
              "    </tr>\n",
              "  </thead>\n",
              "  <tbody>\n",
              "    <tr>\n",
              "      <th>57436</th>\n",
              "      <td>114273</td>\n",
              "      <td>114274</td>\n",
              "      <td>Which job title has a higher salary, front-end...</td>\n",
              "      <td>How hard is it to switch from being a front en...</td>\n",
              "    </tr>\n",
              "    <tr>\n",
              "      <th>217293</th>\n",
              "      <td>428435</td>\n",
              "      <td>428436</td>\n",
              "      <td>Did Christianity start with Jesus?</td>\n",
              "      <td>Do Muslims follow Jesus more than Christians do?</td>\n",
              "    </tr>\n",
              "    <tr>\n",
              "      <th>43481</th>\n",
              "      <td>86595</td>\n",
              "      <td>86596</td>\n",
              "      <td>What is swarm intelligence and how does it works?</td>\n",
              "      <td>How does swarm intelligence work?</td>\n",
              "    </tr>\n",
              "    <tr>\n",
              "      <th>224844</th>\n",
              "      <td>443154</td>\n",
              "      <td>443155</td>\n",
              "      <td>What are the practical steps in a statutory au...</td>\n",
              "      <td>What work does statutory auditor do?</td>\n",
              "    </tr>\n",
              "    <tr>\n",
              "      <th>194743</th>\n",
              "      <td>384393</td>\n",
              "      <td>384394</td>\n",
              "      <td>What is the difference between usage of can an...</td>\n",
              "      <td>What is the difference between the usage of do...</td>\n",
              "    </tr>\n",
              "    <tr>\n",
              "      <th>...</th>\n",
              "      <td>...</td>\n",
              "      <td>...</td>\n",
              "      <td>...</td>\n",
              "      <td>...</td>\n",
              "    </tr>\n",
              "    <tr>\n",
              "      <th>105595</th>\n",
              "      <td>209444</td>\n",
              "      <td>209445</td>\n",
              "      <td>What would happen if you inject/infect a tumou...</td>\n",
              "      <td>What happens when a virus, bacterium etc inter...</td>\n",
              "    </tr>\n",
              "    <tr>\n",
              "      <th>93553</th>\n",
              "      <td>185728</td>\n",
              "      <td>185729</td>\n",
              "      <td>How can I improve my writing skills and blog s...</td>\n",
              "      <td>How do I improve my writing skills?</td>\n",
              "    </tr>\n",
              "    <tr>\n",
              "      <th>356879</th>\n",
              "      <td>698900</td>\n",
              "      <td>698901</td>\n",
              "      <td>What does it mean when you have low self esteem?</td>\n",
              "      <td>Why do I think like I have high self-esteem, b...</td>\n",
              "    </tr>\n",
              "    <tr>\n",
              "      <th>236669</th>\n",
              "      <td>466229</td>\n",
              "      <td>466230</td>\n",
              "      <td>Would it be a better idea if India had only on...</td>\n",
              "      <td>What is high calorie food?</td>\n",
              "    </tr>\n",
              "    <tr>\n",
              "      <th>345353</th>\n",
              "      <td>493137</td>\n",
              "      <td>676786</td>\n",
              "      <td>Does Fight Club (the movie) appeal to women?</td>\n",
              "      <td>Does fighting (as in the Fight Club movie) app...</td>\n",
              "    </tr>\n",
              "  </tbody>\n",
              "</table>\n",
              "<p>303263 rows × 4 columns</p>\n",
              "</div>"
            ],
            "text/plain": [
              "          qid1  ...                                          question2\n",
              "id              ...                                                   \n",
              "57436   114273  ...  How hard is it to switch from being a front en...\n",
              "217293  428435  ...   Do Muslims follow Jesus more than Christians do?\n",
              "43481    86595  ...                  How does swarm intelligence work?\n",
              "224844  443154  ...               What work does statutory auditor do?\n",
              "194743  384393  ...  What is the difference between the usage of do...\n",
              "...        ...  ...                                                ...\n",
              "105595  209444  ...  What happens when a virus, bacterium etc inter...\n",
              "93553   185728  ...                How do I improve my writing skills?\n",
              "356879  698900  ...  Why do I think like I have high self-esteem, b...\n",
              "236669  466229  ...                         What is high calorie food?\n",
              "345353  493137  ...  Does fighting (as in the Fight Club movie) app...\n",
              "\n",
              "[303263 rows x 4 columns]"
            ]
          },
          "metadata": {},
          "execution_count": 30
        }
      ]
    },
    {
      "cell_type": "markdown",
      "metadata": {
        "id": "Q88EeYQRhwlk"
      },
      "source": [
        "## Procesamiento"
      ]
    },
    {
      "cell_type": "code",
      "metadata": {
        "id": "-eoPwGp9PJj8"
      },
      "source": [
        "def tokenize(text):\n",
        "    return [word for word in gensim_tokenize(str(text), deacc = True, lower = True) if word not in stopwords_list]"
      ],
      "execution_count": 31,
      "outputs": []
    },
    {
      "cell_type": "code",
      "metadata": {
        "id": "DBcRhqqbPJgx"
      },
      "source": [
        "index = np.concatenate([X_train.qid1, X_train.qid2])\n",
        "X_train_long = np.concatenate([X_train.question1, X_train.question2])"
      ],
      "execution_count": 32,
      "outputs": []
    },
    {
      "cell_type": "markdown",
      "metadata": {
        "id": "PtmZzoDeh8HA"
      },
      "source": [
        "# Doc2Vec"
      ]
    },
    {
      "cell_type": "code",
      "metadata": {
        "id": "WOob7belPJdy",
        "colab": {
          "base_uri": "https://localhost:8080/"
        },
        "outputId": "6a5a7381-9a7e-4ae4-cacc-6dea6e9531aa"
      },
      "source": [
        "documents = [TaggedDocument(tokenize(doc), [f'q{i}']) for doc, i in zip(X_train_long, index)]\n",
        "documents"
      ],
      "execution_count": 33,
      "outputs": [
        {
          "output_type": "execute_result",
          "data": {
            "text/plain": [
              "[TaggedDocument(words=['job', 'title', 'higher', 'salary', 'front', 'end', 'developer', 'back', 'end', 'developer'], tags=['q114273']),\n",
              " TaggedDocument(words=['christianity', 'start', 'jesus'], tags=['q428435']),\n",
              " TaggedDocument(words=['swarm', 'intelligence', 'works'], tags=['q86595']),\n",
              " TaggedDocument(words=['practical', 'steps', 'statutory', 'audit'], tags=['q443154']),\n",
              " TaggedDocument(words=['difference', 'usage', 'could'], tags=['q384393']),\n",
              " TaggedDocument(words=['treat', 'burning', 'dry', 'lips'], tags=['q87623']),\n",
              " TaggedDocument(words=['first', 'thing', 'comes', 'mind', 'hear', 'word', 'filipino'], tags=['q142944']),\n",
              " TaggedDocument(words=['aspire', 'great', 'power', 'third', 'rate', 'economy'], tags=['q230244']),\n",
              " TaggedDocument(words=['qualification', 'get', 'job', 'fox', 'traveller', 'national', 'geography'], tags=['q637610']),\n",
              " TaggedDocument(words=['differences', 'mp', 'file', 'flac', 'file', 'converted'], tags=['q315145']),\n",
              " TaggedDocument(words=['could', 'self', 'learn', 'programming'], tags=['q101120']),\n",
              " TaggedDocument(words=['transfer', 'messages', 'android', 'ios'], tags=['q572573']),\n",
              " TaggedDocument(words=['hair', 'turn', 'white'], tags=['q517577']),\n",
              " TaggedDocument(words=['disable', 'end', 'call', 'power', 'lock', 'button', 'featue', 'iphone'], tags=['q756253']),\n",
              " TaggedDocument(words=['invented', 'light', 'years'], tags=['q10233']),\n",
              " TaggedDocument(words=['ever', 'paid', 'sex'], tags=['q403890']),\n",
              " TaggedDocument(words=['webscrap', 'using', 'java'], tags=['q626838']),\n",
              " TaggedDocument(words=['download', 'free', 'music'], tags=['q6493']),\n",
              " TaggedDocument(words=['thing', 'negative', 'mass'], tags=['q614187']),\n",
              " TaggedDocument(words=['use', 'turbo', 'sae', 'supra'], tags=['q195445']),\n",
              " TaggedDocument(words=['usa', 'cannot', 'fight', 'terrorism', 'alone', 'countries', 'partenering', 'usa', 'make', 'world', 'terror', 'free'], tags=['q588310']),\n",
              " TaggedDocument(words=['make', 'grilled', 'cheese', 'without', 'butter'], tags=['q370945']),\n",
              " TaggedDocument(words=['city', 'india', 'highest', 'number', 'pubs'], tags=['q334801']),\n",
              " TaggedDocument(words=['overcome', 'habit', 'procrastination'], tags=['q299665']),\n",
              " TaggedDocument(words=['happened', 'first', 'second', 'beginning', 'universe', 'first', 'moment', 'big', 'bang'], tags=['q689236']),\n",
              " TaggedDocument(words=['best', 'ways', 'thaw', 'lobster', 'tails'], tags=['q57013']),\n",
              " TaggedDocument(words=['man', 'text', 'woman', 'dating', 'every', 'day'], tags=['q201341']),\n",
              " TaggedDocument(words=['breed', 'american', 'bulldog', 'red', 'nose', 'pitbull', 'mix'], tags=['q36126']),\n",
              " TaggedDocument(words=['secret', 'cannot', 'tell', 'anyone', 'real', 'life', 'quora'], tags=['q416597']),\n",
              " TaggedDocument(words=['country', 'best', 'known', 'producing', 'organic', 'shampoo'], tags=['q778854']),\n",
              " TaggedDocument(words=['good', 'ways', 'save', 'income', 'tax', 'current', 'situation', 'india'], tags=['q584730']),\n",
              " TaggedDocument(words=['buy', 'iphone', 'later'], tags=['q244584']),\n",
              " TaggedDocument(words=['get', 'clients', 'software', 'startup', 'company'], tags=['q3385']),\n",
              " TaggedDocument(words=['hilarious', 'answer', 'read', 'quora'], tags=['q244454']),\n",
              " TaggedDocument(words=['krk', 'quora'], tags=['q655820']),\n",
              " TaggedDocument(words=['engineers', 'tend', 'single'], tags=['q404540']),\n",
              " TaggedDocument(words=['fastest', 'way', 'get', 'hair', 'waves'], tags=['q788426']),\n",
              " TaggedDocument(words=['know', 'like', 'girl'], tags=['q764789']),\n",
              " TaggedDocument(words=['change', 'world'], tags=['q580250']),\n",
              " TaggedDocument(words=['aluminum', 'cookware', 'bad'], tags=['q109913']),\n",
              " TaggedDocument(words=['colds', 'worse', 'others', 'determines', 'severity', 'cold'], tags=['q38226']),\n",
              " TaggedDocument(words=['best', 'way', 'unlock', 'htc', 'evo'], tags=['q501677']),\n",
              " TaggedDocument(words=['unlock', 'pin', 'code', 'forgot', 'htc', 'desire'], tags=['q514152']),\n",
              " TaggedDocument(words=['referred', 'mard', 'ini', 'goddess', 'kali', 'durgah', 'per', 'sons', 'crit', 'hindu', 'tvam', 'mythology'], tags=['q265591']),\n",
              " TaggedDocument(words=['improve', 'memory', 'problem'], tags=['q425956']),\n",
              " TaggedDocument(words=['life', 'advice', 'make', 'life', 'simpler'], tags=['q382457']),\n",
              " TaggedDocument(words=['ways', 'make', 'money', 'online', 'home'], tags=['q667366']),\n",
              " TaggedDocument(words=['make', 'hair', 'hard'], tags=['q788948']),\n",
              " TaggedDocument(words=['get', 'telemarketers', 'call', 'number'], tags=['q228807']),\n",
              " TaggedDocument(words=['steam', 'engine', 'never', 'invented'], tags=['q767967']),\n",
              " TaggedDocument(words=['bulimia', 'cause', 'hair', 'loss'], tags=['q596279']),\n",
              " TaggedDocument(words=['cold', 'gobi', 'desert', 'get', 'average', 'temperatures', 'compare', 'ones', 'chihuahuan', 'desert'], tags=['q278488']),\n",
              " TaggedDocument(words=['much', 'box', 'pay', 'new', 'grad', 'software', 'engineer'], tags=['q385452']),\n",
              " TaggedDocument(words=['option', 'better', 'indian', 'student', 'taking', 'drop', 'going', 'china', 'pursuing', 'mbbs'], tags=['q719394']),\n",
              " TaggedDocument(words=['learn', 'math'], tags=['q159090']),\n",
              " TaggedDocument(words=['develop', 'learning', 'c', 'programming', 'language'], tags=['q90492']),\n",
              " TaggedDocument(words=['great', 'bachelor', 'party', 'ideas', 'knoxville', 'tn'], tags=['q398648']),\n",
              " TaggedDocument(words=['difference', 'infrared', 'radiation', 'ultraviolet', 'radiation'], tags=['q8798']),\n",
              " TaggedDocument(words=['dwell', 'score'], tags=['q342405']),\n",
              " TaggedDocument(words=['find', 'gmail', 'accounts'], tags=['q654752']),\n",
              " TaggedDocument(words=['bharat', 'interface', 'money', 'bhim', 'app'], tags=['q538139']),\n",
              " TaggedDocument(words=['hide', 'sd', 'card', 'files', 'android'], tags=['q689199']),\n",
              " TaggedDocument(words=['long', 'record', 'lot', 'edit'], tags=['q386451']),\n",
              " TaggedDocument(words=['could', 'develop', 'habits', 'highly', 'successful', 'people'], tags=['q86453']),\n",
              " TaggedDocument(words=['legal', 'documents', 'better', 'legible', 'signature', 'illegible', 'one'], tags=['q603735']),\n",
              " TaggedDocument(words=['point', 'difference', 'manager', 'capitalist', 'andentreprenuerer'], tags=['q633120']),\n",
              " TaggedDocument(words=['quora', 'moderators', 'mark', 'questions', 'needing', 'improvement', 'goes', 'personal', 'beliefs'], tags=['q55498']),\n",
              " TaggedDocument(words=['woman', 'rape', 'man'], tags=['q725430']),\n",
              " TaggedDocument(words=['china', 'better', 'transition', 'away', 'communist', 'economy', 'russia'], tags=['q89983']),\n",
              " TaggedDocument(words=['skateboard', 'wheels', 'white'], tags=['q495624']),\n",
              " TaggedDocument(words=['worth', 'reading', 'harry', 'potter', 'books', 'watching', 'harry', 'potter', 'movies'], tags=['q111097']),\n",
              " TaggedDocument(words=['popular', 'comics', 'similar', 'tintin', 'asterix'], tags=['q236119']),\n",
              " TaggedDocument(words=['strongest', 'weakest', 'characters', 'captain', 'america', 'civil', 'war'], tags=['q335438']),\n",
              " TaggedDocument(words=['outer', 'space', 'real'], tags=['q464515']),\n",
              " TaggedDocument(words=['radioactive', 'substances', 'used', 'examples'], tags=['q379177']),\n",
              " TaggedDocument(words=['best', 'online', 'sites', 'prepare', 'ielts'], tags=['q71790']),\n",
              " TaggedDocument(words=['best', 'ways', 'watch', 'tv', 'shows', 'ipad'], tags=['q78757']),\n",
              " TaggedDocument(words=['condition', 'buy', 'rolls', 'royce', 'car', 'except', 'money'], tags=['q446531']),\n",
              " TaggedDocument(words=['get', 'rich'], tags=['q183491']),\n",
              " TaggedDocument(words=['buy', 'seaweed'], tags=['q311924']),\n",
              " TaggedDocument(words=['necessary', 'mba', 'engineering'], tags=['q47305']),\n",
              " TaggedDocument(words=['donald', 'j', 'trumps', 'philosophy'], tags=['q514560']),\n",
              " TaggedDocument(words=['native', 'english', 'speaker'], tags=['q160800']),\n",
              " TaggedDocument(words=['mechanism', 'print', 'currency', 'country', 'much', 'currency', 'country', 'print', 'time'], tags=['q658252']),\n",
              " TaggedDocument(words=['close', 'chase', 'account'], tags=['q177498']),\n",
              " TaggedDocument(words=['people', 'think', 'interracial', 'marriage'], tags=['q741157']),\n",
              " TaggedDocument(words=['stop', 'worrying', 'people', 'think'], tags=['q10979']),\n",
              " TaggedDocument(words=['song', 'gives', 'goosebumps'], tags=['q353971']),\n",
              " TaggedDocument(words=['recover', 'gmail', 'account', 'password', 'without', 'recovery', 'email', 'security', 'question'], tags=['q689293']),\n",
              " TaggedDocument(words=['negative', 'thoughts', 'acquire', 'mind'], tags=['q486821']),\n",
              " TaggedDocument(words=['feel', 'went', 'skydiving', 'first', 'time'], tags=['q153082']),\n",
              " TaggedDocument(words=['hillary', 'clinton', 'jail', 'allegations', 'crimes'], tags=['q177045']),\n",
              " TaggedDocument(words=['political', 'correctness', 'blame', 'getting', 'trump', 'elected'], tags=['q545237']),\n",
              " TaggedDocument(words=['interesting', 'products', 'innovations', 'assignment', 'coming'], tags=['q726678']),\n",
              " TaggedDocument(words=['bows', 'arrow', 'tv', 'series', 'yet', 'broken', 'due', 'characters', 'hitting', 'many', 'opponents'], tags=['q532971']),\n",
              " TaggedDocument(words=['economy', 'effect', 'war', 'happens', 'india', 'pakistan'], tags=['q551446']),\n",
              " TaggedDocument(words=['clinton', 'trump', 'next', 'president', 'usa'], tags=['q604573']),\n",
              " TaggedDocument(words=['social', 'media', 'sites', 'earn', 'money'], tags=['q82256']),\n",
              " TaggedDocument(words=['create', 'god', 'god', 'created', 'us'], tags=['q108012']),\n",
              " TaggedDocument(words=['win', 'fight', 'bull', 'bear'], tags=['q573492']),\n",
              " TaggedDocument(words=['difference', 'atomicity', 'valency'], tags=['q150983']),\n",
              " TaggedDocument(words=['adult', 'screen', 'dyslexia', 'bangalore'], tags=['q735572']),\n",
              " TaggedDocument(words=['control', 'diet'], tags=['q686295']),\n",
              " TaggedDocument(words=['suggest', 'movie', 'scientist', 'life'], tags=['q323550']),\n",
              " TaggedDocument(words=['believe', 'astrology'], tags=['q69629']),\n",
              " TaggedDocument(words=['wear', 'panda', 'express', 'interview'], tags=['q594188']),\n",
              " TaggedDocument(words=['apart', 'describing', 'people', 'affable', 'used', 'describe', 'things', 'like', 'affable', 'time'], tags=['q660230']),\n",
              " TaggedDocument(words=['study', 'hacks', 'study', 'effectively'], tags=['q675984']),\n",
              " TaggedDocument(words=['arabic', 'say', 'love'], tags=['q727375']),\n",
              " TaggedDocument(words=['things', 'new', 'employees', 'know', 'going', 'first', 'day', 'credit', 'acceptance'], tags=['q264208']),\n",
              " TaggedDocument(words=['exchange', 'biologically', 'sex'], tags=['q697794']),\n",
              " TaggedDocument(words=['feel', 'sex', 'first', 'time'], tags=['q667911']),\n",
              " TaggedDocument(words=['many', 'people', 'unaware', 'abraham', 'lincoln', 'republican'], tags=['q648883']),\n",
              " TaggedDocument(words=['barn', 'owls', 'screech', 'night'], tags=['q688197']),\n",
              " TaggedDocument(words=['delete', 'questions', 'quora'], tags=['q741593']),\n",
              " TaggedDocument(words=['stay', 'positive', 'happy'], tags=['q517108']),\n",
              " TaggedDocument(words=['philippines', 'president', 'duerte', 'great', 'wisdom', 'leaders', 'ukraine', 'middle', 'east', 'countries'], tags=['q757953']),\n",
              " TaggedDocument(words=['best', 'ways', 'increase', 'fertility'], tags=['q755298']),\n",
              " TaggedDocument(words=['uses', 'die', 'steel'], tags=['q569717']),\n",
              " TaggedDocument(words=['know', 'girl', 'likes', 'think', 'like', 'back', 'way', 'around'], tags=['q490113']),\n",
              " TaggedDocument(words=['best', 'comedy', 'movies', 'watched'], tags=['q746484']),\n",
              " TaggedDocument(words=['gst', 'means', 'effects'], tags=['q517074']),\n",
              " TaggedDocument(words=['diogenes', 'sinope', 'greatest', 'accomplishments'], tags=['q318193']),\n",
              " TaggedDocument(words=['quora', 'succeed', 'spite', 'q', 'websites', 'like', 'yahoo', 'answers', 'wiki', 'answers'], tags=['q601377']),\n",
              " TaggedDocument(words=['use'], tags=['q226903']),\n",
              " TaggedDocument(words=['gray', 'go', 'brown'], tags=['q250146']),\n",
              " TaggedDocument(words=['radio', 'tv', 'personality', 'enough', 'experience', 'work', 'white', 'house'], tags=['q546555']),\n",
              " TaggedDocument(words=['layman', 'terms', 'spacetime', 'string', 'theory'], tags=['q395231']),\n",
              " TaggedDocument(words=['quora', 'option', 'answering', 'one', 'question'], tags=['q319333']),\n",
              " TaggedDocument(words=['ways', 'shy', 'person', 'face', 'large', 'crowd'], tags=['q278723']),\n",
              " TaggedDocument(words=['major', 'social', 'faux', 'pas', 'avoid', 'visiting', 'suriname'], tags=['q8090']),\n",
              " TaggedDocument(words=['negative', 'effects', 'cannabis'], tags=['q34833']),\n",
              " TaggedDocument(words=['sun', 'moon', 'visible', 'time'], tags=['q210999']),\n",
              " TaggedDocument(words=['amplitude', 'frequency', 'affect', 'pitch', 'sound', 'wave'], tags=['q461434']),\n",
              " TaggedDocument(words=['puppy', 'vomiting', 'white', 'foam'], tags=['q317369']),\n",
              " TaggedDocument(words=['rich', 'people', 'help', 'poor', 'people'], tags=['q430329']),\n",
              " TaggedDocument(words=['much', 'money', 'make', 'computer'], tags=['q562053']),\n",
              " TaggedDocument(words=['get', 'deleted', 'instagram', 'chats'], tags=['q112448']),\n",
              " TaggedDocument(words=['best', 'pictures', 'showcase', 'life'], tags=['q354198']),\n",
              " TaggedDocument(words=['company', 'better', 'fresher', 'infosys', 'ibm'], tags=['q425445']),\n",
              " TaggedDocument(words=['safest', 'city', 'india', 'women', 'things', 'right', 'new', 'delhi', 'wrong'], tags=['q527922']),\n",
              " TaggedDocument(words=['relevant', 'daily', 'quora', 'users'], tags=['q754386']),\n",
              " TaggedDocument(words=['make', 'money', 'youtube'], tags=['q316203']),\n",
              " TaggedDocument(words=['read', 'sentences', 'reading', 'book', 'avoid'], tags=['q347226']),\n",
              " TaggedDocument(words=['classes', 'divided', 'chitkara', 'university', 'mean', 'basis', 'students', 'one', 'class', 'selected', 'computer', 'science'], tags=['q359982']),\n",
              " TaggedDocument(words=['stories', 'true', 'love'], tags=['q581908']),\n",
              " TaggedDocument(words=['like', 'work', 'sfx', 'entertainment'], tags=['q732941']),\n",
              " TaggedDocument(words=['experience', 'chest', 'pain', 'playing', 'football', 'soccer'], tags=['q143160']),\n",
              " TaggedDocument(words=['things', 'new', 'employees', 'know', 'going', 'first', 'day', 'cepheid'], tags=['q522514']),\n",
              " TaggedDocument(words=['harshad', 'mehta', 'scam'], tags=['q732667']),\n",
              " TaggedDocument(words=['find', 'good', 'chemistry', 'teacher', 'lucknow'], tags=['q784445']),\n",
              " TaggedDocument(words=['water', 'absorption', 'capacity', 'bricks', 'used'], tags=['q423465']),\n",
              " TaggedDocument(words=['always', 'thinking'], tags=['q208457']),\n",
              " TaggedDocument(words=['better', 'tv', 'series', 'originals', 'game', 'thrones'], tags=['q776011']),\n",
              " TaggedDocument(words=['world', 'war', 'iii', 'inevitable'], tags=['q377569']),\n",
              " TaggedDocument(words=['possibility', 'actually', 'existing', 'within', 'programmed', 'platform'], tags=['q339115']),\n",
              " TaggedDocument(words=['exactly', 'detestable', 'bad', 'feminism'], tags=['q536798']),\n",
              " TaggedDocument(words=['symbols', 'represent', 'passion'], tags=['q378291']),\n",
              " TaggedDocument(words=['build', 'android', 'app', 'publish', 'make', 'money'], tags=['q626896']),\n",
              " TaggedDocument(words=['rabbits', 'cooled', 'hot', 'day'], tags=['q17519']),\n",
              " TaggedDocument(words=['best', 'gate', 'coaching', 'cs', 'indore'], tags=['q736110']),\n",
              " TaggedDocument(words=['find', 'information', 'taking', 'idea', 'concept', 'production', 'gainful', 'remuneration', 'securing', 'protecting', 'process'], tags=['q82533']),\n",
              " TaggedDocument(words=['make', 'girl', 'like', 'friendzoned'], tags=['q418949']),\n",
              " TaggedDocument(words=['anyway', 'possible', 'man', 'increase', 'height'], tags=['q589661']),\n",
              " TaggedDocument(words=['mia', 'khalifa', 'suddenly', 'popular'], tags=['q651917']),\n",
              " TaggedDocument(words=['pixate', 'developers', 'think', 'framer', 'js'], tags=['q614066']),\n",
              " TaggedDocument(words=['could', 'united', 'states', 'collapse', 'like', 'soviet', 'union'], tags=['q378092']),\n",
              " TaggedDocument(words=['possible', 'upgrade', 'cpu', 'laptop', 'asus', 'pro', 'b', 'currently', 'intel', 'core', 'third', 'gen'], tags=['q163564']),\n",
              " TaggedDocument(words=['following', 'programming', 'languages', 'quickest', 'learn', 'c', 'c', 'java', 'erlang', 'go', 'rust', 'c', 'hack'], tags=['q186113']),\n",
              " TaggedDocument(words=['sectional', 'cutoff', 'rrb', 'ntpc'], tags=['q23906']),\n",
              " TaggedDocument(words=['sahara', 'average', 'temperatures', 'compare', 'ones', 'taklamakan', 'desert'], tags=['q655980']),\n",
              " TaggedDocument(words=['better', 'super', 'amoled', 'tft'], tags=['q761922']),\n",
              " TaggedDocument(words=['difference', 'ac', 'dc', 'generator'], tags=['q349071']),\n",
              " TaggedDocument(words=['track', 'package', 'without', 'tracking', 'number'], tags=['q21755']),\n",
              " TaggedDocument(words=['pop', 'rocks', 'make', 'soda', 'explode'], tags=['q371355']),\n",
              " TaggedDocument(words=['watch', 'conjuruing'], tags=['q259263']),\n",
              " TaggedDocument(words=['procedure', 'register', 'rent', 'agreement', 'navi', 'mumbai'], tags=['q399932']),\n",
              " TaggedDocument(words=['marry', 'grandparents', 'great', 'granddaughter'], tags=['q552683']),\n",
              " TaggedDocument(words=['happen', 'die'], tags=['q492836']),\n",
              " TaggedDocument(words=['old', 'doctor', 'show', 'threw', 'ball', 'another', 'ship', 'rode', 'ball', 'could', 'work'], tags=['q582752']),\n",
              " TaggedDocument(words=['best', 'worst', 'things', 'intj'], tags=['q477977']),\n",
              " TaggedDocument(words=['stick', 'schedule'], tags=['q400772']),\n",
              " TaggedDocument(words=['pink', 'slime'], tags=['q357247']),\n",
              " TaggedDocument(words=['africa', 'colonized'], tags=['q89051']),\n",
              " TaggedDocument(words=['anyone', 'identify', 'fish', 'c', 'spotted', 'coast', 'sulawesi', 'indonesia'], tags=['q114555']),\n",
              " TaggedDocument(words=['ok', 'eat', 'bananas', 'losing', 'weight'], tags=['q545080']),\n",
              " TaggedDocument(words=['reputable', 'university', 'westminster', 'compared', 'schools', 'london'], tags=['q588780']),\n",
              " TaggedDocument(words=['difference', 'turnover', 'sales'], tags=['q157153']),\n",
              " TaggedDocument(words=['philippines', 'vietnam', 'leaders', 'much', 'clever', 'middles', 'east', 'ukreaine', 'leaders', 'world'], tags=['q753112']),\n",
              " TaggedDocument(words=['get', 'views', 'upvotes', 'answers'], tags=['q569447']),\n",
              " TaggedDocument(words=['puppies', 'get', 'hiccups'], tags=['q259165']),\n",
              " TaggedDocument(words=['akward', 'moment', 'ever'], tags=['q675174']),\n",
              " TaggedDocument(words=['explain', 'differences', 'states', 'state', 'chart', 'diagram', 'activities', 'activity', 'diagram', 'show', 'differences', 'two', 'using', 'example', 'diagram'], tags=['q616190']),\n",
              " TaggedDocument(words=['sites', 'watch', 'movies', 'english', 'subtitles', 'free'], tags=['q468509']),\n",
              " TaggedDocument(words=['best', 'website', 'meet', 'english', 'speaking', 'ukrainian', 'women'], tags=['q543639']),\n",
              " TaggedDocument(words=['start', 'looking', 'colleges'], tags=['q775933']),\n",
              " TaggedDocument(words=['difference', 'noise', 'elastic', 'distortion', 'computer', 'vision'], tags=['q377503']),\n",
              " TaggedDocument(words=['muslim', 'majority', 'arabian', 'country', 'favorite', 'among', 'indians', 'migrate', 'earn', 'money'], tags=['q194437']),\n",
              " TaggedDocument(words=['best', 'way', 'learn', 'morse', 'code'], tags=['q57397']),\n",
              " TaggedDocument(words=['best', 'way', 'learn', 'computer', 'language'], tags=['q75518']),\n",
              " TaggedDocument(words=['brain', 'different', 'computer'], tags=['q189590']),\n",
              " TaggedDocument(words=['exactly', 'happen', 'person', 'took', 'handful', 'antidepressants', 'mixed', 'alcohol'], tags=['q684960']),\n",
              " TaggedDocument(words=['improve', 'spoken', 'english'], tags=['q723976']),\n",
              " TaggedDocument(words=['generally', 'speaking', 'men', 'jealous', 'women'], tags=['q163552']),\n",
              " TaggedDocument(words=['historical', 'significance', 'old', 'highbury', 'stadium'], tags=['q691805']),\n",
              " TaggedDocument(words=['best', 'way', 'make', 'money'], tags=['q231111']),\n",
              " TaggedDocument(words=['use', 'different', 'manometric', 'fluid', 'manometer', 'rather', 'pressure', 'measured', 'fluid'], tags=['q412731']),\n",
              " TaggedDocument(words=['unlock', 'iphone', 'without', 'knowing', 'apple', 'id', 'password'], tags=['q324501']),\n",
              " TaggedDocument(words=['survey', 'quora', 'go', 'email', 'quora', 'inbox'], tags=['q640350']),\n",
              " TaggedDocument(words=['many', 'keywords', 'vbscript', 'programming', 'language', 'latest', 'version'], tags=['q772518']),\n",
              " TaggedDocument(words=['serve', 'southern', 'comfort'], tags=['q467157']),\n",
              " TaggedDocument(words=['log', 'quora', 'pc'], tags=['q525334']),\n",
              " TaggedDocument(words=['whatsapp', 'new', 'flag', 'letter'], tags=['q298120']),\n",
              " TaggedDocument(words=['industries', 'produce', 'first', 'trillionaires'], tags=['q241535']),\n",
              " TaggedDocument(words=['know', 'result', 'right', 'away', 'passed', 'optiver', 'online', 'test'], tags=['q52744']),\n",
              " TaggedDocument(words=['hp', 'officejet', 'airprint', 'compare', 'hp', 'designjet', 'printer'], tags=['q218988']),\n",
              " TaggedDocument(words=['jurgen', 'klopp', 'overrated'], tags=['q743604']),\n",
              " TaggedDocument(words=['best', 'app', 'track', 'markets'], tags=['q452643']),\n",
              " TaggedDocument(words=['bollywood', 'actress', 'perfect', 'boobs'], tags=['q344824']),\n",
              " TaggedDocument(words=['scorpio', 'man', 'deny', 'likes'], tags=['q367422']),\n",
              " TaggedDocument(words=['problems', 'trade', 'manufactured', 'goods', 'developed', 'developing', 'countries'], tags=['q697544']),\n",
              " TaggedDocument(words=['gm', 'diet', 'plan', 'effective', 'advised', 'diet', 'plan', 'weight', 'loss'], tags=['q131190']),\n",
              " TaggedDocument(words=['student', 'make', 'school', 'better', 'place'], tags=['q774092']),\n",
              " TaggedDocument(words=['people', 'think', 'earth', 'flat'], tags=['q593574']),\n",
              " TaggedDocument(words=['best', 'test', 'management', 'tool'], tags=['q483955']),\n",
              " TaggedDocument(words=['best', 'way', 'find', 'pen', 'pal'], tags=['q48613']),\n",
              " TaggedDocument(words=['recover', 'hacked', 'instagram', 'account'], tags=['q105915']),\n",
              " TaggedDocument(words=['salt', 'water', 'homogeneous', 'mixture'], tags=['q407931']),\n",
              " TaggedDocument(words=['get', 'sprint', 'phone', 'work', 'metro', 'pcs'], tags=['q31096']),\n",
              " TaggedDocument(words=['soldiers', 'go', 'heaven'], tags=['q316382']),\n",
              " TaggedDocument(words=['sop', 'person', 'applying', 'ms', 'electrical', 'engineering', 'working', 'company'], tags=['q403811']),\n",
              " TaggedDocument(words=['become', 'olympic', 'shooter', 'india'], tags=['q188239']),\n",
              " TaggedDocument(words=['sex'], tags=['q784223']),\n",
              " TaggedDocument(words=['popular', 'target', 'canada', 'become', 'among', 'canadian', 'shoppers', 'ever', 'since', 'target', 'took', 'zellers'], tags=['q336806']),\n",
              " TaggedDocument(words=['advantages', 'myriad', 'pro', 'copy'], tags=['q317075']),\n",
              " TaggedDocument(words=['funny', 'facts'], tags=['q666015']),\n",
              " TaggedDocument(words=['done', 'someone', 'feelings', 'really', 'feel', 'care'], tags=['q131518']),\n",
              " TaggedDocument(words=['train', 'india', 'sl', 'cc', 'mean'], tags=['q73684']),\n",
              " TaggedDocument(words=['hillary', 'clinton', 'delete', 'emails'], tags=['q766660']),\n",
              " TaggedDocument(words=['traffic', 'laws', 'comoros', 'particularly', 'hard', 'foreign', 'drivers', 'get', 'used'], tags=['q38360']),\n",
              " TaggedDocument(words=['increase', 'traffic', 'site'], tags=['q384634']),\n",
              " TaggedDocument(words=['surgical', 'strikes', 'really', 'happen'], tags=['q373156']),\n",
              " TaggedDocument(words=['stop', 'smoking', 'cigarette'], tags=['q97208']),\n",
              " TaggedDocument(words=['anyone', 'ever', 'survived', 'death', 'penalty'], tags=['q577932']),\n",
              " TaggedDocument(words=['safe', 'healthy', 'dogs', 'eat', 'cooked', 'rib', 'bones'], tags=['q303315']),\n",
              " TaggedDocument(words=['street', 'value', 'mg', 'cyclobenzaprine'], tags=['q465393']),\n",
              " TaggedDocument(words=['part', 'brain', 'causes', 'phenomenon', 'deja', 'vu'], tags=['q575023']),\n",
              " TaggedDocument(words=['right', 'age', 'getting', 'pregnant'], tags=['q414830']),\n",
              " TaggedDocument(words=['get', 'addmision', 'mit'], tags=['q283316']),\n",
              " TaggedDocument(words=['make', 'hydro', 'power', 'plant', 'turbine', 'modelling', 'matlab'], tags=['q103060']),\n",
              " TaggedDocument(words=['major', 'social', 'faux', 'pas', 'avoid', 'visiting', 'aruba'], tags=['q424409']),\n",
              " TaggedDocument(words=['write', 'effective', 'gentle', 'reminder', 'email'], tags=['q312412']),\n",
              " TaggedDocument(words=['danger', 'atheist', 'jew', 'france'], tags=['q214533']),\n",
              " TaggedDocument(words=['improve', 'communication', 'skills'], tags=['q465328']),\n",
              " TaggedDocument(words=['azerbaijanis', 'becoming', 'less', 'religious'], tags=['q256122']),\n",
              " TaggedDocument(words=['order', 'answers', 'displayed', 'quora'], tags=['q518721']),\n",
              " TaggedDocument(words=['kind', 'questions', 'hku', 'ask', 'skype', 'interview'], tags=['q546045']),\n",
              " TaggedDocument(words=['become', 'conscious', 'studies', 'college', 'life'], tags=['q780033']),\n",
              " TaggedDocument(words=['like', 'visit', 'prostitute'], tags=['q290947']),\n",
              " TaggedDocument(words=['best', 'real', 'estate', 'agency', 'pune'], tags=['q660038']),\n",
              " TaggedDocument(words=['television', 'camera', 'feet', 'sideline', 'basketball', 'court', 'feet', 'long', 'camera', 'located', 'feet', 'mid', 'court', 'angle', 'must', 'sweep', 'order', 'cover', 'action', 'court'], tags=['q340350']),\n",
              " TaggedDocument(words=['improve', 'communication', 'skills', 'english'], tags=['q109707']),\n",
              " TaggedDocument(words=['fbi', 'cia', 'federal', 'entities', 'work', 'together'], tags=['q609279']),\n",
              " TaggedDocument(words=['good', 'sat', 'score', 'get', 'top', 'colleges'], tags=['q673532']),\n",
              " TaggedDocument(words=['like', 'cats', 'dogs', 'better'], tags=['q338999']),\n",
              " TaggedDocument(words=['earn', 'money', 'india', 'student'], tags=['q106690']),\n",
              " TaggedDocument(words=['humans', 'really', 'causing', 'global', 'warming'], tags=['q526570']),\n",
              " TaggedDocument(words=['best', 'forensic', 'medicine', 'books', 'medical', 'students'], tags=['q730034']),\n",
              " TaggedDocument(words=['avoid', 'sleeping', 'class'], tags=['q99562']),\n",
              " TaggedDocument(words=['procedure', 'step', 'step', 'open', 'company', 'india'], tags=['q157301']),\n",
              " TaggedDocument(words=['questions', 'asked', 'interview', 'afmc'], tags=['q348791']),\n",
              " TaggedDocument(words=['track', 'season', 'high', 'school'], tags=['q390164']),\n",
              " TaggedDocument(words=['pros', 'cons', 'universal', 'world', 'language'], tags=['q546819']),\n",
              " TaggedDocument(words=['parallel', 'universe', 'exist', 'consequences'], tags=['q698758']),\n",
              " TaggedDocument(words=['speak', 'english'], tags=['q462079']),\n",
              " TaggedDocument(words=['easier', 'watching', 'snooker', 'playing'], tags=['q428379']),\n",
              " TaggedDocument(words=['nasa', 'offer', 'internships', 'indian', 'students'], tags=['q40936']),\n",
              " TaggedDocument(words=['know', 'someone', 'pedophile'], tags=['q56985']),\n",
              " TaggedDocument(words=['create', 'fake', 'facebook', 'status', 'pictures'], tags=['q226970']),\n",
              " TaggedDocument(words=['lost', 'significance', 'using', 'names', 'like', 'jeremy', 'benthem', 'john', 'locke'], tags=['q519690']),\n",
              " TaggedDocument(words=['deactivate', 'delete', 'gmail', 'account'], tags=['q164546']),\n",
              " TaggedDocument(words=['distance', 'chris', 'kyle', 'make', 'shot', 'killed', 'enemy', 'sniper', 'difficult', 'sharp', 'shooters'], tags=['q270930']),\n",
              " TaggedDocument(words=['looking', 'baseball', 'team', 'follow', 'tips'], tags=['q91655']),\n",
              " TaggedDocument(words=['big', 'us', 'sports', 'season', 'ticket', 'market'], tags=['q339662']),\n",
              " TaggedDocument(words=['loophole', 'c', 'language', 'develop', 'safety', 'critical', 'systems'], tags=['q239404']),\n",
              " TaggedDocument(words=['eating', 'sushi', 'inappropriate', 'dip', 'rice', 'soy', 'sauce'], tags=['q64656']),\n",
              " TaggedDocument(words=['seen', 'prison', 'break', 'dexter', 'sherlock', 'breaking', 'bad', 'suits', 'white', 'collar', 'game', 'thrones', 'arrow', 'flash', 'tv', 'series', 'start', 'watching', 'next'], tags=['q367954']),\n",
              " TaggedDocument(words=['find', 'value', 'x', 'x', 'hcf', 'lcm'], tags=['q122906']),\n",
              " TaggedDocument(words=['happens', 'whatsapp', 'call', 'answer', 'phone', 'call'], tags=['q633059']),\n",
              " TaggedDocument(words=['meaning', 'sign'], tags=['q677604']),\n",
              " TaggedDocument(words=['kind', 'questions', 'answered', 'quora'], tags=['q637327']),\n",
              " TaggedDocument(words=['past', 'tense', 'troubleshoot', 'troubleshooted', 'troubleshot'], tags=['q684299']),\n",
              " TaggedDocument(words=['buy', 'prime', 'beef', 'grocery', 'store'], tags=['q421729']),\n",
              " TaggedDocument(words=['get', 'free', 'uber', 'rides', 'us'], tags=['q778223']),\n",
              " TaggedDocument(words=['tension', 'compression', 'shear', 'bending', 'torsion', 'force', 'act', 'arch', 'truss', 'beam', 'suspension', 'bridge'], tags=['q57977']),\n",
              " TaggedDocument(words=['sleeping', 'pills', 'taken', 'viral', 'fever', 'taking', 'paracetamol', 'already'], tags=['q88823']),\n",
              " TaggedDocument(words=['best', 'model', 'united', 'nations', 'mun', 'simulations', 'united', 'states'], tags=['q175101']),\n",
              " TaggedDocument(words=['difference', 'melody', 'harmony'], tags=['q610204']),\n",
              " TaggedDocument(words=['best', 'ways', 'lose', 'weight', 'without', 'exercise'], tags=['q324041']),\n",
              " TaggedDocument(words=['get', 'perfect', 'economics', 'class', 'cbse'], tags=['q747133']),\n",
              " TaggedDocument(words=['best', 'books', 'iit', 'jee', 'buy', 'modules', 'study', 'material', 'vmc', 'fiitjee', 'resonance', 'etc'], tags=['q352837']),\n",
              " TaggedDocument(words=['get', 'keys', 'copied', 'home', 'depot'], tags=['q629884']),\n",
              " TaggedDocument(words=['shih', 'tzu', 'puppy', 'good', 'brand', 'puppy', 'food'], tags=['q383804']),\n",
              " TaggedDocument(words=['hormones', 'absorbed', 'digestive', 'system'], tags=['q110123']),\n",
              " TaggedDocument(words=['could', 'humans', 'survive', 'eggs', 'apples'], tags=['q337103']),\n",
              " TaggedDocument(words=['father', 'tissue', 'culture'], tags=['q88890']),\n",
              " TaggedDocument(words=['difference', 'act', 'code', 'case', 'law'], tags=['q436066']),\n",
              " TaggedDocument(words=['authors', 'ink', 'india', 'publication', 'good', 'republish', 'book'], tags=['q74041']),\n",
              " TaggedDocument(words=['convince', 'getting', 'married'], tags=['q543395']),\n",
              " TaggedDocument(words=['thing', 'many', 'coincidences'], tags=['q604578']),\n",
              " TaggedDocument(words=['like', 'child', 'pornstar'], tags=['q12056']),\n",
              " TaggedDocument(words=['happens', 'touch', 'electric', 'plug', 'halfway', 'outlet'], tags=['q769250']),\n",
              " TaggedDocument(words=['deal', 'emotionally', 'abusive', 'parents'], tags=['q22388']),\n",
              " TaggedDocument(words=['controlling', 'anger'], tags=['q787525']),\n",
              " TaggedDocument(words=['dropped', 'catch', 'proved', 'costliest', 'catch', 'drop', 'cricket'], tags=['q390273']),\n",
              " TaggedDocument(words=['know', 'sentence', 'fragment'], tags=['q777460']),\n",
              " TaggedDocument(words=['sensation', 'like', 'bee', 'sting', 'belly', 'button'], tags=['q440150']),\n",
              " TaggedDocument(words=['difference', 'string', 'args', 'string', 'args'], tags=['q113229']),\n",
              " TaggedDocument(words=['best', 'zoos', 'u'], tags=['q172310']),\n",
              " TaggedDocument(words=['venture', 'capital', 'investor', 'opportunity', 'invest', 'amazon', 'passed', 'rationale'], tags=['q771253']),\n",
              " TaggedDocument(words=['download', 'latest', 'edition', 'manhattan', 'lb', 'free'], tags=['q323119']),\n",
              " TaggedDocument(words=['rotor', 'cypher', 'machine', 'efficient', 'task', 'nowadays'], tags=['q443288']),\n",
              " TaggedDocument(words=['ct', 'current', 'transformer', 'electrical', 'distribution', 'board'], tags=['q230789']),\n",
              " TaggedDocument(words=['universities', 'telecom', 'systems', 'recruit', 'new', 'grads', 'majors', 'looking'], tags=['q763952']),\n",
              " TaggedDocument(words=['best', 'college', 'com', 'mumbai'], tags=['q373674']),\n",
              " TaggedDocument(words=['indians', 'make', 'heroes', 'ordinary', 'people'], tags=['q605086']),\n",
              " TaggedDocument(words=['happens', 'petrol', 'used', 'diesel', 'engine'], tags=['q480513']),\n",
              " TaggedDocument(words=['share', 'pictures', 'mamc', 'campus'], tags=['q166387']),\n",
              " TaggedDocument(words=['grendel', 'defeated', 'beowulf'], tags=['q217070']),\n",
              " TaggedDocument(words=['hotel', 'jodhpur', 'safe', 'unmarried', 'couples', 'without', 'harassment', 'police', 'hotel', 'staff', 'moral', 'police'], tags=['q719062']),\n",
              " TaggedDocument(words=['learn', 'creative', 'photography'], tags=['q146495']),\n",
              " TaggedDocument(words=['got', 'cbse', 'want', 'give', 'jee'], tags=['q445068']),\n",
              " TaggedDocument(words=['phone', 'cameras', 'located', 'towards', 'corner', 'middle', 'top', 'edge', 'symmetry'], tags=['q650864']),\n",
              " TaggedDocument(words=['think', 'ncert', 'books'], tags=['q354386']),\n",
              " TaggedDocument(words=['heaven', 'hell', 'real'], tags=['q280712']),\n",
              " TaggedDocument(words=['avoid', 'stop', 'daydreaming'], tags=['q264889']),\n",
              " TaggedDocument(words=['internet', 'service', 'providers', 'really', 'block', 'forum', 'sites', 'lose', 'net', 'neutrality'], tags=['q247708']),\n",
              " TaggedDocument(words=['like', 'comments', 'instagram'], tags=['q576962']),\n",
              " TaggedDocument(words=['astronauts', 'smoke', 'weed', 'cigarettes', 'booze', 'space', 'else', 'get', 'bored', 'conventional', 'activities', 'pass', 'time'], tags=['q200594']),\n",
              " TaggedDocument(words=['good', 'fishing', 'angling', 'spots', 'pune'], tags=['q34099']),\n",
              " TaggedDocument(words=['think', 'donald', 'trump', 'president', 'usa'], tags=['q44101']),\n",
              " TaggedDocument(words=['cie', 'subjects', 'take', 'year', 'dont', 'know', 'want', 'future'], tags=['q18016']),\n",
              " TaggedDocument(words=['make', 'good', 'impression', 'interview'], tags=['q680513']),\n",
              " TaggedDocument(words=['happen', 'candidate', 'presidency', 'refused', 'president'], tags=['q678413']),\n",
              " TaggedDocument(words=['remainder', 'divided'], tags=['q29746']),\n",
              " TaggedDocument(words=['make', 'tweet', 'colorful'], tags=['q734102']),\n",
              " TaggedDocument(words=['feel', 'girlfriend'], tags=['q284191']),\n",
              " TaggedDocument(words=['people', 'think', 'hinduism', 'polytheistic', 'religion'], tags=['q560988']),\n",
              " TaggedDocument(words=['purpose', 'revolution'], tags=['q776262']),\n",
              " TaggedDocument(words=['dangerous', 'ex', 'heroin', 'addict', 'drink', 'alcohol', 'everyday'], tags=['q94919']),\n",
              " TaggedDocument(words=['consultancy'], tags=['q158793']),\n",
              " TaggedDocument(words=['similar', 'sites', 'like', 'quora'], tags=['q522922']),\n",
              " TaggedDocument(words=['airtel', 'marketing', 'strategy'], tags=['q600586']),\n",
              " TaggedDocument(words=['make', 'margarita', 'blender'], tags=['q789409']),\n",
              " TaggedDocument(words=['anatomically', 'gives', 'someone', 'good', 'singing', 'voice'], tags=['q167808']),\n",
              " TaggedDocument(words=['get', 'rid', 'wax', 'stuck', 'deep', 'inside', 'ear'], tags=['q702771']),\n",
              " TaggedDocument(words=['true', 'permanent', 'shadows', 'formed', 'bombing', 'hiroshima', 'nagasaki', 'humans', 'vaporized', 'kill', 'zone', 'cause', 'permanent', 'shadows'], tags=['q13322']),\n",
              " TaggedDocument(words=['like', 'wear', 'skirt', 'underwear'], tags=['q623960']),\n",
              " TaggedDocument(words=['tourist', 'attractions', 'scandinavian', 'highlands', 'compare', 'attractions', 'ireland'], tags=['q587444']),\n",
              " TaggedDocument(words=['school', 'boring'], tags=['q680158']),\n",
              " TaggedDocument(words=['happen', 'submit', 'college', 'application', 'common', 'app', 'way', 'deadline', 'university', 'still', 'receive'], tags=['q366545']),\n",
              " TaggedDocument(words=['need', 'help', 'finding', 'bicycling', 'themed', 'charities', 'looking', 'specific', 'cycling', 'events', 'rather', 'regional', 'national', 'organizations', 'involved', 'sport'], tags=['q482134']),\n",
              " TaggedDocument(words=['people', 'believe', 'world', 'flat'], tags=['q262538']),\n",
              " TaggedDocument(words=['macbook', 'pro', 'worth'], tags=['q605136']),\n",
              " TaggedDocument(words=['find', 'circumference', 'cylinder'], tags=['q166461']),\n",
              " TaggedDocument(words=['corruption', 'good', 'economy'], tags=['q194290']),\n",
              " TaggedDocument(words=['prepare', 'job', 'interview'], tags=['q35978']),\n",
              " TaggedDocument(words=['major', 'contributions', 'political', 'leaders', 'ww', 'compared', 'ones', 'polish', 'succession'], tags=['q589941']),\n",
              " TaggedDocument(words=['meet', 'spouse'], tags=['q226674']),\n",
              " TaggedDocument(words=['punctuation', 'important', 'poetry'], tags=['q726700']),\n",
              " TaggedDocument(words=['experience', 'like', 'start', 'web', 'design', 'company', 'lowest', 'number', 'employees', 'start', 'job', 'descriptions'], tags=['q248903']),\n",
              " TaggedDocument(words=['channel', 'star', 'sports', 'broadcast', 'epl'], tags=['q734215']),\n",
              " TaggedDocument(words=['fallen', 'trap', 'people', 'think', 'extent', 'even', 'imagine', 'someone', 'please', 'help'], tags=['q478845']),\n",
              " TaggedDocument(words=['evolved', 'apes', 'apes', 'around', 'us'], tags=['q161549']),\n",
              " TaggedDocument(words=['rap', 'worse', 'today', 'years', 'ago'], tags=['q684634']),\n",
              " TaggedDocument(words=['helpful', 'pseudoephedrine', 'runny', 'nose'], tags=['q11728']),\n",
              " TaggedDocument(words=['fundamental', 'rights', 'linked'], tags=['q425654']),\n",
              " TaggedDocument(words=['best', 'coaching', 'institue', 'nagpur', 'mpsc'], tags=['q692230']),\n",
              " TaggedDocument(words=['best', 'way', 'control', 'anger'], tags=['q285609']),\n",
              " TaggedDocument(words=['india', 'search', 'engine', 'like', 'baidu', 'china', 'yandex', 'russia'], tags=['q278308']),\n",
              " TaggedDocument(words=['call', 'young', 'girl', 'likes', 'older', 'men'], tags=['q452519']),\n",
              " TaggedDocument(words=['get', 'picture', 'different', 'quora'], tags=['q35226']),\n",
              " TaggedDocument(words=['buy', 'straps', 'fastrack', 'men', 'watches', 'available', 'tamil', 'nadu'], tags=['q302834']),\n",
              " TaggedDocument(words=['west', 'bengal', 'india', 'muslim', 'majority', 'state'], tags=['q695178']),\n",
              " TaggedDocument(words=['best', 'stairbuilder', 'companies', 'queensland', 'australia'], tags=['q707085']),\n",
              " TaggedDocument(words=['us', 'try', 'bush', 'chenney', 'possible', 'war', 'crimes'], tags=['q515050']),\n",
              " TaggedDocument(words=['things', 'new', 'employees', 'know', 'going', 'first', 'day', 'trimas'], tags=['q666913']),\n",
              " TaggedDocument(words=['find', 'old', 'iphone'], tags=['q107923']),\n",
              " TaggedDocument(words=['technique', 'swiping', 'metrocard', 'new', 'york'], tags=['q364030']),\n",
              " TaggedDocument(words=['avoid', 'pain'], tags=['q163039']),\n",
              " TaggedDocument(words=['ib', 'diploma', 'enter', 'exams', 'without', 'attending', 'classes'], tags=['q634845']),\n",
              " TaggedDocument(words=['review', 'gangster', 'movie'], tags=['q366115']),\n",
              " TaggedDocument(words=['many', 'people', 'ask', 'soppy', 'questions', 'quora', 'easily', 'googled'], tags=['q102451']),\n",
              " TaggedDocument(words=['likely', 'trip', 'shoelace', 'untied'], tags=['q445630']),\n",
              " TaggedDocument(words=['one', 'thing', 'scares'], tags=['q759858']),\n",
              " TaggedDocument(words=['difference', 'liking', 'vs', 'loving', 'someone'], tags=['q312742']),\n",
              " TaggedDocument(words=['man', 'leave', 'wife', 'mistress'], tags=['q85987']),\n",
              " TaggedDocument(words=['texas', 'racist'], tags=['q19760']),\n",
              " TaggedDocument(words=['country', 'best', 'paid', 'soldiers'], tags=['q277349']),\n",
              " TaggedDocument(words=['best', 'sports', 'league', 'world', 'best'], tags=['q137534']),\n",
              " TaggedDocument(words=['use', 'nanogallery', 'plugin', 'github', 'program', 'website'], tags=['q342486']),\n",
              " TaggedDocument(words=['issuing', 'authority', 'passport', 'write'], tags=['q583594']),\n",
              " TaggedDocument(words=['strengths', 'weakness'], tags=['q693475']),\n",
              " TaggedDocument(words=['nata', 'exam'], tags=['q671138']),\n",
              " TaggedDocument(words=['small', 'business', 'plans', 'india'], tags=['q584544']),\n",
              " TaggedDocument(words=['animal', 'win', 'squirrel', 'scorpion'], tags=['q616592']),\n",
              " TaggedDocument(words=['many', 'free', 'kick', 'goals', 'scored', 'messi', 'ronaldo', 'la', 'liga'], tags=['q674133']),\n",
              " TaggedDocument(words=['use', 'contactors'], tags=['q283088']),\n",
              " TaggedDocument(words=['types', 'information', 'day', 'traders', 'rely'], tags=['q743517']),\n",
              " TaggedDocument(words=['kvpy', 'sa', 'expected', 'cut'], tags=['q682352']),\n",
              " TaggedDocument(words=['advertise', 'products', 'low', 'cost'], tags=['q229440']),\n",
              " TaggedDocument(words=['transformer', 'rated', 'kva', 'kw'], tags=['q529833']),\n",
              " TaggedDocument(words=['get', 'english', 'better'], tags=['q628689']),\n",
              " TaggedDocument(words=['good', 'way', 'make', 'facial', 'hair', 'grow'], tags=['q372505']),\n",
              " TaggedDocument(words=['kejriwal', 'modi'], tags=['q326918']),\n",
              " TaggedDocument(words=['barack', 'obama', 'kenyan', 'citizen'], tags=['q631816']),\n",
              " TaggedDocument(words=['consequences', 'conflict', 'ukraine', 'russia'], tags=['q399743']),\n",
              " TaggedDocument(words=['great', 'question', 'ask', 'quora'], tags=['q344765']),\n",
              " TaggedDocument(words=['long', 'take', 'recover', 'major', 'solar', 'flare', 'disabled', 'earth', 'modern', 'technology', 'power', 'communications', 'transportation', 'electronics'], tags=['q590764']),\n",
              " TaggedDocument(words=['happened', 'cuban', 'pows', 'captured', 'united', 'states', 'grenada'], tags=['q466987']),\n",
              " TaggedDocument(words=['anyone', 'let', 'know', 'gate', 'toppers', 'anyone', 'circle', 'trying', 'get', 'touch', 'gate', 'toppers', 'speak', 'series'], tags=['q774506']),\n",
              " TaggedDocument(words=['better', 'plasma', 'lcd', 'tv'], tags=['q178234']),\n",
              " TaggedDocument(words=['isis', 'really', 'want'], tags=['q508837']),\n",
              " TaggedDocument(words=['fees', 'ccna', 'routing', 'switching', 'exam'], tags=['q69145']),\n",
              " TaggedDocument(words=['scrapping', 'rs', 'rs', 'notes', 'help', 'reducing', 'black', 'money', 'corruption'], tags=['q267585']),\n",
              " TaggedDocument(words=['get', 'contact', 'influencers'], tags=['q753279']),\n",
              " TaggedDocument(words=['standard', 'metric', 'measurement', 'system', 'differ'], tags=['q674380']),\n",
              " TaggedDocument(words=['difference', 'tennis', 'soccer'], tags=['q415361']),\n",
              " TaggedDocument(words=['website', 'similar', 'quora'], tags=['q41291']),\n",
              " TaggedDocument(words=['develop', 'student'], tags=['q676451']),\n",
              " TaggedDocument(words=['lazy', 'get'], tags=['q653550']),\n",
              " TaggedDocument(words=['quora', 'changed', 'view', 'belief', 'exclusiveness'], tags=['q697091']),\n",
              " TaggedDocument(words=['weapons', 'bring', 'zombie', 'apocalypse'], tags=['q542925']),\n",
              " TaggedDocument(words=['difference', 'pgdm', 'mba'], tags=['q392324']),\n",
              " TaggedDocument(words=['best', 'way', 'detox', 'body'], tags=['q49156']),\n",
              " TaggedDocument(words=['escape', 'tigers'], tags=['q614685']),\n",
              " TaggedDocument(words=['dangers', 'babies', 'born', 'weeks', 'early'], tags=['q572265']),\n",
              " TaggedDocument(words=['one', 'overcome', 'ophthalmophobia'], tags=['q724311']),\n",
              " TaggedDocument(words=['google', 'pixel', 'smartphone', 'really', 'charge', 'fifteen', 'minutes'], tags=['q211976']),\n",
              " TaggedDocument(words=['get', 'job', 'bangalore'], tags=['q44237']),\n",
              " TaggedDocument(words=['c', 'everything', 'python'], tags=['q319805']),\n",
              " TaggedDocument(words=['availed', 'loan', 'lacs', 'higher', 'education', 'year', 'state', 'bank', 'india', 'told', 'eligible', 'interest', 'subsidy', 'loan', 'amount', 'around', 'lacs', 'however', 'filed', 'paperwork', 'yet', 'still', 'file', 'claim'], tags=['q613676']),\n",
              " TaggedDocument(words=['black', 'people', 'seem', 'age', 'much', 'slower', 'relative', 'white', 'people'], tags=['q145402']),\n",
              " TaggedDocument(words=['purpose', 'prayer', 'vedanta', 'people', 'enlightenment', 'still', 'practice', 'praying'], tags=['q678211']),\n",
              " TaggedDocument(words=['become', 'successful', 'bug', 'bounty', 'hunter'], tags=['q558428']),\n",
              " TaggedDocument(words=['late', 'age', 'person', 'learn', 'computer', 'programing'], tags=['q489729']),\n",
              " TaggedDocument(words=['make', 'blog', 'popular', 'wordpress'], tags=['q400088']),\n",
              " TaggedDocument(words=['weather', 'orlando', 'like', 'june', 'differ', 'weather', 'february'], tags=['q100999']),\n",
              " TaggedDocument(words=['programming', 'language', 'ifttt', 'primarily', 'use'], tags=['q458825']),\n",
              " TaggedDocument(words=['iphone', 'waterproof', 'enough', 'carry', 'kayaking'], tags=['q675172']),\n",
              " TaggedDocument(words=['amazon', 'india', 'provide', 'offer', 'letters', 'campus', 'selected', 'interns'], tags=['q31605']),\n",
              " TaggedDocument(words=['redmi', 'prime', 'support', 'volte'], tags=['q449529']),\n",
              " TaggedDocument(words=['best', 'seo', 'professional'], tags=['q104281']),\n",
              " TaggedDocument(words=['christmas', 'traditions'], tags=['q519420']),\n",
              " TaggedDocument(words=['seen', 'several', 'muslims', 'black', 'dots', 'forehead', 'exactly', 'dots'], tags=['q195495']),\n",
              " TaggedDocument(words=['b', 'b', 'sales', 'process', 'look', 'like', 'vietnam', 'particularly', 'terms', 'lead', 'nurturing', 'inside', 'sales'], tags=['q253922']),\n",
              " TaggedDocument(words=['best', 'tv', 'couple', 'time'], tags=['q468351']),\n",
              " TaggedDocument(words=['best', 'itunes', 'alternative', 'transfer', 'iphone', 'music', 'computer', 'without', 'barriers'], tags=['q500658']),\n",
              " TaggedDocument(words=['interpret', 'dreams'], tags=['q329332']),\n",
              " TaggedDocument(words=['areas', 'india', 'leading'], tags=['q29442']),\n",
              " TaggedDocument(words=['could', 'universe', 'inside', 'black', 'hole'], tags=['q702632']),\n",
              " TaggedDocument(words=['much', 'marks', 'need', 'mains', 'get', 'ece', 'iiit', 'hyderabad'], tags=['q38822']),\n",
              " TaggedDocument(words=['beginner', 'level', 'dynamic', 'programming', 'problems', 'one', 'try', 'practicing', 'codechef', 'online', 'judges'], tags=['q4868']),\n",
              " TaggedDocument(words=['best', 'jokes', 'ever', 'heard'], tags=['q389745']),\n",
              " TaggedDocument(words=['lewis', 'structure', 'n'], tags=['q763523']),\n",
              " TaggedDocument(words=['creative', 'new', 'year', 'resolution'], tags=['q649778']),\n",
              " TaggedDocument(words=['university', 'provides', 'best', 'study', 'medicine', 'ukraine', 'europe'], tags=['q327423']),\n",
              " TaggedDocument(words=['transfer', 'admission', 'ils', 'pune', 'withheld', 'till', 'next', 'semester', 'submit', 'application', 'aware'], tags=['q608652']),\n",
              " TaggedDocument(words=['stop', 'german', 'shepherd', 'golden', 'retriever', 'mix', 'puppy', 'chewing', 'shoes'], tags=['q629196']),\n",
              " TaggedDocument(words=['match', 'one', 'person', 'tinder', 'one', 'shows', 'delete', 'one', 'one', 'appears', 'match', 'list', 'later', 'show'], tags=['q308059']),\n",
              " TaggedDocument(words=['get', 'backlinks', 'website', 'without', 'guestposting'], tags=['q32815']),\n",
              " TaggedDocument(words=['someone', 'active', 'messenger', 'receive', 'delivered', 'message'], tags=['q52856']),\n",
              " TaggedDocument(words=['characteristics', 'eccentric', 'concentric', 'contractions'], tags=['q329185']),\n",
              " TaggedDocument(words=['reached', 'genetic', 'limit'], tags=['q719326']),\n",
              " TaggedDocument(words=['remove', 'people', 'likes', 'facebook', 'posts'], tags=['q516130']),\n",
              " TaggedDocument(words=['advantages', 'disadvantages', 'hyundai', 'elite', 'worth', 'buying', 'lakhs'], tags=['q367749']),\n",
              " TaggedDocument(words=['improve', 'communication', 'skills'], tags=['q698688']),\n",
              " TaggedDocument(words=['get', 'job', 'ccna', 'certificate'], tags=['q643523']),\n",
              " TaggedDocument(words=['best', 'programming', 'language', 'know'], tags=['q449664']),\n",
              " TaggedDocument(words=['girls', 'date', 'guys', 'shorter'], tags=['q10777']),\n",
              " TaggedDocument(words=['suicide', 'ok'], tags=['q145671']),\n",
              " TaggedDocument(words=['doctor', 'smoke', 'recreational', 'pot', 'massachusetts', 'high', 'work', 'lose', 'federal', 'dea', 'license', 'prescribe', 'medication'], tags=['q693583']),\n",
              " TaggedDocument(words=['best', 'method', 'learn', 'language'], tags=['q194269']),\n",
              " TaggedDocument(words=['scientific', 'name', 'existed', 'big', 'bang'], tags=['q269698']),\n",
              " TaggedDocument(words=['nutritional', 'value', 'tonic', 'water'], tags=['q397829']),\n",
              " TaggedDocument(words=['girl', 'friend', 'married', 'still', 'like', 'speak'], tags=['q738477']),\n",
              " TaggedDocument(words=['insects', 'live', 'desert', 'survive'], tags=['q417351']),\n",
              " TaggedDocument(words=['business', 'intelligence', 'tools', 'used', 'target', 'india', 'corporation'], tags=['q29618']),\n",
              " TaggedDocument(words=['get', 'professional', 'timely', 'electrical', 'service', 'inner', 'west'], tags=['q10074']),\n",
              " TaggedDocument(words=['hack', 'husband', 'phone'], tags=['q69689']),\n",
              " TaggedDocument(words=['good', 'pgs', 'paying', 'guest', 'around', 'manyata', 'tech', 'park', 'men', 'good', 'ambience'], tags=['q300533']),\n",
              " TaggedDocument(words=['sleep', 'noise'], tags=['q672688']),\n",
              " TaggedDocument(words=['favorite', 'band', 'favorite', 'least', 'favorite', 'song'], tags=['q762981']),\n",
              " TaggedDocument(words=['best', 'dna', 'test', 'used', 'geneology', 'research'], tags=['q108836']),\n",
              " TaggedDocument(words=['difference', 'package', 'type', 'air', 'conditioner', 'central', 'air', 'conditioner'], tags=['q24312']),\n",
              " TaggedDocument(words=['know', 'light', 'wave', 'require', 'medium', 'propagate', 'yes', 'medium'], tags=['q98032']),\n",
              " TaggedDocument(words=['best', 'way', 'convert', 'pdf', 'jpg', 'without', 'sacrificing', 'image', 'resolution'], tags=['q3154']),\n",
              " TaggedDocument(words=['new', 'year', 'resolution'], tags=['q447916']),\n",
              " TaggedDocument(words=['best', 'broadband', 'connection', 'bangalore'], tags=['q417437']),\n",
              " TaggedDocument(words=['could', 'photo', 'taken'], tags=['q612693']),\n",
              " TaggedDocument(words=['gap', 'year', 'graduation', 'affect', 'placement', 'prospects', 'iim', 'student'], tags=['q502174']),\n",
              " TaggedDocument(words=['ends', 'rulers', 'measuring', 'sticks', 'must', 'increasing', 'thereby', 'making', 'space', 'time', 'expansion', 'undetectable', 'us', 'missing'], tags=['q747056']),\n",
              " TaggedDocument(words=['order', 'watch', 'twilight', 'movies'], tags=['q371740']),\n",
              " TaggedDocument(words=['advantages', 'rear', 'wheel', 'drive', 'car'], tags=['q764973']),\n",
              " TaggedDocument(words=['java', 'considered', 'pure', 'object', 'oriented', 'programming', 'language'], tags=['q189069']),\n",
              " TaggedDocument(words=['balance', 'boards', 'jee', 'preparation', 'droppers', 'months', 'left', 'boards'], tags=['q502778']),\n",
              " TaggedDocument(words=['activate', 'whatsapp', 'new', 'iphone', 'old', 'number', 'without', 'insert', 'sim'], tags=['q222893']),\n",
              " TaggedDocument(words=['ias', 'officer', 'go', 'higher', 'studies', 'abroad'], tags=['q18274']),\n",
              " TaggedDocument(words=['make', 'best', 'use', 'github', 'account'], tags=['q134131']),\n",
              " TaggedDocument(words=['examples', 'sentences', 'word', 'enervate'], tags=['q455946']),\n",
              " TaggedDocument(words=['females', 'generally', 'like', 'anal', 'sex'], tags=['q81633']),\n",
              " TaggedDocument(words=['cool', 'name', 'innovation', 'firm'], tags=['q316187']),\n",
              " TaggedDocument(words=['best', 'argument', 'vote', 'trump'], tags=['q598787']),\n",
              " TaggedDocument(words=['earth', 'important', 'apache', 'tribe', 'symbol', 'mean'], tags=['q165106']),\n",
              " TaggedDocument(words=['much', 'damage', 'tie', 'strap', 'car', 'paint', 'material', 'time', 'due', 'friction'], tags=['q701611']),\n",
              " TaggedDocument(words=['electrons', 'repel'], tags=['q6880']),\n",
              " TaggedDocument(words=['much', 'coal', 'india', 'pays', 'employees'], tags=['q370708']),\n",
              " TaggedDocument(words=['major', 'contributions', 'political', 'leaders', 'ww', 'compared', 'ones', 'american', 'civil', 'war'], tags=['q231221']),\n",
              " TaggedDocument(words=['read', 'maps', 'upsc'], tags=['q744717']),\n",
              " TaggedDocument(words=['difference', 'ipv', 'opv', 'vaccines'], tags=['q598047']),\n",
              " TaggedDocument(words=['ethical', 'appeal', 'writing'], tags=['q690502']),\n",
              " TaggedDocument(words=['safety', 'precautions', 'handling', 'shotguns', 'proposed', 'nra', 'north', 'carolina'], tags=['q782921']),\n",
              " TaggedDocument(words=['vanilla', 'sugar', 'differ', 'vanilla', 'extract'], tags=['q94995']),\n",
              " TaggedDocument(words=['unknown', 'facts', 'indian', 'politics'], tags=['q92733']),\n",
              " TaggedDocument(words=['best', 'ways', 'speed', 'computer'], tags=['q240990']),\n",
              " TaggedDocument(words=['people', 'realize', 'send', 'marijuana', 'overnight', 'carriers', 'zero', 'detection'], tags=['q739240']),\n",
              " TaggedDocument(words=['google', 'recover', 'account'], tags=['q475309']),\n",
              " TaggedDocument(words=['best', 'bollywood', 'movies'], tags=['q555546']),\n",
              " TaggedDocument(words=['transsexuality', 'difference', 'transexual', 'transgender', 'transitioning', 'one', 'sex', 'another', 'transitioning', 'one', 'gender', 'another', 'genders'], tags=['q424062']),\n",
              " TaggedDocument(words=['difference', 'heat', 'kinetic', 'energy'], tags=['q362892']),\n",
              " TaggedDocument(words=['opinion', 'brexit'], tags=['q449124']),\n",
              " TaggedDocument(words=['nail', 'polish', 'help', 'wart', 'removal'], tags=['q448278']),\n",
              " TaggedDocument(words=['could', 'president', 'pardon', 'committed', 'crime'], tags=['q83506']),\n",
              " TaggedDocument(words=['main', 'differences', 'french', 'culture', 'vs', 'american', 'culture'], tags=['q321180']),\n",
              " TaggedDocument(words=['difference', 'economic', 'growth', 'economic', 'development'], tags=['q571277']),\n",
              " TaggedDocument(words=['overcome', 'depression', 'without', 'getting', 'help', 'anyone'], tags=['q342409']),\n",
              " TaggedDocument(words=['could', 'please', 'answer', 'question', 'relating', 'straight', 'lines'], tags=['q131529']),\n",
              " TaggedDocument(words=['life', 'better', 'india', 'china'], tags=['q595351']),\n",
              " TaggedDocument(words=['reliance', 'jio', 'internet', 'really', 'unlimited'], tags=['q727928']),\n",
              " TaggedDocument(words=['host', 'website'], tags=['q717361']),\n",
              " TaggedDocument(words=['circumstantial', 'ad', 'hominem', 'fallacy'], tags=['q219683']),\n",
              " TaggedDocument(words=['stop', 'week', 'husky', 'puppy', 'biting', 'shoes'], tags=['q477409']),\n",
              " TaggedDocument(words=['documentaries', 'history', 'world', 'war', 'entertaining', 'educational'], tags=['q747423']),\n",
              " TaggedDocument(words=['uber', 'company', 'estimate', 'uber', 'fare', 'advance'], tags=['q21511']),\n",
              " TaggedDocument(words=['best', 'way', 'rent', 'tata', 'ace', 'bangalore'], tags=['q146463']),\n",
              " TaggedDocument(words=['real', 'estate', 'look', 'like', 'scraping'], tags=['q177482']),\n",
              " TaggedDocument(words=['cultural', 'faux', 'pas', 'new', 'york', 'city'], tags=['q268837']),\n",
              " TaggedDocument(words=['lewis', 'dot', 'structure', 'ch', 'oh', 'determined'], tags=['q239882']),\n",
              " TaggedDocument(words=['drawbacks', 'new', 'economic', 'policy'], tags=['q378836']),\n",
              " TaggedDocument(words=['think', 'new', 'macbook', 'pro', 'released', 'late', 'worth', 'buying'], tags=['q462207']),\n",
              " TaggedDocument(words=['doctors', 'know', 'say', 'longstanding', 'illness', 'psychiatric', 'find', 'biological', 'basis'], tags=['q422708']),\n",
              " TaggedDocument(words=['different', 'types', 'biomolecules', 'related'], tags=['q738569']),\n",
              " TaggedDocument(words=['lathe', 'centres', 'made', 'tapered'], tags=['q383118']),\n",
              " TaggedDocument(words=['javascript', 'frameworks', 'like', 'node', 'js', 'backbone', 'meteor', 'make', 'money'], tags=['q335498']),\n",
              " TaggedDocument(words=['free', 'mason', 'website'], tags=['q789583']),\n",
              " TaggedDocument(words=['improve', 'english', 'speaking'], tags=['q340085']),\n",
              " TaggedDocument(words=['jobs', 'offered', 'ssc', 'mts'], tags=['q259547']),\n",
              " TaggedDocument(words=['best', 'way', 'send', 'money', 'india', 'russia'], tags=['q656584']),\n",
              " TaggedDocument(words=['buy', 'macbook', 'pro', 'alienware'], tags=['q442830']),\n",
              " TaggedDocument(words=['know', 'whether', 'someone', 'lying'], tags=['q352211']),\n",
              " TaggedDocument(words=['working', 'remotely', 'go'], tags=['q118668']),\n",
              " TaggedDocument(words=['red', 'cross', 'started'], tags=['q373176']),\n",
              " TaggedDocument(words=['paper', 'first', 'used', 'india'], tags=['q26651']),\n",
              " TaggedDocument(words=['moves', 'app', 'linked', 'apple', 'ios', 'health', 'kit'], tags=['q761695']),\n",
              " TaggedDocument(words=['main', 'difference', 'prv', 'psv', 'pipeline'], tags=['q561595']),\n",
              " TaggedDocument(words=['main', 'difference', 'socialism', 'communism'], tags=['q774889']),\n",
              " TaggedDocument(words=['good', 'novice', 'books', 'c'], tags=['q757396']),\n",
              " TaggedDocument(words=['create', 'wordpress', 'theme'], tags=['q93078']),\n",
              " TaggedDocument(words=['treat', 'blister', 'eardrum'], tags=['q637029']),\n",
              " TaggedDocument(words=['host', 'android', 'app', 'play', 'store', 'procedures', 'followed'], tags=['q656590']),\n",
              " TaggedDocument(words=['quantitative', 'easing', 'qe', 'used', 'buy', 'government', 'bonds', 'give', 'direct', 'consumers'], tags=['q169649']),\n",
              " TaggedDocument(words=['mind', 'blowing', 'operations', 'india', 'intelligence', 'agency', 'raw'], tags=['q217893']),\n",
              " TaggedDocument(words=['stop', 'jealous', 'girlfriend'], tags=['q361371']),\n",
              " TaggedDocument(words=['super', 'mind', 'astrologer', 'kathmandu', 'guru', 'ji', 'n', 'k', 'rai'], tags=['q48559']),\n",
              " TaggedDocument(words=['move', 'start', 'new', 'one', 'tell', 'still', 'love'], tags=['q325082']),\n",
              " TaggedDocument(words=['mean', 'girl', 'ask', 'single'], tags=['q310037']),\n",
              " TaggedDocument(words=['biggest', 'regret', 'life'], tags=['q671463']),\n",
              " TaggedDocument(words=['prepare', 'interview', 'company', 'sponsored', 'higher', 'education', 'technical', 'questions'], tags=['q48391']),\n",
              " TaggedDocument(words=['evidence', 'india', 'carried', 'surgical', 'strikes', 'pok', 'made', 'world', 'deny', 'india', 'claim'], tags=['q355476']),\n",
              " TaggedDocument(words=['republicans', 'democrats', 'united', 'states'], tags=['q709199']),\n",
              " TaggedDocument(words=['websites', 'best', 'user', 'experience'], tags=['q698196']),\n",
              " TaggedDocument(words=['protect', 'environment'], tags=['q762261']),\n",
              " TaggedDocument(words=['possible', 'travel', 'back', 'forward', 'time'], tags=['q144758']),\n",
              " TaggedDocument(words=['respected', 'certification', 'product', 'manager', 'consumer', 'internet', 'company', 'quora', 'google', 'facebook'], tags=['q359341']),\n",
              " TaggedDocument(words=['things', 'bring', 'change', 'indian', 'education', 'system'], tags=['q559466']),\n",
              " TaggedDocument(words=['make', 'real', 'road', 'terrain', 'unity'], tags=['q327973']),\n",
              " TaggedDocument(words=['much', 'energy', 'take', 'pump', 'million', 'litres', 'water'], tags=['q641714']),\n",
              " TaggedDocument(words=['catharsis'], tags=['q467537']),\n",
              " TaggedDocument(words=['credit', 'score', 'happy'], tags=['q669425']),\n",
              " TaggedDocument(words=['business', 'model', 'reliance', 'jio'], tags=['q520777']),\n",
              " TaggedDocument(words=['love', 'guy', 'desperately', 'wants', 'sex', 'cant', 'live', 'without', 'shd', 'take', 'risk', 'chance', 'dat', 'wud', 'lv', 'back'], tags=['q128844']),\n",
              " TaggedDocument(words=['malaria', 'less', 'prevalent', 'cities'], tags=['q448832']),\n",
              " TaggedDocument(words=['best', 'way', 'kill', 'wasp', 'inside', 'house'], tags=['q136432']),\n",
              " TaggedDocument(words=['latest', 'seo', 'updates'], tags=['q112705']),\n",
              " TaggedDocument(words=['much', 'adobe', 'photoshop', 'cost', 'get'], tags=['q539594']),\n",
              " TaggedDocument(words=['public', 'key', 'cryptography', 'makes', 'ssl', 'insecure'], tags=['q398572']),\n",
              " TaggedDocument(words=['mexican', 'donald', 'trump', 'supporter', 'think', 'become', 'good', 'president'], tags=['q206609']),\n",
              " TaggedDocument(words=['data', 'structures', 'algorithms', 'important', 'computer', 'science'], tags=['q617397']),\n",
              " TaggedDocument(words=['civilians', 'leave', 'aleppo'], tags=['q633232']),\n",
              " TaggedDocument(words=['difference', 'smart', 'smart'], tags=['q114378']),\n",
              " TaggedDocument(words=['logic', 'behind', 'rac', 'reservation', 'cancellation', 'seats', 'indian', 'railways', 'already', 'system', 'waitlisted', 'tickets'], tags=['q639450']),\n",
              " TaggedDocument(words=['arvind', 'kejriwal', 'justified', 'supporting', 'nitish', 'laloo'], tags=['q333495']),\n",
              " TaggedDocument(words=['robotics', 'best', 'way', 'make', 'hexapod'], tags=['q606308']),\n",
              " TaggedDocument(words=['world', 'look', 'like', 'never', 'evolved', 'homo', 'sapiens'], tags=['q125600']),\n",
              " TaggedDocument(words=['hammerklavier', 'sonata', 'whose', 'last', 'movement', 'contains', 'especially', 'diabolical', 'fugue', 'mean'], tags=['q680673']),\n",
              " TaggedDocument(words=['keep', 'getting', 'message', 'apple', 'payment', 'method', 'declined'], tags=['q497230']),\n",
              " TaggedDocument(words=['happens', 'look', 'microwave'], tags=['q269484']),\n",
              " TaggedDocument(words=['best', 'quotes', 'alchemist'], tags=['q512030']),\n",
              " TaggedDocument(words=['hard', 'practice', 'water', 'polo', 'compared', 'parasailing'], tags=['q609520']),\n",
              " TaggedDocument(words=['elephants', 'smart', 'emotional', 'evolve', 'humans'], tags=['q138800']),\n",
              " TaggedDocument(words=['unemployment', 'rate', 'calculated'], tags=['q337180']),\n",
              " TaggedDocument(words=['disadvantages', 'advantages', 'death', 'penalty'], tags=['q730673']),\n",
              " TaggedDocument(words=['okay', 'year', 'old', 'go', 'year', 'old'], tags=['q56236']),\n",
              " TaggedDocument(words=['chemical', 'engineers', 'work'], tags=['q189177']),\n",
              " TaggedDocument(words=['rinnegan', 'stronger', 'sharingan'], tags=['q479004']),\n",
              " TaggedDocument(words=['one', 'find', 'expiry', 'date', 'lpg', 'cylinder'], tags=['q690045']),\n",
              " TaggedDocument(words=['lost', 'aadhaar', 'card', 'sometime', 'back', 'aadhaar', 'number', 'receipt', 'nothing', 'get', 'new', 'aadhar', 'card', 'without', 'knowledge', 'lost', 'one'], tags=['q189675']),\n",
              " TaggedDocument(words=['parallel', 'universes'], tags=['q446074']),\n",
              " TaggedDocument(words=['banasthali', 'good', 'girls'], tags=['q442718']),\n",
              " TaggedDocument(words=['banning', 'notes', 'denominations', 'help', 'curb', 'black', 'money', 'system'], tags=['q335609']),\n",
              " TaggedDocument(words=['suddenly', 'logged', 'gmail', 'remember', 'gmail', 'password', 'realized', 'recovery', 'email', 'longer', 'alive'], tags=['q731959']),\n",
              " TaggedDocument(words=['feel', 'touch', 'woman', 'boobs'], tags=['q411956']),\n",
              " TaggedDocument(words=['difference', 'persian', 'iranian'], tags=['q206074']),\n",
              " TaggedDocument(words=['advantages', 'measuring', 'central', 'tendency'], tags=['q619122']),\n",
              " TaggedDocument(words=['used', 'computer', 'language'], tags=['q327491']),\n",
              " TaggedDocument(words=['equivalent', 'resistance', 'circuit', 'calculate'], tags=['q289368']),\n",
              " TaggedDocument(words=['something', 'wish', 'knew', 'turned'], tags=['q769173']),\n",
              " TaggedDocument(words=['members', 'church', 'scientology', 'believe'], tags=['q166930']),\n",
              " TaggedDocument(words=['statement', 'x', 'n', 'times', 'less', 'smaller', 'justified', 'n'], tags=['q783950']),\n",
              " TaggedDocument(words=['want', 'stream', 'radio', 'channels', 'live', 'city', 'india', 'iphone'], tags=['q226172']),\n",
              " TaggedDocument(words=['possible', 'general', 'relativity', 'approximation'], tags=['q384854']),\n",
              " TaggedDocument(words=['tips', 'personal', 'interview', 'christ', 'university', 'bangalore'], tags=['q257067']),\n",
              " TaggedDocument(words=['best', 'ways', 'lose', 'weight'], tags=['q76124']),\n",
              " TaggedDocument(words=['best', 'consulting', 'firms'], tags=['q375791']),\n",
              " TaggedDocument(words=['donald', 'trump', 'truly', 'way', 'media', 'portrays', 'real', 'life'], tags=['q170171']),\n",
              " TaggedDocument(words=['websites', 'apps', 'best', 'watch', 'english', 'tv', 'series', 'subtitles'], tags=['q690317']),\n",
              " TaggedDocument(words=['voiced', 'characters', 'spirited', 'away', 'english', 'dubbed', 'version'], tags=['q124100']),\n",
              " TaggedDocument(words=['go', 'back', 'reading'], tags=['q103678']),\n",
              " TaggedDocument(words=['anyone', 'idea', 'neilsoft', 'pune', 'company', 'work', 'culture'], tags=['q591316']),\n",
              " TaggedDocument(words=['human', 'red', 'blood', 'cells', 'nuclei'], tags=['q269638']),\n",
              " TaggedDocument(words=['william', 'casey', 'cia', 'director', 'really', 'say', 'know', 'disinformation', 'program', 'complete', 'everything', 'american', 'public', 'believes', 'false'], tags=['q284390']),\n",
              " TaggedDocument(words=['ants', 'sugar'], tags=['q774711']),\n",
              " TaggedDocument(words=['rough', 'er'], tags=['q71904']),\n",
              " TaggedDocument(words=['want', 'phone', 'lasts', 'longest', 'get', 'iphone', 'samsung', 'galaxy'], tags=['q498699']),\n",
              " TaggedDocument(words=['animals', 'experience', 'psychological', 'trauma', 'result', 'sexual', 'abuse'], tags=['q357751']),\n",
              " TaggedDocument(words=['symptoms', 'become', 'schizophrenic'], tags=['q393502']),\n",
              " TaggedDocument(words=['shareit', 'app', 'transfers', 'data', 'packets', 'network'], tags=['q777317']),\n",
              " TaggedDocument(words=['large', 'intestine', 'called', 'large'], tags=['q672116']),\n",
              " TaggedDocument(words=['unknown', 'facts', 'jayalalitha', 'amma'], tags=['q602123']),\n",
              " TaggedDocument(words=['filipino'], tags=['q327246']),\n",
              " TaggedDocument(words=['mbps', 'net', 'speed', 'enough', 'watch', 'premiere', 'league', 'matches', 'hotstar'], tags=['q464366']),\n",
              " TaggedDocument(words=['start', 'scraps', 'online', 'business'], tags=['q157757']),\n",
              " TaggedDocument(words=['causes', 'thoracolumbar', 'fascia', 'pain'], tags=['q571964']),\n",
              " TaggedDocument(words=['improve', 'programming', 'skills'], tags=['q526531']),\n",
              " TaggedDocument(words=['software', 'tools', 'used', 'financial', 'analysts', 'help', 'analyze', 'company', 'performance'], tags=['q534648']),\n",
              " TaggedDocument(words=['drugs', 'appealing', 'humans'], tags=['q492798']),\n",
              " TaggedDocument(words=['cool', 'android', 'hacks'], tags=['q153203']),\n",
              " TaggedDocument(words=['looking', 'bluetooth', 'wi', 'fi', 'back', 'hub', 'ble', 'devices', 'android', 'windows', 'ui', 'suggestions'], tags=['q99655']),\n",
              " TaggedDocument(words=['second', 'presidential', 'debate', 'trump', 'hilary'], tags=['q184493']),\n",
              " TaggedDocument(words=['body', 'emit', 'baby', 'smell', 'even', 'though', 'years', 'old'], tags=['q781789']),\n",
              " TaggedDocument(words=['guy', 'thought', 'process', 'friendzones', 'attractive', 'girl'], tags=['q401299']),\n",
              " TaggedDocument(words=['ways', 'give', 'feedback', 'candidates', 'without', 'disclosing', 'much'], tags=['q527275']),\n",
              " TaggedDocument(words=['worst', 'injury', 'ever'], tags=['q280209']),\n",
              " TaggedDocument(words=['honey', 'brands', 'sell', 'pure', 'honey'], tags=['q774849']),\n",
              " TaggedDocument(words=['recommendations', 'linkedin', 'viewed', 'recruiters', 'prospective', 'employers'], tags=['q58137']),\n",
              " TaggedDocument(words=['safety', 'precautions', 'handling', 'shotguns', 'proposed', 'nra', 'illinois'], tags=['q286542']),\n",
              " TaggedDocument(words=['best', 'film', 'ever', 'seen'], tags=['q521221']),\n",
              " TaggedDocument(words=['mean', 'says', 'arts', 'person'], tags=['q78695']),\n",
              " TaggedDocument(words=['sodium', 'chloride', 'insoluble', 'benzene', 'soluble', 'water'], tags=['q577181']),\n",
              " TaggedDocument(words=['bastian', 'schweinsteiger', 'get', 'chance', 'play', 'mourinho'], tags=['q108004']),\n",
              " TaggedDocument(words=['started', 'dating', 'guy', 'week', 'ago', 'realised', 'birthday', 'days', 'gift'], tags=['q613867']),\n",
              " TaggedDocument(words=['favourite', 'colors'], tags=['q382463']),\n",
              " TaggedDocument(words=['golden', 'state', 'warriors', 'win', 'nba', 'champinonship'], tags=['q531890']),\n",
              " TaggedDocument(words=['usage', 'cognitive', 'services', 'business', 'domain'], tags=['q211715']),\n",
              " TaggedDocument(words=['like', 'comments', 'instagram'], tags=['q773551']),\n",
              " TaggedDocument(words=['word', 'impunity', 'used', 'sentence'], tags=['q124555']),\n",
              " TaggedDocument(words=['stereotype', 'asians', 'black', 'hair', 'brown', 'hair'], tags=['q91832']),\n",
              " TaggedDocument(words=['log', 'facebook', 'account', 'forgot', 'password'], tags=['q243406']),\n",
              " TaggedDocument(words=['happen', 'donald', 'trump', 'becomes', 'president', 'united', 'states'], tags=['q150962']),\n",
              " TaggedDocument(words=['bake', 'cake'], tags=['q517337']),\n",
              " TaggedDocument(words=['quora', 'replace', 'tornado', 'node', 'js', 'quora', 'compared', 'node', 'js', 'tornado', 'yes', 'results', 'experiments'], tags=['q75070']),\n",
              " TaggedDocument(words=['search', 'questions', 'several', 'question', 'topics'], tags=['q606344']),\n",
              " TaggedDocument(words=['halogens', 'coloured'], tags=['q208065']),\n",
              " TaggedDocument(words=['difference', 'software', 'engineer', 'programmer'], tags=['q112931']),\n",
              " TaggedDocument(words=['happens', 'die'], tags=['q40355']),\n",
              " TaggedDocument(words=['suitable', 'solar', 'panel', 'installation', 'provider', 'near', 'newcastle', 'california', 'ca'], tags=['q574498']),\n",
              " TaggedDocument(words=['africa', 'underdeveloped'], tags=['q37908']),\n",
              " TaggedDocument(words=['people', 'like', 'pokemon', 'dragonball', 'z'], tags=['q178391']),\n",
              " TaggedDocument(words=['one', 'earn', 'money', 'quora'], tags=['q701695']),\n",
              " TaggedDocument(words=['write', 'private', 'message', 'one', 'users', 'quora'], tags=['q124333']),\n",
              " TaggedDocument(words=['define', 'god'], tags=['q183205']),\n",
              " TaggedDocument(words=['birthdates'], tags=['q47204']),\n",
              " TaggedDocument(words=['market', 'research'], tags=['q683545']),\n",
              " TaggedDocument(words=['best', 'coaching', 'center', 'iit', 'jee', 'new', 'delhi'], tags=['q676016']),\n",
              " TaggedDocument(words=['happens', 'earth', 'suddenly', 'stops', 'rotate'], tags=['q664328']),\n",
              " TaggedDocument(words=['think', 'faster', 'better'], tags=['q159687']),\n",
              " TaggedDocument(words=['sure', 'way', 'commit', 'suicide'], tags=['q748374']),\n",
              " TaggedDocument(words=['name', 'llc', 'proprietary', 'state', 'established'], tags=['q525888']),\n",
              " TaggedDocument(words=['makes', 'hailo', 'different', 'apps'], tags=['q243357']),\n",
              " TaggedDocument(words=['economic', 'globalization'], tags=['q279603']),\n",
              " TaggedDocument(words=['think', 'dumbest'], tags=['q499715']),\n",
              " TaggedDocument(words=['get', 'views', 'youtube', 'free'], tags=['q711059']),\n",
              " TaggedDocument(words=['happen', 'supply', 'diesel', 'petrol', 'car', 'vice', 'versa'], tags=['q508143']),\n",
              " TaggedDocument(words=['decision', 'scrapping', 'inr', 'inr', 'notes', 'affect', 'real', 'estate', 'prices'], tags=['q594608']),\n",
              " TaggedDocument(words=['high', 'school', 'graduated', 'student', 'take', 'ap', 'exam'], tags=['q70289']),\n",
              " TaggedDocument(words=['infants', 'young', 'children', 'safe', 'vegan', 'diet'], tags=['q61696']),\n",
              " TaggedDocument(words=['gst', 'boost', 'india', 'economy'], tags=['q277773']),\n",
              " TaggedDocument(words=['download', 'visual', 'studio', 'professional', 'features', 'offline', 'installation'], tags=['q361924']),\n",
              " TaggedDocument(words=['improve', 'courses', 'poor', 'grades'], tags=['q577743']),\n",
              " TaggedDocument(words=['learn', 'c'], tags=['q400936']),\n",
              " TaggedDocument(words=['fat', 'lose', 'weight'], tags=['q424209']),\n",
              " TaggedDocument(words=['hydrogen', 'bond', 'formation'], tags=['q652117']),\n",
              " TaggedDocument(words=['brahmin', 'girl', 'marry', 'non', 'brahmin', 'boy'], tags=['q616985']),\n",
              " TaggedDocument(words=['best', 'monitors', 'use', 'dual', 'display', 'macbook', 'pro'], tags=['q121471']),\n",
              " TaggedDocument(words=['process', 'remove', 'social', 'search', 'ads', 'extension', 'browser'], tags=['q341444']),\n",
              " TaggedDocument(words=['sambala', 'village'], tags=['q720797']),\n",
              " TaggedDocument(words=['one', 'block', 'someone', 'uses', 'wifi', 'even', 'still', 'changing', 'wifi', 'password', 'dlink', 'adsl', 'router', 'uses', 'mtnl', 'broadband'], tags=['q179433']),\n",
              " TaggedDocument(words=['quickest', 'way', 'make', 'money'], tags=['q75448']),\n",
              " TaggedDocument(words=['examples', 'ethical', 'misconducts', 'research'], tags=['q480131']),\n",
              " TaggedDocument(words=['get', 'utec', 'billboard', 'purifies', 'air', 'village', 'india'], tags=['q628146']),\n",
              " TaggedDocument(words=['told', 'mean', 'streak', 'know', 'true', 'change', 'aspect', 'personality'], tags=['q634458']),\n",
              " TaggedDocument(words=['helpful', 'vr', 'helping', 'people', 'add', 'adhd', 'feel', 'engaged', 'movies', 'conferences', 'lectures'], tags=['q645862']),\n",
              " TaggedDocument(words=['guys', 'keep', 'looking', 'vagina'], tags=['q518055']),\n",
              " TaggedDocument(words=['trump', 'win', 'election'], tags=['q356278']),\n",
              " TaggedDocument(words=['expected', 'cut', 'upsc'], tags=['q175539']),\n",
              " TaggedDocument(words=['get', 'mooc', 'e', 'learning', 'online', 'web', 'video', 'courses', 'related', 'filmmaking', 'production', 'developed', 'indian', 'professors'], tags=['q1279']),\n",
              " TaggedDocument(words=['myanmar', 'separated', 'india'], tags=['q532641']),\n",
              " TaggedDocument(words=['best', 'way', 'develop', 'android', 'app', 'ios', 'app'], tags=['q741992']),\n",
              " TaggedDocument(words=['scariest', 'place', 'wake'], tags=['q189159']),\n",
              " TaggedDocument(words=['time', 'travel', 'anyhow'], tags=['q222174']),\n",
              " TaggedDocument(words=['dreams', 'usually', 'forget', 'next', 'morning'], tags=['q50492']),\n",
              " TaggedDocument(words=['native', 'americans', 'vote'], tags=['q342136']),\n",
              " TaggedDocument(words=['earth', 'black', 'hole'], tags=['q111696']),\n",
              " TaggedDocument(words=['good', 'idea', 'go', 'medical', 'school', 'without', 'science', 'degree'], tags=['q311686']),\n",
              " TaggedDocument(words=['straight', 'men', 'friends', 'gay', 'men'], tags=['q67888']),\n",
              " TaggedDocument(words=['recommended', 'books', 'iit', 'jee'], tags=['q666731']),\n",
              " TaggedDocument(words=['taxes', 'checked', 'see', 'qualify', 'food', 'stamp', 'benefits'], tags=['q757921']),\n",
              " TaggedDocument(words=['become', 'social', 'person'], tags=['q188690']),\n",
              " TaggedDocument(words=['investment', 'banking', 'sunset', 'industry'], tags=['q93118']),\n",
              " TaggedDocument(words=['donald', 'trump', 'winning', 'elections'], tags=['q446223']),\n",
              " TaggedDocument(words=['array', 'index', 'start', 'java', 'programming', 'languages'], tags=['q93473']),\n",
              " TaggedDocument(words=['obama', 'final', 'two', 'years', 'world', 'war', 'war', 'occurs', 'president', 'obama', 'stay', 'president', 'war', 'election', 'occur', 'major', 'war'], tags=['q216643']),\n",
              " TaggedDocument(words=['google', 'best', 'search', 'engine'], tags=['q241568']),\n",
              " TaggedDocument(words=['good', 'indie', 'pop', 'twee', 'pop', 'podcasts'], tags=['q351571']),\n",
              " TaggedDocument(words=['india', 'best', 'contributions', 'world'], tags=['q366277']),\n",
              " TaggedDocument(words=['system', 'engineer'], tags=['q161319']),\n",
              " TaggedDocument(words=['india', 'get', 'independence', 'pakistan'], tags=['q133696']),\n",
              " TaggedDocument(words=['total', 'number', 'mbbs', 'seats', 'available', 'neet'], tags=['q104149']),\n",
              " TaggedDocument(words=['western', 'email', 'service', 'works', 'china'], tags=['q725872']),\n",
              " TaggedDocument(words=['hack', 'neighbour', 'wifi', 'using', 'iphone'], tags=['q679829']),\n",
              " TaggedDocument(words=['black', 'hair', 'dye', 'fade'], tags=['q489690']),\n",
              " TaggedDocument(words=['best', 'institutes', 'mumbai', 'gmat', 'coaching'], tags=['q410327']),\n",
              " TaggedDocument(words=['download', 'e', 'aadhaar', 'card'], tags=['q74890']),\n",
              " TaggedDocument(words=['names', 'teenage', 'mutant', 'ninja', 'turtles', 'color', 'bandana', 'wear'], tags=['q455601']),\n",
              " TaggedDocument(words=['solipsism', 'paradox'], tags=['q595701']),\n",
              " TaggedDocument(words=['bhn', 'value', 'hles', 'steel'], tags=['q328310']),\n",
              " TaggedDocument(words=['used', 'substitute', 'goji', 'berries'], tags=['q648891']),\n",
              " TaggedDocument(words=['giver', 'important', 'council', 'elders'], tags=['q408990']),\n",
              " TaggedDocument(words=['social', 'academic', 'life', 'inside', 'iitb'], tags=['q477250']),\n",
              " TaggedDocument(words=['use', 'google', 'voice', 'offline'], tags=['q457083']),\n",
              " TaggedDocument(words=['good', 'books', 'gift'], tags=['q61778']),\n",
              " TaggedDocument(words=['best', 'place', 'holidays'], tags=['q375394']),\n",
              " TaggedDocument(words=['significance', 'importance', 'hrm', 'global', 'world'], tags=['q377076']),\n",
              " TaggedDocument(words=['still', 'barbie', 'dress', 'games', 'online'], tags=['q555461']),\n",
              " TaggedDocument(words=['real', 'story', 'massacre', 'nanjing', 'know', 'turned', 'bad', 'china', 'japan', 'started', 'get', 'ugly'], tags=['q778741']),\n",
              " TaggedDocument(words=['difference', 'gyros', 'shawarma', 'doner', 'kebab'], tags=['q32859']),\n",
              " TaggedDocument(words=['people', 'love', 'arvind', 'kejriwal'], tags=['q285675']),\n",
              " TaggedDocument(words=['common', 'arguments', 'ratification', 'us', 'constitution'], tags=['q455556']),\n",
              " TaggedDocument(words=['indians', 'think', 'donald', 'trump', 'leader'], tags=['q705701']),\n",
              " TaggedDocument(words=['legitimate', 'sites', 'use', 'dark', 'web'], tags=['q730371']),\n",
              " TaggedDocument(words=['greatest', 'day', 'life'], tags=['q407926']),\n",
              " TaggedDocument(words=['deal', 'peculiar', 'problems', 'including', 'communication', 'problems', 'parents', 'trust', 'issues', 'maintaining', 'friendship', 'issues', 'etc'], tags=['q319856']),\n",
              " TaggedDocument(words=['fastest', 'propeller', 'plane'], tags=['q719243']),\n",
              " TaggedDocument(words=['much', 'women', 'masturbate'], tags=['q547858']),\n",
              " TaggedDocument(words=['know', 'someone', 'psychopath', 'feeling', 'like', 'psychopath', 'sort', 'feel', 'anything', 'friends', 'people', 'know'], tags=['q197588']),\n",
              " TaggedDocument(words=['think', 'time', 'travel', 'possible'], tags=['q342980']),\n",
              " TaggedDocument(words=['syria', 'supporting', 'isis'], tags=['q674628']),\n",
              " TaggedDocument(words=['world', 'become', 'global', 'village'], tags=['q500755']),\n",
              " TaggedDocument(words=['enjoy', 'life', 'medical', 'student', 'maximum'], tags=['q335345']),\n",
              " TaggedDocument(words=['speak', 'learn', 'fluent', 'english', 'like', 'karan', 'johar'], tags=['q644722']),\n",
              " TaggedDocument(words=['best', 'boeing', 'airbus'], tags=['q87781']),\n",
              " TaggedDocument(words=['nude', 'beaches', 'punta', 'cana', 'compare', 'nude', 'beaches', 'saint', 'marteen'], tags=['q486421']),\n",
              " TaggedDocument(words=['difference', 'hindi', 'words', 'naksha', 'manchitra'], tags=['q31118']),\n",
              " TaggedDocument(words=['commercial', 'agriculture'], tags=['q761407']),\n",
              " TaggedDocument(words=['bangladesh', 'already', 'got', 'billion', 'dollar', 'china', 'one', 'belt', 'road', 'seems', 'less', 'overhyped', 'pakistan'], tags=['q368394']),\n",
              " TaggedDocument(words=['real', 'image'], tags=['q299006']),\n",
              " TaggedDocument(words=['know', 'value', 'time'], tags=['q329342']),\n",
              " TaggedDocument(words=['become', 'great', 'role', 'model', 'siblings'], tags=['q43689']),\n",
              " TaggedDocument(words=['website', 'similar', 'quora'], tags=['q478294']),\n",
              " TaggedDocument(words=['make', 'money', 'youtube', 'videos'], tags=['q166511']),\n",
              " TaggedDocument(words=['rather', 'lose', 'job', 'months', 'redundancy', 'pay', 'company', 'worked', 'yrs', 'get', 'new', 'ok', 'job', 'pay', 'rise'], tags=['q654338']),\n",
              " TaggedDocument(words=['use', 'two', 'triggers', 'actions', 'ifttt'], tags=['q781655']),\n",
              " TaggedDocument(words=['treatment', 'option', 'osteoarthritis'], tags=['q390061']),\n",
              " TaggedDocument(words=['competitive', 'exams', 'b', 'pharm'], tags=['q549037']),\n",
              " TaggedDocument(words=['part', 'time', 'jobs', 'available', 'near', 'newark', 'nj', 'bioinformatics'], tags=['q159215']),\n",
              " TaggedDocument(words=['origin', 'last', 'name', 'lenaye'], tags=['q455242']),\n",
              " TaggedDocument(words=['forget', 'someone', 'love', 'deeply', 'get', 'rid', 'one', 'sided', 'love'], tags=['q669397']),\n",
              " TaggedDocument(words=['see', 'deleted', 'snapchat', 'history'], tags=['q500030']),\n",
              " TaggedDocument(words=['win', 'fight', 'blue', 'whale', 'bryde', 'whale'], tags=['q654314']),\n",
              " TaggedDocument(words=['delhi', 'university', 'conduct', 'entrance', 'test', 'ug', 'courses', 'year', 'read', 'news', 'somewhere', 'days', 'ago'], tags=['q623464']),\n",
              " TaggedDocument(words=['start', 'preparation', 'ssc', 'cgl', 'without', 'coaching'], tags=['q582581']),\n",
              " TaggedDocument(words=['gila', 'monster', 'niche'], tags=['q447202']),\n",
              " TaggedDocument(words=['long', 'take', 'solve', 'rubik', 'cube'], tags=['q607301']),\n",
              " TaggedDocument(words=['meaning', 'hindi', 'urdu', 'word', 'khamakha'], tags=['q137570']),\n",
              " TaggedDocument(words=['galaxy', 'note', 'explode'], tags=['q325305']),\n",
              " TaggedDocument(words=['powerful', 'google', 'calculator'], tags=['q134481']),\n",
              " TaggedDocument(words=['ping', 'pong', 'tt', 'ball', 'catches', 'fire', 'easily', 'possible', 'catches', 'fire', 'due', 'friction', 'heat', 'playing', 'game'], tags=['q240105']),\n",
              " TaggedDocument(words=['offer', 'letters', 'tcs', 'directi', 'company', 'join'], tags=['q526084']),\n",
              " TaggedDocument(words=['long', 'viral', 'fever', 'causing', 'cold', 'cough', 'last'], tags=['q732271']),\n",
              " TaggedDocument(words=['software', 'development', 'life', 'cycle'], tags=['q744933']),\n",
              " TaggedDocument(words=['advantages', 'web', 'scrapping'], tags=['q463893']),\n",
              " TaggedDocument(words=['beat', 'porn', 'addiction'], tags=['q672544']),\n",
              " TaggedDocument(words=['means', 'transfer'], tags=['q555130']),\n",
              " TaggedDocument(words=['marcos', 'arteaga', 'social', 'media', 'expert'], tags=['q503304']),\n",
              " TaggedDocument(words=['best', 'payment', 'gateway', 'irctc', 'website'], tags=['q711554']),\n",
              " TaggedDocument(words=['religions', 'lead', 'god'], tags=['q167106']),\n",
              " TaggedDocument(words=['stop', 'absent', 'minded', 'time'], tags=['q469121']),\n",
              " TaggedDocument(words=['change', 'email', 'address', 'google', 'alerts', 'sends', 'email'], tags=['q145048']),\n",
              " TaggedDocument(words=['parallel', 'universe', 'exist'], tags=['q181777']),\n",
              " TaggedDocument(words=['come', 'liberals', 'angry', 'trump', 'winning', 'presidency'], tags=['q564883']),\n",
              " TaggedDocument(words=['free', 'open', 'source', 'dropbox', 'alternatives', 'actually', 'behave', 'like', 'dropbox'], tags=['q190147']),\n",
              " TaggedDocument(words=['known', 'process', 'converts', 'energy', 'mass'], tags=['q377613']),\n",
              " TaggedDocument(words=['examples', 'sentences', 'using', 'word', 'brigand'], tags=['q585145']),\n",
              " TaggedDocument(words=['data', 'flow'], tags=['q171870']),\n",
              " TaggedDocument(words=['way', 'get', 'rid', 'legal', 'procedure', 'without', 'paying', 'compensation'], tags=['q159790']),\n",
              " TaggedDocument(words=['google', 'glasses', 'look', 'super', 'nerdy', 'might', 'google', 'overcome', 'perception'], tags=['q2505']),\n",
              " TaggedDocument(words=['prepare', 'microsoft', 'high', 'school', 'internship'], tags=['q96588']),\n",
              " TaggedDocument(words=['prepare', 'iit', 'jee'], tags=['q347121']),\n",
              " TaggedDocument(words=['drink', 'green', 'tea', 'sleeping'], tags=['q490526']),\n",
              " TaggedDocument(words=['power', 'nap'], tags=['q300459']),\n",
              " TaggedDocument(words=['examples', 'modern', 'day', 'categorical', 'imperative'], tags=['q65991']),\n",
              " TaggedDocument(words=['math', 'b', 'math', 'math', 'b', 'c', 'math', 'math', 'c', 'math', 'find', 'math', 'b', 'c', 'math'], tags=['q781336']),\n",
              " TaggedDocument(words=['disney', 'change', 'star', 'wars', 'story', 'e', 'canon', 'legends'], tags=['q6910']),\n",
              " TaggedDocument(words=['day', 'sabbath', 'day', 'according', 'bible'], tags=['q658055']),\n",
              " TaggedDocument(words=['get', 'feelings', 'loneliness', 'depression'], tags=['q595953']),\n",
              " TaggedDocument(words=['important', 'people', 'battle', 'midway', 'roles'], tags=['q785128']),\n",
              " TaggedDocument(words=['minimum', 'percentage', 'requirement', 'graduation', 'ssc', 'cgl'], tags=['q91486']),\n",
              " TaggedDocument(words=['biochemical', 'pathways', 'photosynthesis'], tags=['q65579']),\n",
              " TaggedDocument(words=['best', 'ways', 'make', 'money', 'without', 'investments'], tags=['q635418']),\n",
              " TaggedDocument(words=['open', 'book', 'exam'], tags=['q782085']),\n",
              " TaggedDocument(words=['favorite', 'anime'], tags=['q571125']),\n",
              " TaggedDocument(words=['self', 'training', 'martial', 'arts', 'possible'], tags=['q670062']),\n",
              " TaggedDocument(words=['one', 'incident', 'life', 'completely', 'changed'], tags=['q477598']),\n",
              " TaggedDocument(words=['make', 'quora', 'feed', 'interesting'], tags=['q32791']),\n",
              " TaggedDocument(words=['convince', 'others'], tags=['q347551']),\n",
              " TaggedDocument(words=['ribosomes', 'functions'], tags=['q428391']),\n",
              " TaggedDocument(words=['ban', 'denominations', 'affect', 'various', 'domains', 'indian', 'economy'], tags=['q289060']),\n",
              " TaggedDocument(words=['like', 'living', 'montreal'], tags=['q216830']),\n",
              " TaggedDocument(words=['person', 'love', 'best', 'friend', 'working', 'friendship', 'ruined'], tags=['q745152']),\n",
              " TaggedDocument(words=['going', 'win', 'ipl', 'final'], tags=['q518768']),\n",
              " TaggedDocument(words=['get', 'date', 'time', 'stopped', 'ec', 'instance'], tags=['q743636']),\n",
              " TaggedDocument(words=['favourite', 'anime'], tags=['q747566']),\n",
              " TaggedDocument(words=['law', 'good', 'career', 'option'], tags=['q160818']),\n",
              " TaggedDocument(words=['sum', 'series', 'upto', 'terms'], tags=['q340318']),\n",
              " TaggedDocument(words=['exocytosis', 'endocytosis', 'examples', 'active', 'passive', 'transport'], tags=['q275']),\n",
              " TaggedDocument(words=['transfer', 'credits', 'one', 'college', 'another'], tags=['q388198']),\n",
              " TaggedDocument(words=['phuket'], tags=['q706989']),\n",
              " TaggedDocument(words=['searching', 'technique', 'suitable', 'ordered', 'linked', 'list'], tags=['q378880']),\n",
              " TaggedDocument(words=['sprinters', 'double', 'hurdle', 'races', 'similar', 'distances'], tags=['q410519']),\n",
              " TaggedDocument(words=['time', 'traval', 'possible', 'future'], tags=['q451046']),\n",
              " TaggedDocument(words=['delhi', 'people', 'happy', 'arvind', 'kejriwal', 'public', 'fund', 'management'], tags=['q464845']),\n",
              " TaggedDocument(words=['airplane', 'exit', 'door', 'opened', 'mid', 'flight'], tags=['q529866']),\n",
              " TaggedDocument(words=['boost', 'cell', 'phone', 'signal', 'car'], tags=['q216117']),\n",
              " TaggedDocument(words=['hindu', 'dalits', 'feel', 'left', 'hindu', 'religion', 'yes', 'go', 'extreme', 'even', 'changing', 'religion'], tags=['q719751']),\n",
              " TaggedDocument(words=['putin', 'manage', 'circumvent', 'presidential', 'term', 'limits'], tags=['q585874']),\n",
              " TaggedDocument(words=['deal', 'hating', 'work'], tags=['q369195']),\n",
              " TaggedDocument(words=['ways', 'php', 'better', 'python', 'ruby', 'perl'], tags=['q331823']),\n",
              " TaggedDocument(words=['mag', 'drill'], tags=['q751138']),\n",
              " TaggedDocument(words=['visiting', 'china', 'north', 'america', 'buy', 'xiaomi', 'qicycle'], tags=['q439591']),\n",
              " TaggedDocument(words=['crush', 'followed', 'cousin', 'private', 'account', 'instagram', 'mean'], tags=['q58986']),\n",
              " TaggedDocument(words=['best', 'nintendo', 'ds', 'games', 'far'], tags=['q231465']),\n",
              " TaggedDocument(words=['function', 'osteogenic', 'cells', 'serve'], tags=['q586863']),\n",
              " TaggedDocument(words=['wish', 'someone', 'happy', 'birthday'], tags=['q725607']),\n",
              " TaggedDocument(words=['india', 'best', 'food', 'world'], tags=['q520212']),\n",
              " TaggedDocument(words=['review', 'room', 'movie'], tags=['q387192']),\n",
              " TaggedDocument(words=['smartphones', 'boon', 'bane'], tags=['q693495']),\n",
              " TaggedDocument(words=['weirdest', 'dream'], tags=['q6260']),\n",
              " TaggedDocument(words=['app', 'send', 'automated', 'whatsapp', 'messages'], tags=['q552757']),\n",
              " TaggedDocument(words=['amazon', 'selling', 'indian', 'flag', 'footmat'], tags=['q472410']),\n",
              " TaggedDocument(words=['cap', 'worn', 'ranbir', 'kapoor', 'roy', 'called'], tags=['q125839']),\n",
              " TaggedDocument(words=['forum', 'secret', 'sex', 'chennai'], tags=['q459803']),\n",
              " TaggedDocument(words=['hillary', 'clinton', 'allowed', 'take', 'money', 'foreign', 'governments'], tags=['q648141']),\n",
              " TaggedDocument(words=['hair', 'loss'], tags=['q270446']),\n",
              " TaggedDocument(words=['make', 'money', 'instagram', 'account'], tags=['q534201']),\n",
              " TaggedDocument(words=['convince', 'someone', 'stop', 'smoking', 'weed'], tags=['q257631']),\n",
              " TaggedDocument(words=['change', 'volume', 'respect', 'change', 'pressure', 'constant', 'tempreture', 'vice', 'versa', 'incompressible', 'fluid', 'given', 'unit', 'mass'], tags=['q674219']),\n",
              " TaggedDocument(words=['whey', 'protein', 'cause', 'kidney', 'stones', 'young', 'adults'], tags=['q440714']),\n",
              " TaggedDocument(words=['best', 'comedy', 'movies', 'hollywood'], tags=['q685771']),\n",
              " TaggedDocument(words=['good', 'uk', 'universities', 'computer', 'science'], tags=['q789516']),\n",
              " TaggedDocument(words=['first', 'gentleman', 'started', 'turning', 'students', 'cock', 'punishment'], tags=['q19259']),\n",
              " TaggedDocument(words=['two', 'cells', 'increase', 'total', 'voltage', 'series', 'circuit'], tags=['q512639']),\n",
              " TaggedDocument(words=['better', 'straight', 'forward', 'person'], tags=['q593462']),\n",
              " TaggedDocument(words=['ban', 'old', 'rs', 'notes', 'help', 'bringing', 'black', 'money'], tags=['q316138']),\n",
              " TaggedDocument(words=['difference', 'associate', 'director', 'assistant', 'director'], tags=['q253187']),\n",
              " TaggedDocument(words=['lesser', 'known', 'important', 'historical', 'figures', 'montenegro', 'people', 'know'], tags=['q9391']),\n",
              " TaggedDocument(words=['bite', 'inside', 'mouth', 'causes', 'try', 'bite', 'part', 'inner', 'mouth', 'hard', 'reach', 'teeth'], tags=['q35892']),\n",
              " TaggedDocument(words=['like', 'see', 'doors', 'concert'], tags=['q453134']),\n",
              " TaggedDocument(words=['use', 'artificial', 'light', 'cfl', 'tubelight', 'charge', 'solar', 'powered', 'calculator'], tags=['q572034']),\n",
              " TaggedDocument(words=['best', 'laptop', 'buy', 'rs'], tags=['q274237']),\n",
              " TaggedDocument(words=['signal', 'processing', 'audio'], tags=['q686497']),\n",
              " TaggedDocument(words=['much', 'cost', 'change', 'back', 'lenovo', 'g', 'model', 'laptop'], tags=['q523917']),\n",
              " TaggedDocument(words=['trace', 'phone', 'calls', 'cell', 'phone'], tags=['q730399']),\n",
              " TaggedDocument(words=['stop', 'criminal', 'attempt', 'kidnap', 'escape', 'unharmed'], tags=['q917']),\n",
              " TaggedDocument(words=['rich', 'people', 'manage', 'money'], tags=['q457247']),\n",
              " TaggedDocument(words=['voldemort', 'die', 'virgin'], tags=['q651749']),\n",
              " TaggedDocument(words=['things', 'new', 'employees', 'know', 'going', 'first', 'day', 'resource', 'america'], tags=['q50850']),\n",
              " TaggedDocument(words=['good', 'time', 'invest', 'nyc', 'real', 'estate', 'market'], tags=['q93978']),\n",
              " TaggedDocument(words=['multiply', 'two', 'numbers', 'using', 'loop', 'c'], tags=['q577270']),\n",
              " TaggedDocument(words=['poinsettia', 'wilting'], tags=['q25368']),\n",
              " TaggedDocument(words=['best', 'way', 'convince', 'girlfriend', 'angry'], tags=['q472192']),\n",
              " TaggedDocument(words=['best', 'site', 'shop', 'online', 'delhi'], tags=['q354896']),\n",
              " TaggedDocument(words=['happen', 'world', 'declares', 'pakistan', 'terror', 'sponsor', 'state'], tags=['q669439']),\n",
              " TaggedDocument(words=['white', 'people', 'intellectual', 'superiority'], tags=['q516133']),\n",
              " TaggedDocument(words=['biggest', 'scams', 'india'], tags=['q685358']),\n",
              " TaggedDocument(words=['narcissist', 'ex', 'used', 'coerce', 'sometimes', 'force', 'sexual', 'activities', 'hurt', 'sex', 'constitute', 'rape'], tags=['q335122']),\n",
              " TaggedDocument(words=['anyone', 'convince', 'wife', 'reconcile', 'staying', 'parents', 'house', 'past', 'years', 'away'], tags=['q102719']),\n",
              " TaggedDocument(words=['write', 'research'], tags=['q678752']),\n",
              " TaggedDocument(words=['best', 'website', 'learn', 'piano'], tags=['q210759']),\n",
              " TaggedDocument(words=['hack', 'security', 'wifi', 'password'], tags=['q418546']),\n",
              " TaggedDocument(words=['establish', 'vpn', 'public', 'network', 'private', 'network'], tags=['q109831']),\n",
              " TaggedDocument(words=['way', 'wake', 'screen', 'android', 'using', 'double', 'tap'], tags=['q630999']),\n",
              " TaggedDocument(words=['best', 'time', 'fruits'], tags=['q590222']),\n",
              " TaggedDocument(words=['general', 'knowledge', 'solvent', 'abuse', 'really', 'kill', 'found', 'deo', 'perfumes'], tags=['q625809']),\n",
              " TaggedDocument(words=['get', 'instagram', 'back', 'hacked'], tags=['q769252']),\n",
              " TaggedDocument(words=['tequila', 'whiskey', 'vodka', 'beer', 'biggest', 'difference', 'four', 'best'], tags=['q583191']),\n",
              " TaggedDocument(words=['metal', 'detectors', 'work'], tags=['q580491']),\n",
              " TaggedDocument(words=['economic', 'determinants', 'affecting', 'achievement', 'sustainable', 'development', 'agenda'], tags=['q501990']),\n",
              " TaggedDocument(words=['apple', 'discontinue', 'iweb'], tags=['q202281']),\n",
              " TaggedDocument(words=['really', 'join', 'harvard'], tags=['q655503']),\n",
              " TaggedDocument(words=['upgrade', 'intex', 'aqua', 'power', 'lolipop'], tags=['q50191']),\n",
              " TaggedDocument(words=['could', 'come', 'loneliness'], tags=['q702093']),\n",
              " TaggedDocument(words=['think', 'actually', 'happen', 'donald', 'trump', 'wins'], tags=['q558463']),\n",
              " TaggedDocument(words=['mice', 'squeak', 'communicate', 'mice', 'also', 'squeak', 'alone'], tags=['q320495']),\n",
              " TaggedDocument(words=['tsunade', 'die', 'naruto'], tags=['q718642']),\n",
              " TaggedDocument(words=['life', 'like', 'wives', 'russian', 'mafia'], tags=['q61937']),\n",
              " TaggedDocument(words=['dream', 'girl', 'never', 'seen', 'mean'], tags=['q488486']),\n",
              " TaggedDocument(words=['responsible', 'current', 'cm', 'karnataka'], tags=['q179809']),\n",
              " TaggedDocument(words=['top', 'writers'], tags=['q467027']),\n",
              " TaggedDocument(words=['better', 'computer', 'science', 'information', 'technology'], tags=['q293531']),\n",
              " TaggedDocument(words=['best', 'smartphones', 'tech', 'gadgets'], tags=['q3827']),\n",
              " TaggedDocument(words=['watch', 'mlb', 'tv', 'roku'], tags=['q732683']),\n",
              " TaggedDocument(words=['get', 'massage', 'therapist', 'license', 'india'], tags=['q253844']),\n",
              " TaggedDocument(words=['good', 'mikhail', 'bulgakov', 'works', 'start'], tags=['q48693']),\n",
              " TaggedDocument(words=['kind', 'make', 'make', 'brown', 'eyes', 'look', 'lighter'], tags=['q426117']),\n",
              " TaggedDocument(words=['high', 'school', 'always', 'think', 'boy', 'cope', 'feeling'], tags=['q373656']),\n",
              " TaggedDocument(words=['difference', 'insurgency', 'insurrection'], tags=['q157319']),\n",
              " TaggedDocument(words=['examples', 'canadian', 'inventions'], tags=['q530237']),\n",
              " TaggedDocument(words=['recover', 'restore', 'imei', 'numbers', 'android', 'erased', 'command', 'fastboot', 'erase'], tags=['q502584']),\n",
              " TaggedDocument(words=['differences', 'irony', 'satire'], tags=['q683182']),\n",
              " TaggedDocument(words=['grow', 'bigger', 'dick'], tags=['q573700']),\n",
              " TaggedDocument(words=['good', 'engineer'], tags=['q604539']),\n",
              " TaggedDocument(words=['guys', 'like', 'shy', 'girls'], tags=['q479195']),\n",
              " TaggedDocument(words=['hair', 'becomes', 'white'], tags=['q553397']),\n",
              " TaggedDocument(words=['chiranjiv', 'like', 'aswathama'], tags=['q681514']),\n",
              " TaggedDocument(words=['stop', 'pit', 'bull', 'english', 'bulldog', 'mix', 'biting', 'shoes'], tags=['q692776']),\n",
              " TaggedDocument(words=['atms', 'work'], tags=['q131933']),\n",
              " TaggedDocument(words=['best', 'compliments', 'give', 'singer'], tags=['q228695']),\n",
              " TaggedDocument(words=['ink', 'printer', 'expensive'], tags=['q368913']),\n",
              " TaggedDocument(words=['make', 'money', 'online', 'job'], tags=['q236172']),\n",
              " TaggedDocument(words=['children', 'develop', 'literacy'], tags=['q428486']),\n",
              " TaggedDocument(words=['good', 'online', 'free', 'courses', 'good', 'colleges', 'universities', 'take', 'time', 'year', 'certificate', 'provided'], tags=['q585258']),\n",
              " TaggedDocument(words=['merits', 'demerits', 'demonetization', 'india'], tags=['q286751']),\n",
              " TaggedDocument(words=['movies', 'incredible', 'opening', 'quickly', 'turn', 'bad'], tags=['q724216']),\n",
              " TaggedDocument(words=['make', 'hair', 'grow', 'faster', 'overnight'], tags=['q356683']),\n",
              " TaggedDocument(words=['clear', 'patwari', 'exam', 'without', 'coaching'], tags=['q368510']),\n",
              " TaggedDocument(words=['many', 'mark', 'student', 'obtain', 'jee', 'get', 'seat', 'iist'], tags=['q10401']),\n",
              " TaggedDocument(words=['ayurvedic', 'treatment', 'restricts', 'consuming', 'tamarind', 'taking', 'medicine'], tags=['q334749']),\n",
              " TaggedDocument(words=['real', 'estate', 'look', 'like', 'scraping'], tags=['q1785']),\n",
              " TaggedDocument(words=['tips', 'making', 'job', 'interview', 'process', 'endurance'], tags=['q185117']),\n",
              " TaggedDocument(words=['nemisis', 'small', 'brown', 'dwarf', 'star', 'nearby'], tags=['q299524']),\n",
              " TaggedDocument(words=['checking', 'mean'], tags=['q455121']),\n",
              " TaggedDocument(words=['much', 'drive', 'coffee', 'stand', 'make', 'year'], tags=['q631001']),\n",
              " TaggedDocument(words=['download', 'british', 'standards', 'free', 'like', 'building', 'regulations'], tags=['q5654']),\n",
              " TaggedDocument(words=['salary', 'software', 'engineering', 'intern', 'ebay'], tags=['q726165']),\n",
              " TaggedDocument(words=['download', 'movies', 'tamilmovierockers', 'net'], tags=['q330139']),\n",
              " TaggedDocument(words=['designation', 'hierarchies', 'hcl'], tags=['q487417']),\n",
              " TaggedDocument(words=['difference', 'fleet', 'coreos', 'container', 'platforms', 'like', 'docker', 'kubernetes'], tags=['q582340']),\n",
              " TaggedDocument(words=['attributes', 'snakes', 'belong', 'crotalus', 'family'], tags=['q342018']),\n",
              " TaggedDocument(words=['love', 'mother'], tags=['q248775']),\n",
              " TaggedDocument(words=['kb', 'kilobyte', 'bigger', 'mb', 'megabyte'], tags=['q766227']),\n",
              " TaggedDocument(words=['best', 'way', 'understand', 'learn', 'maths'], tags=['q164191']),\n",
              " TaggedDocument(words=['lose', 'extreme', 'amount', 'weight'], tags=['q79934']),\n",
              " TaggedDocument(words=['trust', 'angel', 'card', 'reading'], tags=['q735269']),\n",
              " TaggedDocument(words=['get', 'girl'], tags=['q740435']),\n",
              " TaggedDocument(words=['best', 'website', 'learning', 'english'], tags=['q475377']),\n",
              " TaggedDocument(words=['perfectbiotics', 'probiotic', 'america', 'pure', 'effective', 'probiotic'], tags=['q252310']),\n",
              " TaggedDocument(words=['samsung', 'neo', 'support', 'otg'], tags=['q386974']),\n",
              " TaggedDocument(words=['aliens'], tags=['q387127']),\n",
              " TaggedDocument(words=['men', 'cheat', 'beautiful', 'wife', 'girlfriend', 'ugly', 'less', 'attractive', 'woman'], tags=['q637017']),\n",
              " TaggedDocument(words=['canada', 'healthcare', 'system', 'national', 'program', 'run', 'government'], tags=['q492546']),\n",
              " TaggedDocument(words=['best', 'escape', 'rooms', 'team', 'offsite', 'san', 'francisco', 'bay', 'area'], tags=['q127964']),\n",
              " TaggedDocument(words=['french', 'catchphrase', 'gomez', 'addams', 'says', 'morticia'], tags=['q172198']),\n",
              " TaggedDocument(words=['woman', 'become', 'caliph'], tags=['q123231']),\n",
              " TaggedDocument(words=['mean', 'someone', 'says', 'remind', 'someone', 'know'], tags=['q510102']),\n",
              " TaggedDocument(words=['hillary', 'clinton', 'india', 'policy', 'wins', 'election'], tags=['q664266']),\n",
              " TaggedDocument(words=['tips', 'making', 'job', 'interview', 'process', 'colony', 'financial'], tags=['q159466']),\n",
              " TaggedDocument(words=['earn', 'money', 'online', 'india'], tags=['q289149']),\n",
              " TaggedDocument(words=['look', 'bad', 'decide', 'leave', 'boyfriend', 'cause', 'alcoholic'], tags=['q653853']),\n",
              " TaggedDocument(words=['improve', 'tennis', 'skills'], tags=['q142866']),\n",
              " TaggedDocument(words=['many', 'single', 'females', 'hong', 'kong'], tags=['q268817']),\n",
              " ...]"
            ]
          },
          "metadata": {},
          "execution_count": 33
        }
      ]
    },
    {
      "cell_type": "code",
      "metadata": {
        "id": "YomKD9PrPJa8"
      },
      "source": [
        "model = Doc2Vec(documents, vector_size = 200, window = 2)"
      ],
      "execution_count": 34,
      "outputs": []
    },
    {
      "cell_type": "code",
      "metadata": {
        "id": "ZZ8GAhfePJXe"
      },
      "source": [
        "model.save('doc2vec_200.model')"
      ],
      "execution_count": 35,
      "outputs": []
    },
    {
      "cell_type": "code",
      "metadata": {
        "colab": {
          "base_uri": "https://localhost:8080/"
        },
        "id": "Il0kCQAXPJUa",
        "outputId": "8b5c9206-bdc4-4073-8587-4f2e739ffc97"
      },
      "source": [
        "model.dv.most_similar('q142866')"
      ],
      "execution_count": 43,
      "outputs": [
        {
          "output_type": "execute_result",
          "data": {
            "text/plain": [
              "[('q399702', 0.8708192706108093),\n",
              " ('q142867', 0.8597369194030762),\n",
              " ('q550435', 0.8402022123336792),\n",
              " ('q337119', 0.8379374146461487),\n",
              " ('q728802', 0.8224001526832581),\n",
              " ('q72079', 0.8218854665756226),\n",
              " ('q179375', 0.821225643157959),\n",
              " ('q5976', 0.8154377341270447),\n",
              " ('q27196', 0.8143490552902222),\n",
              " ('q157282', 0.808194637298584)]"
            ]
          },
          "metadata": {},
          "execution_count": 43
        }
      ]
    },
    {
      "cell_type": "code",
      "metadata": {
        "id": "pcjRPBvJ9qdN"
      },
      "source": [
        "def get_question_by_index(index):\n",
        "    partial_res = questions_raw[questions_raw.qid2 == index]\n",
        "    if len(partial_res) > 0:\n",
        "        return partial_res.question2.values[0]\n",
        "    else:\n",
        "        return questions_raw[questions_raw.qid1 == index].question1.values[0]\n",
        "\n",
        "def print_similar_questions(question_index):\n",
        "    print(f'Pregunta:\\n{get_question_by_index(question_index)}')\n",
        "\n",
        "    for index, score in model.dv.most_similar(f'q{question_index}'):\n",
        "        aux_index = int(index.replace('q', ''))\n",
        "        print(aux_index)\n",
        "        print(score, get_question_by_index(aux_index))"
      ],
      "execution_count": 44,
      "outputs": []
    },
    {
      "cell_type": "code",
      "metadata": {
        "colab": {
          "base_uri": "https://localhost:8080/"
        },
        "id": "CXhCYbdF9qUb",
        "outputId": "9e587a34-8ac5-4104-b9ae-35df10dc1924"
      },
      "source": [
        "print_similar_questions(30)"
      ],
      "execution_count": 50,
      "outputs": [
        {
          "output_type": "stream",
          "name": "stdout",
          "text": [
            "Pregunta:\n",
            "What are the laws to change your status from a student visa to a green card in the US? How do they compare to the immigration laws in Japan?\n",
            "563703\n",
            "0.9256182909011841 What are the laws to change your status from a student visa to a green card in the US, how do they compare to the immigration laws in Canada?\n",
            "784874\n",
            "0.9116592407226562 What are the laws to change your status from a student visa to a green card in the US? How do they compare to the immigration laws in Japan?\n",
            "217105\n",
            "0.9109957814216614 What are the laws to change your status from a student visa to a green card in the US, how do they compare to the immigration laws in Scottland?\n",
            "217106\n",
            "0.9092130661010742 What are the laws to change your status from a student visa to a green card in the US? How do they compare to the immigration laws in Japan?\n",
            "784873\n",
            "0.8971035480499268 What are the laws to change your status from a student visa to a green card in the US? How do they compare to the immigration laws in Bulgaria?\n",
            "29\n",
            "0.8958576321601868 What are the laws to change your status from a student visa to a green card in the US, how do they compare to the immigration laws in Canada?\n",
            "536007\n",
            "0.8948394656181335 What are the laws to change your status from a student visa to a green card in the US? How do they compare to the immigration laws in Japan?\n",
            "50344\n",
            "0.8923124670982361 What are the laws to change your status from a student visa to a green card in the US, how do they compare to the immigration laws in Chile?\n",
            "333694\n",
            "0.8904736042022705 What are the laws to change your status from a student visa to a green card in the US, how do they compare to the immigration laws in Spain?\n",
            "50343\n",
            "0.8832013010978699 What are the laws to change your status from a student visa to a green card in the US, how do they compare to the immigration laws in Canada?\n"
          ]
        }
      ]
    },
    {
      "cell_type": "markdown",
      "metadata": {
        "id": "tt_7BjzSiIUc"
      },
      "source": [
        "# Clasificación - Boosting"
      ]
    },
    {
      "cell_type": "code",
      "metadata": {
        "id": "VyLoPnclPJQ9"
      },
      "source": [
        "q1_to_vect = [model.dv.get_vector(f'q{i}') for i in X_train['qid1'].values]\n",
        "q2_to_vect = [model.dv.get_vector(f'q{i}') for i in X_train['qid2'].values]"
      ],
      "execution_count": null,
      "outputs": []
    },
    {
      "cell_type": "code",
      "metadata": {
        "id": "wtc6Y_-UPJNb"
      },
      "source": [
        "X_train_clf = np.hstack([q1_to_vect, q2_to_vect])\n",
        "X_train_clf.shape"
      ],
      "execution_count": null,
      "outputs": []
    },
    {
      "cell_type": "markdown",
      "metadata": {
        "id": "PsOW8Pv0iPQQ"
      },
      "source": [
        "## XGBoost"
      ]
    },
    {
      "cell_type": "markdown",
      "metadata": {
        "id": "RQ5HMdPaiR9O"
      },
      "source": [
        "### Entrenamiento"
      ]
    },
    {
      "cell_type": "code",
      "metadata": {
        "id": "Ss5jpO4YBxMA"
      },
      "source": [
        "xgb_clf = XGBClassifier()\n",
        "eval_set = [(X_train_clf, y_train)]\n",
        "xgb_clf.fit(X_train_clf, y_train.is_duplicate.ravel(), early_stopping_rounds=10, eval_metric=\"logloss\", eval_set=eval_set, verbose=True)"
      ],
      "execution_count": null,
      "outputs": []
    },
    {
      "cell_type": "markdown",
      "metadata": {
        "id": "OyBoJZowiU8D"
      },
      "source": [
        "### Evaluación en entrenamiento"
      ]
    },
    {
      "cell_type": "code",
      "metadata": {
        "id": "o-vyCmTxmaw_"
      },
      "source": [
        "print(classification_report(y_train.is_duplicate.ravel(), xgb_clf.predict(X_train_clf)))"
      ],
      "execution_count": null,
      "outputs": []
    },
    {
      "cell_type": "markdown",
      "metadata": {
        "id": "5KUdgf27icKj"
      },
      "source": [
        "## AdaBoost"
      ]
    },
    {
      "cell_type": "markdown",
      "metadata": {
        "id": "87TjA2mzigId"
      },
      "source": [
        "### Entrenamiento y evaluación"
      ]
    },
    {
      "cell_type": "code",
      "metadata": {
        "id": "g0sd7xzXmatp"
      },
      "source": [
        "ada_clf = AdaBoostClassifier()\n",
        "ada_train_pred = ada_clf.fit(X_train_clf, y_train.is_duplicate.ravel()).predict(X_train_clf)\n",
        "print(classification_report(y_train.is_duplicate.ravel(), ada_train_pred))"
      ],
      "execution_count": null,
      "outputs": []
    },
    {
      "cell_type": "markdown",
      "metadata": {
        "id": "kbRNFFAeirtU"
      },
      "source": [
        "## Procesamiento del set de prueba"
      ]
    },
    {
      "cell_type": "code",
      "metadata": {
        "id": "pyOO7fv8tPmk"
      },
      "source": [
        "q1_to_vect = [model.infer_vector(tokenize(text)) for text in X_test['question1'].values]\n",
        "q2_to_vect = [model.infer_vector(tokenize(text)) for text in X_test['question2'].values]"
      ],
      "execution_count": null,
      "outputs": []
    },
    {
      "cell_type": "code",
      "metadata": {
        "id": "8-LKb75mtPko"
      },
      "source": [
        "X_test_clf = np.hstack([q1_to_vect, q2_to_vect])\n",
        "X_test_clf.shape"
      ],
      "execution_count": null,
      "outputs": []
    },
    {
      "cell_type": "markdown",
      "metadata": {
        "id": "kyF2B2aqiykB"
      },
      "source": [
        "### Evaluación"
      ]
    },
    {
      "cell_type": "code",
      "metadata": {
        "id": "0LGhNhFLtPib"
      },
      "source": [
        "xgb_test_pred = xgb_clf.predict(X_test_clf)"
      ],
      "execution_count": null,
      "outputs": []
    },
    {
      "cell_type": "code",
      "metadata": {
        "id": "PQjlLlkRtPgI"
      },
      "source": [
        "ada_test_pred = ada_clf.predict(X_test_clf)"
      ],
      "execution_count": null,
      "outputs": []
    },
    {
      "cell_type": "code",
      "metadata": {
        "id": "Q1VxtlhytPdg"
      },
      "source": [
        "print(classification_report(y_test, xgb_test_pred))\n",
        "print(classification_report(y_test, ada_test_pred))"
      ],
      "execution_count": null,
      "outputs": []
    },
    {
      "cell_type": "markdown",
      "metadata": {
        "id": "SKb6EqT-i52_"
      },
      "source": [
        "# Ejercicios\n"
      ]
    },
    {
      "cell_type": "markdown",
      "metadata": {
        "id": "b2PBa4Mmi88T"
      },
      "source": [
        "- Se hizo la vectorización de los textos con Doc2Vec, intentar usando CountVectorizer y TfIdfVectorizer"
      ]
    },
    {
      "cell_type": "markdown",
      "metadata": {
        "id": "hDyHn4opjOLQ"
      },
      "source": [
        "- Cambiar el clasificador con cualquiera de los otros vistos (Linear Discriminant Analysis y Regresión Logística)"
      ]
    },
    {
      "cell_type": "markdown",
      "metadata": {
        "id": "RvEB1RLUjc2S"
      },
      "source": [
        "## Extra"
      ]
    },
    {
      "cell_type": "markdown",
      "metadata": {
        "id": "xorIAzpcjeIL"
      },
      "source": [
        "- Ocupar GridSearch para encontrar los hiperparámetros de los modelos de clasificación\n",
        "- Usando CountVectorizer o TfidfVectorizer, usar ```sklearn.pipeline.Pipeline``` para crear una \"tubería\" de datos que facilite el uso del vectorizador y el modelo."
      ]
    }
  ]
}