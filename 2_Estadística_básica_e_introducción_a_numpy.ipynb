{
  "nbformat": 4,
  "nbformat_minor": 0,
  "metadata": {
    "colab": {
      "name": "2. Estadística básica e introducción a numpy.ipynb",
      "provenance": [],
      "collapsed_sections": [],
      "authorship_tag": "ABX9TyN0dQMihvKvp2ATGN4NkiI6",
      "include_colab_link": true
    },
    "kernelspec": {
      "name": "python3",
      "display_name": "Python 3"
    },
    "language_info": {
      "name": "python"
    }
  },
  "cells": [
    {
      "cell_type": "markdown",
      "metadata": {
        "id": "view-in-github",
        "colab_type": "text"
      },
      "source": [
        "<a href=\"https://colab.research.google.com/github/fjme95/python-para-la-ciencia-de-datos/blob/main/2_Estad%C3%ADstica_b%C3%A1sica_e_introducci%C3%B3n_a_numpy.ipynb\" target=\"_parent\"><img src=\"https://colab.research.google.com/assets/colab-badge.svg\" alt=\"Open In Colab\"/></a>"
      ]
    },
    {
      "cell_type": "markdown",
      "metadata": {
        "id": "E9uBEsYuF0H3"
      },
      "source": [
        "En este Notebook calcularemos algunas medidas estadísticas básicas y se introducirá ```numpy``` como alternativa a las listas que, además de ser más eficiente, también brinda facilidad al momento de hacer operaciones.\n"
      ]
    },
    {
      "cell_type": "markdown",
      "metadata": {
        "id": "4IrU8v90GcQM"
      },
      "source": [
        "## Estadística básica\n",
        "\n",
        "Calcularemos medias, medianas, varianzas y desviaciones estándar\n"
      ]
    },
    {
      "cell_type": "markdown",
      "metadata": {
        "id": "2Hg4SZF7Glo8"
      },
      "source": [
        "## Media o promedio\n",
        "\n",
        "Se define como la suma de todos los elementos en una lista (vector) entre la cantidad total de estos.\n",
        "\n",
        "Más formalmente, para $n\\in \\mathbb{N}$ y $x\\in\\mathbb{R}^n$, se define la media como $$media(x) = \\frac{1}{n}\\sum_{i=1}^nx_i.$$\n",
        "\n",
        "### Ejemplos\n",
        "1. Para $x= \\left(1, 3, 5, 4, 1\\right)$, su media es $$media(x)=\\frac{1 + 3 + 5 + 4 + 1}{5} = 2.8$$\n",
        "\n",
        "2. Para $y = \\left(-1, 2, 7, -9, 0\\right)$, su media es $$media(x)=\\frac{-1 + 2 + 7 - 9 + 0}{5} = -0.2$$"
      ]
    },
    {
      "cell_type": "code",
      "metadata": {
        "colab": {
          "base_uri": "https://localhost:8080/"
        },
        "id": "0jdqcateHi6x",
        "outputId": "28ec67b9-cdfa-4c50-ac7d-61f37f3fa44a"
      },
      "source": [
        "x = [1, 3, 5, 4, 1]\n",
        "\n",
        "suma = 0\n",
        "\n",
        "for val in x:\n",
        "    suma += val\n",
        "print(suma/len(x))\n",
        "\n",
        "\n",
        "sum(x)/len(x)"
      ],
      "execution_count": 68,
      "outputs": [
        {
          "output_type": "stream",
          "name": "stdout",
          "text": [
            "2.8\n"
          ]
        },
        {
          "output_type": "execute_result",
          "data": {
            "text/plain": [
              "2.8"
            ]
          },
          "metadata": {},
          "execution_count": 68
        }
      ]
    },
    {
      "cell_type": "code",
      "metadata": {
        "colab": {
          "base_uri": "https://localhost:8080/"
        },
        "id": "YSMcVKG7I1-b",
        "outputId": "6ed60891-5506-4053-fb6c-4f8df0413942"
      },
      "source": [
        "y = [-1, 2, 7, -9, 0]\n",
        "\n",
        "sum(y)/len(y)"
      ],
      "execution_count": 11,
      "outputs": [
        {
          "output_type": "execute_result",
          "data": {
            "text/plain": [
              "-0.2"
            ]
          },
          "metadata": {},
          "execution_count": 11
        }
      ]
    },
    {
      "cell_type": "markdown",
      "metadata": {
        "id": "sgkxC2rkHlEV"
      },
      "source": [
        "## Mediana\n",
        "\n",
        "Se define como el valor medio del vector en su posición central cuando ya están ordenados los valores. Si el vector tiene longitud par, entonces la mediana es la media entre los dos valores en el centro.\n",
        "\n",
        "### Ejemplos\n",
        "\n",
        "1. Para $y$ en el ejemplo anterior, si lo ordenamos obtenemos $(-9, -1, 0, 2, 7)$, por lo $mediana(y) = 0$\n",
        "\n",
        "2. Sea $z = (1, 2, 3, 4)$, entonces $mediana(z) = \\frac{2+3}{2}=2.5$.\n",
        "\n"
      ]
    },
    {
      "cell_type": "code",
      "metadata": {
        "id": "ao1etpALJuJE"
      },
      "source": [
        "z = [1, 2, 3, 4]\n"
      ],
      "execution_count": 24,
      "outputs": []
    },
    {
      "cell_type": "code",
      "metadata": {
        "colab": {
          "base_uri": "https://localhost:8080/"
        },
        "id": "xAZhlIa-Jy_j",
        "outputId": "0f430bea-3712-4c32-ba78-45d115db3b73"
      },
      "source": [
        "# Calcula la mediana de un vector\n",
        "\n",
        "ordenado = sorted(z)\n",
        "if len(ordenado) % 2 == 0:\n",
        "    print(\n",
        "        (ordenado[int(len(ordenado)/2)-1] + ordenado[int(len(ordenado)/2)])/2\n",
        "        )\n",
        "else:\n",
        "    print(\n",
        "        ordenado[int(len(ordenado)/2)]\n",
        "        )"
      ],
      "execution_count": 27,
      "outputs": [
        {
          "output_type": "stream",
          "name": "stdout",
          "text": [
            "2.5\n"
          ]
        }
      ]
    },
    {
      "cell_type": "markdown",
      "metadata": {
        "id": "QWB2okC2K-yJ"
      },
      "source": [
        "# Varianza\n",
        "\n",
        "La varianza es una medida de dispersión de los datos. Entre más pequeña, los datos están más *compactos*.\n",
        "\n",
        "Formalmente se define como $$varianza(x) = \\frac{1}{n}\\sum_{i = 1}^n\\left( x_i - media(x)\\right)^2$$\n",
        "\n",
        "## Ejemplos\n",
        "\n",
        "1. Para $x$ en el ejemplo del inicio, $$varianza(x) = \\frac{(1-2.8)^2 + (3-2.8)^2 + (4-2.8)^2 + (5-2.8)^2 + (1-2.8)^2}{5} = 0$$"
      ]
    },
    {
      "cell_type": "code",
      "metadata": {
        "colab": {
          "base_uri": "https://localhost:8080/"
        },
        "id": "_UwaN6-mNzHR",
        "outputId": "5dca7a4a-169b-4dc7-8b3e-f24bfdd727a9"
      },
      "source": [
        "vector = x\n",
        "\n",
        "media = sum(vector)/len(vector)\n",
        "suma = 0\n",
        "\n",
        "for val in vector:\n",
        "    suma += (val - media) ** 2\n",
        "\n",
        "varianza = suma/len(vector)\n",
        "print(varianza)"
      ],
      "execution_count": 74,
      "outputs": [
        {
          "output_type": "stream",
          "name": "stdout",
          "text": [
            "2.56\n"
          ]
        }
      ]
    },
    {
      "cell_type": "markdown",
      "metadata": {
        "id": "kz2xuTZxN2TK"
      },
      "source": [
        "La **desviación estándar** es la raíz cuadrada de la varianza. Es decir, $$de(x) = \\sqrt{varianza(x)}$$"
      ]
    },
    {
      "cell_type": "code",
      "metadata": {
        "colab": {
          "base_uri": "https://localhost:8080/"
        },
        "id": "hR4m3N42QMaX",
        "outputId": "b8640908-0d27-4a90-e6fe-fffb8fcea2a4"
      },
      "source": [
        "import math\n",
        "de = math.sqrt(varianza)\n",
        "de"
      ],
      "execution_count": 77,
      "outputs": [
        {
          "output_type": "execute_result",
          "data": {
            "text/plain": [
              "1.6"
            ]
          },
          "metadata": {},
          "execution_count": 77
        }
      ]
    }
  ]
}