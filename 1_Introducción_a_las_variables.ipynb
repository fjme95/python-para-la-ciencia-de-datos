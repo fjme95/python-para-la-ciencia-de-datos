{
  "nbformat": 4,
  "nbformat_minor": 0,
  "metadata": {
    "colab": {
      "name": "1. Introducción a las variables.ipynb",
      "provenance": [],
      "collapsed_sections": [],
      "toc_visible": true,
      "authorship_tag": "ABX9TyPfAcHUPP3i/XZM/2pjWRYE",
      "include_colab_link": true
    },
    "kernelspec": {
      "name": "python3",
      "display_name": "Python 3"
    },
    "language_info": {
      "name": "python"
    }
  },
  "cells": [
    {
      "cell_type": "markdown",
      "metadata": {
        "id": "view-in-github",
        "colab_type": "text"
      },
      "source": [
        "<a href=\"https://colab.research.google.com/github/fjme95/python-para-la-ciencia-de-datos/blob/main/1_Introducci%C3%B3n_a_las_variables.ipynb\" target=\"_parent\"><img src=\"https://colab.research.google.com/assets/colab-badge.svg\" alt=\"Open In Colab\"/></a>"
      ]
    },
    {
      "cell_type": "markdown",
      "metadata": {
        "id": "Ul_Dmy0zWzZh"
      },
      "source": [
        "En este **Notebook** se dará una introducción unas cuantas operaciones que **python** puede hacer en números, cadenas y listas. \n",
        "\n",
        "A grandes rasgos, un [(Jupyter) Notebook](https://jupyter.org/) es un archivo que permite ejecutar código en python dentro de una aplicación web. **Google Colab** nos brinda un entorno de Jupyter \"Out of the Box\".\n",
        "\n",
        "Un Notebook esta compuesto por **celdas** que nos permiten escribir texto o código en python. En el caso de último, la celda (**In**) puede estar compuesta por otra (**Out**) que contiene las *impresiones* del código."
      ]
    },
    {
      "cell_type": "markdown",
      "metadata": {
        "id": "L1tNrjLjT_4v"
      },
      "source": [
        "# Hola Mundo\n",
        "\n",
        "\n"
      ]
    },
    {
      "cell_type": "code",
      "metadata": {
        "id": "jsEGo69OUDmh",
        "colab": {
          "base_uri": "https://localhost:8080/"
        },
        "outputId": "d745f30f-113c-4f3a-be68-819c405522e4"
      },
      "source": [
        "print('¡Hola Mundo!')"
      ],
      "execution_count": 14,
      "outputs": [
        {
          "output_type": "stream",
          "name": "stdout",
          "text": [
            "¡Hola Mundo!\n"
          ]
        }
      ]
    },
    {
      "cell_type": "markdown",
      "metadata": {
        "id": "OQMxj-AdV6HO"
      },
      "source": [
        "# print()"
      ]
    },
    {
      "cell_type": "markdown",
      "metadata": {
        "id": "n2h0zFcBV9wB"
      },
      "source": [
        "En Python, para mostrar valores de operaciones o variables usamos la función ```print()``` como en el ejemplo del *Hola Mundo*. \n",
        "\n",
        "Al usar Colab (que nos da una instancia de Jupyter), podemos *imprimir* las cosas simplemente escribiéndolas al final de cada celda."
      ]
    },
    {
      "cell_type": "code",
      "metadata": {
        "colab": {
          "base_uri": "https://localhost:8080/"
        },
        "id": "KYHJQp0YY2GX",
        "outputId": "4b85e5c1-f194-4415-f0a9-cab53f22fd61"
      },
      "source": [
        "print('Hola mundo por segunda vez.')"
      ],
      "execution_count": 15,
      "outputs": [
        {
          "output_type": "stream",
          "name": "stdout",
          "text": [
            "Hola mundo por segunda vez.\n"
          ]
        }
      ]
    },
    {
      "cell_type": "code",
      "metadata": {
        "colab": {
          "base_uri": "https://localhost:8080/",
          "height": 35
        },
        "id": "gj_BvV81Y8t-",
        "outputId": "94859559-eb36-4098-e222-e261e75a398e"
      },
      "source": [
        "'Hola mundo por segunda vez.'"
      ],
      "execution_count": 16,
      "outputs": [
        {
          "output_type": "execute_result",
          "data": {
            "application/vnd.google.colaboratory.intrinsic+json": {
              "type": "string"
            },
            "text/plain": [
              "'Hola mundo por segunda vez.'"
            ]
          },
          "metadata": {},
          "execution_count": 16
        }
      ]
    },
    {
      "cell_type": "markdown",
      "metadata": {
        "id": "brSU3KAnY_j8"
      },
      "source": [
        "Si queremos imprimir más de una cosa, es necesario que usemos ```print()```."
      ]
    },
    {
      "cell_type": "code",
      "metadata": {
        "colab": {
          "base_uri": "https://localhost:8080/",
          "height": 53
        },
        "id": "XWNnYSHSZK33",
        "outputId": "2509e428-c854-4e84-82c6-5baf166154e7"
      },
      "source": [
        "'Esta es una linea que no va a imprimir'\n",
        "\n",
        "print('Esta sí la va a imprimir.')\n",
        "\n",
        "\"Esta también porque esta al final de la celda.\""
      ],
      "execution_count": 17,
      "outputs": [
        {
          "output_type": "stream",
          "name": "stdout",
          "text": [
            "Esta sí la va a imprimir.\n"
          ]
        },
        {
          "output_type": "execute_result",
          "data": {
            "application/vnd.google.colaboratory.intrinsic+json": {
              "type": "string"
            },
            "text/plain": [
              "'Esta también porque esta al final de la celda.'"
            ]
          },
          "metadata": {},
          "execution_count": 17
        }
      ]
    },
    {
      "cell_type": "markdown",
      "metadata": {
        "id": "oOnAXk2QVsLj"
      },
      "source": [
        "# Operaciones aritméticas, trigonométricas, logarítmos y exponencial."
      ]
    },
    {
      "cell_type": "markdown",
      "metadata": {
        "id": "p5yZMC18ZfaM"
      },
      "source": [
        "Python puede servir como una calculadora. De hecho, esta es una de las bases para hacer cosas más interesantes."
      ]
    },
    {
      "cell_type": "markdown",
      "metadata": {
        "id": "rScLOyfqavyT"
      },
      "source": [
        "## Operaciones aritméticas"
      ]
    },
    {
      "cell_type": "code",
      "metadata": {
        "colab": {
          "base_uri": "https://localhost:8080/"
        },
        "id": "arEIQr0rZsz8",
        "outputId": "fd22de02-6bb5-4cef-98e1-ed6453ee9356"
      },
      "source": [
        "# Suma y resta\n",
        "1 + 2 - 10"
      ],
      "execution_count": 18,
      "outputs": [
        {
          "output_type": "execute_result",
          "data": {
            "text/plain": [
              "-7"
            ]
          },
          "metadata": {},
          "execution_count": 18
        }
      ]
    },
    {
      "cell_type": "code",
      "metadata": {
        "colab": {
          "base_uri": "https://localhost:8080/"
        },
        "id": "RjC6JFiNZ533",
        "outputId": "5eff4594-43f6-4dc3-a986-7ff7f1948976"
      },
      "source": [
        "# Mutiplicación\n",
        "3 * 4 * 1.5"
      ],
      "execution_count": 19,
      "outputs": [
        {
          "output_type": "execute_result",
          "data": {
            "text/plain": [
              "18.0"
            ]
          },
          "metadata": {},
          "execution_count": 19
        }
      ]
    },
    {
      "cell_type": "code",
      "metadata": {
        "id": "nMoJLvdpaFqG",
        "colab": {
          "base_uri": "https://localhost:8080/"
        },
        "outputId": "faba8972-1add-41b6-a9f7-6e7a5022a80d"
      },
      "source": [
        "# División\n",
        "\n",
        "50 / 3"
      ],
      "execution_count": 20,
      "outputs": [
        {
          "output_type": "execute_result",
          "data": {
            "text/plain": [
              "16.666666666666668"
            ]
          },
          "metadata": {},
          "execution_count": 20
        }
      ]
    },
    {
      "cell_type": "code",
      "metadata": {
        "colab": {
          "base_uri": "https://localhost:8080/"
        },
        "id": "IWQByFg0aR4f",
        "outputId": "d4bca35b-32a5-445c-9b06-7cb436e494e5"
      },
      "source": [
        "# Parte entera de la división\n",
        "50 // 3"
      ],
      "execution_count": 21,
      "outputs": [
        {
          "output_type": "execute_result",
          "data": {
            "text/plain": [
              "16"
            ]
          },
          "metadata": {},
          "execution_count": 21
        }
      ]
    },
    {
      "cell_type": "code",
      "metadata": {
        "colab": {
          "base_uri": "https://localhost:8080/"
        },
        "id": "mnUL7AsbaRsn",
        "outputId": "6f1fc941-349a-4840-fc0c-5b9520ff751a"
      },
      "source": [
        "# Residuo de la división (módulo)\n",
        "\n",
        "50 % 3"
      ],
      "execution_count": 22,
      "outputs": [
        {
          "output_type": "execute_result",
          "data": {
            "text/plain": [
              "2"
            ]
          },
          "metadata": {},
          "execution_count": 22
        }
      ]
    },
    {
      "cell_type": "code",
      "metadata": {
        "colab": {
          "base_uri": "https://localhost:8080/"
        },
        "id": "pTVdu3MYaLRf",
        "outputId": "10d5cc08-ea42-4d40-e549-aaa41ab0cd1f"
      },
      "source": [
        "# Potencias\n",
        "3 ** 2"
      ],
      "execution_count": 23,
      "outputs": [
        {
          "output_type": "execute_result",
          "data": {
            "text/plain": [
              "9"
            ]
          },
          "metadata": {},
          "execution_count": 23
        }
      ]
    },
    {
      "cell_type": "code",
      "metadata": {
        "colab": {
          "base_uri": "https://localhost:8080/"
        },
        "id": "fHR1bv0ncGrJ",
        "outputId": "77adf8aa-c8c9-45fe-cff9-6bc958e121cb"
      },
      "source": [
        "# Raíz cuadrada\n",
        "9 ** (1/2)"
      ],
      "execution_count": 24,
      "outputs": [
        {
          "output_type": "execute_result",
          "data": {
            "text/plain": [
              "3.0"
            ]
          },
          "metadata": {},
          "execution_count": 24
        }
      ]
    },
    {
      "cell_type": "code",
      "metadata": {
        "colab": {
          "base_uri": "https://localhost:8080/"
        },
        "id": "Mh8JSYoZVngR",
        "outputId": "6db0d7e4-ebbf-4b8d-9702-a7238e5b96ab"
      },
      "source": [
        "import math\n",
        "help(math)"
      ],
      "execution_count": 25,
      "outputs": [
        {
          "output_type": "stream",
          "name": "stdout",
          "text": [
            "Help on built-in module math:\n",
            "\n",
            "NAME\n",
            "    math\n",
            "\n",
            "DESCRIPTION\n",
            "    This module provides access to the mathematical functions\n",
            "    defined by the C standard.\n",
            "\n",
            "FUNCTIONS\n",
            "    acos(x, /)\n",
            "        Return the arc cosine (measured in radians) of x.\n",
            "    \n",
            "    acosh(x, /)\n",
            "        Return the inverse hyperbolic cosine of x.\n",
            "    \n",
            "    asin(x, /)\n",
            "        Return the arc sine (measured in radians) of x.\n",
            "    \n",
            "    asinh(x, /)\n",
            "        Return the inverse hyperbolic sine of x.\n",
            "    \n",
            "    atan(x, /)\n",
            "        Return the arc tangent (measured in radians) of x.\n",
            "    \n",
            "    atan2(y, x, /)\n",
            "        Return the arc tangent (measured in radians) of y/x.\n",
            "        \n",
            "        Unlike atan(y/x), the signs of both x and y are considered.\n",
            "    \n",
            "    atanh(x, /)\n",
            "        Return the inverse hyperbolic tangent of x.\n",
            "    \n",
            "    ceil(x, /)\n",
            "        Return the ceiling of x as an Integral.\n",
            "        \n",
            "        This is the smallest integer >= x.\n",
            "    \n",
            "    copysign(x, y, /)\n",
            "        Return a float with the magnitude (absolute value) of x but the sign of y.\n",
            "        \n",
            "        On platforms that support signed zeros, copysign(1.0, -0.0)\n",
            "        returns -1.0.\n",
            "    \n",
            "    cos(x, /)\n",
            "        Return the cosine of x (measured in radians).\n",
            "    \n",
            "    cosh(x, /)\n",
            "        Return the hyperbolic cosine of x.\n",
            "    \n",
            "    degrees(x, /)\n",
            "        Convert angle x from radians to degrees.\n",
            "    \n",
            "    erf(x, /)\n",
            "        Error function at x.\n",
            "    \n",
            "    erfc(x, /)\n",
            "        Complementary error function at x.\n",
            "    \n",
            "    exp(x, /)\n",
            "        Return e raised to the power of x.\n",
            "    \n",
            "    expm1(x, /)\n",
            "        Return exp(x)-1.\n",
            "        \n",
            "        This function avoids the loss of precision involved in the direct evaluation of exp(x)-1 for small x.\n",
            "    \n",
            "    fabs(x, /)\n",
            "        Return the absolute value of the float x.\n",
            "    \n",
            "    factorial(x, /)\n",
            "        Find x!.\n",
            "        \n",
            "        Raise a ValueError if x is negative or non-integral.\n",
            "    \n",
            "    floor(x, /)\n",
            "        Return the floor of x as an Integral.\n",
            "        \n",
            "        This is the largest integer <= x.\n",
            "    \n",
            "    fmod(x, y, /)\n",
            "        Return fmod(x, y), according to platform C.\n",
            "        \n",
            "        x % y may differ.\n",
            "    \n",
            "    frexp(x, /)\n",
            "        Return the mantissa and exponent of x, as pair (m, e).\n",
            "        \n",
            "        m is a float and e is an int, such that x = m * 2.**e.\n",
            "        If x is 0, m and e are both 0.  Else 0.5 <= abs(m) < 1.0.\n",
            "    \n",
            "    fsum(seq, /)\n",
            "        Return an accurate floating point sum of values in the iterable seq.\n",
            "        \n",
            "        Assumes IEEE-754 floating point arithmetic.\n",
            "    \n",
            "    gamma(x, /)\n",
            "        Gamma function at x.\n",
            "    \n",
            "    gcd(x, y, /)\n",
            "        greatest common divisor of x and y\n",
            "    \n",
            "    hypot(x, y, /)\n",
            "        Return the Euclidean distance, sqrt(x*x + y*y).\n",
            "    \n",
            "    isclose(a, b, *, rel_tol=1e-09, abs_tol=0.0)\n",
            "        Determine whether two floating point numbers are close in value.\n",
            "        \n",
            "          rel_tol\n",
            "            maximum difference for being considered \"close\", relative to the\n",
            "            magnitude of the input values\n",
            "          abs_tol\n",
            "            maximum difference for being considered \"close\", regardless of the\n",
            "            magnitude of the input values\n",
            "        \n",
            "        Return True if a is close in value to b, and False otherwise.\n",
            "        \n",
            "        For the values to be considered close, the difference between them\n",
            "        must be smaller than at least one of the tolerances.\n",
            "        \n",
            "        -inf, inf and NaN behave similarly to the IEEE 754 Standard.  That\n",
            "        is, NaN is not close to anything, even itself.  inf and -inf are\n",
            "        only close to themselves.\n",
            "    \n",
            "    isfinite(x, /)\n",
            "        Return True if x is neither an infinity nor a NaN, and False otherwise.\n",
            "    \n",
            "    isinf(x, /)\n",
            "        Return True if x is a positive or negative infinity, and False otherwise.\n",
            "    \n",
            "    isnan(x, /)\n",
            "        Return True if x is a NaN (not a number), and False otherwise.\n",
            "    \n",
            "    ldexp(x, i, /)\n",
            "        Return x * (2**i).\n",
            "        \n",
            "        This is essentially the inverse of frexp().\n",
            "    \n",
            "    lgamma(x, /)\n",
            "        Natural logarithm of absolute value of Gamma function at x.\n",
            "    \n",
            "    log(...)\n",
            "        log(x, [base=math.e])\n",
            "        Return the logarithm of x to the given base.\n",
            "        \n",
            "        If the base not specified, returns the natural logarithm (base e) of x.\n",
            "    \n",
            "    log10(x, /)\n",
            "        Return the base 10 logarithm of x.\n",
            "    \n",
            "    log1p(x, /)\n",
            "        Return the natural logarithm of 1+x (base e).\n",
            "        \n",
            "        The result is computed in a way which is accurate for x near zero.\n",
            "    \n",
            "    log2(x, /)\n",
            "        Return the base 2 logarithm of x.\n",
            "    \n",
            "    modf(x, /)\n",
            "        Return the fractional and integer parts of x.\n",
            "        \n",
            "        Both results carry the sign of x and are floats.\n",
            "    \n",
            "    pow(x, y, /)\n",
            "        Return x**y (x to the power of y).\n",
            "    \n",
            "    radians(x, /)\n",
            "        Convert angle x from degrees to radians.\n",
            "    \n",
            "    remainder(x, y, /)\n",
            "        Difference between x and the closest integer multiple of y.\n",
            "        \n",
            "        Return x - n*y where n*y is the closest integer multiple of y.\n",
            "        In the case where x is exactly halfway between two multiples of\n",
            "        y, the nearest even value of n is used. The result is always exact.\n",
            "    \n",
            "    sin(x, /)\n",
            "        Return the sine of x (measured in radians).\n",
            "    \n",
            "    sinh(x, /)\n",
            "        Return the hyperbolic sine of x.\n",
            "    \n",
            "    sqrt(x, /)\n",
            "        Return the square root of x.\n",
            "    \n",
            "    tan(x, /)\n",
            "        Return the tangent of x (measured in radians).\n",
            "    \n",
            "    tanh(x, /)\n",
            "        Return the hyperbolic tangent of x.\n",
            "    \n",
            "    trunc(x, /)\n",
            "        Truncates the Real x to the nearest Integral toward 0.\n",
            "        \n",
            "        Uses the __trunc__ magic method.\n",
            "\n",
            "DATA\n",
            "    e = 2.718281828459045\n",
            "    inf = inf\n",
            "    nan = nan\n",
            "    pi = 3.141592653589793\n",
            "    tau = 6.283185307179586\n",
            "\n",
            "FILE\n",
            "    (built-in)\n",
            "\n",
            "\n"
          ]
        }
      ]
    },
    {
      "cell_type": "code",
      "metadata": {
        "colab": {
          "base_uri": "https://localhost:8080/"
        },
        "id": "FOtv1udncBEw",
        "outputId": "a9bdebc1-f3bb-4838-f8cc-4ceeaa6ccab4"
      },
      "source": [
        "math.sqrt(3)"
      ],
      "execution_count": 26,
      "outputs": [
        {
          "output_type": "execute_result",
          "data": {
            "text/plain": [
              "1.7320508075688772"
            ]
          },
          "metadata": {},
          "execution_count": 26
        }
      ]
    },
    {
      "cell_type": "markdown",
      "metadata": {
        "id": "0r5H3SMPa1p8"
      },
      "source": [
        "## Operaciones trigonométricas, logaritmos, exponencial y otras"
      ]
    },
    {
      "cell_type": "markdown",
      "metadata": {
        "id": "RAy87pMWasRS"
      },
      "source": [
        "Para poder hacer operaciones trigonométricas, logaritmos y exponenciales, es necesario que usemos el módulo ```math``` de python. De momento sólo lo usaremos y en el futuro explicaremos qué significa la celda a continuación."
      ]
    },
    {
      "cell_type": "code",
      "metadata": {
        "id": "Dsa40dShbp3Q",
        "colab": {
          "base_uri": "https://localhost:8080/"
        },
        "outputId": "fcf06061-3825-4b2d-b126-99b4d1fb8da2"
      },
      "source": [
        "import math\n",
        "help(math)"
      ],
      "execution_count": 27,
      "outputs": [
        {
          "output_type": "stream",
          "name": "stdout",
          "text": [
            "Help on built-in module math:\n",
            "\n",
            "NAME\n",
            "    math\n",
            "\n",
            "DESCRIPTION\n",
            "    This module provides access to the mathematical functions\n",
            "    defined by the C standard.\n",
            "\n",
            "FUNCTIONS\n",
            "    acos(x, /)\n",
            "        Return the arc cosine (measured in radians) of x.\n",
            "    \n",
            "    acosh(x, /)\n",
            "        Return the inverse hyperbolic cosine of x.\n",
            "    \n",
            "    asin(x, /)\n",
            "        Return the arc sine (measured in radians) of x.\n",
            "    \n",
            "    asinh(x, /)\n",
            "        Return the inverse hyperbolic sine of x.\n",
            "    \n",
            "    atan(x, /)\n",
            "        Return the arc tangent (measured in radians) of x.\n",
            "    \n",
            "    atan2(y, x, /)\n",
            "        Return the arc tangent (measured in radians) of y/x.\n",
            "        \n",
            "        Unlike atan(y/x), the signs of both x and y are considered.\n",
            "    \n",
            "    atanh(x, /)\n",
            "        Return the inverse hyperbolic tangent of x.\n",
            "    \n",
            "    ceil(x, /)\n",
            "        Return the ceiling of x as an Integral.\n",
            "        \n",
            "        This is the smallest integer >= x.\n",
            "    \n",
            "    copysign(x, y, /)\n",
            "        Return a float with the magnitude (absolute value) of x but the sign of y.\n",
            "        \n",
            "        On platforms that support signed zeros, copysign(1.0, -0.0)\n",
            "        returns -1.0.\n",
            "    \n",
            "    cos(x, /)\n",
            "        Return the cosine of x (measured in radians).\n",
            "    \n",
            "    cosh(x, /)\n",
            "        Return the hyperbolic cosine of x.\n",
            "    \n",
            "    degrees(x, /)\n",
            "        Convert angle x from radians to degrees.\n",
            "    \n",
            "    erf(x, /)\n",
            "        Error function at x.\n",
            "    \n",
            "    erfc(x, /)\n",
            "        Complementary error function at x.\n",
            "    \n",
            "    exp(x, /)\n",
            "        Return e raised to the power of x.\n",
            "    \n",
            "    expm1(x, /)\n",
            "        Return exp(x)-1.\n",
            "        \n",
            "        This function avoids the loss of precision involved in the direct evaluation of exp(x)-1 for small x.\n",
            "    \n",
            "    fabs(x, /)\n",
            "        Return the absolute value of the float x.\n",
            "    \n",
            "    factorial(x, /)\n",
            "        Find x!.\n",
            "        \n",
            "        Raise a ValueError if x is negative or non-integral.\n",
            "    \n",
            "    floor(x, /)\n",
            "        Return the floor of x as an Integral.\n",
            "        \n",
            "        This is the largest integer <= x.\n",
            "    \n",
            "    fmod(x, y, /)\n",
            "        Return fmod(x, y), according to platform C.\n",
            "        \n",
            "        x % y may differ.\n",
            "    \n",
            "    frexp(x, /)\n",
            "        Return the mantissa and exponent of x, as pair (m, e).\n",
            "        \n",
            "        m is a float and e is an int, such that x = m * 2.**e.\n",
            "        If x is 0, m and e are both 0.  Else 0.5 <= abs(m) < 1.0.\n",
            "    \n",
            "    fsum(seq, /)\n",
            "        Return an accurate floating point sum of values in the iterable seq.\n",
            "        \n",
            "        Assumes IEEE-754 floating point arithmetic.\n",
            "    \n",
            "    gamma(x, /)\n",
            "        Gamma function at x.\n",
            "    \n",
            "    gcd(x, y, /)\n",
            "        greatest common divisor of x and y\n",
            "    \n",
            "    hypot(x, y, /)\n",
            "        Return the Euclidean distance, sqrt(x*x + y*y).\n",
            "    \n",
            "    isclose(a, b, *, rel_tol=1e-09, abs_tol=0.0)\n",
            "        Determine whether two floating point numbers are close in value.\n",
            "        \n",
            "          rel_tol\n",
            "            maximum difference for being considered \"close\", relative to the\n",
            "            magnitude of the input values\n",
            "          abs_tol\n",
            "            maximum difference for being considered \"close\", regardless of the\n",
            "            magnitude of the input values\n",
            "        \n",
            "        Return True if a is close in value to b, and False otherwise.\n",
            "        \n",
            "        For the values to be considered close, the difference between them\n",
            "        must be smaller than at least one of the tolerances.\n",
            "        \n",
            "        -inf, inf and NaN behave similarly to the IEEE 754 Standard.  That\n",
            "        is, NaN is not close to anything, even itself.  inf and -inf are\n",
            "        only close to themselves.\n",
            "    \n",
            "    isfinite(x, /)\n",
            "        Return True if x is neither an infinity nor a NaN, and False otherwise.\n",
            "    \n",
            "    isinf(x, /)\n",
            "        Return True if x is a positive or negative infinity, and False otherwise.\n",
            "    \n",
            "    isnan(x, /)\n",
            "        Return True if x is a NaN (not a number), and False otherwise.\n",
            "    \n",
            "    ldexp(x, i, /)\n",
            "        Return x * (2**i).\n",
            "        \n",
            "        This is essentially the inverse of frexp().\n",
            "    \n",
            "    lgamma(x, /)\n",
            "        Natural logarithm of absolute value of Gamma function at x.\n",
            "    \n",
            "    log(...)\n",
            "        log(x, [base=math.e])\n",
            "        Return the logarithm of x to the given base.\n",
            "        \n",
            "        If the base not specified, returns the natural logarithm (base e) of x.\n",
            "    \n",
            "    log10(x, /)\n",
            "        Return the base 10 logarithm of x.\n",
            "    \n",
            "    log1p(x, /)\n",
            "        Return the natural logarithm of 1+x (base e).\n",
            "        \n",
            "        The result is computed in a way which is accurate for x near zero.\n",
            "    \n",
            "    log2(x, /)\n",
            "        Return the base 2 logarithm of x.\n",
            "    \n",
            "    modf(x, /)\n",
            "        Return the fractional and integer parts of x.\n",
            "        \n",
            "        Both results carry the sign of x and are floats.\n",
            "    \n",
            "    pow(x, y, /)\n",
            "        Return x**y (x to the power of y).\n",
            "    \n",
            "    radians(x, /)\n",
            "        Convert angle x from degrees to radians.\n",
            "    \n",
            "    remainder(x, y, /)\n",
            "        Difference between x and the closest integer multiple of y.\n",
            "        \n",
            "        Return x - n*y where n*y is the closest integer multiple of y.\n",
            "        In the case where x is exactly halfway between two multiples of\n",
            "        y, the nearest even value of n is used. The result is always exact.\n",
            "    \n",
            "    sin(x, /)\n",
            "        Return the sine of x (measured in radians).\n",
            "    \n",
            "    sinh(x, /)\n",
            "        Return the hyperbolic sine of x.\n",
            "    \n",
            "    sqrt(x, /)\n",
            "        Return the square root of x.\n",
            "    \n",
            "    tan(x, /)\n",
            "        Return the tangent of x (measured in radians).\n",
            "    \n",
            "    tanh(x, /)\n",
            "        Return the hyperbolic tangent of x.\n",
            "    \n",
            "    trunc(x, /)\n",
            "        Truncates the Real x to the nearest Integral toward 0.\n",
            "        \n",
            "        Uses the __trunc__ magic method.\n",
            "\n",
            "DATA\n",
            "    e = 2.718281828459045\n",
            "    inf = inf\n",
            "    nan = nan\n",
            "    pi = 3.141592653589793\n",
            "    tau = 6.283185307179586\n",
            "\n",
            "FILE\n",
            "    (built-in)\n",
            "\n",
            "\n"
          ]
        }
      ]
    },
    {
      "cell_type": "code",
      "metadata": {
        "colab": {
          "base_uri": "https://localhost:8080/"
        },
        "id": "ny6BXKkTP8xE",
        "outputId": "b52b0866-dd2c-4d31-e4ee-9750218b96ef"
      },
      "source": [
        "# Valor absoluto\n",
        "abs(-5)"
      ],
      "execution_count": 28,
      "outputs": [
        {
          "output_type": "execute_result",
          "data": {
            "text/plain": [
              "5"
            ]
          },
          "metadata": {},
          "execution_count": 28
        }
      ]
    },
    {
      "cell_type": "code",
      "metadata": {
        "colab": {
          "base_uri": "https://localhost:8080/"
        },
        "id": "sNCP5LWAb0QB",
        "outputId": "a81e2671-b0d3-4fe1-f52d-6a79db8872f6"
      },
      "source": [
        "# Techo de un flotante\n",
        "math.ceil(3.4)"
      ],
      "execution_count": 29,
      "outputs": [
        {
          "output_type": "execute_result",
          "data": {
            "text/plain": [
              "4"
            ]
          },
          "metadata": {},
          "execution_count": 29
        }
      ]
    },
    {
      "cell_type": "code",
      "metadata": {
        "id": "N4xFguONw3mS",
        "colab": {
          "base_uri": "https://localhost:8080/"
        },
        "outputId": "16ec935a-8f54-482b-a178-0aa74908eda7"
      },
      "source": [
        "# Piso de un flotante\n",
        "print(math.floor(3.4))\n",
        "int(3.4)"
      ],
      "execution_count": 30,
      "outputs": [
        {
          "output_type": "stream",
          "name": "stdout",
          "text": [
            "3\n"
          ]
        },
        {
          "output_type": "execute_result",
          "data": {
            "text/plain": [
              "3"
            ]
          },
          "metadata": {},
          "execution_count": 30
        }
      ]
    },
    {
      "cell_type": "code",
      "metadata": {
        "colab": {
          "base_uri": "https://localhost:8080/"
        },
        "id": "YhAz24RkxBM-",
        "outputId": "dc15f0c8-28d4-44e9-b789-38118c3b7ef5"
      },
      "source": [
        "# Redondear a varios decimales\n",
        "round(3.426565, 2)"
      ],
      "execution_count": 31,
      "outputs": [
        {
          "output_type": "execute_result",
          "data": {
            "text/plain": [
              "3.43"
            ]
          },
          "metadata": {},
          "execution_count": 31
        }
      ]
    },
    {
      "cell_type": "code",
      "metadata": {
        "colab": {
          "base_uri": "https://localhost:8080/"
        },
        "id": "rGQJV2waxNwS",
        "outputId": "74635ce6-8a0c-4c70-bba3-b94eceb8bd9f"
      },
      "source": [
        "math.sin(3.3)"
      ],
      "execution_count": 32,
      "outputs": [
        {
          "output_type": "execute_result",
          "data": {
            "text/plain": [
              "-0.1577456941432482"
            ]
          },
          "metadata": {},
          "execution_count": 32
        }
      ]
    },
    {
      "cell_type": "code",
      "metadata": {
        "colab": {
          "base_uri": "https://localhost:8080/"
        },
        "id": "DtULAI2txRqO",
        "outputId": "a1e0a6ea-26be-4882-e21e-e49eabebe146"
      },
      "source": [
        "math.tan(3.4)"
      ],
      "execution_count": 33,
      "outputs": [
        {
          "output_type": "execute_result",
          "data": {
            "text/plain": [
              "0.26431690086742515"
            ]
          },
          "metadata": {},
          "execution_count": 33
        }
      ]
    },
    {
      "cell_type": "code",
      "metadata": {
        "colab": {
          "base_uri": "https://localhost:8080/"
        },
        "id": "r_aap0-SxYpR",
        "outputId": "99b51134-991a-44b1-a5cb-393b546c1306"
      },
      "source": [
        "# Logaritmo natural\n",
        "math.log(5)"
      ],
      "execution_count": 34,
      "outputs": [
        {
          "output_type": "execute_result",
          "data": {
            "text/plain": [
              "1.6094379124341003"
            ]
          },
          "metadata": {},
          "execution_count": 34
        }
      ]
    },
    {
      "cell_type": "code",
      "metadata": {
        "colab": {
          "base_uri": "https://localhost:8080/"
        },
        "id": "udogZFJ4xgXs",
        "outputId": "e5d488c9-bffb-48c1-a762-cdc8081d5f7f"
      },
      "source": [
        "# Logaritmo base 10\n",
        "math.log10(5)"
      ],
      "execution_count": 35,
      "outputs": [
        {
          "output_type": "execute_result",
          "data": {
            "text/plain": [
              "0.6989700043360189"
            ]
          },
          "metadata": {},
          "execution_count": 35
        }
      ]
    },
    {
      "cell_type": "code",
      "metadata": {
        "colab": {
          "base_uri": "https://localhost:8080/"
        },
        "id": "S-xxHJdSxrBC",
        "outputId": "87972019-3bb9-409e-e304-1ce8b64bbb16"
      },
      "source": [
        "# Exponencial\n",
        "print(math.exp(2))\n",
        "math.e ** 2"
      ],
      "execution_count": 36,
      "outputs": [
        {
          "output_type": "stream",
          "name": "stdout",
          "text": [
            "7.38905609893065\n"
          ]
        },
        {
          "output_type": "execute_result",
          "data": {
            "text/plain": [
              "7.3890560989306495"
            ]
          },
          "metadata": {},
          "execution_count": 36
        }
      ]
    },
    {
      "cell_type": "markdown",
      "metadata": {
        "id": "Vmr7kIQoTaKV"
      },
      "source": [
        "# Introducción a las variables"
      ]
    },
    {
      "cell_type": "markdown",
      "metadata": {
        "id": "sfWUqiz3yHvA"
      },
      "source": [
        "Las variables se pueden ver como celdas en una hoja de cálculo. Pueden tener un valor fijo asignado o uno que este en función de otras variables. Las primeras son lo mismo que poner el valor a mano en la celda; las segundas es como las celdas que tienen fórmulas dependientes de otras celdas.\n",
        "\n",
        "Para asignar un valor a una variable se ocupa el operador ```=```, poniendo la variable del lado izquierdo. Por ejemplo,"
      ]
    },
    {
      "cell_type": "code",
      "metadata": {
        "id": "iH6GvJ97zA5A"
      },
      "source": [
        "texto = 'Hola mundo'"
      ],
      "execution_count": 37,
      "outputs": []
    },
    {
      "cell_type": "code",
      "metadata": {
        "colab": {
          "base_uri": "https://localhost:8080/"
        },
        "id": "DA2zzjkHzFLD",
        "outputId": "b5bdd31f-2fd0-4ef9-fde6-80071b30405e"
      },
      "source": [
        "print(texto)"
      ],
      "execution_count": 38,
      "outputs": [
        {
          "output_type": "stream",
          "name": "stdout",
          "text": [
            "Hola mundo\n"
          ]
        }
      ]
    },
    {
      "cell_type": "markdown",
      "metadata": {
        "id": "QAaE-GWBzQtG"
      },
      "source": [
        "**Los nombres de las variables son sensibles a mayúsuculas, deben comenzar con una letra de la A a la Z o guión bajo (```_```) y no pueden ser llamadas igual a las palabras reservadas**. "
      ]
    },
    {
      "cell_type": "code",
      "metadata": {
        "colab": {
          "base_uri": "https://localhost:8080/"
        },
        "id": "y98od4n40gJf",
        "outputId": "19e25084-b887-4b13-c95f-9990de63c941"
      },
      "source": [
        "# Palabras reservadas\n",
        "import keyword\n",
        "\n",
        "print(', '.join(keyword.kwlist))"
      ],
      "execution_count": 39,
      "outputs": [
        {
          "output_type": "stream",
          "name": "stdout",
          "text": [
            "False, None, True, and, as, assert, async, await, break, class, continue, def, del, elif, else, except, finally, for, from, global, if, import, in, is, lambda, nonlocal, not, or, pass, raise, return, try, while, with, yield\n"
          ]
        }
      ]
    },
    {
      "cell_type": "code",
      "metadata": {
        "colab": {
          "base_uri": "https://localhost:8080/"
        },
        "id": "Rul3pi8b0kyd",
        "outputId": "fca598bc-3985-44d6-c8eb-111b1450f1da"
      },
      "source": [
        "# Ejemplos de sensibilidad a las mayúsculas\n",
        "Texto = 'Esta variable inicia con una mayúscula'\n",
        "texto = 'Esta variable no'\n",
        "TexTO = 'Esta variable tiene mayúsculas al final'\n",
        "\n",
        "print(texto)"
      ],
      "execution_count": 40,
      "outputs": [
        {
          "output_type": "stream",
          "name": "stdout",
          "text": [
            "Esta variable no\n"
          ]
        }
      ]
    },
    {
      "cell_type": "code",
      "metadata": {
        "id": "CG59mAdB07sS"
      },
      "source": [
        "# Ejemplos de nombres de variables válidos\n",
        "\n",
        "var = 3\n",
        "_var = 3\n",
        "var3 = 3\n",
        "var_3 = 3\n",
        "Var_3 = 3\n",
        "VAR3 = 3"
      ],
      "execution_count": 41,
      "outputs": []
    },
    {
      "cell_type": "code",
      "metadata": {
        "colab": {
          "base_uri": "https://localhost:8080/",
          "height": 134
        },
        "id": "CQb2aZnz1OqR",
        "outputId": "8aaac7d3-60f5-4581-d59e-2591d91e6632"
      },
      "source": [
        "# Ejemplos de nombres inválidos\n",
        "\n",
        "# No inician con letras o guion bajo\n",
        "3var = 3 \n",
        ".var = 3\n"
      ],
      "execution_count": 42,
      "outputs": [
        {
          "output_type": "error",
          "ename": "SyntaxError",
          "evalue": "ignored",
          "traceback": [
            "\u001b[0;36m  File \u001b[0;32m\"<ipython-input-42-5bfc237ce981>\"\u001b[0;36m, line \u001b[0;32m4\u001b[0m\n\u001b[0;31m    3var = 3\u001b[0m\n\u001b[0m       ^\u001b[0m\n\u001b[0;31mSyntaxError\u001b[0m\u001b[0;31m:\u001b[0m invalid syntax\n"
          ]
        }
      ]
    },
    {
      "cell_type": "code",
      "metadata": {
        "id": "cauA5JI015mk"
      },
      "source": [
        "# No puede contener otra puntuación que no sea guin bajo\n",
        "var.3 = 3\n",
        "var'3 = 3\n"
      ],
      "execution_count": null,
      "outputs": []
    },
    {
      "cell_type": "code",
      "metadata": {
        "id": "4NzJOWbm16Oj"
      },
      "source": [
        "# No pueden usarse palabras reservadas\n",
        "async = 3"
      ],
      "execution_count": null,
      "outputs": []
    },
    {
      "cell_type": "markdown",
      "metadata": {
        "id": "gWnfi84o2uIo"
      },
      "source": [
        "El valor de la variable es igual al último que se le haya asignado"
      ]
    },
    {
      "cell_type": "code",
      "metadata": {
        "id": "dCWTot5B2xx7"
      },
      "source": [
        "texto = 'Texto inicial'\n",
        "texto = 'Ya no es el texto inicial'\n",
        "\n",
        "print(texto)"
      ],
      "execution_count": null,
      "outputs": []
    },
    {
      "cell_type": "markdown",
      "metadata": {
        "id": "O8N1jAh33UqW"
      },
      "source": [
        "Finalmente, una variable puede convertirse en cualquier tipo sólo asignando el valor"
      ]
    },
    {
      "cell_type": "code",
      "metadata": {
        "id": "upc8pyqY3eMc"
      },
      "source": [
        "texto = 'Primero soy texto'\n",
        "texto = 3  \n",
        "print(texto)"
      ],
      "execution_count": null,
      "outputs": []
    },
    {
      "cell_type": "markdown",
      "metadata": {
        "id": "ESTNtrKgUJTs"
      },
      "source": [
        "## Números\n"
      ]
    },
    {
      "cell_type": "markdown",
      "metadata": {
        "id": "7GWYliHx2Hxa"
      },
      "source": [
        "En python los números fundamentalmente sólo pueden ser de dos tipos: \n",
        "\n",
        "- ```int```: Enteros \n",
        "-```float```: Flotantes (con punto decimal)\n",
        "\n",
        "Agregando módulos se pueden manejar números complejos o decimales con mayor precisión que los de punto flotante."
      ]
    },
    {
      "cell_type": "code",
      "metadata": {
        "id": "g8MGgTVC2HWE"
      },
      "source": [
        "# Ejemplos de enteros\n",
        "m = 30\n",
        "print(type(m), m)"
      ],
      "execution_count": null,
      "outputs": []
    },
    {
      "cell_type": "code",
      "metadata": {
        "id": "wJWAfJ5Z3FOM"
      },
      "source": [
        "n = 2.3\n",
        "print(type(n), n)"
      ],
      "execution_count": null,
      "outputs": []
    },
    {
      "cell_type": "markdown",
      "metadata": {
        "id": "9G06DP4s7OZW"
      },
      "source": [
        "### Operaciones con números"
      ]
    },
    {
      "cell_type": "markdown",
      "metadata": {
        "id": "PjCpf2Ou5CWy"
      },
      "source": [
        "Ahora podemos aplicar todas las operaciones que vimos al inicio."
      ]
    },
    {
      "cell_type": "code",
      "metadata": {
        "id": "08ZjEqsa5JlR"
      },
      "source": [
        "m + n"
      ],
      "execution_count": null,
      "outputs": []
    },
    {
      "cell_type": "code",
      "metadata": {
        "id": "JhLHTg4h5KyU"
      },
      "source": [
        "print(n - m)\n",
        "round(m**n, 2)"
      ],
      "execution_count": null,
      "outputs": []
    },
    {
      "cell_type": "markdown",
      "metadata": {
        "id": "yYnIRuMgUpnv"
      },
      "source": [
        "## Texto\n"
      ]
    },
    {
      "cell_type": "markdown",
      "metadata": {
        "id": "A2RgJZEn5s3j"
      },
      "source": [
        "Para definir una variable con texto podemos ocupar la comilla simple ```'``` o la comilla doble ```\"```."
      ]
    },
    {
      "cell_type": "code",
      "metadata": {
        "id": "6OVP2qar59Sy"
      },
      "source": [
        "texto = 'Texto con comilla simple'\n",
        "texto2 = \"texto con comilla doble\"\n",
        "\n",
        "print(type(texto), texto)\n",
        "print(type(texto2), texto2)"
      ],
      "execution_count": null,
      "outputs": []
    },
    {
      "cell_type": "markdown",
      "metadata": {
        "id": "zSArlmtu6HN_"
      },
      "source": [
        "No se pueden usar ambas al mismo tiempo para definir la variable"
      ]
    },
    {
      "cell_type": "code",
      "metadata": {
        "id": "lIbAU4uI6T_Q"
      },
      "source": [
        "texto = 'Voy a arrojar una excepción\""
      ],
      "execution_count": null,
      "outputs": []
    },
    {
      "cell_type": "markdown",
      "metadata": {
        "id": "mXwPBXrC6ZCb"
      },
      "source": [
        "Para ocupar las dos comillas dentro de una cadena se puede usar la comilla simple para definir la variable o \"escapar\" el caracter con ```\\```. Lo mismo para la comilla simple."
      ]
    },
    {
      "cell_type": "code",
      "metadata": {
        "id": "_T8Vuszk6nGp"
      },
      "source": [
        "texto = 'Tengo \"commilas dobles\"'\n",
        "texto2 = \"Yo también tengo \\\"comillas dobles\\\"\"\n",
        "\n",
        "print(texto)\n",
        "print(texto2)"
      ],
      "execution_count": null,
      "outputs": []
    },
    {
      "cell_type": "code",
      "metadata": {
        "id": "JL0q1XMh69xE"
      },
      "source": [
        "texto = \"Arrojaré error al usar \"comillas dobles\"\""
      ],
      "execution_count": null,
      "outputs": []
    },
    {
      "cell_type": "markdown",
      "metadata": {
        "id": "317rP6bC7KTO"
      },
      "source": [
        "### Operaciones con texto"
      ]
    },
    {
      "cell_type": "markdown",
      "metadata": {
        "id": "7v9-tW097VDC"
      },
      "source": [
        "En python podemos concatenar, dividir las cadenas y obtener su longitud."
      ]
    },
    {
      "cell_type": "code",
      "metadata": {
        "id": "QqcHWz0T7jvG"
      },
      "source": [
        "print(texto)\n",
        "len(texto) # Obtiene el número de caracteres en la cadena. Cuenta saltos de linea, espacios, signos de puntuacion, letras y caracteres especiales"
      ],
      "execution_count": null,
      "outputs": []
    },
    {
      "cell_type": "code",
      "metadata": {
        "id": "ibV9HUqG7x0A"
      },
      "source": [
        "print(len('\\n '))"
      ],
      "execution_count": null,
      "outputs": []
    },
    {
      "cell_type": "markdown",
      "metadata": {
        "id": "k6tZmK3E8Bf2"
      },
      "source": [
        "Para concatenar texto podemos usar el operador ```+```."
      ]
    },
    {
      "cell_type": "code",
      "metadata": {
        "id": "Elc7bxr68Hp2"
      },
      "source": [
        "texto1 = 'Hola mundo'\n",
        "texto2 = ' de la concatenación.'\n",
        "texto3 = ' Una cadena más'\n",
        "texto1 + texto2 + texto3"
      ],
      "execution_count": null,
      "outputs": []
    },
    {
      "cell_type": "markdown",
      "metadata": {
        "id": "bdvP5wRcSDiZ"
      },
      "source": [
        "Podemos \"multiplicar\" una cadena n veces"
      ]
    },
    {
      "cell_type": "code",
      "metadata": {
        "id": "V3vumZr9SHqI"
      },
      "source": [
        "\"hola \" * 5"
      ],
      "execution_count": null,
      "outputs": []
    },
    {
      "cell_type": "markdown",
      "metadata": {
        "id": "9cFZ6qPkSLWo"
      },
      "source": [
        "Se puede dividir una cadena siguiendo un patrón"
      ]
    },
    {
      "cell_type": "code",
      "metadata": {
        "id": "fhBH9KFU8mIh"
      },
      "source": [
        "texto = 'Voy a separar esta cadena en palabras'\n",
        "\n",
        "texto.split()"
      ],
      "execution_count": null,
      "outputs": []
    },
    {
      "cell_type": "code",
      "metadata": {
        "id": "Z_eF2-yr8yzf"
      },
      "source": [
        "texto = 'Esta, cadena, la, separaré, por, comas'\n",
        "texto.split(', ')"
      ],
      "execution_count": null,
      "outputs": []
    },
    {
      "cell_type": "markdown",
      "metadata": {
        "id": "WNlOM_LdDLza"
      },
      "source": [
        "Para reemplazar texto podemos ocupar ```replace()```"
      ]
    },
    {
      "cell_type": "code",
      "metadata": {
        "id": "evaT30_MDRXC"
      },
      "source": [
        "print(texto)\n",
        "texto.replace(',', '')"
      ],
      "execution_count": null,
      "outputs": []
    },
    {
      "cell_type": "code",
      "metadata": {
        "id": "pChX4booDZxW"
      },
      "source": [
        "cadena = 'Voy a cambiar todas las letras a por z'\n",
        "print(cadena)\n",
        "cadena.replace('a', 'z')"
      ],
      "execution_count": null,
      "outputs": []
    },
    {
      "cell_type": "markdown",
      "metadata": {
        "id": "Yv-OxbJnLCqC"
      },
      "source": [
        "Se pueden transformar todos los caracteres a minúsculas, mayúsculas o \"title\"\n"
      ]
    },
    {
      "cell_type": "code",
      "metadata": {
        "id": "ZBc17Bh-LLVI"
      },
      "source": [
        "texto.lower()"
      ],
      "execution_count": null,
      "outputs": []
    },
    {
      "cell_type": "code",
      "metadata": {
        "id": "R9eXKK9NLN1F"
      },
      "source": [
        "texto.upper()"
      ],
      "execution_count": null,
      "outputs": []
    },
    {
      "cell_type": "code",
      "metadata": {
        "id": "1HXEPTlSLUPK"
      },
      "source": [
        "texto.title()"
      ],
      "execution_count": null,
      "outputs": []
    },
    {
      "cell_type": "markdown",
      "metadata": {
        "id": "WxzEdbx0UuDO"
      },
      "source": [
        "## Listas"
      ]
    },
    {
      "cell_type": "markdown",
      "metadata": {
        "id": "IHV_8r7l9ED2"
      },
      "source": [
        "Una lista es un conjunto de valores que definimos con paréntesis cuadrados, \"```[]```\" y separamos cada elemento con coma, \"```,```\". Por ejemplo, podemos crear una lista para guardar los tiempos de traslado en minutos de un punto a otro"
      ]
    },
    {
      "cell_type": "code",
      "metadata": {
        "id": "Qyf1RnKV9W9n"
      },
      "source": [
        "tiempos_traslado = [3, 34, 23, 12, 3, 4]\n",
        "tiempos_traslado"
      ],
      "execution_count": null,
      "outputs": []
    },
    {
      "cell_type": "markdown",
      "metadata": {
        "id": "JnuFalju9c53"
      },
      "source": [
        "También podemos almacenar varios tipos de variables en una lista.\n"
      ]
    },
    {
      "cell_type": "code",
      "metadata": {
        "id": "KuallMho9mTR"
      },
      "source": [
        "lista_mixta = [\"Juan\", 23, 54, 23, False, \"Avión\"]\n",
        "lista_mixta"
      ],
      "execution_count": null,
      "outputs": []
    },
    {
      "cell_type": "markdown",
      "metadata": {
        "id": "e2LjvXnHAD31"
      },
      "source": [
        "Podemos crear una lista usando la función ```range()```"
      ]
    },
    {
      "cell_type": "code",
      "metadata": {
        "id": "ttKHZlpoADh7"
      },
      "source": [
        "sucesion = list(range(10))\n",
        "sucesion"
      ],
      "execution_count": null,
      "outputs": []
    },
    {
      "cell_type": "markdown",
      "metadata": {
        "id": "dIi01cAL-awg"
      },
      "source": [
        "Podemos obtener la longitud de una lista (el número de elementos que tiene) con la función ```len```."
      ]
    },
    {
      "cell_type": "code",
      "metadata": {
        "id": "S8CRDEKE-iJS"
      },
      "source": [
        "len(lista_mixta)"
      ],
      "execution_count": null,
      "outputs": []
    },
    {
      "cell_type": "markdown",
      "metadata": {
        "id": "V6MB5E4i-ENQ"
      },
      "source": [
        "Para acceder a elementos de la lista usamos nuevamente los paréntesis cuadrados y dentro un entero con la posición del elemento que deseamos. Es importante mencionar que el Python, los índices (o posiciones) empiezan desde cero.\n"
      ]
    },
    {
      "cell_type": "code",
      "metadata": {
        "id": "qUaJ67dr-XRs"
      },
      "source": [
        "tiempos_traslado[0]"
      ],
      "execution_count": null,
      "outputs": []
    },
    {
      "cell_type": "markdown",
      "metadata": {
        "id": "_bRdYKHyXwiV"
      },
      "source": [
        "Y para cambiar el valor de la lista en alguna posición usamos el operador de asignación"
      ]
    },
    {
      "cell_type": "code",
      "metadata": {
        "id": "BclhyIL8X27c"
      },
      "source": [
        "tiempos_traslado[0] = 30\n",
        "tiempos_traslado"
      ],
      "execution_count": null,
      "outputs": []
    },
    {
      "cell_type": "markdown",
      "metadata": {
        "id": "j9vU7WqU-rBh"
      },
      "source": [
        "Para obtener el elemento en la última posición podemos hacer lo siguiente"
      ]
    },
    {
      "cell_type": "code",
      "metadata": {
        "id": "2Gd3BjKi-xJi"
      },
      "source": [
        "lista_mixta[-1]"
      ],
      "execution_count": null,
      "outputs": []
    },
    {
      "cell_type": "markdown",
      "metadata": {
        "id": "Wsb3FRG2-3TE"
      },
      "source": [
        "Cabe destacar que si usamos números negativos, el conteo de las posiciones empieza de derecha izquierda. Por ejemplo, para obtener el penúltimo elemento haríamos"
      ]
    },
    {
      "cell_type": "code",
      "metadata": {
        "id": "B6KTlxeE_JoZ"
      },
      "source": [
        "lista_mixta[-2]"
      ],
      "execution_count": null,
      "outputs": []
    },
    {
      "cell_type": "markdown",
      "metadata": {
        "id": "KiJCvZBx_M40"
      },
      "source": [
        "### Slicing"
      ]
    },
    {
      "cell_type": "markdown",
      "metadata": {
        "id": "dL1DIWH4_PPq"
      },
      "source": [
        "Para obtener más de un elemento de una lista podemos recurrir al ```slicing```. Un slice lo definimos con dos puntos, \"```:```\". Y sirve para indicar desde qué posición iniciar y hasta dónde terminar (en un intervalo abierto por la derecha). Por ejemplo, para obtener los elementos desde la segunda posición hasta la cuarta, haríamos \n"
      ]
    },
    {
      "cell_type": "code",
      "metadata": {
        "id": "zz-TWPwg_-Lv"
      },
      "source": [
        "sucesion[1:4]"
      ],
      "execution_count": null,
      "outputs": []
    },
    {
      "cell_type": "markdown",
      "metadata": {
        "id": "0pmWu0YCAk2-"
      },
      "source": [
        "Algunos ejemplos más de slicing. Si no se especifica un valor, quiere decir que tome desde el inicio si esta a la izquierda de los dos puntos, o hasta el final para "
      ]
    },
    {
      "cell_type": "code",
      "metadata": {
        "id": "7Kjv46cHAjQU"
      },
      "source": [
        "sucesion[3:]"
      ],
      "execution_count": null,
      "outputs": []
    },
    {
      "cell_type": "code",
      "metadata": {
        "id": "Go2_-2nBAp3x"
      },
      "source": [
        "sucesion[-2:]"
      ],
      "execution_count": null,
      "outputs": []
    },
    {
      "cell_type": "code",
      "metadata": {
        "id": "cnQ0xi6dAs0h"
      },
      "source": [
        "sucesion[:-3]"
      ],
      "execution_count": null,
      "outputs": []
    },
    {
      "cell_type": "code",
      "metadata": {
        "id": "KJW8gRxnA65u"
      },
      "source": [
        "sucesion[:]"
      ],
      "execution_count": null,
      "outputs": []
    },
    {
      "cell_type": "markdown",
      "metadata": {
        "id": "rk1dnS7jAvlu"
      },
      "source": [
        "Podemos saltarnos algunos elementos en el conteo agregando otros dos puntos al final del slice e indicando el tamaño del salto"
      ]
    },
    {
      "cell_type": "code",
      "metadata": {
        "id": "-BKP0pAZBK1B"
      },
      "source": [
        "# Todos los pares considerando al cero\n",
        "sucesion[::2]"
      ],
      "execution_count": null,
      "outputs": []
    },
    {
      "cell_type": "code",
      "metadata": {
        "id": "jWk1Fh4uBQMu"
      },
      "source": [
        "# Lista invertida\n",
        "sucesion[::-1]"
      ],
      "execution_count": null,
      "outputs": []
    },
    {
      "cell_type": "code",
      "metadata": {
        "id": "NiTzTA6bBXct"
      },
      "source": [
        "# Del segundo elemento al penúltimo de dos en dos\n",
        "sucesion[1:-2:2]"
      ],
      "execution_count": null,
      "outputs": []
    },
    {
      "cell_type": "code",
      "metadata": {
        "id": "ihjEMN6wBlJk"
      },
      "source": [
        "# Ahora de tres en tres de derecha a izquierda\n",
        "sucesion[::-3]"
      ],
      "execution_count": null,
      "outputs": []
    },
    {
      "cell_type": "markdown",
      "metadata": {
        "id": "40YgW0DyCZUU"
      },
      "source": [
        "### Encontrar indices de los objetos"
      ]
    },
    {
      "cell_type": "markdown",
      "metadata": {
        "id": "OAoaY4R1Cdqk"
      },
      "source": [
        "Se puede usar ```list.index()``` para encontrar el indice de algún elemento en la lista."
      ]
    },
    {
      "cell_type": "code",
      "metadata": {
        "colab": {
          "base_uri": "https://localhost:8080/"
        },
        "id": "VuR87ndTCn0e",
        "outputId": "212c046a-f7cb-4538-a104-c88ab049c0e5"
      },
      "source": [
        "print(lista_mixta)\n",
        "lista_mixta.index('Avión')"
      ],
      "execution_count": null,
      "outputs": [
        {
          "output_type": "stream",
          "name": "stdout",
          "text": [
            "['Juan', 23, 54, 23, False, 'Avión']\n"
          ]
        },
        {
          "output_type": "execute_result",
          "data": {
            "text/plain": [
              "5"
            ]
          },
          "metadata": {},
          "execution_count": 101
        }
      ]
    },
    {
      "cell_type": "markdown",
      "metadata": {
        "id": "509IUeqKB-Wz"
      },
      "source": [
        "### Operaciones\n"
      ]
    },
    {
      "cell_type": "markdown",
      "metadata": {
        "id": "R4yGJklsCAZr"
      },
      "source": [
        "Se pueden **concaternar** listas"
      ]
    },
    {
      "cell_type": "code",
      "metadata": {
        "colab": {
          "base_uri": "https://localhost:8080/"
        },
        "id": "8vJAfU8CCExC",
        "outputId": "99329e1d-af7e-4e6a-ce89-2b5138e0c722"
      },
      "source": [
        "a = [1, 2, 3]\n",
        "b = [4, 5, 6]\n",
        "\n",
        "a + b"
      ],
      "execution_count": null,
      "outputs": [
        {
          "output_type": "execute_result",
          "data": {
            "text/plain": [
              "[1, 2, 3, 4, 5, 6]"
            ]
          },
          "metadata": {},
          "execution_count": 110
        }
      ]
    },
    {
      "cell_type": "markdown",
      "metadata": {
        "id": "SGlm-LFJC5Qa"
      },
      "source": [
        "**Agregar elementos** a lista existente"
      ]
    },
    {
      "cell_type": "code",
      "metadata": {
        "colab": {
          "base_uri": "https://localhost:8080/"
        },
        "id": "haFXy98sC-Re",
        "outputId": "0f4d45fa-713d-4e0e-b57a-ac8ef4560932"
      },
      "source": [
        "a.append(40)\n",
        "a"
      ],
      "execution_count": null,
      "outputs": [
        {
          "output_type": "execute_result",
          "data": {
            "text/plain": [
              "[1, 2, 3, 40]"
            ]
          },
          "metadata": {},
          "execution_count": 111
        }
      ]
    },
    {
      "cell_type": "markdown",
      "metadata": {
        "id": "wqSjIo6eDCBO"
      },
      "source": [
        "**Eliminar elementos**"
      ]
    },
    {
      "cell_type": "code",
      "metadata": {
        "colab": {
          "base_uri": "https://localhost:8080/"
        },
        "id": "ZYF0Gl8kDGtb",
        "outputId": "05248c1c-99fd-4690-c125-d47863d2fcac"
      },
      "source": [
        "# Elimina el elemento en el indice 2 de la lista\n",
        "a.pop(2)\n",
        "print(a)"
      ],
      "execution_count": null,
      "outputs": [
        {
          "output_type": "stream",
          "name": "stdout",
          "text": [
            "[1, 2, 40]\n"
          ]
        }
      ]
    },
    {
      "cell_type": "markdown",
      "metadata": {
        "id": "uJRlAuHgNFk6"
      },
      "source": [
        "Ordenar de menor a mayor\n"
      ]
    },
    {
      "cell_type": "code",
      "metadata": {
        "id": "1vFmWo8DNIGE",
        "colab": {
          "base_uri": "https://localhost:8080/"
        },
        "outputId": "4b51d9f8-da25-4912-9ec0-e96cbb672efd"
      },
      "source": [
        "lista = [4,2,5,7,3,8]\n",
        "lista.sort()\n",
        "lista"
      ],
      "execution_count": null,
      "outputs": [
        {
          "output_type": "execute_result",
          "data": {
            "text/plain": [
              "[2, 3, 4, 5, 7, 8]"
            ]
          },
          "metadata": {},
          "execution_count": 167
        }
      ]
    },
    {
      "cell_type": "code",
      "metadata": {
        "colab": {
          "base_uri": "https://localhost:8080/",
          "height": 205
        },
        "id": "mogMgwxJV__d",
        "outputId": "a5e6c668-2c90-4a00-8670-700440f0f79e"
      },
      "source": [
        "lista = ['a', 'c', 'b', 3, 2, 7]\n",
        "lista.sort()\n",
        "lista"
      ],
      "execution_count": 44,
      "outputs": [
        {
          "output_type": "error",
          "ename": "TypeError",
          "evalue": "ignored",
          "traceback": [
            "\u001b[0;31m---------------------------------------------------------------------------\u001b[0m",
            "\u001b[0;31mTypeError\u001b[0m                                 Traceback (most recent call last)",
            "\u001b[0;32m<ipython-input-44-5846f8a9e0e1>\u001b[0m in \u001b[0;36m<module>\u001b[0;34m()\u001b[0m\n\u001b[1;32m      1\u001b[0m \u001b[0mlista\u001b[0m \u001b[0;34m=\u001b[0m \u001b[0;34m[\u001b[0m\u001b[0;34m'a'\u001b[0m\u001b[0;34m,\u001b[0m \u001b[0;34m'c'\u001b[0m\u001b[0;34m,\u001b[0m \u001b[0;34m'b'\u001b[0m\u001b[0;34m,\u001b[0m \u001b[0;36m3\u001b[0m\u001b[0;34m,\u001b[0m \u001b[0;36m2\u001b[0m\u001b[0;34m,\u001b[0m \u001b[0;36m7\u001b[0m\u001b[0;34m]\u001b[0m\u001b[0;34m\u001b[0m\u001b[0;34m\u001b[0m\u001b[0m\n\u001b[0;32m----> 2\u001b[0;31m \u001b[0mlista\u001b[0m\u001b[0;34m.\u001b[0m\u001b[0msort\u001b[0m\u001b[0;34m(\u001b[0m\u001b[0;34m)\u001b[0m\u001b[0;34m\u001b[0m\u001b[0;34m\u001b[0m\u001b[0m\n\u001b[0m\u001b[1;32m      3\u001b[0m \u001b[0mlista\u001b[0m\u001b[0;34m\u001b[0m\u001b[0;34m\u001b[0m\u001b[0m\n",
            "\u001b[0;31mTypeError\u001b[0m: '<' not supported between instances of 'int' and 'str'"
          ]
        }
      ]
    },
    {
      "cell_type": "markdown",
      "metadata": {
        "id": "jKLQPsF_NPVx"
      },
      "source": [
        "Ordenar de mayor a menor"
      ]
    },
    {
      "cell_type": "code",
      "metadata": {
        "colab": {
          "base_uri": "https://localhost:8080/"
        },
        "id": "0WMgElyRNQj7",
        "outputId": "45d3054a-d001-43e8-99c1-8fe73f541fbc"
      },
      "source": [
        "lista = [4,2,5,7,3,8]\n",
        "lista.sort(reverse = True)\n",
        "lista"
      ],
      "execution_count": null,
      "outputs": [
        {
          "output_type": "execute_result",
          "data": {
            "text/plain": [
              "[8, 7, 5, 4, 3, 2]"
            ]
          },
          "metadata": {},
          "execution_count": 170
        }
      ]
    },
    {
      "cell_type": "markdown",
      "metadata": {
        "id": "_qWTVkUnBuyv"
      },
      "source": [
        "### Texto como lista de carácteres"
      ]
    },
    {
      "cell_type": "markdown",
      "metadata": {
        "id": "Ow0nlYt9ByeQ"
      },
      "source": [
        "Una cadena de texto se puede ver como una lista de caracteres. Es decir, podemos ocupar las mismas operaciones que para la listas"
      ]
    },
    {
      "cell_type": "code",
      "metadata": {
        "colab": {
          "base_uri": "https://localhost:8080/",
          "height": 53
        },
        "id": "4GWo9h46D3V7",
        "outputId": "516ffb3f-23bc-4d49-d15d-32e1248f1d9d"
      },
      "source": [
        "print(texto)\n",
        "texto[2]"
      ],
      "execution_count": null,
      "outputs": [
        {
          "output_type": "stream",
          "name": "stdout",
          "text": [
            "Esta, cadena, la, separaré, por, comas\n"
          ]
        },
        {
          "output_type": "execute_result",
          "data": {
            "application/vnd.google.colaboratory.intrinsic+json": {
              "type": "string"
            },
            "text/plain": [
              "'t'"
            ]
          },
          "metadata": {},
          "execution_count": 117
        }
      ]
    },
    {
      "cell_type": "code",
      "metadata": {
        "colab": {
          "base_uri": "https://localhost:8080/"
        },
        "id": "WMycgkOHD9d3",
        "outputId": "24e0275f-1360-4726-fa39-ccf4c665afd5"
      },
      "source": [
        "print(texto[:10])\n",
        "len(texto[:10])"
      ],
      "execution_count": 46,
      "outputs": [
        {
          "output_type": "stream",
          "name": "stdout",
          "text": [
            "Esta varia\n"
          ]
        },
        {
          "output_type": "execute_result",
          "data": {
            "text/plain": [
              "10"
            ]
          },
          "metadata": {},
          "execution_count": 46
        }
      ]
    },
    {
      "cell_type": "code",
      "metadata": {
        "colab": {
          "base_uri": "https://localhost:8080/",
          "height": 35
        },
        "id": "-ZyjBf3WEAKx",
        "outputId": "467418d0-5be1-4d52-c7c3-53ddfcb7b294"
      },
      "source": [
        "texto[-3:]"
      ],
      "execution_count": null,
      "outputs": [
        {
          "output_type": "execute_result",
          "data": {
            "application/vnd.google.colaboratory.intrinsic+json": {
              "type": "string"
            },
            "text/plain": [
              "'mas'"
            ]
          },
          "metadata": {},
          "execution_count": 120
        }
      ]
    },
    {
      "cell_type": "code",
      "metadata": {
        "colab": {
          "base_uri": "https://localhost:8080/",
          "height": 35
        },
        "id": "1EIjx3zwWePn",
        "outputId": "81d058ec-06f7-406e-e3dd-6f50b4f082b5"
      },
      "source": [
        "texto[::2]"
      ],
      "execution_count": 47,
      "outputs": [
        {
          "output_type": "execute_result",
          "data": {
            "application/vnd.google.colaboratory.intrinsic+json": {
              "type": "string"
            },
            "text/plain": [
              "'Et aiben'"
            ]
          },
          "metadata": {},
          "execution_count": 47
        }
      ]
    },
    {
      "cell_type": "markdown",
      "metadata": {
        "id": "BgYAOfC_MqUe"
      },
      "source": [
        "### Conjuntos\n",
        "Un conjunto es como una lista, pero sólo tiene elementos únicos"
      ]
    },
    {
      "cell_type": "code",
      "metadata": {
        "colab": {
          "base_uri": "https://localhost:8080/"
        },
        "id": "FQ-HR16SMsEz",
        "outputId": "c48817d8-5bb9-429d-d5b2-69733e3c7c14"
      },
      "source": [
        "{1, 2, 2, 3, 4}"
      ],
      "execution_count": null,
      "outputs": [
        {
          "output_type": "execute_result",
          "data": {
            "text/plain": [
              "{1, 2, 3, 4}"
            ]
          },
          "metadata": {},
          "execution_count": 160
        }
      ]
    },
    {
      "cell_type": "code",
      "metadata": {
        "colab": {
          "base_uri": "https://localhost:8080/"
        },
        "id": "T_eS8bWGWzq4",
        "outputId": "06b1c461-2fd5-4b5e-ac3c-3703feee6bf3"
      },
      "source": [
        "set(['a', 'b', 't', 'c', 't'])"
      ],
      "execution_count": 48,
      "outputs": [
        {
          "output_type": "execute_result",
          "data": {
            "text/plain": [
              "{'a', 'b', 'c', 't'}"
            ]
          },
          "metadata": {},
          "execution_count": 48
        }
      ]
    },
    {
      "cell_type": "markdown",
      "metadata": {
        "id": "z5T_jxraM0un"
      },
      "source": [
        "Se puede obtener una lista con elementos únicos si se transforma a un conjunto y luego se regresa a una lista."
      ]
    },
    {
      "cell_type": "code",
      "metadata": {
        "colab": {
          "base_uri": "https://localhost:8080/"
        },
        "id": "JUsKDOYQM7bI",
        "outputId": "12ecf372-1cca-495f-a098-b1477f58d89f"
      },
      "source": [
        "lista = [1, 2, 3, 3, 3, 3]\n",
        "lista"
      ],
      "execution_count": null,
      "outputs": [
        {
          "output_type": "execute_result",
          "data": {
            "text/plain": [
              "[1, 2, 3, 3, 3, 3]"
            ]
          },
          "metadata": {},
          "execution_count": 161
        }
      ]
    },
    {
      "cell_type": "code",
      "metadata": {
        "colab": {
          "base_uri": "https://localhost:8080/"
        },
        "id": "YbIlnyRgM_PO",
        "outputId": "8d4b76b2-f888-4c67-a6b9-bb7cabe45ef5"
      },
      "source": [
        "lista = list(set(lista))\n",
        "lista"
      ],
      "execution_count": null,
      "outputs": [
        {
          "output_type": "execute_result",
          "data": {
            "text/plain": [
              "[1, 2, 3]"
            ]
          },
          "metadata": {},
          "execution_count": 163
        }
      ]
    },
    {
      "cell_type": "markdown",
      "metadata": {
        "id": "ThYaXcgfUuRa"
      },
      "source": [
        "## Diccionarios\n"
      ]
    },
    {
      "cell_type": "markdown",
      "metadata": {
        "id": "ZoQ0bXcAEGYu"
      },
      "source": [
        "Un diccionario es un conjunto de pares de la forma ```key: value```. En la que key es una cadena y value puede ser cualquier tipo de dato. Es muy parecido a un ```json```."
      ]
    },
    {
      "cell_type": "code",
      "metadata": {
        "colab": {
          "base_uri": "https://localhost:8080/"
        },
        "id": "2eRmGzV2ELuq",
        "outputId": "5407a662-b206-44d5-9613-47e0cbea398b"
      },
      "source": [
        "datos = {\n",
        "    \"nombre\": \"Joe Doe\", \n",
        "    \"carrera\": 'Veterinaria', \n",
        "    \"sueldo\": 30000, \n",
        "    \"es_casado\": False, \n",
        "    \"hijos\": [\n",
        "              {\"nombre\": \"Jonh Doe\", \"edad\": 5}, \n",
        "              {\"nombre\": \"Jenny Doe\", \"edad\": 3}\n",
        "              ]\n",
        "}\n",
        "\n",
        "\n",
        "datos"
      ],
      "execution_count": 50,
      "outputs": [
        {
          "output_type": "execute_result",
          "data": {
            "text/plain": [
              "{'carrera': 'Veterinaria',\n",
              " 'es_casado': False,\n",
              " 'hijos': [{'edad': 5, 'nombre': 'Jonh Doe'},\n",
              "  {'edad': 3, 'nombre': 'Jenny Doe'}],\n",
              " 'nombre': 'Joe Doe',\n",
              " 'sueldo': 30000}"
            ]
          },
          "metadata": {},
          "execution_count": 50
        }
      ]
    },
    {
      "cell_type": "code",
      "metadata": {
        "colab": {
          "base_uri": "https://localhost:8080/"
        },
        "id": "W_W_2y2nEhbt",
        "outputId": "1591a344-db03-4dcb-89fe-0d4c83c5e2c5"
      },
      "source": [
        "datos['es_casado']"
      ],
      "execution_count": 51,
      "outputs": [
        {
          "output_type": "execute_result",
          "data": {
            "text/plain": [
              "False"
            ]
          },
          "metadata": {},
          "execution_count": 51
        }
      ]
    },
    {
      "cell_type": "code",
      "metadata": {
        "colab": {
          "base_uri": "https://localhost:8080/"
        },
        "id": "J3_OGktpE26I",
        "outputId": "86af50db-7fe5-46cf-9305-3ffe880c9277"
      },
      "source": [
        "datos['hijos']"
      ],
      "execution_count": 52,
      "outputs": [
        {
          "output_type": "execute_result",
          "data": {
            "text/plain": [
              "[{'edad': 5, 'nombre': 'Jonh Doe'}, {'edad': 3, 'nombre': 'Jenny Doe'}]"
            ]
          },
          "metadata": {},
          "execution_count": 52
        }
      ]
    },
    {
      "cell_type": "code",
      "metadata": {
        "colab": {
          "base_uri": "https://localhost:8080/"
        },
        "id": "mwAq0j6dFQg1",
        "outputId": "3200983f-ef74-4514-8dc7-274d90cc237d"
      },
      "source": [
        "# ¿Cuántos hijos tiene?\n",
        "print(type(datos['hijos']))\n",
        "len(datos['hijos'])"
      ],
      "execution_count": 53,
      "outputs": [
        {
          "output_type": "stream",
          "name": "stdout",
          "text": [
            "<class 'list'>\n"
          ]
        },
        {
          "output_type": "execute_result",
          "data": {
            "text/plain": [
              "2"
            ]
          },
          "metadata": {},
          "execution_count": 53
        }
      ]
    },
    {
      "cell_type": "markdown",
      "metadata": {
        "id": "4JRf2zNWGFuo"
      },
      "source": [
        "Se pueden ver todas las llaves que tiene el diccionario usando ```keys()```"
      ]
    },
    {
      "cell_type": "code",
      "metadata": {
        "colab": {
          "base_uri": "https://localhost:8080/"
        },
        "id": "AnDuQg1-GK4O",
        "outputId": "2bb8bbc3-9ce4-46a0-8739-c401b93ca042"
      },
      "source": [
        "datos.keys()"
      ],
      "execution_count": 54,
      "outputs": [
        {
          "output_type": "execute_result",
          "data": {
            "text/plain": [
              "dict_keys(['nombre', 'carrera', 'sueldo', 'es_casado', 'hijos'])"
            ]
          },
          "metadata": {},
          "execution_count": 54
        }
      ]
    },
    {
      "cell_type": "code",
      "metadata": {
        "colab": {
          "base_uri": "https://localhost:8080/"
        },
        "id": "vL_0mQ1sYAgp",
        "outputId": "e059b9e4-205f-4913-8d67-4c7880d159ac"
      },
      "source": [
        "datos.values()"
      ],
      "execution_count": 55,
      "outputs": [
        {
          "output_type": "execute_result",
          "data": {
            "text/plain": [
              "dict_values(['Joe Doe', 'Veterinaria', 30000, False, [{'nombre': 'Jonh Doe', 'edad': 5}, {'nombre': 'Jenny Doe', 'edad': 3}]])"
            ]
          },
          "metadata": {},
          "execution_count": 55
        }
      ]
    },
    {
      "cell_type": "code",
      "metadata": {
        "id": "BzHYsB3pZjBg"
      },
      "source": [
        "# mi_lista = [1, \n",
        "#             2, \n",
        "#             3, \n",
        "#             4, \n",
        "#             5, \n",
        "#             6, \n",
        "#             3, 34, \n",
        "#             456, 57,6, 67,8, 786, 9789,0, 89,\n",
        "#             0]\n",
        "# mi_lista"
      ],
      "execution_count": null,
      "outputs": []
    },
    {
      "cell_type": "code",
      "metadata": {
        "id": "EYhaws6wYLhO"
      },
      "source": [
        "contactos = [\n",
        "             {\n",
        "                 \"nombre\": \"A\", \n",
        "                \"telefono\": 2121\n",
        "             }, {\n",
        "                 \"nombre\": \"B\", \n",
        "                 \"email\": 'email@asdf.c'\n",
        "             }\n",
        "]"
      ],
      "execution_count": 56,
      "outputs": []
    },
    {
      "cell_type": "code",
      "metadata": {
        "colab": {
          "base_uri": "https://localhost:8080/"
        },
        "id": "k1ZKmKkKYaq4",
        "outputId": "5297910b-1dc2-421f-879d-2951e028d066"
      },
      "source": [
        "len(contactos)"
      ],
      "execution_count": 57,
      "outputs": [
        {
          "output_type": "execute_result",
          "data": {
            "text/plain": [
              "2"
            ]
          },
          "metadata": {},
          "execution_count": 57
        }
      ]
    },
    {
      "cell_type": "code",
      "metadata": {
        "colab": {
          "base_uri": "https://localhost:8080/"
        },
        "id": "2NvqSkJpYdPc",
        "outputId": "0f8c6b2a-8317-4063-f24c-51fe86419e56"
      },
      "source": [
        "contactos[0]"
      ],
      "execution_count": 58,
      "outputs": [
        {
          "output_type": "execute_result",
          "data": {
            "text/plain": [
              "{'nombre': 'A', 'telefono': 2121}"
            ]
          },
          "metadata": {},
          "execution_count": 58
        }
      ]
    },
    {
      "cell_type": "code",
      "metadata": {
        "colab": {
          "base_uri": "https://localhost:8080/",
          "height": 35
        },
        "id": "g4kUVNgDYhYu",
        "outputId": "f25567b8-6126-4278-b45b-df4725869f43"
      },
      "source": [
        "contactos[0]['nombre']"
      ],
      "execution_count": 59,
      "outputs": [
        {
          "output_type": "execute_result",
          "data": {
            "application/vnd.google.colaboratory.intrinsic+json": {
              "type": "string"
            },
            "text/plain": [
              "'A'"
            ]
          },
          "metadata": {},
          "execution_count": 59
        }
      ]
    },
    {
      "cell_type": "code",
      "metadata": {
        "colab": {
          "base_uri": "https://localhost:8080/"
        },
        "id": "Xye_mm36YqF_",
        "outputId": "f75c7dde-1f2a-4290-b1fa-b62b00b43ba2"
      },
      "source": [
        "datos['hijos']"
      ],
      "execution_count": 60,
      "outputs": [
        {
          "output_type": "execute_result",
          "data": {
            "text/plain": [
              "[{'edad': 5, 'nombre': 'Jonh Doe'}, {'edad': 3, 'nombre': 'Jenny Doe'}]"
            ]
          },
          "metadata": {},
          "execution_count": 60
        }
      ]
    },
    {
      "cell_type": "code",
      "metadata": {
        "colab": {
          "base_uri": "https://localhost:8080/"
        },
        "id": "b3ay4f8sYv0N",
        "outputId": "d905cc1f-c23a-4309-ffce-eb7323f598d7"
      },
      "source": [
        "datos['hijos'][0]"
      ],
      "execution_count": 61,
      "outputs": [
        {
          "output_type": "execute_result",
          "data": {
            "text/plain": [
              "{'edad': 5, 'nombre': 'Jonh Doe'}"
            ]
          },
          "metadata": {},
          "execution_count": 61
        }
      ]
    },
    {
      "cell_type": "code",
      "metadata": {
        "colab": {
          "base_uri": "https://localhost:8080/"
        },
        "id": "G7TfAiCTYywq",
        "outputId": "28078db3-c8cd-4105-ba85-0489dc78d21c"
      },
      "source": [
        "datos['hijos'][0]['edad']"
      ],
      "execution_count": 62,
      "outputs": [
        {
          "output_type": "execute_result",
          "data": {
            "text/plain": [
              "5"
            ]
          },
          "metadata": {},
          "execution_count": 62
        }
      ]
    },
    {
      "cell_type": "code",
      "metadata": {
        "colab": {
          "base_uri": "https://localhost:8080/"
        },
        "id": "55KtPpDPY87M",
        "outputId": "bd9198a9-71c7-4890-aa9d-0d324720c798"
      },
      "source": [
        "datos.keys()"
      ],
      "execution_count": 63,
      "outputs": [
        {
          "output_type": "execute_result",
          "data": {
            "text/plain": [
              "dict_keys(['nombre', 'carrera', 'sueldo', 'es_casado', 'hijos'])"
            ]
          },
          "metadata": {},
          "execution_count": 63
        }
      ]
    },
    {
      "cell_type": "code",
      "metadata": {
        "colab": {
          "base_uri": "https://localhost:8080/",
          "height": 170
        },
        "id": "yPy-SNIxZAI0",
        "outputId": "dcacd5ce-849d-413f-adf5-2f00b47da6d9"
      },
      "source": [
        "# datos['no_existo']"
      ],
      "execution_count": 64,
      "outputs": [
        {
          "output_type": "error",
          "ename": "KeyError",
          "evalue": "ignored",
          "traceback": [
            "\u001b[0;31m---------------------------------------------------------------------------\u001b[0m",
            "\u001b[0;31mKeyError\u001b[0m                                  Traceback (most recent call last)",
            "\u001b[0;32m<ipython-input-64-6fddf0245006>\u001b[0m in \u001b[0;36m<module>\u001b[0;34m()\u001b[0m\n\u001b[0;32m----> 1\u001b[0;31m \u001b[0mdatos\u001b[0m\u001b[0;34m[\u001b[0m\u001b[0;34m'no_existo'\u001b[0m\u001b[0;34m]\u001b[0m\u001b[0;34m\u001b[0m\u001b[0;34m\u001b[0m\u001b[0m\n\u001b[0m",
            "\u001b[0;31mKeyError\u001b[0m: 'no_existo'"
          ]
        }
      ]
    },
    {
      "cell_type": "code",
      "metadata": {
        "colab": {
          "base_uri": "https://localhost:8080/"
        },
        "id": "WQveDZPyZG0A",
        "outputId": "4cdb6a9e-0b08-4e66-8cf6-9b14d70683f6"
      },
      "source": [
        "aux_key = 'nombre'\n",
        "if aux_key in datos.keys():\n",
        "    print(datos[aux_key])"
      ],
      "execution_count": 66,
      "outputs": [
        {
          "output_type": "stream",
          "name": "stdout",
          "text": [
            "Joe Doe\n"
          ]
        }
      ]
    },
    {
      "cell_type": "markdown",
      "metadata": {
        "id": "CUsMMN5iyzjg"
      },
      "source": [
        "## Booleanos\n",
        "Los booleanos sólo pueden tener dos valores: ```True``` y ```False```. Sirven para comparar valores. ```True``` es igual a ```1``` y ```False``` a ```0```."
      ]
    },
    {
      "cell_type": "code",
      "metadata": {
        "colab": {
          "base_uri": "https://localhost:8080/"
        },
        "id": "gy-eRLjiaL3n",
        "outputId": "9eb0d551-88d1-4892-a8f8-2ae2dd92aafb"
      },
      "source": [
        "mi_primer_booleano = False\n",
        "mi_primer_booleano"
      ],
      "execution_count": 73,
      "outputs": [
        {
          "output_type": "execute_result",
          "data": {
            "text/plain": [
              "False"
            ]
          },
          "metadata": {},
          "execution_count": 73
        }
      ]
    },
    {
      "cell_type": "code",
      "metadata": {
        "colab": {
          "base_uri": "https://localhost:8080/"
        },
        "id": "pp3Z3Zf9KJwK",
        "outputId": "27ed6835-ed41-46b7-8252-edf95192a89e"
      },
      "source": [
        "# Revisar si valores son iguales\n",
        "3 == 4"
      ],
      "execution_count": 74,
      "outputs": [
        {
          "output_type": "execute_result",
          "data": {
            "text/plain": [
              "False"
            ]
          },
          "metadata": {},
          "execution_count": 74
        }
      ]
    },
    {
      "cell_type": "code",
      "metadata": {
        "colab": {
          "base_uri": "https://localhost:8080/"
        },
        "id": "ZyfnK7F9K4T1",
        "outputId": "450a6370-eeed-46b3-c1ce-9798860bc6b3"
      },
      "source": [
        "cadena = 'El cazo'\n",
        "cadena == 'sarten'"
      ],
      "execution_count": 75,
      "outputs": [
        {
          "output_type": "execute_result",
          "data": {
            "text/plain": [
              "False"
            ]
          },
          "metadata": {},
          "execution_count": 75
        }
      ]
    },
    {
      "cell_type": "code",
      "metadata": {
        "colab": {
          "base_uri": "https://localhost:8080/"
        },
        "id": "BDmiwCiVK9u3",
        "outputId": "5977fdd2-f539-48d3-ca90-90794fcc6b26"
      },
      "source": [
        "cadena == 'El cazo'"
      ],
      "execution_count": 76,
      "outputs": [
        {
          "output_type": "execute_result",
          "data": {
            "text/plain": [
              "True"
            ]
          },
          "metadata": {},
          "execution_count": 76
        }
      ]
    },
    {
      "cell_type": "code",
      "metadata": {
        "colab": {
          "base_uri": "https://localhost:8080/"
        },
        "id": "ovPfx1PGaeDv",
        "outputId": "1bb399b4-afc4-417d-9d2c-7a22d6c1a751"
      },
      "source": [
        "cadena == 'el cazo'"
      ],
      "execution_count": 77,
      "outputs": [
        {
          "output_type": "execute_result",
          "data": {
            "text/plain": [
              "False"
            ]
          },
          "metadata": {},
          "execution_count": 77
        }
      ]
    },
    {
      "cell_type": "code",
      "metadata": {
        "colab": {
          "base_uri": "https://localhost:8080/"
        },
        "id": "0sm9191vKQV3",
        "outputId": "ed945618-38fa-4baa-9a5b-b4b7bc03a4e6"
      },
      "source": [
        "var = False\n",
        "var == 0"
      ],
      "execution_count": null,
      "outputs": [
        {
          "output_type": "execute_result",
          "data": {
            "text/plain": [
              "True"
            ]
          },
          "metadata": {},
          "execution_count": 138
        }
      ]
    },
    {
      "cell_type": "code",
      "metadata": {
        "id": "byow0WzCMUAG"
      },
      "source": [
        "# Revisar si dos elementos son distintos"
      ],
      "execution_count": null,
      "outputs": []
    },
    {
      "cell_type": "code",
      "metadata": {
        "colab": {
          "base_uri": "https://localhost:8080/"
        },
        "id": "TdTmFGVyMYNQ",
        "outputId": "1f3bb32d-4f2d-447f-8acd-f977a9bb9e49"
      },
      "source": [
        "3 != 4"
      ],
      "execution_count": null,
      "outputs": [
        {
          "output_type": "execute_result",
          "data": {
            "text/plain": [
              "True"
            ]
          },
          "metadata": {},
          "execution_count": 158
        }
      ]
    },
    {
      "cell_type": "code",
      "metadata": {
        "colab": {
          "base_uri": "https://localhost:8080/"
        },
        "id": "AA39i75wMbJ9",
        "outputId": "9a204b49-913a-4a1d-8e18-4904a9ba75f9"
      },
      "source": [
        "print(cadena == 3)\n",
        "cadena != 3"
      ],
      "execution_count": null,
      "outputs": [
        {
          "output_type": "stream",
          "name": "stdout",
          "text": [
            "False\n"
          ]
        },
        {
          "output_type": "execute_result",
          "data": {
            "text/plain": [
              "True"
            ]
          },
          "metadata": {},
          "execution_count": 159
        }
      ]
    },
    {
      "cell_type": "code",
      "metadata": {
        "colab": {
          "base_uri": "https://localhost:8080/"
        },
        "id": "zDzcHGQ9KeXX",
        "outputId": "a467f2f2-208f-4f31-ab0e-c61b6dcc87ad"
      },
      "source": [
        "# Un número es mayor a otros\n",
        "n = 3\n",
        "n > 3"
      ],
      "execution_count": null,
      "outputs": [
        {
          "output_type": "execute_result",
          "data": {
            "text/plain": [
              "False"
            ]
          },
          "metadata": {},
          "execution_count": 140
        }
      ]
    },
    {
      "cell_type": "code",
      "metadata": {
        "colab": {
          "base_uri": "https://localhost:8080/"
        },
        "id": "tpB2_F5EKkGr",
        "outputId": "e1943904-e3da-48f8-f888-1d6f4d7630b6"
      },
      "source": [
        "# Mayor o igual\n",
        "n >= 3"
      ],
      "execution_count": null,
      "outputs": [
        {
          "output_type": "execute_result",
          "data": {
            "text/plain": [
              "True"
            ]
          },
          "metadata": {},
          "execution_count": 141
        }
      ]
    },
    {
      "cell_type": "code",
      "metadata": {
        "colab": {
          "base_uri": "https://localhost:8080/"
        },
        "id": "V4mbG4NZKqN5",
        "outputId": "bda768ea-9943-4fe8-b9c5-a971dc3ce1ff"
      },
      "source": [
        "# Menor y menor o igual\n",
        "print(n < 0)\n",
        "n <= 3"
      ],
      "execution_count": null,
      "outputs": [
        {
          "output_type": "stream",
          "name": "stdout",
          "text": [
            "False\n"
          ]
        },
        {
          "output_type": "execute_result",
          "data": {
            "text/plain": [
              "True"
            ]
          },
          "metadata": {},
          "execution_count": 143
        }
      ]
    },
    {
      "cell_type": "markdown",
      "metadata": {
        "id": "rUdaGTYLbdL7"
      },
      "source": [
        "Para comparar cadenas, se transofrma (automáticamente) el caracter a su valor ascii."
      ]
    },
    {
      "cell_type": "code",
      "metadata": {
        "colab": {
          "base_uri": "https://localhost:8080/"
        },
        "id": "qrIQ0JVLa3Pg",
        "outputId": "6d202a7d-35e7-4d27-b071-4e6be9c3fde4"
      },
      "source": [
        "'a' < 'b'"
      ],
      "execution_count": 78,
      "outputs": [
        {
          "output_type": "execute_result",
          "data": {
            "text/plain": [
              "True"
            ]
          },
          "metadata": {},
          "execution_count": 78
        }
      ]
    },
    {
      "cell_type": "code",
      "metadata": {
        "colab": {
          "base_uri": "https://localhost:8080/"
        },
        "id": "uAvQF38Oa7VR",
        "outputId": "87d6120e-343b-410c-fd15-d4feccea5750"
      },
      "source": [
        "'a' < 'C'"
      ],
      "execution_count": 83,
      "outputs": [
        {
          "output_type": "execute_result",
          "data": {
            "text/plain": [
              "False"
            ]
          },
          "metadata": {},
          "execution_count": 83
        }
      ]
    },
    {
      "cell_type": "code",
      "metadata": {
        "colab": {
          "base_uri": "https://localhost:8080/"
        },
        "id": "9G4vB6rwLarD",
        "outputId": "02d7a877-d146-43b0-e5fe-06911897ab67"
      },
      "source": [
        "# Revisar si un elemento está en una lista\n",
        "sucesion = list(range(10))\n",
        "print(sucesion)\n",
        "3 in sucesion"
      ],
      "execution_count": 84,
      "outputs": [
        {
          "output_type": "stream",
          "name": "stdout",
          "text": [
            "[0, 1, 2, 3, 4, 5, 6, 7, 8, 9]\n"
          ]
        },
        {
          "output_type": "execute_result",
          "data": {
            "text/plain": [
              "True"
            ]
          },
          "metadata": {},
          "execution_count": 84
        }
      ]
    },
    {
      "cell_type": "code",
      "metadata": {
        "colab": {
          "base_uri": "https://localhost:8080/"
        },
        "id": "wW-uy4bRLnqG",
        "outputId": "6e95b19f-5fa1-4bf5-e375-73959bfa4f7d"
      },
      "source": [
        "10 in sucesion"
      ],
      "execution_count": 85,
      "outputs": [
        {
          "output_type": "execute_result",
          "data": {
            "text/plain": [
              "False"
            ]
          },
          "metadata": {},
          "execution_count": 85
        }
      ]
    },
    {
      "cell_type": "code",
      "metadata": {
        "colab": {
          "base_uri": "https://localhost:8080/"
        },
        "id": "w2bEGOHHciad",
        "outputId": "a2887926-b9ac-477c-a25e-bb0a869b8908"
      },
      "source": [
        "type(10) is int"
      ],
      "execution_count": 89,
      "outputs": [
        {
          "output_type": "execute_result",
          "data": {
            "text/plain": [
              "True"
            ]
          },
          "metadata": {},
          "execution_count": 89
        }
      ]
    },
    {
      "cell_type": "code",
      "metadata": {
        "colab": {
          "base_uri": "https://localhost:8080/"
        },
        "id": "5H0YVyc-cqMY",
        "outputId": "b5146a03-d5e7-477b-9f16-c93471e2ebb8"
      },
      "source": [
        "type('asdfas') is int"
      ],
      "execution_count": 90,
      "outputs": [
        {
          "output_type": "execute_result",
          "data": {
            "text/plain": [
              "False"
            ]
          },
          "metadata": {},
          "execution_count": 90
        }
      ]
    },
    {
      "cell_type": "code",
      "metadata": {
        "colab": {
          "base_uri": "https://localhost:8080/"
        },
        "id": "VTWAx5rKcu2h",
        "outputId": "2adec90b-e6d6-4b7f-e4ec-601017e48aa6"
      },
      "source": [
        "type('asdfas') is str"
      ],
      "execution_count": 91,
      "outputs": [
        {
          "output_type": "execute_result",
          "data": {
            "text/plain": [
              "True"
            ]
          },
          "metadata": {},
          "execution_count": 91
        }
      ]
    },
    {
      "cell_type": "markdown",
      "metadata": {
        "id": "jCjbNMdoL2A7"
      },
      "source": [
        "El operador ```not``` cambia el valor del booleano\n"
      ]
    },
    {
      "cell_type": "code",
      "metadata": {
        "colab": {
          "base_uri": "https://localhost:8080/"
        },
        "id": "Ioz8TTKgL5Ur",
        "outputId": "6ed01db4-005e-4b26-d901-95a5e96b4340"
      },
      "source": [
        "not False"
      ],
      "execution_count": null,
      "outputs": [
        {
          "output_type": "execute_result",
          "data": {
            "text/plain": [
              "True"
            ]
          },
          "metadata": {},
          "execution_count": 153
        }
      ]
    },
    {
      "cell_type": "code",
      "metadata": {
        "colab": {
          "base_uri": "https://localhost:8080/"
        },
        "id": "izrswPRyLsx_",
        "outputId": "82218c3b-1498-4082-e8c4-8f78aa5018f4"
      },
      "source": [
        "not True"
      ],
      "execution_count": null,
      "outputs": [
        {
          "output_type": "execute_result",
          "data": {
            "text/plain": [
              "False"
            ]
          },
          "metadata": {},
          "execution_count": 154
        }
      ]
    },
    {
      "cell_type": "code",
      "metadata": {
        "colab": {
          "base_uri": "https://localhost:8080/"
        },
        "id": "UXb4n-mOL9RG",
        "outputId": "4e938590-1ffe-474b-dc25-090a65f4d300"
      },
      "source": [
        "# Revisa si un elemento no está en la lista\n",
        "10 not in sucesion"
      ],
      "execution_count": null,
      "outputs": [
        {
          "output_type": "execute_result",
          "data": {
            "text/plain": [
              "True"
            ]
          },
          "metadata": {},
          "execution_count": 155
        }
      ]
    },
    {
      "cell_type": "markdown",
      "metadata": {
        "id": "O3NiPmJzN2kJ"
      },
      "source": [
        "Para hacer múltiples comparaciones se pueden usar las palabras reservadas ```and```, ```or```. ```and``` regresa ```True``` si todas las condiciones se cumplen. ```or``` regresa ```True``` si al menos una se cumple."
      ]
    },
    {
      "cell_type": "code",
      "metadata": {
        "colab": {
          "base_uri": "https://localhost:8080/"
        },
        "id": "TjKUXzXqU754",
        "outputId": "3c29dfe9-0bfa-4386-e68b-aad25839e1ec"
      },
      "source": [
        "x = 10\n",
        "\n",
        "x > 15 and x < 5"
      ],
      "execution_count": null,
      "outputs": [
        {
          "output_type": "execute_result",
          "data": {
            "text/plain": [
              "False"
            ]
          },
          "metadata": {},
          "execution_count": 186
        }
      ]
    },
    {
      "cell_type": "code",
      "metadata": {
        "colab": {
          "base_uri": "https://localhost:8080/"
        },
        "id": "GKOZdYENcFo0",
        "outputId": "87137556-7c20-41cc-dfb6-a3064d6429d3"
      },
      "source": [
        "x = 20\n",
        "\n",
        "x > 15 or x < 5"
      ],
      "execution_count": 87,
      "outputs": [
        {
          "output_type": "execute_result",
          "data": {
            "text/plain": [
              "True"
            ]
          },
          "metadata": {},
          "execution_count": 87
        }
      ]
    },
    {
      "cell_type": "code",
      "metadata": {
        "colab": {
          "base_uri": "https://localhost:8080/"
        },
        "id": "LKMxB5zpVAQJ",
        "outputId": "518f0bf0-9c80-4006-c348-fc819b266aa8"
      },
      "source": [
        "y = 10\n",
        "texto = 'Texto muuuuuuuuuuuy largo'\n",
        "\n",
        "y < 100 and len(texto) > 5"
      ],
      "execution_count": null,
      "outputs": [
        {
          "output_type": "execute_result",
          "data": {
            "text/plain": [
              "True"
            ]
          },
          "metadata": {},
          "execution_count": 187
        }
      ]
    },
    {
      "cell_type": "code",
      "metadata": {
        "colab": {
          "base_uri": "https://localhost:8080/"
        },
        "id": "f7pC8MiAcUcd",
        "outputId": "3baf2da3-5623-4d3e-892f-ae0d65a6bc57"
      },
      "source": [
        "x = 4\n",
        "y = 'texto'\n",
        "z = [3, 4, 4, 6, 5]\n",
        "\n",
        "(x < 5 or type(y) is int) and len(z) > 3"
      ],
      "execution_count": 94,
      "outputs": [
        {
          "output_type": "execute_result",
          "data": {
            "text/plain": [
              "True"
            ]
          },
          "metadata": {},
          "execution_count": 94
        }
      ]
    },
    {
      "cell_type": "markdown",
      "metadata": {
        "id": "3C94ST3yU52Y"
      },
      "source": [
        "# Estructuras de control"
      ]
    },
    {
      "cell_type": "markdown",
      "metadata": {
        "id": "DgGmKdRQVG38"
      },
      "source": [
        "## Condicional: if, elif y else\n",
        "\n",
        "Sirven para ejecutar código si se cumple una o varias condiciones."
      ]
    },
    {
      "cell_type": "code",
      "metadata": {
        "colab": {
          "base_uri": "https://localhost:8080/"
        },
        "id": "BE3HMCArTxJ8",
        "outputId": "487e9ec9-cc84-455b-8db7-fe096c647d20"
      },
      "source": [
        "n = 3\n",
        "if type(n) is int:\n",
        "    print('n es un entero')\n",
        "    print('Esta otra linea')\n",
        "    print('Una más')\n",
        "else:\n",
        "    print('n no es entero')"
      ],
      "execution_count": 98,
      "outputs": [
        {
          "output_type": "stream",
          "name": "stdout",
          "text": [
            "n es un entero\n",
            "Esta otra linea\n"
          ]
        }
      ]
    },
    {
      "cell_type": "code",
      "metadata": {
        "id": "MWFC_tFtNvxr",
        "colab": {
          "base_uri": "https://localhost:8080/"
        },
        "outputId": "30f5f582-f924-497c-d01f-866d7e9cb893"
      },
      "source": [
        "n = 126\n",
        "if n == 7:\n",
        "    print(\"n es 7\")\n",
        "elif n > 90:\n",
        "    print('n es mayor a 90')\n",
        "elif n < 2:\n",
        "    print(\"n es menor a 2\")\n",
        "else:\n",
        "    print('ninguna de las condiciones anteriores se cumplió')"
      ],
      "execution_count": 100,
      "outputs": [
        {
          "output_type": "stream",
          "name": "stdout",
          "text": [
            "n es mayor a 90\n"
          ]
        }
      ]
    },
    {
      "cell_type": "code",
      "metadata": {
        "colab": {
          "base_uri": "https://localhost:8080/"
        },
        "id": "PFpIlQkretUq",
        "outputId": "6dda61fa-87d7-43f3-c7cc-b60b93cb166e"
      },
      "source": [
        "n = 4\n",
        "if n % 2 == 0:\n",
        "    print('n es par')\n",
        "else:\n",
        "    print('n es impar')"
      ],
      "execution_count": 103,
      "outputs": [
        {
          "output_type": "stream",
          "name": "stdout",
          "text": [
            "n es par\n"
          ]
        }
      ]
    },
    {
      "cell_type": "markdown",
      "metadata": {
        "id": "TM16aHYVYRi4"
      },
      "source": [
        "Es posible usar el condicional en una sóla linea de código con el llamado ```operador ternario```."
      ]
    },
    {
      "cell_type": "code",
      "metadata": {
        "colab": {
          "base_uri": "https://localhost:8080/",
          "height": 35
        },
        "id": "ONvced54YcGR",
        "outputId": "8db40113-de42-4873-df05-af733c7cfde6"
      },
      "source": [
        "condicion = False\n",
        "var = 'La condicion fue verdadera' if condicion else \"La condicion fue falsa\"\n",
        "var"
      ],
      "execution_count": 106,
      "outputs": [
        {
          "output_type": "execute_result",
          "data": {
            "application/vnd.google.colaboratory.intrinsic+json": {
              "type": "string"
            },
            "text/plain": [
              "'La condicion fue falsa'"
            ]
          },
          "metadata": {},
          "execution_count": 106
        }
      ]
    },
    {
      "cell_type": "code",
      "metadata": {
        "colab": {
          "base_uri": "https://localhost:8080/",
          "height": 35
        },
        "id": "oHkrMdUgfkhW",
        "outputId": "e924853f-6732-4f22-8c4d-00aa77a903db"
      },
      "source": [
        "condicion = False\n",
        "\n",
        "var = \"La condicion fue falsa\"\n",
        "if condicion:\n",
        "    var = 'La condicion fue verdadera'\n",
        "\n",
        "var"
      ],
      "execution_count": 109,
      "outputs": [
        {
          "output_type": "execute_result",
          "data": {
            "application/vnd.google.colaboratory.intrinsic+json": {
              "type": "string"
            },
            "text/plain": [
              "'La condicion fue falsa'"
            ]
          },
          "metadata": {},
          "execution_count": 109
        }
      ]
    },
    {
      "cell_type": "markdown",
      "metadata": {
        "id": "-0G_xuFYVMMs"
      },
      "source": [
        "## Ciclos\n"
      ]
    },
    {
      "cell_type": "markdown",
      "metadata": {
        "id": "n5xy5qH5UJfW"
      },
      "source": [
        "Los ciclos nos ayudan a hacer operaciones con variables ```iterables``` como las lista, los conjuntos, diccionarios, cadenas, etc.\n",
        "\n"
      ]
    },
    {
      "cell_type": "markdown",
      "metadata": {
        "id": "CEy9LsVbVPd-"
      },
      "source": [
        "### While\n",
        "\n",
        "El while se ejecuta hasta que se cumple una condición.\n",
        "\n",
        "Es importante notar que el ciclo **puede ejecutarse infinitamente** si la condición nunca se cumple."
      ]
    },
    {
      "cell_type": "code",
      "metadata": {
        "colab": {
          "base_uri": "https://localhost:8080/",
          "height": 134
        },
        "id": "5ASu7fKhUqKL",
        "outputId": "46099341-2bc6-4a96-8bb3-62d28f2f542d"
      },
      "source": [
        "i = 0\n",
        "while i < 10:\n",
        "    i += 1\n",
        "    print(i)"
      ],
      "execution_count": 110,
      "outputs": [
        {
          "output_type": "error",
          "ename": "IndentationError",
          "evalue": "ignored",
          "traceback": [
            "\u001b[0;36m  File \u001b[0;32m\"<ipython-input-110-4d90a40680c0>\"\u001b[0;36m, line \u001b[0;32m4\u001b[0m\n\u001b[0;31m    print(i)\u001b[0m\n\u001b[0m            ^\u001b[0m\n\u001b[0;31mIndentationError\u001b[0m\u001b[0;31m:\u001b[0m unindent does not match any outer indentation level\n"
          ]
        }
      ]
    },
    {
      "cell_type": "code",
      "metadata": {
        "colab": {
          "base_uri": "https://localhost:8080/"
        },
        "id": "t-7Pvzs0XLSx",
        "outputId": "440ff135-0ae6-4d8d-d6ae-25d34b07db73"
      },
      "source": [
        "# Obtiene los enteros del 1 al n, hasta que su suma sea mayor a 100\n",
        "enteros = []\n",
        "i = 1\n",
        "suma = 0\n",
        "while suma <= 100:\n",
        "    enteros.append(i)\n",
        "    suma += i\n",
        "    i+=1\n",
        "\n",
        "print(enteros)\n",
        "print(suma)"
      ],
      "execution_count": null,
      "outputs": [
        {
          "output_type": "stream",
          "name": "stdout",
          "text": [
            "[1, 2, 3, 4, 5, 6, 7, 8, 9, 10, 11, 12, 13, 14]\n",
            "105\n"
          ]
        }
      ]
    },
    {
      "cell_type": "code",
      "metadata": {
        "colab": {
          "base_uri": "https://localhost:8080/"
        },
        "id": "Vw0fCN0ZjuA0",
        "outputId": "8f6ce631-1b15-4ce9-b706-15ce3067efe9"
      },
      "source": [
        "a = (2, 5)\n",
        "a"
      ],
      "execution_count": 114,
      "outputs": [
        {
          "output_type": "execute_result",
          "data": {
            "text/plain": [
              "(2, 5)"
            ]
          },
          "metadata": {},
          "execution_count": 114
        }
      ]
    },
    {
      "cell_type": "code",
      "metadata": {
        "colab": {
          "base_uri": "https://localhost:8080/"
        },
        "id": "bBlrsOxcj9Xd",
        "outputId": "156f16e0-ead7-451c-a955-bb41a9cbdfb6"
      },
      "source": [
        "b = a[0]\n",
        "c = a[1]\n",
        "print(b)"
      ],
      "execution_count": 116,
      "outputs": [
        {
          "output_type": "stream",
          "name": "stdout",
          "text": [
            "2\n"
          ]
        }
      ]
    },
    {
      "cell_type": "code",
      "metadata": {
        "colab": {
          "base_uri": "https://localhost:8080/"
        },
        "id": "RQSyUjddjzfK",
        "outputId": "a96f96fc-fe7b-4af9-bcd9-e1c89cdb1f47"
      },
      "source": [
        "b, c  = (2, 5)\n",
        "b"
      ],
      "execution_count": 118,
      "outputs": [
        {
          "output_type": "execute_result",
          "data": {
            "text/plain": [
              "2"
            ]
          },
          "metadata": {},
          "execution_count": 118
        }
      ]
    },
    {
      "cell_type": "code",
      "metadata": {
        "colab": {
          "base_uri": "https://localhost:8080/"
        },
        "id": "13nQYTgrkMVS",
        "outputId": "4e996c32-d7b6-41cd-841e-50a4c0dc005e"
      },
      "source": [
        "b, _  = (2, 5)\n",
        "b"
      ],
      "execution_count": 119,
      "outputs": [
        {
          "output_type": "execute_result",
          "data": {
            "text/plain": [
              "2"
            ]
          },
          "metadata": {},
          "execution_count": 119
        }
      ]
    },
    {
      "cell_type": "code",
      "metadata": {
        "colab": {
          "base_uri": "https://localhost:8080/"
        },
        "id": "0kkhkXIIX5Do",
        "outputId": "cc8da8ee-76d5-4db3-cd8b-8d936783cfe1"
      },
      "source": [
        "# Secuencia de fibonacci\n",
        "a, b = 0, 1          \n",
        "\n",
        "secuencia = []\n",
        "\n",
        "while a < 1000:     \n",
        "  secuencia.append(a)\n",
        "  a, b = b, a + b\n",
        "\n",
        "secuencia"
      ],
      "execution_count": null,
      "outputs": [
        {
          "output_type": "execute_result",
          "data": {
            "text/plain": [
              "[0, 1, 1, 2, 3, 5, 8, 13, 21, 34, 55, 89, 144, 233, 377, 610, 987]"
            ]
          },
          "metadata": {},
          "execution_count": 206
        }
      ]
    },
    {
      "cell_type": "markdown",
      "metadata": {
        "id": "UMgBjqnpVMCe"
      },
      "source": [
        "### For\n",
        "\n",
        "Ejecuta el ciclo para cada elemento en un iterable\n",
        "\n"
      ]
    },
    {
      "cell_type": "code",
      "metadata": {
        "colab": {
          "base_uri": "https://localhost:8080/"
        },
        "id": "1fqubTdSVmpc",
        "outputId": "77e22a68-37bb-4dca-8499-654d29c25d31"
      },
      "source": [
        "for i in range(10):\n",
        "    print(i + 2)"
      ],
      "execution_count": null,
      "outputs": [
        {
          "output_type": "stream",
          "name": "stdout",
          "text": [
            "2\n",
            "3\n",
            "4\n",
            "5\n",
            "6\n",
            "7\n",
            "8\n",
            "9\n",
            "10\n",
            "11\n"
          ]
        }
      ]
    },
    {
      "cell_type": "code",
      "metadata": {
        "colab": {
          "base_uri": "https://localhost:8080/"
        },
        "id": "LSsyIjm0V_rh",
        "outputId": "cf8fe2d6-2fd2-4713-eae2-a8683609f9a2"
      },
      "source": [
        "texto = 'Esta es una cadena'\n",
        "\n",
        "for i in texto:\n",
        "    print(i)"
      ],
      "execution_count": null,
      "outputs": [
        {
          "output_type": "stream",
          "name": "stdout",
          "text": [
            "E\n",
            "s\n",
            "t\n",
            "a\n",
            " \n",
            "e\n",
            "s\n",
            " \n",
            "u\n",
            "n\n",
            "a\n",
            " \n",
            "c\n",
            "a\n",
            "d\n",
            "e\n",
            "n\n",
            "a\n"
          ]
        }
      ]
    },
    {
      "cell_type": "code",
      "metadata": {
        "colab": {
          "base_uri": "https://localhost:8080/"
        },
        "id": "srGJ-GtFWHEP",
        "outputId": "989e9ffa-1fda-4d73-dc15-30755ee7de56"
      },
      "source": [
        "lista = [10, 4, 6, 2, 'teclado', True]\n",
        "for el in lista:\n",
        "    print(el)"
      ],
      "execution_count": null,
      "outputs": [
        {
          "output_type": "stream",
          "name": "stdout",
          "text": [
            "10\n",
            "4\n",
            "6\n",
            "2\n",
            "teclado\n",
            "True\n"
          ]
        }
      ]
    },
    {
      "cell_type": "code",
      "metadata": {
        "colab": {
          "base_uri": "https://localhost:8080/"
        },
        "id": "4pJQvdV1WNKh",
        "outputId": "b5c97ea2-bab2-4815-fff5-7c14808fd1fc"
      },
      "source": [
        "for palabra in texto.split(' '):\n",
        "    print(palabra)"
      ],
      "execution_count": null,
      "outputs": [
        {
          "output_type": "stream",
          "name": "stdout",
          "text": [
            "Esta\n",
            "es\n",
            "una\n",
            "cadena\n"
          ]
        }
      ]
    },
    {
      "cell_type": "markdown",
      "metadata": {
        "id": "-glygCGaVPZG"
      },
      "source": [
        "### List Comprehension\n",
        "\n",
        "List comprehension sirve para crear una nueva lista al pasar por los elementos de un iterable en una linea de código. Suele ser más rápido que el ```for```."
      ]
    },
    {
      "cell_type": "code",
      "metadata": {
        "colab": {
          "base_uri": "https://localhost:8080/"
        },
        "id": "HyoFNtBlY2ht",
        "outputId": "8628d4cb-f00b-429b-f5f4-9ec75d8fdee1"
      },
      "source": [
        "print(lista)\n",
        "\n",
        "# crea sólo una copia de la lista\n",
        "nueva_lista = [x for x in lista]\n",
        "nueva_lista"
      ],
      "execution_count": 121,
      "outputs": [
        {
          "output_type": "stream",
          "name": "stdout",
          "text": [
            "['a', 'b', 'c', 3, 2, 7]\n"
          ]
        },
        {
          "output_type": "execute_result",
          "data": {
            "text/plain": [
              "['a', 'b', 'c', 3, 2, 7]"
            ]
          },
          "metadata": {},
          "execution_count": 121
        }
      ]
    },
    {
      "cell_type": "code",
      "metadata": {
        "id": "k-wUTB9YYqCj",
        "colab": {
          "base_uri": "https://localhost:8080/"
        },
        "outputId": "c7259b4e-f630-472c-cc06-6e78f0f7cf2f"
      },
      "source": [
        "# Crea una nueva lista con todos los elementos que son enteros\n",
        "nueva_lista = [x for x in lista if type(x) is int]\n",
        "nueva_lista"
      ],
      "execution_count": 122,
      "outputs": [
        {
          "output_type": "execute_result",
          "data": {
            "text/plain": [
              "[3, 2, 7]"
            ]
          },
          "metadata": {},
          "execution_count": 122
        }
      ]
    },
    {
      "cell_type": "code",
      "metadata": {
        "colab": {
          "base_uri": "https://localhost:8080/"
        },
        "id": "ejH22LV_ZXFy",
        "outputId": "fe3c0882-6840-412d-d859-f91be07fb7c0"
      },
      "source": [
        "nueva_lista = [x if x > 4 else 0 for x in lista if type(x) == int]\n",
        "nueva_lista"
      ],
      "execution_count": 123,
      "outputs": [
        {
          "output_type": "execute_result",
          "data": {
            "text/plain": [
              "[0, 0, 7]"
            ]
          },
          "metadata": {},
          "execution_count": 123
        }
      ]
    },
    {
      "cell_type": "code",
      "metadata": {
        "colab": {
          "base_uri": "https://localhost:8080/"
        },
        "id": "qKKxRY64Z3Mp",
        "outputId": "2c672c8d-93b6-4ed2-f582-7a469e70368d"
      },
      "source": [
        "5.5 % 1"
      ],
      "execution_count": null,
      "outputs": [
        {
          "output_type": "execute_result",
          "data": {
            "text/plain": [
              "0.5"
            ]
          },
          "metadata": {},
          "execution_count": 222
        }
      ]
    },
    {
      "cell_type": "code",
      "metadata": {
        "colab": {
          "base_uri": "https://localhost:8080/"
        },
        "id": "_Ykc9ApgZqZ2",
        "outputId": "576528fa-b589-4034-991e-e0885efbde4f"
      },
      "source": [
        "promedios = [5.9, 6.7, 8.9, 10, 3, 0]\n",
        "[math.ceil(calificacion) if calificacion > 6 and calificacion % 1 > .3 else math.floor(calificacion) for calificacion in promedios]"
      ],
      "execution_count": null,
      "outputs": [
        {
          "output_type": "execute_result",
          "data": {
            "text/plain": [
              "[5, 7, 9, 10, 3, 0]"
            ]
          },
          "metadata": {},
          "execution_count": 224
        }
      ]
    },
    {
      "cell_type": "code",
      "metadata": {
        "colab": {
          "base_uri": "https://localhost:8080/"
        },
        "id": "bF-ZTlYiaWXo",
        "outputId": "f335d83c-2482-4909-ce0d-4902e45602e9"
      },
      "source": [
        "# El código anterior equivale a lo siguiente\n",
        "nuevos_promedios = []\n",
        "for x in promedios:\n",
        "    if x > 6 and x % 1 > .3:\n",
        "        nuevos_promedios.append(math.ceil(x))\n",
        "    else:\n",
        "        nuevos_promedios.append(math.floor(x))\n",
        "nuevos_promedios"
      ],
      "execution_count": null,
      "outputs": [
        {
          "output_type": "execute_result",
          "data": {
            "text/plain": [
              "[5, 7, 9, 10, 3, 0]"
            ]
          },
          "metadata": {},
          "execution_count": 227
        }
      ]
    },
    {
      "cell_type": "markdown",
      "metadata": {
        "id": "dIwOqU1WUe2d"
      },
      "source": [
        "### Control de ciclos"
      ]
    },
    {
      "cell_type": "markdown",
      "metadata": {
        "id": "BUgAHoFTWYK4"
      },
      "source": [
        "Se puede terminar la ejecución de un ciclo con la palabra reservada ```break``` u omitir la iteración actual con ```continue```."
      ]
    },
    {
      "cell_type": "code",
      "metadata": {
        "colab": {
          "base_uri": "https://localhost:8080/"
        },
        "id": "i6fVlS7VWg7w",
        "outputId": "f959fca0-9a09-4a22-be20-87b9c790c509"
      },
      "source": [
        "j = 1\n",
        "while True:\n",
        "    j *= 10\n",
        "    print(j)\n",
        "    if j > 100:\n",
        "        break"
      ],
      "execution_count": null,
      "outputs": [
        {
          "output_type": "stream",
          "name": "stdout",
          "text": [
            "10\n",
            "100\n",
            "1000\n"
          ]
        }
      ]
    },
    {
      "cell_type": "code",
      "metadata": {
        "colab": {
          "base_uri": "https://localhost:8080/"
        },
        "id": "4b3Q2qhuWsKQ",
        "outputId": "83b5173f-3faa-4380-ed65-51030e3f88c0"
      },
      "source": [
        "for j in range(10):\n",
        "    if 4 < j < 7:\n",
        "        print(f'omitiendo')\n",
        "        continue\n",
        "    print(j)"
      ],
      "execution_count": 124,
      "outputs": [
        {
          "output_type": "stream",
          "name": "stdout",
          "text": [
            "0\n",
            "1\n",
            "2\n",
            "3\n",
            "4\n",
            "omitiendo\n",
            "omitiendo\n",
            "7\n",
            "8\n",
            "9\n"
          ]
        }
      ]
    },
    {
      "cell_type": "markdown",
      "metadata": {
        "id": "xy9fyqzfO1f_"
      },
      "source": [
        "# Ejercicios"
      ]
    },
    {
      "cell_type": "markdown",
      "metadata": {
        "id": "VrjKsthQO5j6"
      },
      "source": [
        "## 1. Crear un condicional que imprima si un número es par o impar\n",
        "\n",
        "Definir una variable con un número antes del if\n",
        "\n",
        "**Pista**: un número es par si módulo 2 es igual a cero"
      ]
    },
    {
      "cell_type": "code",
      "metadata": {
        "colab": {
          "base_uri": "https://localhost:8080/"
        },
        "id": "YzwesUwWSZAd",
        "outputId": "f686daa5-a1df-469a-d938-d05072813075"
      },
      "source": [
        "print(3 % 2)\n",
        "4 % 2"
      ],
      "execution_count": null,
      "outputs": [
        {
          "output_type": "stream",
          "name": "stdout",
          "text": [
            "1\n"
          ]
        },
        {
          "output_type": "execute_result",
          "data": {
            "text/plain": [
              "0"
            ]
          },
          "metadata": {},
          "execution_count": 176
        }
      ]
    },
    {
      "cell_type": "markdown",
      "metadata": {
        "id": "Bu9NtDbuPE19"
      },
      "source": [
        "## 2. Crear un ciclo que imprima todos los números de 1 a n\n",
        "\n",
        "definir n variable y ocuparla para el ciclo"
      ]
    },
    {
      "cell_type": "markdown",
      "metadata": {
        "id": "C-JOwlJ3POP7"
      },
      "source": [
        "## 3. Crear un ciclo que imprima todos los números pares del uno al n"
      ]
    },
    {
      "cell_type": "markdown",
      "metadata": {
        "id": "kPmzm_gVPTeW"
      },
      "source": [
        "## 4. Crear un ciclo que imprima todos los números impares de 5 a n para n > 5\n",
        "\n",
        "Revisar que n sea mayor a 5 antes de entrar al ciclo, si no lo es, imprimir \"n debe ser mayor a 5\""
      ]
    },
    {
      "cell_type": "markdown",
      "metadata": {
        "id": "DkSEEWQ5Pfqo"
      },
      "source": [
        "## 5. Con un ciclo, eliminar todos los números negativos de la siguiente lista: 1, 2, -3, 7, 6, -9\n",
        "\n",
        "1. Creando una nueva lista\n",
        "2. Eliminandolos de la lista"
      ]
    },
    {
      "cell_type": "markdown",
      "metadata": {
        "id": "S3O8b805Pfh2"
      },
      "source": [
        "## 6. Hacer el ejercicio anterior con list comprehension"
      ]
    },
    {
      "cell_type": "markdown",
      "metadata": {
        "id": "sOJ6fC_9PfSl"
      },
      "source": [
        "## 7. Imprimir, linea por linea, el siguiente patrón 3 veces con un ciclo y el operador módulo\n",
        "\n",
        "a \\\\\n",
        "aa \\\\\n",
        "aaa \\\\\n",
        "aaaa \\\\\n",
        "a \\\\\n",
        "aa \\\\\n",
        "aaa \\\\\n",
        "aaaa \\\\\n",
        "\n",
        "\n",
        "**Pista**: Ocupar la siguiente propiedad de las cadenas"
      ]
    },
    {
      "cell_type": "code",
      "metadata": {
        "colab": {
          "base_uri": "https://localhost:8080/",
          "height": 35
        },
        "id": "8H6bty3MR8kC",
        "outputId": "92e582ef-f474-4e7a-b8a3-13e17a5a15ce"
      },
      "source": [
        "\"a\" * 5 "
      ],
      "execution_count": null,
      "outputs": [
        {
          "output_type": "execute_result",
          "data": {
            "application/vnd.google.colaboratory.intrinsic+json": {
              "type": "string"
            },
            "text/plain": [
              "'aaaaa'"
            ]
          },
          "metadata": {},
          "execution_count": 173
        }
      ]
    },
    {
      "cell_type": "markdown",
      "metadata": {
        "id": "SMDVgmUdS9lz"
      },
      "source": [
        "## 8. Crear una lista sólo con los elementos mayores a n de la siguiente lista.\n",
        "\n",
        "1, 34, 2, 4, 6, 8, 5, 7, 345, 23\n",
        "\n",
        "Con n una variable\n",
        "\n",
        "```python\n",
        "n = 23\n",
        "\n",
        "<bloque del codigo>\n",
        "```"
      ]
    },
    {
      "cell_type": "markdown",
      "metadata": {
        "id": "sEWXKlYVFCu6"
      },
      "source": [
        "## 9. Crear un ciclo que imprima todos los múltiplos de m hasta n\n",
        "\n",
        "E.g. para m = 2 y n = 6 la salida debería ser\n",
        "\n",
        "2 \\\\\n",
        "4 \\\\\n",
        "6 \\\\\n",
        "8 \\\\\n",
        "10 \\\\\n",
        "12"
      ]
    },
    {
      "cell_type": "markdown",
      "metadata": {
        "id": "levMdXnVSW-1"
      },
      "source": [
        "## 10. Ejercicios un poco más complicados\n",
        "\n",
        "- https://www.codechef.com/problems/EID\n",
        "\n",
        "[1, 2, 4, 56, 6, 5, 4, 56, 6]\n",
        "\n",
        "la diferencia minima entre dos elementos distintos de la lista\n",
        "\n",
        "\n",
        "- https://www.codechef.com/problems/CHEGLOVE\n",
        "\n",
        "```python\n",
        "listaA = [7, 2, 3] # Mano\n",
        "listaB = [4, 5, 6] # Guante\n",
        "\n",
        "len(listaA) == len(listaB) # True\n",
        "\n",
        "# Si los elementos de a son menores a los elementos de b element-wise, entonces imprimir\n",
        "print('Queda bien')\n",
        "# Si no, \"voltear el guante\" y hacer la misma verificacion\n",
        "print('Se volteo y todo bien')\n",
        "\n",
        "# Si aun no queda bien\n",
        "print('NO le quedo el guante')\n",
        "\n",
        "```\n",
        "- https://www.codechef.com/problems/SEGM01\n",
        "\n",
        "```python\n",
        "cadena = '000011100111'\n",
        "# Si todos los 1's forman un bloque\n",
        "print(True)\n",
        "# Si no, i.e. hay un cero en medio\n",
        "print(False)\n",
        "\n",
        "```\n",
        "\n",
        "- https://www.codechef.com/problems/HOWMANY\n",
        "\n",
        "```python\n",
        "n = 5454\n",
        "\n",
        "<bloque de código>\n",
        ">> 4\n",
        "```\n",
        "\n",
        "```python\n",
        "str(n) #5454\n",
        "```\n",
        "- https://www.codechef.com/problems/SINS\n",
        "\n",
        "```python\n",
        "m = 11\n",
        "b = 5\n",
        "\n",
        "m, b\n",
        "11, 5\n",
        "6, 5\n",
        "1, 5\n",
        "1, 4\n",
        "1, 3\n",
        "1, 2\n",
        "1, 1\n",
        "\n",
        "# La salida del programa\n",
        "print(m + b)\n",
        "```"
      ]
    },
    {
      "cell_type": "markdown",
      "metadata": {
        "id": "8YI5H3AWONHW"
      },
      "source": [
        "# Ligas últiles"
      ]
    },
    {
      "cell_type": "markdown",
      "metadata": {
        "id": "sFVNgYduOQNg"
      },
      "source": [
        "- [operadores](https://www.w3schools.com/python/python_operators.asp)\n",
        "- [list comprehension](https://www.w3schools.com/python/python_lists_comprehension.asp)"
      ]
    }
  ]
}