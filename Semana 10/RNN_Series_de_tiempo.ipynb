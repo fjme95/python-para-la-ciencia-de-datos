{
  "nbformat": 4,
  "nbformat_minor": 0,
  "metadata": {
    "colab": {
      "name": "RNN - Series de tiempo.ipynb",
      "provenance": [],
      "collapsed_sections": [],
      "toc_visible": true,
      "include_colab_link": true
    },
    "kernelspec": {
      "name": "python3",
      "display_name": "Python 3"
    },
    "language_info": {
      "name": "python"
    }
  },
  "cells": [
    {
      "cell_type": "markdown",
      "metadata": {
        "id": "view-in-github",
        "colab_type": "text"
      },
      "source": [
        "<a href=\"https://colab.research.google.com/github/fjme95/python-para-la-ciencia-de-datos/blob/main/Semana%2010/RNN_Series_de_tiempo.ipynb\" target=\"_parent\"><img src=\"https://colab.research.google.com/assets/colab-badge.svg\" alt=\"Open In Colab\"/></a>"
      ]
    },
    {
      "cell_type": "markdown",
      "metadata": {
        "id": "IOofyU0HxrMx"
      },
      "source": [
        "#Instrucciones"
      ]
    },
    {
      "cell_type": "markdown",
      "metadata": {
        "id": "ltlaeaKjsPsf"
      },
      "source": [
        "Desarrolle un predictor del precio del bitcoin usando una red neuronal recurrente (RNN, por\n",
        "sus siglas en inglés). El archivo con los datos se puede descargar en este enlance. Este se\n",
        "puede cargar con pandas.read_feather.\n"
      ]
    },
    {
      "cell_type": "code",
      "metadata": {
        "id": "zrU_HMxfkLdQ",
        "colab": {
          "base_uri": "https://localhost:8080/",
          "height": 424
        },
        "outputId": "6143df45-edf7-488d-fead-0aa24055cf74"
      },
      "source": [
        "import pandas as pd\n",
        "filename = \"https://github.com/fjme95/datasets/blob/main/bitcoin_open_prices.feather?raw=true\"\n",
        "pd.read_feather(filename)"
      ],
      "execution_count": null,
      "outputs": [
        {
          "output_type": "execute_result",
          "data": {
            "text/html": [
              "\n",
              "  <div id=\"df-af1a7f7b-9cb6-4362-9426-a75b252cd359\">\n",
              "    <div class=\"colab-df-container\">\n",
              "      <div>\n",
              "<style scoped>\n",
              "    .dataframe tbody tr th:only-of-type {\n",
              "        vertical-align: middle;\n",
              "    }\n",
              "\n",
              "    .dataframe tbody tr th {\n",
              "        vertical-align: top;\n",
              "    }\n",
              "\n",
              "    .dataframe thead th {\n",
              "        text-align: right;\n",
              "    }\n",
              "</style>\n",
              "<table border=\"1\" class=\"dataframe\">\n",
              "  <thead>\n",
              "    <tr style=\"text-align: right;\">\n",
              "      <th></th>\n",
              "      <th>Timestamp</th>\n",
              "      <th>price</th>\n",
              "    </tr>\n",
              "  </thead>\n",
              "  <tbody>\n",
              "    <tr>\n",
              "      <th>0</th>\n",
              "      <td>1325317920</td>\n",
              "      <td>4.39</td>\n",
              "    </tr>\n",
              "    <tr>\n",
              "      <th>1</th>\n",
              "      <td>1325346600</td>\n",
              "      <td>4.39</td>\n",
              "    </tr>\n",
              "    <tr>\n",
              "      <th>2</th>\n",
              "      <td>1325350740</td>\n",
              "      <td>4.50</td>\n",
              "    </tr>\n",
              "    <tr>\n",
              "      <th>3</th>\n",
              "      <td>1325350800</td>\n",
              "      <td>4.58</td>\n",
              "    </tr>\n",
              "    <tr>\n",
              "      <th>4</th>\n",
              "      <td>1325391360</td>\n",
              "      <td>4.58</td>\n",
              "    </tr>\n",
              "    <tr>\n",
              "      <th>...</th>\n",
              "      <td>...</td>\n",
              "      <td>...</td>\n",
              "    </tr>\n",
              "    <tr>\n",
              "      <th>14995</th>\n",
              "      <td>1348881420</td>\n",
              "      <td>12.16</td>\n",
              "    </tr>\n",
              "    <tr>\n",
              "      <th>14996</th>\n",
              "      <td>1348881480</td>\n",
              "      <td>12.16</td>\n",
              "    </tr>\n",
              "    <tr>\n",
              "      <th>14997</th>\n",
              "      <td>1348881540</td>\n",
              "      <td>12.16</td>\n",
              "    </tr>\n",
              "    <tr>\n",
              "      <th>14998</th>\n",
              "      <td>1348882080</td>\n",
              "      <td>12.15</td>\n",
              "    </tr>\n",
              "    <tr>\n",
              "      <th>14999</th>\n",
              "      <td>1348883580</td>\n",
              "      <td>12.25</td>\n",
              "    </tr>\n",
              "  </tbody>\n",
              "</table>\n",
              "<p>15000 rows × 2 columns</p>\n",
              "</div>\n",
              "      <button class=\"colab-df-convert\" onclick=\"convertToInteractive('df-af1a7f7b-9cb6-4362-9426-a75b252cd359')\"\n",
              "              title=\"Convert this dataframe to an interactive table.\"\n",
              "              style=\"display:none;\">\n",
              "        \n",
              "  <svg xmlns=\"http://www.w3.org/2000/svg\" height=\"24px\"viewBox=\"0 0 24 24\"\n",
              "       width=\"24px\">\n",
              "    <path d=\"M0 0h24v24H0V0z\" fill=\"none\"/>\n",
              "    <path d=\"M18.56 5.44l.94 2.06.94-2.06 2.06-.94-2.06-.94-.94-2.06-.94 2.06-2.06.94zm-11 1L8.5 8.5l.94-2.06 2.06-.94-2.06-.94L8.5 2.5l-.94 2.06-2.06.94zm10 10l.94 2.06.94-2.06 2.06-.94-2.06-.94-.94-2.06-.94 2.06-2.06.94z\"/><path d=\"M17.41 7.96l-1.37-1.37c-.4-.4-.92-.59-1.43-.59-.52 0-1.04.2-1.43.59L10.3 9.45l-7.72 7.72c-.78.78-.78 2.05 0 2.83L4 21.41c.39.39.9.59 1.41.59.51 0 1.02-.2 1.41-.59l7.78-7.78 2.81-2.81c.8-.78.8-2.07 0-2.86zM5.41 20L4 18.59l7.72-7.72 1.47 1.35L5.41 20z\"/>\n",
              "  </svg>\n",
              "      </button>\n",
              "      \n",
              "  <style>\n",
              "    .colab-df-container {\n",
              "      display:flex;\n",
              "      flex-wrap:wrap;\n",
              "      gap: 12px;\n",
              "    }\n",
              "\n",
              "    .colab-df-convert {\n",
              "      background-color: #E8F0FE;\n",
              "      border: none;\n",
              "      border-radius: 50%;\n",
              "      cursor: pointer;\n",
              "      display: none;\n",
              "      fill: #1967D2;\n",
              "      height: 32px;\n",
              "      padding: 0 0 0 0;\n",
              "      width: 32px;\n",
              "    }\n",
              "\n",
              "    .colab-df-convert:hover {\n",
              "      background-color: #E2EBFA;\n",
              "      box-shadow: 0px 1px 2px rgba(60, 64, 67, 0.3), 0px 1px 3px 1px rgba(60, 64, 67, 0.15);\n",
              "      fill: #174EA6;\n",
              "    }\n",
              "\n",
              "    [theme=dark] .colab-df-convert {\n",
              "      background-color: #3B4455;\n",
              "      fill: #D2E3FC;\n",
              "    }\n",
              "\n",
              "    [theme=dark] .colab-df-convert:hover {\n",
              "      background-color: #434B5C;\n",
              "      box-shadow: 0px 1px 3px 1px rgba(0, 0, 0, 0.15);\n",
              "      filter: drop-shadow(0px 1px 2px rgba(0, 0, 0, 0.3));\n",
              "      fill: #FFFFFF;\n",
              "    }\n",
              "  </style>\n",
              "\n",
              "      <script>\n",
              "        const buttonEl =\n",
              "          document.querySelector('#df-af1a7f7b-9cb6-4362-9426-a75b252cd359 button.colab-df-convert');\n",
              "        buttonEl.style.display =\n",
              "          google.colab.kernel.accessAllowed ? 'block' : 'none';\n",
              "\n",
              "        async function convertToInteractive(key) {\n",
              "          const element = document.querySelector('#df-af1a7f7b-9cb6-4362-9426-a75b252cd359');\n",
              "          const dataTable =\n",
              "            await google.colab.kernel.invokeFunction('convertToInteractive',\n",
              "                                                     [key], {});\n",
              "          if (!dataTable) return;\n",
              "\n",
              "          const docLinkHtml = 'Like what you see? Visit the ' +\n",
              "            '<a target=\"_blank\" href=https://colab.research.google.com/notebooks/data_table.ipynb>data table notebook</a>'\n",
              "            + ' to learn more about interactive tables.';\n",
              "          element.innerHTML = '';\n",
              "          dataTable['output_type'] = 'display_data';\n",
              "          await google.colab.output.renderOutput(dataTable, element);\n",
              "          const docLink = document.createElement('div');\n",
              "          docLink.innerHTML = docLinkHtml;\n",
              "          element.appendChild(docLink);\n",
              "        }\n",
              "      </script>\n",
              "    </div>\n",
              "  </div>\n",
              "  "
            ],
            "text/plain": [
              "        Timestamp  price\n",
              "0      1325317920   4.39\n",
              "1      1325346600   4.39\n",
              "2      1325350740   4.50\n",
              "3      1325350800   4.58\n",
              "4      1325391360   4.58\n",
              "...           ...    ...\n",
              "14995  1348881420  12.16\n",
              "14996  1348881480  12.16\n",
              "14997  1348881540  12.16\n",
              "14998  1348882080  12.15\n",
              "14999  1348883580  12.25\n",
              "\n",
              "[15000 rows x 2 columns]"
            ]
          },
          "metadata": {},
          "execution_count": 2
        }
      ]
    },
    {
      "cell_type": "markdown",
      "metadata": {
        "id": "mM21KYidsfje"
      },
      "source": [
        "En Google Colab, se puede descargar directamente el archivo con:"
      ]
    },
    {
      "cell_type": "code",
      "metadata": {
        "id": "1DJNLIwGsbua"
      },
      "source": [
        "#!wget https://github.com/fjme95/datasets/blob/main/bitcoin_open_prices.feather?raw =true -O bitcoin_open_prices.feather"
      ],
      "execution_count": null,
      "outputs": []
    },
    {
      "cell_type": "markdown",
      "metadata": {
        "id": "pHMR3secs87d"
      },
      "source": [
        "Realice los siguientes pasos para la predicción:\n",
        "\n",
        "● Obtenga el primer 70% de los datos para el entrenamiento y los 30% restantes para\n",
        "las pruebas.\n",
        "\n",
        "● Escale los datos de entrenamiento usando\n",
        "sklearn.preprocessing.MinMaxScaler.\n",
        "\n",
        "● Considere X_train desde el primer elemento al penúltimo del dataset de\n",
        "entrenamiento y y_train del segundo al último.\n",
        "\n",
        "● Entrene una red secuencial con las siguientes capas:\n",
        "\n",
        "○ LSTM con activación sigmoide y dimensionalidad del espacio de salida de 4.\n",
        "\n",
        "○ Capa densa con salida de dimensión 1.\n",
        "\n",
        "\n"
      ]
    },
    {
      "cell_type": "markdown",
      "metadata": {
        "id": "-6wmIHZwtHqm"
      },
      "source": [
        "Para la red neuronal, utilice el optimizador adam y el error cuadrático medio como función\n",
        "de pérdida.\n",
        "Una vez que obtenga las predicciones, regrese éstas al espacio original\n",
        "(sklearn.preprocessing.MinMaxScaler.inverse_transform) y realice una gráfica\n",
        "comparando los datos reales con los predecidos por la red.\n",
        "\n",
        "El entregable deberá ser un archivo .ipynb que contenga:\n",
        "\n",
        "1. Exploración de los datos\n",
        "2. Los pasos del algoritmo\n",
        "3. Evaluación de la predicción\n",
        "4. Gráfica comparando los datos reales con los arrojados por el modelo.\n",
        "5. Conclusiones.\n"
      ]
    },
    {
      "cell_type": "markdown",
      "metadata": {
        "id": "sQT5DADXtNyt"
      },
      "source": [
        "Extra:\n",
        "\n",
        "● ¿El modelo “sobre ajustó” los datos?\n",
        "\n",
        "○ En caso de ser afirmativa la respuesta, agregué una capa de Dropout al\n",
        "modelo y pruebe con diferentes optimizadores y funciones de activación"
      ]
    },
    {
      "cell_type": "markdown",
      "metadata": {
        "id": "DP_BjQNhtMFs"
      },
      "source": [
        "#1. Exploración de los datos"
      ]
    },
    {
      "cell_type": "markdown",
      "metadata": {
        "id": "yv8RC4UsxnlX"
      },
      "source": [
        "##Cargar bibliotecas"
      ]
    },
    {
      "cell_type": "code",
      "metadata": {
        "colab": {
          "base_uri": "https://localhost:8080/"
        },
        "id": "CI__vY8qlaQV",
        "outputId": "db652a27-7b14-4fad-bcb6-c90dbf1c1f13"
      },
      "source": [
        "import statsmodels\n",
        "statsmodels.__version__\n",
        "\n",
        "!pip install statsmodels #--upgrade"
      ],
      "execution_count": null,
      "outputs": [
        {
          "output_type": "stream",
          "name": "stdout",
          "text": [
            "Requirement already satisfied: statsmodels in /usr/local/lib/python3.7/dist-packages (0.10.2)\n",
            "Requirement already satisfied: pandas>=0.19 in /usr/local/lib/python3.7/dist-packages (from statsmodels) (1.1.5)\n",
            "Requirement already satisfied: patsy>=0.4.0 in /usr/local/lib/python3.7/dist-packages (from statsmodels) (0.5.2)\n",
            "Requirement already satisfied: scipy>=0.18 in /usr/local/lib/python3.7/dist-packages (from statsmodels) (1.4.1)\n",
            "Requirement already satisfied: numpy>=1.11 in /usr/local/lib/python3.7/dist-packages (from statsmodels) (1.19.5)\n",
            "Requirement already satisfied: python-dateutil>=2.7.3 in /usr/local/lib/python3.7/dist-packages (from pandas>=0.19->statsmodels) (2.8.2)\n",
            "Requirement already satisfied: pytz>=2017.2 in /usr/local/lib/python3.7/dist-packages (from pandas>=0.19->statsmodels) (2018.9)\n",
            "Requirement already satisfied: six in /usr/local/lib/python3.7/dist-packages (from patsy>=0.4.0->statsmodels) (1.15.0)\n"
          ]
        }
      ]
    },
    {
      "cell_type": "code",
      "metadata": {
        "id": "rA9Buo4OljTj",
        "colab": {
          "base_uri": "https://localhost:8080/"
        },
        "outputId": "d0e168ca-da7c-4320-8a37-acadf42d3dfa"
      },
      "source": [
        "!pip install scikit-learn==0.24"
      ],
      "execution_count": null,
      "outputs": [
        {
          "output_type": "stream",
          "name": "stdout",
          "text": [
            "Requirement already satisfied: scikit-learn==0.24 in /usr/local/lib/python3.7/dist-packages (0.24.0)\n",
            "Requirement already satisfied: numpy>=1.13.3 in /usr/local/lib/python3.7/dist-packages (from scikit-learn==0.24) (1.19.5)\n",
            "Requirement already satisfied: joblib>=0.11 in /usr/local/lib/python3.7/dist-packages (from scikit-learn==0.24) (1.0.1)\n",
            "Requirement already satisfied: scipy>=0.19.1 in /usr/local/lib/python3.7/dist-packages (from scikit-learn==0.24) (1.4.1)\n",
            "Requirement already satisfied: threadpoolctl>=2.0.0 in /usr/local/lib/python3.7/dist-packages (from scikit-learn==0.24) (3.0.0)\n"
          ]
        }
      ]
    },
    {
      "cell_type": "code",
      "metadata": {
        "id": "aSs63NwQ3DNJ",
        "colab": {
          "base_uri": "https://localhost:8080/"
        },
        "outputId": "bdb1242c-15f6-4c1c-e05b-b6ee3f6411ff"
      },
      "source": [
        "import numpy as np #vectores, matrices y operaciones de matrices.\n",
        "import pandas as pd #manejo y análisis de estructuras de datos.\n",
        "\n",
        "import tensorflow as tf\n",
        "from tensorflow import keras\n",
        "\n",
        "#Visualización de datos.\n",
        "import matplotlib.pyplot as plt\n",
        "from matplotlib import pyplot \n",
        "\n",
        "import math\n",
        "\n",
        "#módulo para evaluación de rendimiento.\n",
        "import sklearn.metrics\n",
        "from sklearn.metrics import mean_absolute_percentage_error\n",
        "from sklearn.metrics import mean_absolute_error \n",
        "\n",
        "#Estimación de modelos estadísticos y evaluación de tests estadísticos.\n",
        "from statsmodels.tsa.stattools import adfuller\n",
        "from statsmodels.graphics.tsaplots import plot_acf\n",
        "from statsmodels.graphics.tsaplots import plot_pacf"
      ],
      "execution_count": null,
      "outputs": [
        {
          "output_type": "stream",
          "name": "stderr",
          "text": [
            "/usr/local/lib/python3.7/dist-packages/statsmodels/tools/_testing.py:19: FutureWarning: pandas.util.testing is deprecated. Use the functions in the public API at pandas.testing instead.\n",
            "  import pandas.util.testing as tm\n"
          ]
        }
      ]
    },
    {
      "cell_type": "code",
      "metadata": {
        "id": "Lzk9A8lD3Dx5"
      },
      "source": [
        "from sklearn.preprocessing import MinMaxScaler  #estandarizar variables.\n",
        "from sklearn.model_selection import train_test_split #división dataset."
      ],
      "execution_count": null,
      "outputs": []
    },
    {
      "cell_type": "code",
      "metadata": {
        "id": "M_K-MFzxvE6L"
      },
      "source": [
        "df_precio=pd.read_feather(filename)"
      ],
      "execution_count": null,
      "outputs": []
    },
    {
      "cell_type": "markdown",
      "metadata": {
        "id": "g7QJh71Geyl6"
      },
      "source": [
        "Calculamos la cantidad de datos totales, observamos si hay valores nulos y analizamos el tipo de datos."
      ]
    },
    {
      "cell_type": "code",
      "metadata": {
        "colab": {
          "base_uri": "https://localhost:8080/"
        },
        "id": "hUjmnJRdesHg",
        "outputId": "cfaf551d-9096-48e5-ca88-53470865bd12"
      },
      "source": [
        "df_precio.info()"
      ],
      "execution_count": null,
      "outputs": [
        {
          "output_type": "stream",
          "name": "stdout",
          "text": [
            "<class 'pandas.core.frame.DataFrame'>\n",
            "RangeIndex: 15000 entries, 0 to 14999\n",
            "Data columns (total 2 columns):\n",
            " #   Column     Non-Null Count  Dtype  \n",
            "---  ------     --------------  -----  \n",
            " 0   Timestamp  15000 non-null  int64  \n",
            " 1   price      15000 non-null  float64\n",
            "dtypes: float64(1), int64(1)\n",
            "memory usage: 234.5 KB\n"
          ]
        }
      ]
    },
    {
      "cell_type": "markdown",
      "metadata": {
        "id": "ancIslE_fJp1"
      },
      "source": [
        "Obtenemos estadísticas sobre los valores del precio del bitcoin, tales como su media, desv. estándar y cuartiles."
      ]
    },
    {
      "cell_type": "code",
      "metadata": {
        "colab": {
          "base_uri": "https://localhost:8080/",
          "height": 300
        },
        "id": "1QgNVOMIfGJh",
        "outputId": "e61e8574-eb84-4259-8679-1105d6ef549e"
      },
      "source": [
        "df_precio.describe()"
      ],
      "execution_count": null,
      "outputs": [
        {
          "output_type": "execute_result",
          "data": {
            "text/html": [
              "\n",
              "  <div id=\"df-2f38db4d-21d5-4fca-9664-6ca63531cc64\">\n",
              "    <div class=\"colab-df-container\">\n",
              "      <div>\n",
              "<style scoped>\n",
              "    .dataframe tbody tr th:only-of-type {\n",
              "        vertical-align: middle;\n",
              "    }\n",
              "\n",
              "    .dataframe tbody tr th {\n",
              "        vertical-align: top;\n",
              "    }\n",
              "\n",
              "    .dataframe thead th {\n",
              "        text-align: right;\n",
              "    }\n",
              "</style>\n",
              "<table border=\"1\" class=\"dataframe\">\n",
              "  <thead>\n",
              "    <tr style=\"text-align: right;\">\n",
              "      <th></th>\n",
              "      <th>Timestamp</th>\n",
              "      <th>price</th>\n",
              "    </tr>\n",
              "  </thead>\n",
              "  <tbody>\n",
              "    <tr>\n",
              "      <th>count</th>\n",
              "      <td>1.500000e+04</td>\n",
              "      <td>15000.000000</td>\n",
              "    </tr>\n",
              "    <tr>\n",
              "      <th>mean</th>\n",
              "      <td>1.341815e+09</td>\n",
              "      <td>8.624095</td>\n",
              "    </tr>\n",
              "    <tr>\n",
              "      <th>std</th>\n",
              "      <td>5.741604e+06</td>\n",
              "      <td>2.727146</td>\n",
              "    </tr>\n",
              "    <tr>\n",
              "      <th>min</th>\n",
              "      <td>1.325318e+09</td>\n",
              "      <td>3.800000</td>\n",
              "    </tr>\n",
              "    <tr>\n",
              "      <th>25%</th>\n",
              "      <td>1.339254e+09</td>\n",
              "      <td>6.000000</td>\n",
              "    </tr>\n",
              "    <tr>\n",
              "      <th>50%</th>\n",
              "      <td>1.343308e+09</td>\n",
              "      <td>8.800000</td>\n",
              "    </tr>\n",
              "    <tr>\n",
              "      <th>75%</th>\n",
              "      <td>1.346107e+09</td>\n",
              "      <td>10.970000</td>\n",
              "    </tr>\n",
              "    <tr>\n",
              "      <th>max</th>\n",
              "      <td>1.348884e+09</td>\n",
              "      <td>16.410000</td>\n",
              "    </tr>\n",
              "  </tbody>\n",
              "</table>\n",
              "</div>\n",
              "      <button class=\"colab-df-convert\" onclick=\"convertToInteractive('df-2f38db4d-21d5-4fca-9664-6ca63531cc64')\"\n",
              "              title=\"Convert this dataframe to an interactive table.\"\n",
              "              style=\"display:none;\">\n",
              "        \n",
              "  <svg xmlns=\"http://www.w3.org/2000/svg\" height=\"24px\"viewBox=\"0 0 24 24\"\n",
              "       width=\"24px\">\n",
              "    <path d=\"M0 0h24v24H0V0z\" fill=\"none\"/>\n",
              "    <path d=\"M18.56 5.44l.94 2.06.94-2.06 2.06-.94-2.06-.94-.94-2.06-.94 2.06-2.06.94zm-11 1L8.5 8.5l.94-2.06 2.06-.94-2.06-.94L8.5 2.5l-.94 2.06-2.06.94zm10 10l.94 2.06.94-2.06 2.06-.94-2.06-.94-.94-2.06-.94 2.06-2.06.94z\"/><path d=\"M17.41 7.96l-1.37-1.37c-.4-.4-.92-.59-1.43-.59-.52 0-1.04.2-1.43.59L10.3 9.45l-7.72 7.72c-.78.78-.78 2.05 0 2.83L4 21.41c.39.39.9.59 1.41.59.51 0 1.02-.2 1.41-.59l7.78-7.78 2.81-2.81c.8-.78.8-2.07 0-2.86zM5.41 20L4 18.59l7.72-7.72 1.47 1.35L5.41 20z\"/>\n",
              "  </svg>\n",
              "      </button>\n",
              "      \n",
              "  <style>\n",
              "    .colab-df-container {\n",
              "      display:flex;\n",
              "      flex-wrap:wrap;\n",
              "      gap: 12px;\n",
              "    }\n",
              "\n",
              "    .colab-df-convert {\n",
              "      background-color: #E8F0FE;\n",
              "      border: none;\n",
              "      border-radius: 50%;\n",
              "      cursor: pointer;\n",
              "      display: none;\n",
              "      fill: #1967D2;\n",
              "      height: 32px;\n",
              "      padding: 0 0 0 0;\n",
              "      width: 32px;\n",
              "    }\n",
              "\n",
              "    .colab-df-convert:hover {\n",
              "      background-color: #E2EBFA;\n",
              "      box-shadow: 0px 1px 2px rgba(60, 64, 67, 0.3), 0px 1px 3px 1px rgba(60, 64, 67, 0.15);\n",
              "      fill: #174EA6;\n",
              "    }\n",
              "\n",
              "    [theme=dark] .colab-df-convert {\n",
              "      background-color: #3B4455;\n",
              "      fill: #D2E3FC;\n",
              "    }\n",
              "\n",
              "    [theme=dark] .colab-df-convert:hover {\n",
              "      background-color: #434B5C;\n",
              "      box-shadow: 0px 1px 3px 1px rgba(0, 0, 0, 0.15);\n",
              "      filter: drop-shadow(0px 1px 2px rgba(0, 0, 0, 0.3));\n",
              "      fill: #FFFFFF;\n",
              "    }\n",
              "  </style>\n",
              "\n",
              "      <script>\n",
              "        const buttonEl =\n",
              "          document.querySelector('#df-2f38db4d-21d5-4fca-9664-6ca63531cc64 button.colab-df-convert');\n",
              "        buttonEl.style.display =\n",
              "          google.colab.kernel.accessAllowed ? 'block' : 'none';\n",
              "\n",
              "        async function convertToInteractive(key) {\n",
              "          const element = document.querySelector('#df-2f38db4d-21d5-4fca-9664-6ca63531cc64');\n",
              "          const dataTable =\n",
              "            await google.colab.kernel.invokeFunction('convertToInteractive',\n",
              "                                                     [key], {});\n",
              "          if (!dataTable) return;\n",
              "\n",
              "          const docLinkHtml = 'Like what you see? Visit the ' +\n",
              "            '<a target=\"_blank\" href=https://colab.research.google.com/notebooks/data_table.ipynb>data table notebook</a>'\n",
              "            + ' to learn more about interactive tables.';\n",
              "          element.innerHTML = '';\n",
              "          dataTable['output_type'] = 'display_data';\n",
              "          await google.colab.output.renderOutput(dataTable, element);\n",
              "          const docLink = document.createElement('div');\n",
              "          docLink.innerHTML = docLinkHtml;\n",
              "          element.appendChild(docLink);\n",
              "        }\n",
              "      </script>\n",
              "    </div>\n",
              "  </div>\n",
              "  "
            ],
            "text/plain": [
              "          Timestamp         price\n",
              "count  1.500000e+04  15000.000000\n",
              "mean   1.341815e+09      8.624095\n",
              "std    5.741604e+06      2.727146\n",
              "min    1.325318e+09      3.800000\n",
              "25%    1.339254e+09      6.000000\n",
              "50%    1.343308e+09      8.800000\n",
              "75%    1.346107e+09     10.970000\n",
              "max    1.348884e+09     16.410000"
            ]
          },
          "metadata": {},
          "execution_count": 8
        }
      ]
    },
    {
      "cell_type": "markdown",
      "metadata": {
        "id": "tz3A0BwIX6Yj"
      },
      "source": [
        "A continuación analizamos si la serie de tiempo es estacionaria con el test ADF."
      ]
    },
    {
      "cell_type": "code",
      "metadata": {
        "colab": {
          "base_uri": "https://localhost:8080/"
        },
        "id": "CHFu33AiX5JI",
        "outputId": "b1355521-1b00-4ec0-a1b6-854896b50e16"
      },
      "source": [
        "# ADF Test\n",
        "result = adfuller(df_precio[\"price\"].values, autolag='AIC')\n",
        "print(f'ADF Statistic: {result[0]}')\n",
        "print(f'p-value: {result[1]}')\n",
        "for key, value in result[4].items():\n",
        "    print('Critial Values:')\n",
        "    print(f'   {key}, {value}')"
      ],
      "execution_count": null,
      "outputs": [
        {
          "output_type": "stream",
          "name": "stdout",
          "text": [
            "ADF Statistic: -0.8462215708460848\n",
            "p-value: 0.8051665207108514\n",
            "Critial Values:\n",
            "   1%, -3.430787281716851\n",
            "Critial Values:\n",
            "   5%, -2.8617332595612184\n",
            "Critial Values:\n",
            "   10%, -2.5668728674069023\n"
          ]
        }
      ]
    },
    {
      "cell_type": "markdown",
      "metadata": {
        "id": "oRj5beBCZBZ1"
      },
      "source": [
        "Dado que p-value es superior al 0.05, concluimos que la serie no es estacionaria. A pesar de esto podemos intentar pronosticar con redes neuronales recurrentes."
      ]
    },
    {
      "cell_type": "markdown",
      "metadata": {
        "id": "k-UtZfkioXSh"
      },
      "source": [
        "#2. Pasos del algoritmo"
      ]
    },
    {
      "cell_type": "markdown",
      "metadata": {
        "id": "K0NgBQ6CwnZX"
      },
      "source": [
        "##Paso 1. División train-test"
      ]
    },
    {
      "cell_type": "markdown",
      "metadata": {
        "id": "Hq5E77MrwVDH"
      },
      "source": [
        "Obtenga el primer 70% de los datos para el entrenamiento y los 30% restantes para las pruebas."
      ]
    },
    {
      "cell_type": "code",
      "metadata": {
        "id": "M1LvIv3w8BTe"
      },
      "source": [
        "df_precio.set_index([\"Timestamp\"],inplace=True)"
      ],
      "execution_count": null,
      "outputs": []
    },
    {
      "cell_type": "code",
      "metadata": {
        "id": "_GR_ypORsyRt"
      },
      "source": [
        "from sklearn.model_selection import train_test_split\n",
        "\n",
        "train, test = train_test_split(df_precio, test_size=0.3, shuffle=False, random_state=0)"
      ],
      "execution_count": null,
      "outputs": []
    },
    {
      "cell_type": "markdown",
      "metadata": {
        "id": "XmgaLg_Ay8h4"
      },
      "source": [
        "##Paso 2. Escalar datos"
      ]
    },
    {
      "cell_type": "markdown",
      "metadata": {
        "id": "QVdWVb3Vy7Jo"
      },
      "source": [
        "● Escale los datos de entrenamiento usando\n",
        "[sklearn.preprocessing.MinMaxScaler](https://scikit-learn.org/stable/modules/generated/sklearn.preprocessing.MinMaxScaler.html)."
      ]
    },
    {
      "cell_type": "code",
      "metadata": {
        "colab": {
          "base_uri": "https://localhost:8080/",
          "height": 455
        },
        "id": "T-7GZ3tyxbP7",
        "outputId": "c0911fcf-bf8a-41c4-92e8-594e7b352fd4"
      },
      "source": [
        "train_escala = train.copy()\n",
        "columnas = train.columns\n",
        "\n",
        "escala = MinMaxScaler()\n",
        "\n",
        "\n",
        "train_escala[columnas] = escala.fit_transform(train[columnas])\n",
        "train_escala"
      ],
      "execution_count": null,
      "outputs": [
        {
          "output_type": "execute_result",
          "data": {
            "text/html": [
              "\n",
              "  <div id=\"df-5fe1e8a6-0d99-4f31-a0a5-4ae26c919257\">\n",
              "    <div class=\"colab-df-container\">\n",
              "      <div>\n",
              "<style scoped>\n",
              "    .dataframe tbody tr th:only-of-type {\n",
              "        vertical-align: middle;\n",
              "    }\n",
              "\n",
              "    .dataframe tbody tr th {\n",
              "        vertical-align: top;\n",
              "    }\n",
              "\n",
              "    .dataframe thead th {\n",
              "        text-align: right;\n",
              "    }\n",
              "</style>\n",
              "<table border=\"1\" class=\"dataframe\">\n",
              "  <thead>\n",
              "    <tr style=\"text-align: right;\">\n",
              "      <th></th>\n",
              "      <th>price</th>\n",
              "    </tr>\n",
              "    <tr>\n",
              "      <th>Timestamp</th>\n",
              "      <th></th>\n",
              "    </tr>\n",
              "  </thead>\n",
              "  <tbody>\n",
              "    <tr>\n",
              "      <th>1325317920</th>\n",
              "      <td>0.046788</td>\n",
              "    </tr>\n",
              "    <tr>\n",
              "      <th>1325346600</th>\n",
              "      <td>0.046788</td>\n",
              "    </tr>\n",
              "    <tr>\n",
              "      <th>1325350740</th>\n",
              "      <td>0.055511</td>\n",
              "    </tr>\n",
              "    <tr>\n",
              "      <th>1325350800</th>\n",
              "      <td>0.061856</td>\n",
              "    </tr>\n",
              "    <tr>\n",
              "      <th>1325391360</th>\n",
              "      <td>0.061856</td>\n",
              "    </tr>\n",
              "    <tr>\n",
              "      <th>...</th>\n",
              "      <td>...</td>\n",
              "    </tr>\n",
              "    <tr>\n",
              "      <th>1345602780</th>\n",
              "      <td>0.481364</td>\n",
              "    </tr>\n",
              "    <tr>\n",
              "      <th>1345603320</th>\n",
              "      <td>0.480571</td>\n",
              "    </tr>\n",
              "    <tr>\n",
              "      <th>1345605540</th>\n",
              "      <td>0.480571</td>\n",
              "    </tr>\n",
              "    <tr>\n",
              "      <th>1345606020</th>\n",
              "      <td>0.483743</td>\n",
              "    </tr>\n",
              "    <tr>\n",
              "      <th>1345609620</th>\n",
              "      <td>0.483743</td>\n",
              "    </tr>\n",
              "  </tbody>\n",
              "</table>\n",
              "<p>10500 rows × 1 columns</p>\n",
              "</div>\n",
              "      <button class=\"colab-df-convert\" onclick=\"convertToInteractive('df-5fe1e8a6-0d99-4f31-a0a5-4ae26c919257')\"\n",
              "              title=\"Convert this dataframe to an interactive table.\"\n",
              "              style=\"display:none;\">\n",
              "        \n",
              "  <svg xmlns=\"http://www.w3.org/2000/svg\" height=\"24px\"viewBox=\"0 0 24 24\"\n",
              "       width=\"24px\">\n",
              "    <path d=\"M0 0h24v24H0V0z\" fill=\"none\"/>\n",
              "    <path d=\"M18.56 5.44l.94 2.06.94-2.06 2.06-.94-2.06-.94-.94-2.06-.94 2.06-2.06.94zm-11 1L8.5 8.5l.94-2.06 2.06-.94-2.06-.94L8.5 2.5l-.94 2.06-2.06.94zm10 10l.94 2.06.94-2.06 2.06-.94-2.06-.94-.94-2.06-.94 2.06-2.06.94z\"/><path d=\"M17.41 7.96l-1.37-1.37c-.4-.4-.92-.59-1.43-.59-.52 0-1.04.2-1.43.59L10.3 9.45l-7.72 7.72c-.78.78-.78 2.05 0 2.83L4 21.41c.39.39.9.59 1.41.59.51 0 1.02-.2 1.41-.59l7.78-7.78 2.81-2.81c.8-.78.8-2.07 0-2.86zM5.41 20L4 18.59l7.72-7.72 1.47 1.35L5.41 20z\"/>\n",
              "  </svg>\n",
              "      </button>\n",
              "      \n",
              "  <style>\n",
              "    .colab-df-container {\n",
              "      display:flex;\n",
              "      flex-wrap:wrap;\n",
              "      gap: 12px;\n",
              "    }\n",
              "\n",
              "    .colab-df-convert {\n",
              "      background-color: #E8F0FE;\n",
              "      border: none;\n",
              "      border-radius: 50%;\n",
              "      cursor: pointer;\n",
              "      display: none;\n",
              "      fill: #1967D2;\n",
              "      height: 32px;\n",
              "      padding: 0 0 0 0;\n",
              "      width: 32px;\n",
              "    }\n",
              "\n",
              "    .colab-df-convert:hover {\n",
              "      background-color: #E2EBFA;\n",
              "      box-shadow: 0px 1px 2px rgba(60, 64, 67, 0.3), 0px 1px 3px 1px rgba(60, 64, 67, 0.15);\n",
              "      fill: #174EA6;\n",
              "    }\n",
              "\n",
              "    [theme=dark] .colab-df-convert {\n",
              "      background-color: #3B4455;\n",
              "      fill: #D2E3FC;\n",
              "    }\n",
              "\n",
              "    [theme=dark] .colab-df-convert:hover {\n",
              "      background-color: #434B5C;\n",
              "      box-shadow: 0px 1px 3px 1px rgba(0, 0, 0, 0.15);\n",
              "      filter: drop-shadow(0px 1px 2px rgba(0, 0, 0, 0.3));\n",
              "      fill: #FFFFFF;\n",
              "    }\n",
              "  </style>\n",
              "\n",
              "      <script>\n",
              "        const buttonEl =\n",
              "          document.querySelector('#df-5fe1e8a6-0d99-4f31-a0a5-4ae26c919257 button.colab-df-convert');\n",
              "        buttonEl.style.display =\n",
              "          google.colab.kernel.accessAllowed ? 'block' : 'none';\n",
              "\n",
              "        async function convertToInteractive(key) {\n",
              "          const element = document.querySelector('#df-5fe1e8a6-0d99-4f31-a0a5-4ae26c919257');\n",
              "          const dataTable =\n",
              "            await google.colab.kernel.invokeFunction('convertToInteractive',\n",
              "                                                     [key], {});\n",
              "          if (!dataTable) return;\n",
              "\n",
              "          const docLinkHtml = 'Like what you see? Visit the ' +\n",
              "            '<a target=\"_blank\" href=https://colab.research.google.com/notebooks/data_table.ipynb>data table notebook</a>'\n",
              "            + ' to learn more about interactive tables.';\n",
              "          element.innerHTML = '';\n",
              "          dataTable['output_type'] = 'display_data';\n",
              "          await google.colab.output.renderOutput(dataTable, element);\n",
              "          const docLink = document.createElement('div');\n",
              "          docLink.innerHTML = docLinkHtml;\n",
              "          element.appendChild(docLink);\n",
              "        }\n",
              "      </script>\n",
              "    </div>\n",
              "  </div>\n",
              "  "
            ],
            "text/plain": [
              "               price\n",
              "Timestamp           \n",
              "1325317920  0.046788\n",
              "1325346600  0.046788\n",
              "1325350740  0.055511\n",
              "1325350800  0.061856\n",
              "1325391360  0.061856\n",
              "...              ...\n",
              "1345602780  0.481364\n",
              "1345603320  0.480571\n",
              "1345605540  0.480571\n",
              "1345606020  0.483743\n",
              "1345609620  0.483743\n",
              "\n",
              "[10500 rows x 1 columns]"
            ]
          },
          "metadata": {},
          "execution_count": 12
        }
      ]
    },
    {
      "cell_type": "markdown",
      "metadata": {
        "id": "RhJl7nWO_O4p"
      },
      "source": [
        "## Paso 3. División x_train, y_train"
      ]
    },
    {
      "cell_type": "markdown",
      "metadata": {
        "id": "0UC1_4WK_Qto"
      },
      "source": [
        "● Considere X_train desde el primer elemento al penúltimo del dataset de entrenamiento y y_train del segundo al último."
      ]
    },
    {
      "cell_type": "code",
      "metadata": {
        "colab": {
          "base_uri": "https://localhost:8080/",
          "height": 455
        },
        "id": "0nBRjc0s_Tsa",
        "outputId": "5e13b4c6-007b-4b17-c791-3fcc43d4006a"
      },
      "source": [
        "x_train = train_escala[0:len(train_escala)-1]\n",
        "x_train"
      ],
      "execution_count": null,
      "outputs": [
        {
          "output_type": "execute_result",
          "data": {
            "text/html": [
              "\n",
              "  <div id=\"df-0d772f67-559b-4af3-a32f-3d531d298beb\">\n",
              "    <div class=\"colab-df-container\">\n",
              "      <div>\n",
              "<style scoped>\n",
              "    .dataframe tbody tr th:only-of-type {\n",
              "        vertical-align: middle;\n",
              "    }\n",
              "\n",
              "    .dataframe tbody tr th {\n",
              "        vertical-align: top;\n",
              "    }\n",
              "\n",
              "    .dataframe thead th {\n",
              "        text-align: right;\n",
              "    }\n",
              "</style>\n",
              "<table border=\"1\" class=\"dataframe\">\n",
              "  <thead>\n",
              "    <tr style=\"text-align: right;\">\n",
              "      <th></th>\n",
              "      <th>price</th>\n",
              "    </tr>\n",
              "    <tr>\n",
              "      <th>Timestamp</th>\n",
              "      <th></th>\n",
              "    </tr>\n",
              "  </thead>\n",
              "  <tbody>\n",
              "    <tr>\n",
              "      <th>1325317920</th>\n",
              "      <td>0.046788</td>\n",
              "    </tr>\n",
              "    <tr>\n",
              "      <th>1325346600</th>\n",
              "      <td>0.046788</td>\n",
              "    </tr>\n",
              "    <tr>\n",
              "      <th>1325350740</th>\n",
              "      <td>0.055511</td>\n",
              "    </tr>\n",
              "    <tr>\n",
              "      <th>1325350800</th>\n",
              "      <td>0.061856</td>\n",
              "    </tr>\n",
              "    <tr>\n",
              "      <th>1325391360</th>\n",
              "      <td>0.061856</td>\n",
              "    </tr>\n",
              "    <tr>\n",
              "      <th>...</th>\n",
              "      <td>...</td>\n",
              "    </tr>\n",
              "    <tr>\n",
              "      <th>1345602540</th>\n",
              "      <td>0.490087</td>\n",
              "    </tr>\n",
              "    <tr>\n",
              "      <th>1345602780</th>\n",
              "      <td>0.481364</td>\n",
              "    </tr>\n",
              "    <tr>\n",
              "      <th>1345603320</th>\n",
              "      <td>0.480571</td>\n",
              "    </tr>\n",
              "    <tr>\n",
              "      <th>1345605540</th>\n",
              "      <td>0.480571</td>\n",
              "    </tr>\n",
              "    <tr>\n",
              "      <th>1345606020</th>\n",
              "      <td>0.483743</td>\n",
              "    </tr>\n",
              "  </tbody>\n",
              "</table>\n",
              "<p>10499 rows × 1 columns</p>\n",
              "</div>\n",
              "      <button class=\"colab-df-convert\" onclick=\"convertToInteractive('df-0d772f67-559b-4af3-a32f-3d531d298beb')\"\n",
              "              title=\"Convert this dataframe to an interactive table.\"\n",
              "              style=\"display:none;\">\n",
              "        \n",
              "  <svg xmlns=\"http://www.w3.org/2000/svg\" height=\"24px\"viewBox=\"0 0 24 24\"\n",
              "       width=\"24px\">\n",
              "    <path d=\"M0 0h24v24H0V0z\" fill=\"none\"/>\n",
              "    <path d=\"M18.56 5.44l.94 2.06.94-2.06 2.06-.94-2.06-.94-.94-2.06-.94 2.06-2.06.94zm-11 1L8.5 8.5l.94-2.06 2.06-.94-2.06-.94L8.5 2.5l-.94 2.06-2.06.94zm10 10l.94 2.06.94-2.06 2.06-.94-2.06-.94-.94-2.06-.94 2.06-2.06.94z\"/><path d=\"M17.41 7.96l-1.37-1.37c-.4-.4-.92-.59-1.43-.59-.52 0-1.04.2-1.43.59L10.3 9.45l-7.72 7.72c-.78.78-.78 2.05 0 2.83L4 21.41c.39.39.9.59 1.41.59.51 0 1.02-.2 1.41-.59l7.78-7.78 2.81-2.81c.8-.78.8-2.07 0-2.86zM5.41 20L4 18.59l7.72-7.72 1.47 1.35L5.41 20z\"/>\n",
              "  </svg>\n",
              "      </button>\n",
              "      \n",
              "  <style>\n",
              "    .colab-df-container {\n",
              "      display:flex;\n",
              "      flex-wrap:wrap;\n",
              "      gap: 12px;\n",
              "    }\n",
              "\n",
              "    .colab-df-convert {\n",
              "      background-color: #E8F0FE;\n",
              "      border: none;\n",
              "      border-radius: 50%;\n",
              "      cursor: pointer;\n",
              "      display: none;\n",
              "      fill: #1967D2;\n",
              "      height: 32px;\n",
              "      padding: 0 0 0 0;\n",
              "      width: 32px;\n",
              "    }\n",
              "\n",
              "    .colab-df-convert:hover {\n",
              "      background-color: #E2EBFA;\n",
              "      box-shadow: 0px 1px 2px rgba(60, 64, 67, 0.3), 0px 1px 3px 1px rgba(60, 64, 67, 0.15);\n",
              "      fill: #174EA6;\n",
              "    }\n",
              "\n",
              "    [theme=dark] .colab-df-convert {\n",
              "      background-color: #3B4455;\n",
              "      fill: #D2E3FC;\n",
              "    }\n",
              "\n",
              "    [theme=dark] .colab-df-convert:hover {\n",
              "      background-color: #434B5C;\n",
              "      box-shadow: 0px 1px 3px 1px rgba(0, 0, 0, 0.15);\n",
              "      filter: drop-shadow(0px 1px 2px rgba(0, 0, 0, 0.3));\n",
              "      fill: #FFFFFF;\n",
              "    }\n",
              "  </style>\n",
              "\n",
              "      <script>\n",
              "        const buttonEl =\n",
              "          document.querySelector('#df-0d772f67-559b-4af3-a32f-3d531d298beb button.colab-df-convert');\n",
              "        buttonEl.style.display =\n",
              "          google.colab.kernel.accessAllowed ? 'block' : 'none';\n",
              "\n",
              "        async function convertToInteractive(key) {\n",
              "          const element = document.querySelector('#df-0d772f67-559b-4af3-a32f-3d531d298beb');\n",
              "          const dataTable =\n",
              "            await google.colab.kernel.invokeFunction('convertToInteractive',\n",
              "                                                     [key], {});\n",
              "          if (!dataTable) return;\n",
              "\n",
              "          const docLinkHtml = 'Like what you see? Visit the ' +\n",
              "            '<a target=\"_blank\" href=https://colab.research.google.com/notebooks/data_table.ipynb>data table notebook</a>'\n",
              "            + ' to learn more about interactive tables.';\n",
              "          element.innerHTML = '';\n",
              "          dataTable['output_type'] = 'display_data';\n",
              "          await google.colab.output.renderOutput(dataTable, element);\n",
              "          const docLink = document.createElement('div');\n",
              "          docLink.innerHTML = docLinkHtml;\n",
              "          element.appendChild(docLink);\n",
              "        }\n",
              "      </script>\n",
              "    </div>\n",
              "  </div>\n",
              "  "
            ],
            "text/plain": [
              "               price\n",
              "Timestamp           \n",
              "1325317920  0.046788\n",
              "1325346600  0.046788\n",
              "1325350740  0.055511\n",
              "1325350800  0.061856\n",
              "1325391360  0.061856\n",
              "...              ...\n",
              "1345602540  0.490087\n",
              "1345602780  0.481364\n",
              "1345603320  0.480571\n",
              "1345605540  0.480571\n",
              "1345606020  0.483743\n",
              "\n",
              "[10499 rows x 1 columns]"
            ]
          },
          "metadata": {},
          "execution_count": 13
        }
      ]
    },
    {
      "cell_type": "code",
      "metadata": {
        "colab": {
          "base_uri": "https://localhost:8080/",
          "height": 455
        },
        "id": "xQIk7TCUADD-",
        "outputId": "2b0c5d84-72df-4707-8f62-68af2813617f"
      },
      "source": [
        "y_train = train_escala[1:len(train_escala)]\n",
        "y_train"
      ],
      "execution_count": null,
      "outputs": [
        {
          "output_type": "execute_result",
          "data": {
            "text/html": [
              "\n",
              "  <div id=\"df-a95dd9ac-9eda-487b-a1c9-3a1549a960b0\">\n",
              "    <div class=\"colab-df-container\">\n",
              "      <div>\n",
              "<style scoped>\n",
              "    .dataframe tbody tr th:only-of-type {\n",
              "        vertical-align: middle;\n",
              "    }\n",
              "\n",
              "    .dataframe tbody tr th {\n",
              "        vertical-align: top;\n",
              "    }\n",
              "\n",
              "    .dataframe thead th {\n",
              "        text-align: right;\n",
              "    }\n",
              "</style>\n",
              "<table border=\"1\" class=\"dataframe\">\n",
              "  <thead>\n",
              "    <tr style=\"text-align: right;\">\n",
              "      <th></th>\n",
              "      <th>price</th>\n",
              "    </tr>\n",
              "    <tr>\n",
              "      <th>Timestamp</th>\n",
              "      <th></th>\n",
              "    </tr>\n",
              "  </thead>\n",
              "  <tbody>\n",
              "    <tr>\n",
              "      <th>1325346600</th>\n",
              "      <td>0.046788</td>\n",
              "    </tr>\n",
              "    <tr>\n",
              "      <th>1325350740</th>\n",
              "      <td>0.055511</td>\n",
              "    </tr>\n",
              "    <tr>\n",
              "      <th>1325350800</th>\n",
              "      <td>0.061856</td>\n",
              "    </tr>\n",
              "    <tr>\n",
              "      <th>1325391360</th>\n",
              "      <td>0.061856</td>\n",
              "    </tr>\n",
              "    <tr>\n",
              "      <th>1325431680</th>\n",
              "      <td>0.082474</td>\n",
              "    </tr>\n",
              "    <tr>\n",
              "      <th>...</th>\n",
              "      <td>...</td>\n",
              "    </tr>\n",
              "    <tr>\n",
              "      <th>1345602780</th>\n",
              "      <td>0.481364</td>\n",
              "    </tr>\n",
              "    <tr>\n",
              "      <th>1345603320</th>\n",
              "      <td>0.480571</td>\n",
              "    </tr>\n",
              "    <tr>\n",
              "      <th>1345605540</th>\n",
              "      <td>0.480571</td>\n",
              "    </tr>\n",
              "    <tr>\n",
              "      <th>1345606020</th>\n",
              "      <td>0.483743</td>\n",
              "    </tr>\n",
              "    <tr>\n",
              "      <th>1345609620</th>\n",
              "      <td>0.483743</td>\n",
              "    </tr>\n",
              "  </tbody>\n",
              "</table>\n",
              "<p>10499 rows × 1 columns</p>\n",
              "</div>\n",
              "      <button class=\"colab-df-convert\" onclick=\"convertToInteractive('df-a95dd9ac-9eda-487b-a1c9-3a1549a960b0')\"\n",
              "              title=\"Convert this dataframe to an interactive table.\"\n",
              "              style=\"display:none;\">\n",
              "        \n",
              "  <svg xmlns=\"http://www.w3.org/2000/svg\" height=\"24px\"viewBox=\"0 0 24 24\"\n",
              "       width=\"24px\">\n",
              "    <path d=\"M0 0h24v24H0V0z\" fill=\"none\"/>\n",
              "    <path d=\"M18.56 5.44l.94 2.06.94-2.06 2.06-.94-2.06-.94-.94-2.06-.94 2.06-2.06.94zm-11 1L8.5 8.5l.94-2.06 2.06-.94-2.06-.94L8.5 2.5l-.94 2.06-2.06.94zm10 10l.94 2.06.94-2.06 2.06-.94-2.06-.94-.94-2.06-.94 2.06-2.06.94z\"/><path d=\"M17.41 7.96l-1.37-1.37c-.4-.4-.92-.59-1.43-.59-.52 0-1.04.2-1.43.59L10.3 9.45l-7.72 7.72c-.78.78-.78 2.05 0 2.83L4 21.41c.39.39.9.59 1.41.59.51 0 1.02-.2 1.41-.59l7.78-7.78 2.81-2.81c.8-.78.8-2.07 0-2.86zM5.41 20L4 18.59l7.72-7.72 1.47 1.35L5.41 20z\"/>\n",
              "  </svg>\n",
              "      </button>\n",
              "      \n",
              "  <style>\n",
              "    .colab-df-container {\n",
              "      display:flex;\n",
              "      flex-wrap:wrap;\n",
              "      gap: 12px;\n",
              "    }\n",
              "\n",
              "    .colab-df-convert {\n",
              "      background-color: #E8F0FE;\n",
              "      border: none;\n",
              "      border-radius: 50%;\n",
              "      cursor: pointer;\n",
              "      display: none;\n",
              "      fill: #1967D2;\n",
              "      height: 32px;\n",
              "      padding: 0 0 0 0;\n",
              "      width: 32px;\n",
              "    }\n",
              "\n",
              "    .colab-df-convert:hover {\n",
              "      background-color: #E2EBFA;\n",
              "      box-shadow: 0px 1px 2px rgba(60, 64, 67, 0.3), 0px 1px 3px 1px rgba(60, 64, 67, 0.15);\n",
              "      fill: #174EA6;\n",
              "    }\n",
              "\n",
              "    [theme=dark] .colab-df-convert {\n",
              "      background-color: #3B4455;\n",
              "      fill: #D2E3FC;\n",
              "    }\n",
              "\n",
              "    [theme=dark] .colab-df-convert:hover {\n",
              "      background-color: #434B5C;\n",
              "      box-shadow: 0px 1px 3px 1px rgba(0, 0, 0, 0.15);\n",
              "      filter: drop-shadow(0px 1px 2px rgba(0, 0, 0, 0.3));\n",
              "      fill: #FFFFFF;\n",
              "    }\n",
              "  </style>\n",
              "\n",
              "      <script>\n",
              "        const buttonEl =\n",
              "          document.querySelector('#df-a95dd9ac-9eda-487b-a1c9-3a1549a960b0 button.colab-df-convert');\n",
              "        buttonEl.style.display =\n",
              "          google.colab.kernel.accessAllowed ? 'block' : 'none';\n",
              "\n",
              "        async function convertToInteractive(key) {\n",
              "          const element = document.querySelector('#df-a95dd9ac-9eda-487b-a1c9-3a1549a960b0');\n",
              "          const dataTable =\n",
              "            await google.colab.kernel.invokeFunction('convertToInteractive',\n",
              "                                                     [key], {});\n",
              "          if (!dataTable) return;\n",
              "\n",
              "          const docLinkHtml = 'Like what you see? Visit the ' +\n",
              "            '<a target=\"_blank\" href=https://colab.research.google.com/notebooks/data_table.ipynb>data table notebook</a>'\n",
              "            + ' to learn more about interactive tables.';\n",
              "          element.innerHTML = '';\n",
              "          dataTable['output_type'] = 'display_data';\n",
              "          await google.colab.output.renderOutput(dataTable, element);\n",
              "          const docLink = document.createElement('div');\n",
              "          docLink.innerHTML = docLinkHtml;\n",
              "          element.appendChild(docLink);\n",
              "        }\n",
              "      </script>\n",
              "    </div>\n",
              "  </div>\n",
              "  "
            ],
            "text/plain": [
              "               price\n",
              "Timestamp           \n",
              "1325346600  0.046788\n",
              "1325350740  0.055511\n",
              "1325350800  0.061856\n",
              "1325391360  0.061856\n",
              "1325431680  0.082474\n",
              "...              ...\n",
              "1345602780  0.481364\n",
              "1345603320  0.480571\n",
              "1345605540  0.480571\n",
              "1345606020  0.483743\n",
              "1345609620  0.483743\n",
              "\n",
              "[10499 rows x 1 columns]"
            ]
          },
          "metadata": {},
          "execution_count": 14
        }
      ]
    },
    {
      "cell_type": "code",
      "metadata": {
        "colab": {
          "base_uri": "https://localhost:8080/",
          "height": 454
        },
        "id": "JkZVuCo9PTAA",
        "outputId": "79b8d186-40d6-425a-c979-fb723e14cafc"
      },
      "source": [
        "x_test = test[0:len(test)-1]\n",
        "x_test"
      ],
      "execution_count": null,
      "outputs": [
        {
          "output_type": "execute_result",
          "data": {
            "text/html": [
              "<div>\n",
              "<style scoped>\n",
              "    .dataframe tbody tr th:only-of-type {\n",
              "        vertical-align: middle;\n",
              "    }\n",
              "\n",
              "    .dataframe tbody tr th {\n",
              "        vertical-align: top;\n",
              "    }\n",
              "\n",
              "    .dataframe thead th {\n",
              "        text-align: right;\n",
              "    }\n",
              "</style>\n",
              "<table border=\"1\" class=\"dataframe\">\n",
              "  <thead>\n",
              "    <tr style=\"text-align: right;\">\n",
              "      <th></th>\n",
              "      <th>price</th>\n",
              "    </tr>\n",
              "    <tr>\n",
              "      <th>Timestamp</th>\n",
              "      <th></th>\n",
              "    </tr>\n",
              "  </thead>\n",
              "  <tbody>\n",
              "    <tr>\n",
              "      <th>1345609680</th>\n",
              "      <td>9.90</td>\n",
              "    </tr>\n",
              "    <tr>\n",
              "      <th>1345612020</th>\n",
              "      <td>9.80</td>\n",
              "    </tr>\n",
              "    <tr>\n",
              "      <th>1345613520</th>\n",
              "      <td>9.81</td>\n",
              "    </tr>\n",
              "    <tr>\n",
              "      <th>1345615260</th>\n",
              "      <td>9.78</td>\n",
              "    </tr>\n",
              "    <tr>\n",
              "      <th>1345615680</th>\n",
              "      <td>9.87</td>\n",
              "    </tr>\n",
              "    <tr>\n",
              "      <th>...</th>\n",
              "      <td>...</td>\n",
              "    </tr>\n",
              "    <tr>\n",
              "      <th>1348880160</th>\n",
              "      <td>12.28</td>\n",
              "    </tr>\n",
              "    <tr>\n",
              "      <th>1348881420</th>\n",
              "      <td>12.16</td>\n",
              "    </tr>\n",
              "    <tr>\n",
              "      <th>1348881480</th>\n",
              "      <td>12.16</td>\n",
              "    </tr>\n",
              "    <tr>\n",
              "      <th>1348881540</th>\n",
              "      <td>12.16</td>\n",
              "    </tr>\n",
              "    <tr>\n",
              "      <th>1348882080</th>\n",
              "      <td>12.15</td>\n",
              "    </tr>\n",
              "  </tbody>\n",
              "</table>\n",
              "<p>4499 rows × 1 columns</p>\n",
              "</div>"
            ],
            "text/plain": [
              "            price\n",
              "Timestamp        \n",
              "1345609680   9.90\n",
              "1345612020   9.80\n",
              "1345613520   9.81\n",
              "1345615260   9.78\n",
              "1345615680   9.87\n",
              "...           ...\n",
              "1348880160  12.28\n",
              "1348881420  12.16\n",
              "1348881480  12.16\n",
              "1348881540  12.16\n",
              "1348882080  12.15\n",
              "\n",
              "[4499 rows x 1 columns]"
            ]
          },
          "metadata": {},
          "execution_count": 14
        }
      ]
    },
    {
      "cell_type": "code",
      "metadata": {
        "colab": {
          "base_uri": "https://localhost:8080/",
          "height": 454
        },
        "id": "bueL-S4LPqhT",
        "outputId": "436f81ef-4e29-40b4-ba19-7d240b273f47"
      },
      "source": [
        "y_test = test[1:len(test)]\n",
        "y_test"
      ],
      "execution_count": null,
      "outputs": [
        {
          "output_type": "execute_result",
          "data": {
            "text/html": [
              "<div>\n",
              "<style scoped>\n",
              "    .dataframe tbody tr th:only-of-type {\n",
              "        vertical-align: middle;\n",
              "    }\n",
              "\n",
              "    .dataframe tbody tr th {\n",
              "        vertical-align: top;\n",
              "    }\n",
              "\n",
              "    .dataframe thead th {\n",
              "        text-align: right;\n",
              "    }\n",
              "</style>\n",
              "<table border=\"1\" class=\"dataframe\">\n",
              "  <thead>\n",
              "    <tr style=\"text-align: right;\">\n",
              "      <th></th>\n",
              "      <th>price</th>\n",
              "    </tr>\n",
              "    <tr>\n",
              "      <th>Timestamp</th>\n",
              "      <th></th>\n",
              "    </tr>\n",
              "  </thead>\n",
              "  <tbody>\n",
              "    <tr>\n",
              "      <th>1345612020</th>\n",
              "      <td>9.80</td>\n",
              "    </tr>\n",
              "    <tr>\n",
              "      <th>1345613520</th>\n",
              "      <td>9.81</td>\n",
              "    </tr>\n",
              "    <tr>\n",
              "      <th>1345615260</th>\n",
              "      <td>9.78</td>\n",
              "    </tr>\n",
              "    <tr>\n",
              "      <th>1345615680</th>\n",
              "      <td>9.87</td>\n",
              "    </tr>\n",
              "    <tr>\n",
              "      <th>1345616700</th>\n",
              "      <td>9.75</td>\n",
              "    </tr>\n",
              "    <tr>\n",
              "      <th>...</th>\n",
              "      <td>...</td>\n",
              "    </tr>\n",
              "    <tr>\n",
              "      <th>1348881420</th>\n",
              "      <td>12.16</td>\n",
              "    </tr>\n",
              "    <tr>\n",
              "      <th>1348881480</th>\n",
              "      <td>12.16</td>\n",
              "    </tr>\n",
              "    <tr>\n",
              "      <th>1348881540</th>\n",
              "      <td>12.16</td>\n",
              "    </tr>\n",
              "    <tr>\n",
              "      <th>1348882080</th>\n",
              "      <td>12.15</td>\n",
              "    </tr>\n",
              "    <tr>\n",
              "      <th>1348883580</th>\n",
              "      <td>12.25</td>\n",
              "    </tr>\n",
              "  </tbody>\n",
              "</table>\n",
              "<p>4499 rows × 1 columns</p>\n",
              "</div>"
            ],
            "text/plain": [
              "            price\n",
              "Timestamp        \n",
              "1345612020   9.80\n",
              "1345613520   9.81\n",
              "1345615260   9.78\n",
              "1345615680   9.87\n",
              "1345616700   9.75\n",
              "...           ...\n",
              "1348881420  12.16\n",
              "1348881480  12.16\n",
              "1348881540  12.16\n",
              "1348882080  12.15\n",
              "1348883580  12.25\n",
              "\n",
              "[4499 rows x 1 columns]"
            ]
          },
          "metadata": {},
          "execution_count": 15
        }
      ]
    },
    {
      "cell_type": "markdown",
      "metadata": {
        "id": "tga9m-xFAa_Z"
      },
      "source": [
        "##Paso 4. Entrenamiento red secuencial"
      ]
    },
    {
      "cell_type": "markdown",
      "metadata": {
        "id": "ZRd0uQLJAdGk"
      },
      "source": [
        "● Entrene una red secuencial con las siguientes capas:\n",
        "\n",
        "○ [LSTM](https://www.tensorflow.org/api_docs/python/tf/keras/layers/LSTM) con activación sigmoide y dimensionalidad del espacio de salida de 4.\n",
        "\n",
        "○ [Capa densa](https://www.tensorflow.org/api_docs/python/tf/keras/layers/Dense) con salida de dimensión 1."
      ]
    },
    {
      "cell_type": "markdown",
      "metadata": {
        "id": "tDqRPDB5o0cc"
      },
      "source": [
        "Para la red neuronal, utilice el [optimizador adam](https://www.tensorflow.org/api_docs/python/tf/keras/optimizers/Adam) y el error cuadrático medio como función de pérdida. "
      ]
    },
    {
      "cell_type": "code",
      "metadata": {
        "id": "Zi5kaIXhALYM"
      },
      "source": [
        "from tensorflow.keras.layers import LSTM\n",
        "from tensorflow.keras.layers import Dense, Dropout\n",
        "from keras.models import Sequential\n",
        "from tensorflow.keras.optimizers import Adam\n",
        "from sklearn.metrics import mean_squared_error"
      ],
      "execution_count": null,
      "outputs": []
    },
    {
      "cell_type": "markdown",
      "metadata": {
        "id": "jfJeTn7NbFZd"
      },
      "source": [
        "Vectorizamos train y test"
      ]
    },
    {
      "cell_type": "code",
      "metadata": {
        "id": "mkKrDOZK3ldb"
      },
      "source": [
        "# reshape [muestras, time steps, características]\n",
        "trainX = np.reshape(x_train.values, (x_train.shape[0], 1, x_train.shape[1]))\n",
        "trainY = np.reshape(y_train.values, (y_train.shape[0], 1, y_train.shape[1]))\n",
        "\n",
        "testX = np.reshape(x_test.values, (x_test.shape[0], 1, x_test.shape[1]))\n",
        "testY = np.reshape(y_test.values, (y_test.shape[0], 1, y_test.shape[1]))"
      ],
      "execution_count": null,
      "outputs": []
    },
    {
      "cell_type": "code",
      "metadata": {
        "colab": {
          "base_uri": "https://localhost:8080/"
        },
        "id": "Un0hJkm_ihdR",
        "outputId": "886aee98-b609-47c9-90a7-44fc1f8e4c34"
      },
      "source": [
        "trainX"
      ],
      "execution_count": null,
      "outputs": [
        {
          "output_type": "execute_result",
          "data": {
            "text/plain": [
              "array([[[0.04678826]],\n",
              "\n",
              "       [[0.04678826]],\n",
              "\n",
              "       [[0.0555115 ]],\n",
              "\n",
              "       ...,\n",
              "\n",
              "       [[0.48057098]],\n",
              "\n",
              "       [[0.48057098]],\n",
              "\n",
              "       [[0.48374306]]])"
            ]
          },
          "metadata": {},
          "execution_count": 18
        }
      ]
    },
    {
      "cell_type": "code",
      "metadata": {
        "colab": {
          "base_uri": "https://localhost:8080/"
        },
        "id": "m91CtAih5R3B",
        "outputId": "9dc71f52-d81f-4cda-85c1-4dbd2c5edb45"
      },
      "source": [
        "type(x_train.values)"
      ],
      "execution_count": null,
      "outputs": [
        {
          "output_type": "execute_result",
          "data": {
            "text/plain": [
              "numpy.ndarray"
            ]
          },
          "metadata": {},
          "execution_count": 19
        }
      ]
    },
    {
      "cell_type": "code",
      "metadata": {
        "colab": {
          "base_uri": "https://localhost:8080/"
        },
        "id": "PAJxrsq599pJ",
        "outputId": "d7ca1504-c947-4ce0-ff89-7e4f50819623"
      },
      "source": [
        "# Creación y ajuste de LSTM y la capa densa.\n",
        "model = Sequential()\n",
        "model.add(LSTM(4, activation='sigmoid', return_sequences=False, return_state=False, input_shape=(1, x_train.shape[1])))\n",
        "model.add(Dense(1))\n",
        "model.compile(loss='mean_squared_error', optimizer='adam')\n",
        "model.fit(trainX, trainY, epochs=50, batch_size=1, verbose=2)"
      ],
      "execution_count": null,
      "outputs": [
        {
          "output_type": "stream",
          "name": "stdout",
          "text": [
            "Epoch 1/50\n",
            "10499/10499 - 12s - loss: 0.0098\n",
            "Epoch 2/50\n",
            "10499/10499 - 12s - loss: 1.1135e-04\n",
            "Epoch 3/50\n",
            "10499/10499 - 14s - loss: 9.8997e-05\n",
            "Epoch 4/50\n",
            "10499/10499 - 12s - loss: 1.0022e-04\n",
            "Epoch 5/50\n",
            "10499/10499 - 12s - loss: 9.9217e-05\n",
            "Epoch 6/50\n",
            "10499/10499 - 12s - loss: 9.8057e-05\n",
            "Epoch 7/50\n",
            "10499/10499 - 12s - loss: 9.7480e-05\n",
            "Epoch 8/50\n",
            "10499/10499 - 11s - loss: 9.9191e-05\n",
            "Epoch 9/50\n",
            "10499/10499 - 11s - loss: 9.7777e-05\n",
            "Epoch 10/50\n",
            "10499/10499 - 11s - loss: 9.7684e-05\n",
            "Epoch 11/50\n",
            "10499/10499 - 11s - loss: 9.6227e-05\n",
            "Epoch 12/50\n",
            "10499/10499 - 11s - loss: 9.6887e-05\n",
            "Epoch 13/50\n",
            "10499/10499 - 11s - loss: 9.8062e-05\n",
            "Epoch 14/50\n",
            "10499/10499 - 11s - loss: 9.6356e-05\n",
            "Epoch 15/50\n",
            "10499/10499 - 11s - loss: 9.6048e-05\n",
            "Epoch 16/50\n",
            "10499/10499 - 11s - loss: 9.7077e-05\n",
            "Epoch 17/50\n",
            "10499/10499 - 11s - loss: 9.6293e-05\n",
            "Epoch 18/50\n",
            "10499/10499 - 11s - loss: 9.6041e-05\n",
            "Epoch 19/50\n",
            "10499/10499 - 11s - loss: 9.5988e-05\n",
            "Epoch 20/50\n",
            "10499/10499 - 11s - loss: 9.5236e-05\n",
            "Epoch 21/50\n",
            "10499/10499 - 11s - loss: 9.6729e-05\n",
            "Epoch 22/50\n",
            "10499/10499 - 11s - loss: 9.4959e-05\n",
            "Epoch 23/50\n",
            "10499/10499 - 11s - loss: 9.4989e-05\n",
            "Epoch 24/50\n",
            "10499/10499 - 11s - loss: 9.5184e-05\n",
            "Epoch 25/50\n",
            "10499/10499 - 11s - loss: 9.5229e-05\n",
            "Epoch 26/50\n",
            "10499/10499 - 11s - loss: 9.5114e-05\n",
            "Epoch 27/50\n",
            "10499/10499 - 11s - loss: 9.5979e-05\n",
            "Epoch 28/50\n",
            "10499/10499 - 11s - loss: 9.5017e-05\n",
            "Epoch 29/50\n",
            "10499/10499 - 11s - loss: 9.4969e-05\n",
            "Epoch 30/50\n",
            "10499/10499 - 11s - loss: 9.5562e-05\n",
            "Epoch 31/50\n",
            "10499/10499 - 11s - loss: 9.5432e-05\n",
            "Epoch 32/50\n",
            "10499/10499 - 11s - loss: 9.4122e-05\n",
            "Epoch 33/50\n",
            "10499/10499 - 11s - loss: 9.4976e-05\n",
            "Epoch 34/50\n",
            "10499/10499 - 11s - loss: 9.3300e-05\n",
            "Epoch 35/50\n",
            "10499/10499 - 11s - loss: 9.2973e-05\n",
            "Epoch 36/50\n",
            "10499/10499 - 11s - loss: 9.5728e-05\n",
            "Epoch 37/50\n",
            "10499/10499 - 11s - loss: 9.5296e-05\n",
            "Epoch 38/50\n",
            "10499/10499 - 11s - loss: 9.4510e-05\n",
            "Epoch 39/50\n",
            "10499/10499 - 11s - loss: 9.3770e-05\n",
            "Epoch 40/50\n",
            "10499/10499 - 11s - loss: 9.3745e-05\n",
            "Epoch 41/50\n",
            "10499/10499 - 11s - loss: 9.2430e-05\n",
            "Epoch 42/50\n",
            "10499/10499 - 11s - loss: 9.4496e-05\n",
            "Epoch 43/50\n",
            "10499/10499 - 11s - loss: 9.3900e-05\n",
            "Epoch 44/50\n",
            "10499/10499 - 11s - loss: 9.3418e-05\n",
            "Epoch 45/50\n",
            "10499/10499 - 11s - loss: 9.3251e-05\n",
            "Epoch 46/50\n",
            "10499/10499 - 11s - loss: 9.3545e-05\n",
            "Epoch 47/50\n",
            "10499/10499 - 11s - loss: 9.3053e-05\n",
            "Epoch 48/50\n",
            "10499/10499 - 11s - loss: 9.3698e-05\n",
            "Epoch 49/50\n",
            "10499/10499 - 11s - loss: 9.2881e-05\n",
            "Epoch 50/50\n",
            "10499/10499 - 11s - loss: 9.3765e-05\n"
          ]
        },
        {
          "output_type": "execute_result",
          "data": {
            "text/plain": [
              "<keras.callbacks.History at 0x7fd2a9376510>"
            ]
          },
          "metadata": {},
          "execution_count": 20
        }
      ]
    },
    {
      "cell_type": "markdown",
      "metadata": {
        "id": "cJ7z3eAHo74f"
      },
      "source": [
        "##Regresar al espacio original"
      ]
    },
    {
      "cell_type": "markdown",
      "metadata": {
        "id": "9K_un60Lo66m"
      },
      "source": [
        "Una vez que obtenga las predicciones, regrese éstas al espacio original (sklearn.preprocessing.MinMaxScaler.inverse_transform) y realice una gráfica comparando los datos reales con los predecidos por la red."
      ]
    },
    {
      "cell_type": "code",
      "metadata": {
        "colab": {
          "base_uri": "https://localhost:8080/"
        },
        "id": "PmFpkMWKKNU8",
        "outputId": "bb2718bd-94dd-401f-ff9b-0a417f944623"
      },
      "source": [
        "trainX"
      ],
      "execution_count": null,
      "outputs": [
        {
          "output_type": "execute_result",
          "data": {
            "text/plain": [
              "array([[[0.04678826]],\n",
              "\n",
              "       [[0.04678826]],\n",
              "\n",
              "       [[0.0555115 ]],\n",
              "\n",
              "       ...,\n",
              "\n",
              "       [[0.48057098]],\n",
              "\n",
              "       [[0.48057098]],\n",
              "\n",
              "       [[0.48374306]]])"
            ]
          },
          "metadata": {},
          "execution_count": 21
        }
      ]
    },
    {
      "cell_type": "code",
      "metadata": {
        "id": "pHDK_qvhBzMu"
      },
      "source": [
        "# Predicciones\n",
        "trainPredict = model.predict(trainX)\n",
        "testPredict = model.predict(testX)"
      ],
      "execution_count": null,
      "outputs": []
    },
    {
      "cell_type": "code",
      "metadata": {
        "id": "gKLWyclBBhYX"
      },
      "source": [
        "# Invertir predicciones\n",
        "trainPredict = escala.inverse_transform(trainPredict)\n",
        "testPredict = escala.inverse_transform(testPredict)"
      ],
      "execution_count": null,
      "outputs": []
    },
    {
      "cell_type": "code",
      "metadata": {
        "colab": {
          "base_uri": "https://localhost:8080/"
        },
        "id": "rHvTCe44Ccex",
        "outputId": "5d71e8a4-7b1f-46bc-aafd-e43d88a23779"
      },
      "source": [
        "trainPredict"
      ],
      "execution_count": null,
      "outputs": [
        {
          "output_type": "execute_result",
          "data": {
            "text/plain": [
              "array([[4.404777],\n",
              "       [4.404777],\n",
              "       [4.511657],\n",
              "       ...,\n",
              "       [9.92026 ],\n",
              "       [9.92026 ],\n",
              "       [9.961194]], dtype=float32)"
            ]
          },
          "metadata": {},
          "execution_count": 24
        }
      ]
    },
    {
      "cell_type": "markdown",
      "metadata": {
        "id": "dUmCui_RojRS"
      },
      "source": [
        "#3. Evaluación de la predicción"
      ]
    },
    {
      "cell_type": "markdown",
      "metadata": {
        "id": "YcG5KDpwuow0"
      },
      "source": [
        "El error absoluto promedio es el promedio de todos los valores absolutos. La fórmula es:\n",
        "\n",
        "$MAE = \\frac1n \\sum _{i=1} ^n |x_i - x| $\n",
        "\n",
        "\n",
        "El error cuadrático medio (mean squared error) nos dice qué tan cerca está una línea de regresión a un conjunto de puntos. Lo hace tomando las distancias desde los puntos a la línea de la regresión (errores) y elevándolos al cuadrado, lo cual se realiza para remover signos negativos. Esta medida toma el promedio del conjunto de los errores y da más peso a diferencias más grandes. Entre menor sea este valor, mejor es la predicción. La fórmula es:\n",
        "\n",
        "$RMSLE = \\sqrt {\\frac1n \\sum (x - x_i)^2}$\n",
        "\n",
        "donde:\n",
        "\n",
        "\n",
        "$x_i$ es la predicción,\n",
        "\n",
        "$x$ es el valor real.\n",
        "\n",
        "$n$ es el tamaño de la muestra"
      ]
    },
    {
      "cell_type": "code",
      "metadata": {
        "colab": {
          "base_uri": "https://localhost:8080/"
        },
        "id": "937Z7EzM1nnf",
        "outputId": "431d409d-4c24-4987-94bc-22257f2f82b0"
      },
      "source": [
        "print(\"\\n MAE : \\n \", mean_absolute_error(y_train,trainPredict))\n",
        "print(\"\\n RMSLE : \\n \", mean_squared_error(y_train, trainPredict))"
      ],
      "execution_count": null,
      "outputs": [
        {
          "output_type": "stream",
          "name": "stdout",
          "text": [
            "\n",
            " MAE : \n",
            "  7.259243855181831\n",
            "\n",
            " RMSLE : \n",
            "  58.29533216593527\n"
          ]
        }
      ]
    },
    {
      "cell_type": "markdown",
      "metadata": {
        "id": "6ISGs9GnorN1"
      },
      "source": [
        "#4. Gráfica comparando los datos reales con los arrojados por el modelo."
      ]
    },
    {
      "cell_type": "code",
      "metadata": {
        "colab": {
          "base_uri": "https://localhost:8080/",
          "height": 798
        },
        "id": "vVGi5ABXB3yT",
        "outputId": "44206bbd-cc61-4141-ea54-81c4e8190732"
      },
      "source": [
        "plt.rcParams[\"figure.figsize\"] = (30,17)\n",
        "plt.plot(escala.inverse_transform(y_train.reset_index(drop=True)))\n",
        "plt.plot(trainPredict)\n",
        "#plt.plot(testPredict)\n",
        "plt.show()"
      ],
      "execution_count": null,
      "outputs": [
        {
          "output_type": "display_data",
          "data": {
            "image/png": "[encoded data removed]",
            "text/plain": [
              "<Figure size 2160x1224 with 1 Axes>"
            ]
          },
          "metadata": {
            "needs_background": "light"
          }
        }
      ]
    },
    {
      "cell_type": "markdown",
      "metadata": {
        "id": "AJTtG8IXoyV_"
      },
      "source": [
        "#5. Conclusiones."
      ]
    },
    {
      "cell_type": "markdown",
      "metadata": {
        "id": "4iDd_xRso_PA"
      },
      "source": [
        "Los datos obtenidos por el modelo son muy parecidos a los reales, por lo que el modelo sobre ajustó a los datos. "
      ]
    },
    {
      "cell_type": "markdown",
      "metadata": {
        "id": "6z99g9jZpOeW"
      },
      "source": [
        "# Extra"
      ]
    },
    {
      "cell_type": "markdown",
      "metadata": {
        "id": "i2z1_hdcpQLW"
      },
      "source": [
        "● ¿El modelo “sobre ajustó” los datos?\n",
        "\n",
        "○ En caso de ser afirmativa la respuesta, agregué una capa de Dropout al modelo y pruebe con diferentes optimizadores y funciones de activación"
      ]
    },
    {
      "cell_type": "markdown",
      "metadata": {
        "id": "8UtCD8L2XkU8"
      },
      "source": [
        "##Observaciones"
      ]
    },
    {
      "cell_type": "markdown",
      "metadata": {
        "id": "DKmvde0y3mw2"
      },
      "source": [
        "Se realizaron cambios al modelo y se obtuvieron las siguientes observaciones:\n",
        "\n",
        "* Al agregar una capa de Dropout al modelo, se atenuó el sobre ajuste a los datos. Así mismo, agregando una capa de Dropout y modificando la pérdida por mean_absolute_percentage_error, se atenuó aún más el sobre ajuste. \n",
        "\n",
        "* Al agregar una capa de Dropout al modelo y cambiar la función de activación por tanh, de igual manera se observó una atenuación del sobre ajuste, pero no tanto como con la función sigmoide más dropout.\n",
        "\n",
        "* Al cambiar a optimizadores como adadelta, adagrad el modelo sub ajustó a los datos."
      ]
    },
    {
      "cell_type": "code",
      "metadata": {
        "colab": {
          "base_uri": "https://localhost:8080/"
        },
        "id": "xQNWDxZo2zkV",
        "outputId": "91a709e5-99d2-4b00-8126-99bb0fe6db50"
      },
      "source": [
        "# Creación y ajuste de LSTM y la capa densa.\n",
        "model = Sequential()\n",
        "model.add(LSTM(4, activation='sigmoid', return_sequences=False, return_state=False, input_shape=(1, x_train.shape[1])))\n",
        "model.add(Dropout(0.2))\n",
        "model.add(Dense(1))\n",
        "model.compile(loss= 'mean_squared_error', optimizer= 'adam')\n",
        "model.fit(trainX, trainY, epochs=50, batch_size=1, verbose=2)"
      ],
      "execution_count": null,
      "outputs": [
        {
          "output_type": "stream",
          "name": "stdout",
          "text": [
            "Epoch 1/50\n",
            "10499/10499 - 13s - loss: 0.0035\n",
            "Epoch 2/50\n",
            "10499/10499 - 12s - loss: 1.0197e-04\n",
            "Epoch 3/50\n",
            "10499/10499 - 12s - loss: 1.0277e-04\n",
            "Epoch 4/50\n",
            "10499/10499 - 12s - loss: 1.0131e-04\n",
            "Epoch 5/50\n",
            "10499/10499 - 12s - loss: 1.0135e-04\n",
            "Epoch 6/50\n",
            "10499/10499 - 12s - loss: 1.0092e-04\n",
            "Epoch 7/50\n",
            "10499/10499 - 13s - loss: 1.0099e-04\n",
            "Epoch 8/50\n",
            "10499/10499 - 15s - loss: 1.0033e-04\n",
            "Epoch 9/50\n",
            "10499/10499 - 12s - loss: 1.0025e-04\n",
            "Epoch 10/50\n",
            "10499/10499 - 12s - loss: 1.0038e-04\n",
            "Epoch 11/50\n",
            "10499/10499 - 13s - loss: 1.0004e-04\n",
            "Epoch 12/50\n",
            "10499/10499 - 12s - loss: 9.8632e-05\n",
            "Epoch 13/50\n",
            "10499/10499 - 12s - loss: 1.0034e-04\n",
            "Epoch 14/50\n",
            "10499/10499 - 12s - loss: 9.8509e-05\n",
            "Epoch 15/50\n",
            "10499/10499 - 12s - loss: 9.7697e-05\n",
            "Epoch 16/50\n",
            "10499/10499 - 12s - loss: 1.0005e-04\n",
            "Epoch 17/50\n",
            "10499/10499 - 12s - loss: 9.7644e-05\n",
            "Epoch 18/50\n",
            "10499/10499 - 12s - loss: 9.9861e-05\n",
            "Epoch 19/50\n",
            "10499/10499 - 12s - loss: 9.8506e-05\n",
            "Epoch 20/50\n",
            "10499/10499 - 12s - loss: 9.8098e-05\n",
            "Epoch 21/50\n",
            "10499/10499 - 12s - loss: 9.9429e-05\n",
            "Epoch 22/50\n",
            "10499/10499 - 12s - loss: 9.8164e-05\n",
            "Epoch 23/50\n",
            "10499/10499 - 12s - loss: 9.8342e-05\n",
            "Epoch 24/50\n",
            "10499/10499 - 12s - loss: 9.7684e-05\n",
            "Epoch 25/50\n",
            "10499/10499 - 12s - loss: 9.7453e-05\n",
            "Epoch 26/50\n",
            "10499/10499 - 12s - loss: 9.8263e-05\n",
            "Epoch 27/50\n",
            "10499/10499 - 12s - loss: 9.7064e-05\n",
            "Epoch 28/50\n",
            "10499/10499 - 12s - loss: 9.7833e-05\n",
            "Epoch 29/50\n",
            "10499/10499 - 13s - loss: 9.6555e-05\n",
            "Epoch 30/50\n",
            "10499/10499 - 12s - loss: 9.7141e-05\n",
            "Epoch 31/50\n",
            "10499/10499 - 12s - loss: 9.6507e-05\n",
            "Epoch 32/50\n",
            "10499/10499 - 12s - loss: 9.7622e-05\n",
            "Epoch 33/50\n",
            "10499/10499 - 12s - loss: 9.6373e-05\n",
            "Epoch 34/50\n",
            "10499/10499 - 12s - loss: 9.5370e-05\n",
            "Epoch 35/50\n",
            "10499/10499 - 12s - loss: 9.6136e-05\n",
            "Epoch 36/50\n",
            "10499/10499 - 12s - loss: 9.7062e-05\n",
            "Epoch 37/50\n",
            "10499/10499 - 12s - loss: 9.5660e-05\n",
            "Epoch 38/50\n",
            "10499/10499 - 12s - loss: 9.4903e-05\n",
            "Epoch 39/50\n",
            "10499/10499 - 12s - loss: 9.5577e-05\n",
            "Epoch 40/50\n",
            "10499/10499 - 12s - loss: 9.4252e-05\n",
            "Epoch 41/50\n",
            "10499/10499 - 12s - loss: 9.4842e-05\n",
            "Epoch 42/50\n",
            "10499/10499 - 12s - loss: 9.4767e-05\n",
            "Epoch 43/50\n",
            "10499/10499 - 12s - loss: 9.4013e-05\n",
            "Epoch 44/50\n",
            "10499/10499 - 12s - loss: 9.4915e-05\n",
            "Epoch 45/50\n",
            "10499/10499 - 12s - loss: 9.3977e-05\n",
            "Epoch 46/50\n",
            "10499/10499 - 12s - loss: 9.6465e-05\n",
            "Epoch 47/50\n",
            "10499/10499 - 12s - loss: 9.3846e-05\n",
            "Epoch 48/50\n",
            "10499/10499 - 12s - loss: 9.5664e-05\n",
            "Epoch 49/50\n",
            "10499/10499 - 12s - loss: 9.4470e-05\n",
            "Epoch 50/50\n",
            "10499/10499 - 12s - loss: 9.4626e-05\n"
          ]
        },
        {
          "output_type": "execute_result",
          "data": {
            "text/plain": [
              "<keras.callbacks.History at 0x7fd29b8c6c10>"
            ]
          },
          "metadata": {},
          "execution_count": 50
        }
      ]
    },
    {
      "cell_type": "code",
      "metadata": {
        "id": "vSRWfz1rJGK8"
      },
      "source": [
        "# Predicciones\n",
        "trainPredict = model.predict(trainX)\n",
        "testPredict = model.predict(testX)"
      ],
      "execution_count": null,
      "outputs": []
    },
    {
      "cell_type": "code",
      "metadata": {
        "id": "MQdJDb3JJKTJ"
      },
      "source": [
        "# Invertir predicciones\n",
        "trainPredict = escala.inverse_transform(trainPredict)\n",
        "testPredict = escala.inverse_transform(testPredict)"
      ],
      "execution_count": null,
      "outputs": []
    },
    {
      "cell_type": "code",
      "metadata": {
        "colab": {
          "base_uri": "https://localhost:8080/",
          "height": 798
        },
        "id": "EThBdst0242Q",
        "outputId": "fa6ac319-7746-463e-e357-f94469f1d697"
      },
      "source": [
        "plt.rcParams[\"figure.figsize\"] = (30,17)\n",
        "plt.plot(escala.inverse_transform(y_train.reset_index(drop=True)))\n",
        "plt.plot(trainPredict)\n",
        "#plt.plot(testPredict)\n",
        "plt.show()"
      ],
      "execution_count": null,
      "outputs": [
        {
          "output_type": "display_data",
          "data": {
            "image/png": "[encoded data removed]",
            "text/plain": [
              "<Figure size 2160x1224 with 1 Axes>"
            ]
          },
          "metadata": {
            "needs_background": "light"
          }
        }
      ]
    },
    {
      "cell_type": "code",
      "metadata": {
        "colab": {
          "base_uri": "https://localhost:8080/"
        },
        "id": "3xS4S_f_26mM",
        "outputId": "2ce57b1e-2ad5-4f0f-a9c7-90c8bbbfae02"
      },
      "source": [
        "print(\"\\n MAE : \\n \", mean_absolute_error(y_train,trainPredict))\n",
        "print(\"\\n RMSLE : \\n \", mean_squared_error(y_train, trainPredict))"
      ],
      "execution_count": null,
      "outputs": [
        {
          "output_type": "stream",
          "name": "stdout",
          "text": [
            "\n",
            " MAE : \n",
            "  7.237512430436867\n",
            "\n",
            " RMSLE : \n",
            "  57.851901308307596\n"
          ]
        }
      ]
    }
  ]
}