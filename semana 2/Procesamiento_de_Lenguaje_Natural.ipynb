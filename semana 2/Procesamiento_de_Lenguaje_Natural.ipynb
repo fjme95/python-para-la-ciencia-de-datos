{
  "nbformat": 4,
  "nbformat_minor": 0,
  "metadata": {
    "colab": {
      "name": "Procesamiento de Lenguaje Natural.ipynb",
      "provenance": [],
      "collapsed_sections": [],
      "include_colab_link": true
    },
    "kernelspec": {
      "name": "python3",
      "display_name": "Python 3"
    },
    "language_info": {
      "name": "python"
    }
  },
  "cells": [
    {
      "cell_type": "markdown",
      "metadata": {
        "id": "view-in-github",
        "colab_type": "text"
      },
      "source": [
        "<a href=\"https://colab.research.google.com/github/fjme95/python-para-la-ciencia-de-datos/blob/main/semana%202/Procesamiento_de_Lenguaje_Natural.ipynb\" target=\"_parent\"><img src=\"https://colab.research.google.com/assets/colab-badge.svg\" alt=\"Open In Colab\"/></a>"
      ]
    },
    {
      "cell_type": "markdown",
      "metadata": {
        "id": "hmZdqVfDB7YJ"
      },
      "source": [
        "# Procesamiento de Lenguaje Natural"
      ]
    },
    {
      "cell_type": "markdown",
      "metadata": {
        "id": "0eRergtICWjz"
      },
      "source": [
        "Se tendrá una introducción al procesamiento de texto usando Python 3. Los pasos a seguir son\n",
        "\n",
        "1. Convertir texto a minúsculas\n",
        "2. Eliminar puntuación\n",
        "3. Eliminar \"stopwords\"\n",
        "4. Lematización o radicalización\n",
        "5. Vectorización\n",
        "\n",
        "Los puntos del 1 al 4, preprocesamiento del texto, son opcionales. Sin embargo, ayuda a tener una mejor vectorización.\n",
        "\n",
        "La razón por la cual queremos vectorizar el texto, es para que podamos utilizarlo como entrada para los modelos de aprendizaje de máquina.\n",
        "\n",
        "El método que usaremos para transformar el texto a una entrada para los modelos matemáticos (regresiones, pca, svm, etc.) es el de la [Bolsa de Palabras](https://en.wikipedia.org/wiki/Bag-of-words_model) (BoW por sus siglás en inglés) sin considerar [n-grams](https://en.wikipedia.org/wiki/N-gram) ni [skip-grams](https://en.wikipedia.org/wiki/N-gram#Skip-gram). En este, cada entrada del vector final representa a una única palabra."
      ]
    },
    {
      "cell_type": "markdown",
      "metadata": {
        "id": "9KZxFw2EB7JY"
      },
      "source": [
        "## Dependencias del notebook\n",
        "\n"
      ]
    },
    {
      "cell_type": "markdown",
      "metadata": {
        "id": "l_zEdqckB3Mq"
      },
      "source": [
        "Se ocupa ```import``` para agregar las librerias que utilizaremos. Se pueden ocupar las funciones, clases y variables de cada libreria que ocupemos usando el nombre de la libreri a luego el del recurso. Por ejemplo,\n",
        "\n",
        "```python\n",
        "import numpy \n",
        "numpy.array([12, 3, 4])\n",
        "``` \n",
        "\n",
        "También, se pueden crear \"alias\" de las librerias ocupando ```as``` después del ```import``` (e.g. ```import numpy as np```), esto hará más corta la llamada a los recursos de la libreria\n",
        "\n",
        "```python\n",
        "import numpy as np\n",
        "np.array([12, 3, 4)\n",
        "```\n",
        "Sí sólo se quiere ocupar una cantidad fija de funciones de la libreria, se pueden importar con ```import ... from ...```.\n",
        "```python\n",
        "from numpy import array, arange\n",
        "array([1, 2, 3])\n",
        "arange(10)\n",
        "```"
      ]
    },
    {
      "cell_type": "markdown",
      "metadata": {
        "id": "kn3ae9QjGFPn"
      },
      "source": [
        "Importamos las dependencias que ocuparemos"
      ]
    },
    {
      "cell_type": "code",
      "metadata": {
        "id": "sxH01MeJEWt1"
      },
      "source": [
        "import pandas as pd\n",
        "\n",
        "import re\n",
        "\n",
        "import nltk \n",
        "from nltk.corpus import stopwords\n",
        "from nltk.stem import WordNetLemmatizer, PorterStemmer\n",
        "from nltk.tokenize import word_tokenize\n",
        "\n",
        "from sklearn.feature_extraction.text import TfidfVectorizer"
      ],
      "execution_count": null,
      "outputs": []
    },
    {
      "cell_type": "markdown",
      "metadata": {
        "id": "2aBHjxYqF-xf"
      },
      "source": [
        "Se descargan dos recursos que utilizaremos de ```nltk```: ```stopwords``` para eliminarlas de nuestro corpus y ```wordnet``` para lematizar."
      ]
    },
    {
      "cell_type": "code",
      "metadata": {
        "colab": {
          "base_uri": "https://localhost:8080/"
        },
        "id": "03n62oFlF-GX",
        "outputId": "68764296-0852-48e4-b317-343d98979534"
      },
      "source": [
        "nltk.download('stopwords')\n",
        "nltk.download('wordnet')"
      ],
      "execution_count": null,
      "outputs": [
        {
          "output_type": "stream",
          "name": "stdout",
          "text": [
            "[nltk_data] Downloading package stopwords to /root/nltk_data...\n",
            "[nltk_data]   Unzipping corpora/stopwords.zip.\n",
            "[nltk_data] Downloading package wordnet to /root/nltk_data...\n",
            "[nltk_data]   Unzipping corpora/wordnet.zip.\n"
          ]
        },
        {
          "output_type": "execute_result",
          "data": {
            "text/plain": [
              "True"
            ]
          },
          "metadata": {},
          "execution_count": 2
        }
      ]
    },
    {
      "cell_type": "code",
      "metadata": {
        "id": "CMweMlrLYqJC"
      },
      "source": [
        "lemmatizer = WordNetLemmatizer()\n",
        "stemmer = PorterStemmer()"
      ],
      "execution_count": null,
      "outputs": []
    },
    {
      "cell_type": "markdown",
      "metadata": {
        "id": "OrVKMXrGCjPy"
      },
      "source": [
        "## Lectura de los datos"
      ]
    },
    {
      "cell_type": "markdown",
      "metadata": {
        "id": "q2Bu9A9mCjV8"
      },
      "source": [
        "Ocuparemos la colección de [Ohsumed](https://www.mat.unical.it/OlexSuite/Datasets/SampleDataSets-about.htm) para mostrar el proceso completo del procesamiento. Esta, es un subconjunto de la base de datos de MEDLINE, que tiene literatura médica mantenida por la National Library of Medicine."
      ]
    },
    {
      "cell_type": "code",
      "metadata": {
        "colab": {
          "base_uri": "https://localhost:8080/",
          "height": 441
        },
        "id": "YTTOASNpE1kQ",
        "outputId": "bebd7d3c-40fa-412f-dbbe-7ea702cd029f"
      },
      "source": [
        "data = pd.read_csv('https://raw.githubusercontent.com/danieljfeller/medline-multilabel/master/data/processed/ohsumed_abstracts.csv', usecols=['doc', 'label'])\n",
        "print(data.shape)\n",
        "data"
      ],
      "execution_count": null,
      "outputs": [
        {
          "output_type": "stream",
          "name": "stdout",
          "text": [
            "(13924, 2)\n"
          ]
        },
        {
          "output_type": "execute_result",
          "data": {
            "text/html": [
              "<div>\n",
              "<style scoped>\n",
              "    .dataframe tbody tr th:only-of-type {\n",
              "        vertical-align: middle;\n",
              "    }\n",
              "\n",
              "    .dataframe tbody tr th {\n",
              "        vertical-align: top;\n",
              "    }\n",
              "\n",
              "    .dataframe thead th {\n",
              "        text-align: right;\n",
              "    }\n",
              "</style>\n",
              "<table border=\"1\" class=\"dataframe\">\n",
              "  <thead>\n",
              "    <tr style=\"text-align: right;\">\n",
              "      <th></th>\n",
              "      <th>label</th>\n",
              "      <th>doc</th>\n",
              "    </tr>\n",
              "  </thead>\n",
              "  <tbody>\n",
              "    <tr>\n",
              "      <th>0</th>\n",
              "      <td>16</td>\n",
              "      <td>Improved outcome at 28 days of age for very l...</td>\n",
              "    </tr>\n",
              "    <tr>\n",
              "      <th>1</th>\n",
              "      <td>5</td>\n",
              "      <td>Chylothorax after posterior spinal instrument...</td>\n",
              "    </tr>\n",
              "    <tr>\n",
              "      <th>2</th>\n",
              "      <td>16</td>\n",
              "      <td>Childhood pulmonary function following hyalin...</td>\n",
              "    </tr>\n",
              "    <tr>\n",
              "      <th>3</th>\n",
              "      <td>8</td>\n",
              "      <td>Treatment of atelectasis of upper lung lobes....</td>\n",
              "    </tr>\n",
              "    <tr>\n",
              "      <th>4</th>\n",
              "      <td>21</td>\n",
              "      <td>Decision analysis, public health policy, and ...</td>\n",
              "    </tr>\n",
              "    <tr>\n",
              "      <th>...</th>\n",
              "      <td>...</td>\n",
              "      <td>...</td>\n",
              "    </tr>\n",
              "    <tr>\n",
              "      <th>13919</th>\n",
              "      <td>11</td>\n",
              "      <td>Results of blepharoptosis surgery with early ...</td>\n",
              "    </tr>\n",
              "    <tr>\n",
              "      <th>13920</th>\n",
              "      <td>11</td>\n",
              "      <td>A century of cerebral achromatopsia, This rev...</td>\n",
              "    </tr>\n",
              "    <tr>\n",
              "      <th>13921</th>\n",
              "      <td>11</td>\n",
              "      <td>Intraocular lens implantation after penetrati...</td>\n",
              "    </tr>\n",
              "    <tr>\n",
              "      <th>13922</th>\n",
              "      <td>11</td>\n",
              "      <td>Reproducibility of topographic measurements o...</td>\n",
              "    </tr>\n",
              "    <tr>\n",
              "      <th>13923</th>\n",
              "      <td>11</td>\n",
              "      <td>Cyclocryotherapy in selected cases of congeni...</td>\n",
              "    </tr>\n",
              "  </tbody>\n",
              "</table>\n",
              "<p>13924 rows × 2 columns</p>\n",
              "</div>"
            ],
            "text/plain": [
              "       label                                                doc\n",
              "0         16   Improved outcome at 28 days of age for very l...\n",
              "1          5   Chylothorax after posterior spinal instrument...\n",
              "2         16   Childhood pulmonary function following hyalin...\n",
              "3          8   Treatment of atelectasis of upper lung lobes....\n",
              "4         21   Decision analysis, public health policy, and ...\n",
              "...      ...                                                ...\n",
              "13919     11   Results of blepharoptosis surgery with early ...\n",
              "13920     11   A century of cerebral achromatopsia, This rev...\n",
              "13921     11   Intraocular lens implantation after penetrati...\n",
              "13922     11   Reproducibility of topographic measurements o...\n",
              "13923     11   Cyclocryotherapy in selected cases of congeni...\n",
              "\n",
              "[13924 rows x 2 columns]"
            ]
          },
          "metadata": {},
          "execution_count": 135
        }
      ]
    },
    {
      "cell_type": "markdown",
      "metadata": {
        "id": "3JH5PkuBMzJ4"
      },
      "source": [
        "Ocuparemos el primer documento como ejemplo de cada paso en el procesamiento.\n"
      ]
    },
    {
      "cell_type": "code",
      "metadata": {
        "colab": {
          "base_uri": "https://localhost:8080/",
          "height": 209
        },
        "id": "olHdTVQWM5B9",
        "outputId": "82e3304b-b520-4cc6-8b2e-288ee5817705"
      },
      "source": [
        "ejemplo = data['doc'][0]\n",
        "ejemplo"
      ],
      "execution_count": null,
      "outputs": [
        {
          "output_type": "execute_result",
          "data": {
            "application/vnd.google.colaboratory.intrinsic+json": {
              "type": "string"
            },
            "text/plain": [
              "' Improved outcome at 28 days of age for very low birth weight infants treated with a single dose of a synthetic surfactant, Two identical double-blind. controlled. randomized trials were initiated to determine whether the administration of a single 5 ml/kg dose of a synthetic surfactant (Exosurf Neonatal). soon after the delivery of infants with birth weights 700 to 1350 gm. would improve rates of survival without bronchopulmonary dysplasia. Both trials were terminated before enrolling their planned sample sizes because of the availability of Exosurf under the provisions of a Treatment Investigational New Drug program. We report the combined results of these trials. Study infants were stratified according to birth weight and gender before random assignment to a treatment regimen. One hundred ninety-two infants received Exosurf and 193 received an air placebo. The study groups were similar when a variety of demographic features describing the mothers. their pregnancies. the circumstances of the births. and the infants were compared. Exosurf-treated infants required significantly less oxygen and respiratory support during the first 3 days of life in comparison with the air-treated infants. Fewer infants in the Exosurf group had pulmonary interstitial emphysema (26 vs 13; p = 0.028). In the Exosurf group. there was a significant reduction in the combined outcome. neonatal death or survival with bronchopulmonary dysplasia (57 vs 39; p = 0.042). and there was a significant increase in rates of survival without this disease (128 vs 137; p = 0.042). There were no differences between treatment groups in the incidences of a variety of complications of prematurity. including apnea. patent ductus arteriosus. intraventricular hemorrhage. and necrotizing enterocolitis. We conclude that improvements in respiratory physiology after a single prophylactic dose of Exosurf result in an increased likelihood of neonatal survival without bronchopulmonary dysplasia.'"
            ]
          },
          "metadata": {},
          "execution_count": 136
        }
      ]
    },
    {
      "cell_type": "markdown",
      "metadata": {
        "id": "o1Fxw0j7Cjca"
      },
      "source": [
        "## Preprocesamiento"
      ]
    },
    {
      "cell_type": "markdown",
      "metadata": {
        "id": "ewaujxeUHqq8"
      },
      "source": [
        "El objetivo del preprocesamiento del texto es estandarizarlo y reducirlo lo más posible para facilitar su análisis y evitar entrenar al nuestros modelos con \"texto irrelevante\".\n"
      ]
    },
    {
      "cell_type": "markdown",
      "metadata": {
        "id": "_J_GV4leMdtj"
      },
      "source": [
        "### Texto a minúsculas\n",
        "\n",
        "\n"
      ]
    },
    {
      "cell_type": "markdown",
      "metadata": {
        "id": "rwjU3sFyCjgX"
      },
      "source": [
        "El primer paso es pasar todo a minúsculas. Lo hacemos para evitar que la misma palabra tenga una entrada diferente en nuestro vector final (e.g. ```Avión``` y ```avión``` es la misma palabra, pero se tomarían como distintas para el vector).\n",
        "\n",
        "Para convertirlo, usaremos la función ```lower```."
      ]
    },
    {
      "cell_type": "code",
      "metadata": {
        "colab": {
          "base_uri": "https://localhost:8080/"
        },
        "id": "RK_jh9M3MjXj",
        "outputId": "06d7d04d-ab70-4ef2-c29e-23f44a6ea6be"
      },
      "source": [
        "ejemplo = ejemplo.lower()\n",
        "print(len(ejemplo))\n",
        "ejemplo"
      ],
      "execution_count": null,
      "outputs": [
        {
          "output_type": "stream",
          "name": "stdout",
          "text": [
            "1977\n"
          ]
        },
        {
          "output_type": "execute_result",
          "data": {
            "application/vnd.google.colaboratory.intrinsic+json": {
              "type": "string"
            },
            "text/plain": [
              "' improved outcome at 28 days of age for very low birth weight infants treated with a single dose of a synthetic surfactant, two identical double-blind. controlled. randomized trials were initiated to determine whether the administration of a single 5 ml/kg dose of a synthetic surfactant (exosurf neonatal). soon after the delivery of infants with birth weights 700 to 1350 gm. would improve rates of survival without bronchopulmonary dysplasia. both trials were terminated before enrolling their planned sample sizes because of the availability of exosurf under the provisions of a treatment investigational new drug program. we report the combined results of these trials. study infants were stratified according to birth weight and gender before random assignment to a treatment regimen. one hundred ninety-two infants received exosurf and 193 received an air placebo. the study groups were similar when a variety of demographic features describing the mothers. their pregnancies. the circumstances of the births. and the infants were compared. exosurf-treated infants required significantly less oxygen and respiratory support during the first 3 days of life in comparison with the air-treated infants. fewer infants in the exosurf group had pulmonary interstitial emphysema (26 vs 13; p = 0.028). in the exosurf group. there was a significant reduction in the combined outcome. neonatal death or survival with bronchopulmonary dysplasia (57 vs 39; p = 0.042). and there was a significant increase in rates of survival without this disease (128 vs 137; p = 0.042). there were no differences between treatment groups in the incidences of a variety of complications of prematurity. including apnea. patent ductus arteriosus. intraventricular hemorrhage. and necrotizing enterocolitis. we conclude that improvements in respiratory physiology after a single prophylactic dose of exosurf result in an increased likelihood of neonatal survival without bronchopulmonary dysplasia.'"
            ]
          },
          "metadata": {},
          "execution_count": 137
        }
      ]
    },
    {
      "cell_type": "markdown",
      "metadata": {
        "id": "SyWyV5woNJqT"
      },
      "source": [
        "### Eliminación de puntuación, números y stopwords"
      ]
    },
    {
      "cell_type": "markdown",
      "metadata": {
        "id": "5WBbzEtgNRnx"
      },
      "source": [
        "Usualmente, queremos eliminar estos dos elementos del texto para limpiarlo porque no suelen aportar gran información del documento. Por ejemplo, consideremos los dos textos a continuación.\n",
        "\n",
        "\n",
        "\n",
        "> El avión, que es grande, vuela en los cielos.\n",
        "\n",
        "> avión grande vuela cielos\n",
        "\n",
        "Ambas cadenas brindan la misma información y la segunda es más corta. Además, al final sólo nos interesan las palabras sin ningún orden en específico por el método de vectorización que ocuparemos (BoW).\n"
      ]
    },
    {
      "cell_type": "code",
      "metadata": {
        "colab": {
          "base_uri": "https://localhost:8080/"
        },
        "id": "0Je7r7ozOa4r",
        "outputId": "85822641-d664-4302-ac39-e3d735486dd6"
      },
      "source": [
        "# eliminamos puntuación y números\n",
        "ejemplo = re.sub('[^a-z\\s]+', '', ejemplo)\n",
        "print(len(ejemplo))\n",
        "ejemplo"
      ],
      "execution_count": null,
      "outputs": [
        {
          "output_type": "stream",
          "name": "stdout",
          "text": [
            "1889\n"
          ]
        },
        {
          "output_type": "execute_result",
          "data": {
            "application/vnd.google.colaboratory.intrinsic+json": {
              "type": "string"
            },
            "text/plain": [
              "' improved outcome at  days of age for very low birth weight infants treated with a single dose of a synthetic surfactant two identical doubleblind controlled randomized trials were initiated to determine whether the administration of a single  mlkg dose of a synthetic surfactant exosurf neonatal soon after the delivery of infants with birth weights  to  gm would improve rates of survival without bronchopulmonary dysplasia both trials were terminated before enrolling their planned sample sizes because of the availability of exosurf under the provisions of a treatment investigational new drug program we report the combined results of these trials study infants were stratified according to birth weight and gender before random assignment to a treatment regimen one hundred ninetytwo infants received exosurf and  received an air placebo the study groups were similar when a variety of demographic features describing the mothers their pregnancies the circumstances of the births and the infants were compared exosurftreated infants required significantly less oxygen and respiratory support during the first  days of life in comparison with the airtreated infants fewer infants in the exosurf group had pulmonary interstitial emphysema  vs  p   in the exosurf group there was a significant reduction in the combined outcome neonatal death or survival with bronchopulmonary dysplasia  vs  p   and there was a significant increase in rates of survival without this disease  vs  p   there were no differences between treatment groups in the incidences of a variety of complications of prematurity including apnea patent ductus arteriosus intraventricular hemorrhage and necrotizing enterocolitis we conclude that improvements in respiratory physiology after a single prophylactic dose of exosurf result in an increased likelihood of neonatal survival without bronchopulmonary dysplasia'"
            ]
          },
          "metadata": {},
          "execution_count": 138
        }
      ]
    },
    {
      "cell_type": "markdown",
      "metadata": {
        "id": "5xfV39vHQiTu"
      },
      "source": [
        "Las ```stopwords``` que eliminaremos se pueden ver ejecutando la siguiente celda."
      ]
    },
    {
      "cell_type": "code",
      "metadata": {
        "id": "MmbgMwCvQhbH"
      },
      "source": [
        "stopwords.words('english')"
      ],
      "execution_count": null,
      "outputs": []
    },
    {
      "cell_type": "markdown",
      "metadata": {
        "id": "LZpWnouDQyVh"
      },
      "source": [
        "Para eliminar las stopwords, ocupamos [```list comprehension```](https://www.w3schools.com/python/python_lists_comprehension.asp)"
      ]
    },
    {
      "cell_type": "code",
      "metadata": {
        "colab": {
          "base_uri": "https://localhost:8080/"
        },
        "id": "7de3kExlP8Oz",
        "outputId": "70340097-9935-406c-b78b-393de98ce6b4"
      },
      "source": [
        "# eliminamos las stopwords\n",
        "ejemplo_list = [x for x in ejemplo.split(' ') if x not in stopwords.words('english') or len(x) == 0]\n",
        "ejemplo = ' '.join(ejemplo_list)\n",
        "print(len(ejemplo))\n",
        "ejemplo"
      ],
      "execution_count": null,
      "outputs": [
        {
          "output_type": "stream",
          "name": "stdout",
          "text": [
            "1483\n"
          ]
        },
        {
          "output_type": "execute_result",
          "data": {
            "application/vnd.google.colaboratory.intrinsic+json": {
              "type": "string"
            },
            "text/plain": [
              "' improved outcome  days age low birth weight infants treated single dose synthetic surfactant two identical doubleblind controlled randomized trials initiated determine whether administration single  mlkg dose synthetic surfactant exosurf neonatal soon delivery infants birth weights   gm would improve rates survival without bronchopulmonary dysplasia trials terminated enrolling planned sample sizes availability exosurf provisions treatment investigational new drug program report combined results trials study infants stratified according birth weight gender random assignment treatment regimen one hundred ninetytwo infants received exosurf  received air placebo study groups similar variety demographic features describing mothers pregnancies circumstances births infants compared exosurftreated infants required significantly less oxygen respiratory support first  days life comparison airtreated infants fewer infants exosurf group pulmonary interstitial emphysema  vs  p   exosurf group significant reduction combined outcome neonatal death survival bronchopulmonary dysplasia  vs  p   significant increase rates survival without disease  vs  p   differences treatment groups incidences variety complications prematurity including apnea patent ductus arteriosus intraventricular hemorrhage necrotizing enterocolitis conclude improvements respiratory physiology single prophylactic dose exosurf result increased likelihood neonatal survival without bronchopulmonary dysplasia'"
            ]
          },
          "metadata": {},
          "execution_count": 140
        }
      ]
    },
    {
      "cell_type": "markdown",
      "metadata": {
        "id": "Fr7rIGqSVnB3"
      },
      "source": [
        "### Lematización y radicalización"
      ]
    },
    {
      "cell_type": "markdown",
      "metadata": {
        "id": "UFVnhErIVq1O"
      },
      "source": [
        "El objetivo de este paso es reducir aún más el tamaño de nuestra BoW transormando las palabras que se refieren a lo mismo, pero están conjugadas o pluralizadas. Por ejemplo, consideremos las palabras ```correr```, ```corres``` y ```corriendo```. Usualmente, para los modelos no brinda más información cada una de estas, simplemente crean más dimensiones en la vectorización. Lo que nos gustaría es que estás tres palabras representaran lo mismo para nuestro modelo regresándolas a su \"raíz\" o lema, ```corr``` y ```correr```, respectivamente.\n",
        "\n",
        "Para esto, la lemmatización y el radicalización son buenas herramientas.\n",
        "\n",
        "La ```lematización``` consiste en obtener en lema de las palabras considerando el tipo de palabra; mientras que el ```radicalización``` sigue reglas para eliminar la cola de las palabras y transformarlas en \"raices\""
      ]
    },
    {
      "cell_type": "code",
      "metadata": {
        "id": "B8h-G8MYYZ5m",
        "colab": {
          "base_uri": "https://localhost:8080/"
        },
        "outputId": "d71d7ac7-a9e2-47e2-9605-7c8885ec720c"
      },
      "source": [
        "ejemplo_lemma =  ' '.join([lemmatizer.lemmatize(x) for x in ejemplo_list])\n",
        "print(len(ejemplo_lemma))\n",
        "ejemplo_lemma"
      ],
      "execution_count": null,
      "outputs": [
        {
          "output_type": "stream",
          "name": "stdout",
          "text": [
            "1447\n"
          ]
        },
        {
          "output_type": "execute_result",
          "data": {
            "application/vnd.google.colaboratory.intrinsic+json": {
              "type": "string"
            },
            "text/plain": [
              "' improved outcome  day age low birth weight infant treated single dose synthetic surfactant two identical doubleblind controlled randomized trial initiated determine whether administration single  mlkg dose synthetic surfactant exosurf neonatal soon delivery infant birth weight   gm would improve rate survival without bronchopulmonary dysplasia trial terminated enrolling planned sample size availability exosurf provision treatment investigational new drug program report combined result trial study infant stratified according birth weight gender random assignment treatment regimen one hundred ninetytwo infant received exosurf  received air placebo study group similar variety demographic feature describing mother pregnancy circumstance birth infant compared exosurftreated infant required significantly le oxygen respiratory support first  day life comparison airtreated infant fewer infant exosurf group pulmonary interstitial emphysema  v  p   exosurf group significant reduction combined outcome neonatal death survival bronchopulmonary dysplasia  v  p   significant increase rate survival without disease  v  p   difference treatment group incidence variety complication prematurity including apnea patent ductus arteriosus intraventricular hemorrhage necrotizing enterocolitis conclude improvement respiratory physiology single prophylactic dose exosurf result increased likelihood neonatal survival without bronchopulmonary dysplasia'"
            ]
          },
          "metadata": {},
          "execution_count": 141
        }
      ]
    },
    {
      "cell_type": "code",
      "metadata": {
        "colab": {
          "base_uri": "https://localhost:8080/"
        },
        "id": "v_tfrJwXaHaZ",
        "outputId": "3c3f7a0a-a3b5-4d7d-d4cb-75ecb8342946"
      },
      "source": [
        "ejemplo_stem =  ' '.join([stemmer.stem(x) for x in ejemplo_list])\n",
        "print(len(ejemplo_stem))\n",
        "ejemplo_stem"
      ],
      "execution_count": null,
      "outputs": [
        {
          "output_type": "stream",
          "name": "stdout",
          "text": [
            "1272\n"
          ]
        },
        {
          "output_type": "execute_result",
          "data": {
            "application/vnd.google.colaboratory.intrinsic+json": {
              "type": "string"
            },
            "text/plain": [
              "' improv outcom  day age low birth weight infant treat singl dose synthet surfact two ident doubleblind control random trial initi determin whether administr singl  mlkg dose synthet surfact exosurf neonat soon deliveri infant birth weight   gm would improv rate surviv without bronchopulmonari dysplasia trial termin enrol plan sampl size avail exosurf provis treatment investig new drug program report combin result trial studi infant stratifi accord birth weight gender random assign treatment regimen one hundr ninetytwo infant receiv exosurf  receiv air placebo studi group similar varieti demograph featur describ mother pregnanc circumst birth infant compar exosurftr infant requir significantli less oxygen respiratori support first  day life comparison airtreat infant fewer infant exosurf group pulmonari interstiti emphysema  vs  p   exosurf group signific reduct combin outcom neonat death surviv bronchopulmonari dysplasia  vs  p   signific increas rate surviv without diseas  vs  p   differ treatment group incid varieti complic prematur includ apnea patent ductu arteriosu intraventricular hemorrhag necrot enterocol conclud improv respiratori physiolog singl prophylact dose exosurf result increas likelihood neonat surviv without bronchopulmonari dysplasia'"
            ]
          },
          "metadata": {},
          "execution_count": 142
        }
      ]
    },
    {
      "cell_type": "markdown",
      "metadata": {
        "id": "epE7Bpo7bgNs"
      },
      "source": [
        "#### A considerar sobre Wordnet\n"
      ]
    },
    {
      "cell_type": "markdown",
      "metadata": {
        "id": "8wNGlfoPbmGh"
      },
      "source": [
        "Consideremos los dos resultados a continuación"
      ]
    },
    {
      "cell_type": "code",
      "metadata": {
        "colab": {
          "base_uri": "https://localhost:8080/"
        },
        "id": "jQRiyublbvI9",
        "outputId": "d4f29c0f-fbd2-41d1-97ee-0398b35c9b4e"
      },
      "source": [
        "lemmatizer.lemmatize('loving')"
      ],
      "execution_count": null,
      "outputs": [
        {
          "output_type": "execute_result",
          "data": {
            "application/vnd.google.colaboratory.intrinsic+json": {
              "type": "string"
            },
            "text/plain": [
              "'loving'"
            ]
          },
          "metadata": {},
          "execution_count": 143
        }
      ]
    },
    {
      "cell_type": "code",
      "metadata": {
        "colab": {
          "base_uri": "https://localhost:8080/"
        },
        "id": "4U7c9VRab0te",
        "outputId": "8fd87187-3200-4bb6-eb47-77002540ac15"
      },
      "source": [
        "lemmatizer.lemmatize('loving', 'v')"
      ],
      "execution_count": null,
      "outputs": [
        {
          "output_type": "execute_result",
          "data": {
            "application/vnd.google.colaboratory.intrinsic+json": {
              "type": "string"
            },
            "text/plain": [
              "'love'"
            ]
          },
          "metadata": {},
          "execution_count": 144
        }
      ]
    },
    {
      "cell_type": "markdown",
      "metadata": {
        "id": "xqn8n-sKb5dE"
      },
      "source": [
        "Esto ocurre porque ```loving``` puede ser tanto un verbo como un adjetivo, por ende, su lema es distinto. Es importante brindar las POS tags al lematizador para obtener la mejor representación. Sin embargo, los resultados aún sin tomar esta consideración suelen ser buenos en la mayoría de los casos, por eso esto no se verá en esta ocasión.\n",
        "\n",
        "La Universidad de Princeton tiene un [recurso](http://wordnetweb.princeton.edu/perl/webwn) para buscar las palabras y consideración que toma WordNet.\n",
        "\n"
      ]
    },
    {
      "cell_type": "markdown",
      "metadata": {
        "id": "F9YLRukFd8ST"
      },
      "source": [
        "### Función para preprocesar"
      ]
    },
    {
      "cell_type": "markdown",
      "metadata": {
        "id": "xd9lbVB7eAwc"
      },
      "source": [
        "Se creara una función que recibe un texto y aplica todos los pasos del preprocesamiento\n"
      ]
    },
    {
      "cell_type": "code",
      "metadata": {
        "id": "W_wEgyayeIug"
      },
      "source": [
        "def preprocesar(texto):\n",
        "    return ' '.join([stemmer.stem(x) for x in re.sub('[^a-z\\s]+', '', texto.lower()).split(' ') if x not in stopwords.words('english') or len(x) == 0])"
      ],
      "execution_count": null,
      "outputs": []
    },
    {
      "cell_type": "markdown",
      "metadata": {
        "id": "P0-ktGW4Cjko"
      },
      "source": [
        "## Vectorización"
      ]
    },
    {
      "cell_type": "markdown",
      "metadata": {
        "id": "5In55AgjROQd"
      },
      "source": [
        "Este paso sirve para transformar las palabras en nuestro a números que puedan ser tomados como entrada para los modelos. \n",
        "\n",
        "Los métodos que hay para vectorizar el texto son:\n",
        "\n",
        "- **OneHot Encoding**: 1 si el texto esta en el documento y 0 si no.\n",
        "- **Frecuency**: Conteo de las veces que aparece el texto en el documento\n",
        "- **TF-IDF**: Usualmente, el conteo del texto en el documento multiplicado por el logaritmo natural del total de documentos entre los que tienen el texto.\n",
        "- **Representación distribuida**: La representación del texto esta distribuida en más de una entrada de nuestro vector final.\n",
        "\n",
        "En esta ocación, veremos los tres primeros, pero nos quedaremos con ```tf-idf``` porque suele funcionar bien en muchos casos.\n",
        "\n",
        "Para el ejemplo, se ocuparan sólo dos documentos."
      ]
    },
    {
      "cell_type": "code",
      "metadata": {
        "colab": {
          "base_uri": "https://localhost:8080/"
        },
        "id": "zlMpfGWuCjoQ",
        "outputId": "bb7362b0-7cad-4860-a1ef-17f1d50c8c0d"
      },
      "source": [
        "vectorizer = TfidfVectorizer()\n",
        "tfidf_ejemplo = vectorizer.fit_transform([preprocesar(data['doc'][1]), preprocesar(data['doc'][50])])\n",
        "\n",
        "pd.DataFrame(tfidf_ejemplo.todense(), index = [0,1], columns=vectorizer.get_feature_names())"
      ],
      "execution_count": null,
      "outputs": [
        {
          "output_type": "execute_result",
          "data": {
            "text/html": [
              "<div>\n",
              "<style scoped>\n",
              "    .dataframe tbody tr th:only-of-type {\n",
              "        vertical-align: middle;\n",
              "    }\n",
              "\n",
              "    .dataframe tbody tr th {\n",
              "        vertical-align: top;\n",
              "    }\n",
              "\n",
              "    .dataframe thead th {\n",
              "        text-align: right;\n",
              "    }\n",
              "</style>\n",
              "<table border=\"1\" class=\"dataframe\">\n",
              "  <thead>\n",
              "    <tr style=\"text-align: right;\">\n",
              "      <th></th>\n",
              "      <th>activ</th>\n",
              "      <th>airflow</th>\n",
              "      <th>appear</th>\n",
              "      <th>area</th>\n",
              "      <th>beta</th>\n",
              "      <th>bronchiolar</th>\n",
              "      <th>bronchopulmonari</th>\n",
              "      <th>caus</th>\n",
              "      <th>chang</th>\n",
              "      <th>chest</th>\n",
              "      <th>chylothorax</th>\n",
              "      <th>cl</th>\n",
              "      <th>clearanc</th>\n",
              "      <th>complianc</th>\n",
              "      <th>complic</th>\n",
              "      <th>concentr</th>\n",
              "      <th>concentrationtim</th>\n",
              "      <th>correl</th>\n",
              "      <th>curv</th>\n",
              "      <th>data</th>\n",
              "      <th>day</th>\n",
              "      <th>dictat</th>\n",
              "      <th>distribut</th>\n",
              "      <th>dose</th>\n",
              "      <th>drainag</th>\n",
              "      <th>dysplasia</th>\n",
              "      <th>effect</th>\n",
              "      <th>elimin</th>\n",
              "      <th>evid</th>\n",
              "      <th>five</th>\n",
              "      <th>function</th>\n",
              "      <th>fusion</th>\n",
              "      <th>girl</th>\n",
              "      <th>halftim</th>\n",
              "      <th>heart</th>\n",
              "      <th>hr</th>\n",
              "      <th>idiopath</th>\n",
              "      <th>improv</th>\n",
              "      <th>includ</th>\n",
              "      <th>infant</th>\n",
              "      <th>...</th>\n",
              "      <th>iv</th>\n",
              "      <th>manag</th>\n",
              "      <th>measur</th>\n",
              "      <th>mechan</th>\n",
              "      <th>microgramskg</th>\n",
              "      <th>min</th>\n",
              "      <th>nonop</th>\n",
              "      <th>nutrit</th>\n",
              "      <th>occur</th>\n",
              "      <th>parenter</th>\n",
              "      <th>percent</th>\n",
              "      <th>pharmacokinet</th>\n",
              "      <th>posit</th>\n",
              "      <th>posterior</th>\n",
              "      <th>preterm</th>\n",
              "      <th>provid</th>\n",
              "      <th>pulmonari</th>\n",
              "      <th>rate</th>\n",
              "      <th>receiv</th>\n",
              "      <th>receptor</th>\n",
              "      <th>resist</th>\n",
              "      <th>respiratori</th>\n",
              "      <th>respons</th>\n",
              "      <th>salbutamol</th>\n",
              "      <th>scoliosi</th>\n",
              "      <th>serum</th>\n",
              "      <th>signific</th>\n",
              "      <th>six</th>\n",
              "      <th>sixth</th>\n",
              "      <th>spinal</th>\n",
              "      <th>studi</th>\n",
              "      <th>success</th>\n",
              "      <th>system</th>\n",
              "      <th>total</th>\n",
              "      <th>treat</th>\n",
              "      <th>tube</th>\n",
              "      <th>unusu</th>\n",
              "      <th>vd</th>\n",
              "      <th>volum</th>\n",
              "      <th>yearold</th>\n",
              "    </tr>\n",
              "  </thead>\n",
              "  <tbody>\n",
              "    <tr>\n",
              "      <th>0</th>\n",
              "      <td>0.00000</td>\n",
              "      <td>0.00000</td>\n",
              "      <td>0.00000</td>\n",
              "      <td>0.00000</td>\n",
              "      <td>0.00000</td>\n",
              "      <td>0.00000</td>\n",
              "      <td>0.00000</td>\n",
              "      <td>0.00000</td>\n",
              "      <td>0.00000</td>\n",
              "      <td>0.136709</td>\n",
              "      <td>0.273418</td>\n",
              "      <td>0.00000</td>\n",
              "      <td>0.00000</td>\n",
              "      <td>0.00000</td>\n",
              "      <td>0.136709</td>\n",
              "      <td>0.00000</td>\n",
              "      <td>0.00000</td>\n",
              "      <td>0.00000</td>\n",
              "      <td>0.00000</td>\n",
              "      <td>0.00000</td>\n",
              "      <td>0.136709</td>\n",
              "      <td>0.00000</td>\n",
              "      <td>0.00000</td>\n",
              "      <td>0.00000</td>\n",
              "      <td>0.136709</td>\n",
              "      <td>0.00000</td>\n",
              "      <td>0.00000</td>\n",
              "      <td>0.00000</td>\n",
              "      <td>0.00000</td>\n",
              "      <td>0.00000</td>\n",
              "      <td>0.00000</td>\n",
              "      <td>0.410128</td>\n",
              "      <td>0.136709</td>\n",
              "      <td>0.00000</td>\n",
              "      <td>0.00000</td>\n",
              "      <td>0.00000</td>\n",
              "      <td>0.136709</td>\n",
              "      <td>0.00000</td>\n",
              "      <td>0.136709</td>\n",
              "      <td>0.000000</td>\n",
              "      <td>...</td>\n",
              "      <td>0.00000</td>\n",
              "      <td>0.136709</td>\n",
              "      <td>0.00000</td>\n",
              "      <td>0.00000</td>\n",
              "      <td>0.00000</td>\n",
              "      <td>0.00000</td>\n",
              "      <td>0.136709</td>\n",
              "      <td>0.136709</td>\n",
              "      <td>0.136709</td>\n",
              "      <td>0.136709</td>\n",
              "      <td>0.00000</td>\n",
              "      <td>0.00000</td>\n",
              "      <td>0.00000</td>\n",
              "      <td>0.410128</td>\n",
              "      <td>0.00000</td>\n",
              "      <td>0.00000</td>\n",
              "      <td>0.00000</td>\n",
              "      <td>0.00000</td>\n",
              "      <td>0.00000</td>\n",
              "      <td>0.00000</td>\n",
              "      <td>0.00000</td>\n",
              "      <td>0.00000</td>\n",
              "      <td>0.00000</td>\n",
              "      <td>0.000000</td>\n",
              "      <td>0.136709</td>\n",
              "      <td>0.00000</td>\n",
              "      <td>0.00000</td>\n",
              "      <td>0.00000</td>\n",
              "      <td>0.00000</td>\n",
              "      <td>0.410128</td>\n",
              "      <td>0.00000</td>\n",
              "      <td>0.136709</td>\n",
              "      <td>0.00000</td>\n",
              "      <td>0.097270</td>\n",
              "      <td>0.136709</td>\n",
              "      <td>0.136709</td>\n",
              "      <td>0.136709</td>\n",
              "      <td>0.00000</td>\n",
              "      <td>0.00000</td>\n",
              "      <td>0.136709</td>\n",
              "    </tr>\n",
              "    <tr>\n",
              "      <th>1</th>\n",
              "      <td>0.07382</td>\n",
              "      <td>0.07382</td>\n",
              "      <td>0.07382</td>\n",
              "      <td>0.07382</td>\n",
              "      <td>0.07382</td>\n",
              "      <td>0.07382</td>\n",
              "      <td>0.14764</td>\n",
              "      <td>0.07382</td>\n",
              "      <td>0.14764</td>\n",
              "      <td>0.000000</td>\n",
              "      <td>0.000000</td>\n",
              "      <td>0.07382</td>\n",
              "      <td>0.07382</td>\n",
              "      <td>0.07382</td>\n",
              "      <td>0.000000</td>\n",
              "      <td>0.07382</td>\n",
              "      <td>0.07382</td>\n",
              "      <td>0.22146</td>\n",
              "      <td>0.07382</td>\n",
              "      <td>0.07382</td>\n",
              "      <td>0.000000</td>\n",
              "      <td>0.07382</td>\n",
              "      <td>0.07382</td>\n",
              "      <td>0.07382</td>\n",
              "      <td>0.000000</td>\n",
              "      <td>0.14764</td>\n",
              "      <td>0.07382</td>\n",
              "      <td>0.07382</td>\n",
              "      <td>0.07382</td>\n",
              "      <td>0.07382</td>\n",
              "      <td>0.07382</td>\n",
              "      <td>0.000000</td>\n",
              "      <td>0.000000</td>\n",
              "      <td>0.07382</td>\n",
              "      <td>0.07382</td>\n",
              "      <td>0.14764</td>\n",
              "      <td>0.000000</td>\n",
              "      <td>0.07382</td>\n",
              "      <td>0.000000</td>\n",
              "      <td>0.442921</td>\n",
              "      <td>...</td>\n",
              "      <td>0.07382</td>\n",
              "      <td>0.000000</td>\n",
              "      <td>0.07382</td>\n",
              "      <td>0.07382</td>\n",
              "      <td>0.14764</td>\n",
              "      <td>0.14764</td>\n",
              "      <td>0.000000</td>\n",
              "      <td>0.000000</td>\n",
              "      <td>0.000000</td>\n",
              "      <td>0.000000</td>\n",
              "      <td>0.07382</td>\n",
              "      <td>0.07382</td>\n",
              "      <td>0.07382</td>\n",
              "      <td>0.000000</td>\n",
              "      <td>0.07382</td>\n",
              "      <td>0.07382</td>\n",
              "      <td>0.07382</td>\n",
              "      <td>0.07382</td>\n",
              "      <td>0.07382</td>\n",
              "      <td>0.07382</td>\n",
              "      <td>0.07382</td>\n",
              "      <td>0.22146</td>\n",
              "      <td>0.14764</td>\n",
              "      <td>0.516741</td>\n",
              "      <td>0.000000</td>\n",
              "      <td>0.07382</td>\n",
              "      <td>0.07382</td>\n",
              "      <td>0.07382</td>\n",
              "      <td>0.07382</td>\n",
              "      <td>0.000000</td>\n",
              "      <td>0.07382</td>\n",
              "      <td>0.000000</td>\n",
              "      <td>0.07382</td>\n",
              "      <td>0.052524</td>\n",
              "      <td>0.000000</td>\n",
              "      <td>0.000000</td>\n",
              "      <td>0.000000</td>\n",
              "      <td>0.14764</td>\n",
              "      <td>0.07382</td>\n",
              "      <td>0.000000</td>\n",
              "    </tr>\n",
              "  </tbody>\n",
              "</table>\n",
              "<p>2 rows × 84 columns</p>\n",
              "</div>"
            ],
            "text/plain": [
              "     activ  airflow   appear     area  ...     unusu       vd    volum   yearold\n",
              "0  0.00000  0.00000  0.00000  0.00000  ...  0.136709  0.00000  0.00000  0.136709\n",
              "1  0.07382  0.07382  0.07382  0.07382  ...  0.000000  0.14764  0.07382  0.000000\n",
              "\n",
              "[2 rows x 84 columns]"
            ]
          },
          "metadata": {},
          "execution_count": 146
        }
      ]
    },
    {
      "cell_type": "markdown",
      "metadata": {
        "id": "TG0y-LB_f6dG"
      },
      "source": [
        "## Flujo completo para todos los datos\n"
      ]
    },
    {
      "cell_type": "markdown",
      "metadata": {
        "id": "Bdv6PZHACjrl"
      },
      "source": [
        "El flujo de datos a continuación muestra cómo se podría llevar a cabo el proceso completo."
      ]
    },
    {
      "cell_type": "code",
      "metadata": {
        "colab": {
          "base_uri": "https://localhost:8080/"
        },
        "id": "uH3HIhUACjvD",
        "outputId": "cf8cd02d-4e6d-4568-d584-87a01f087101"
      },
      "source": [
        "%%time\n",
        "corpus = data['doc'].apply(preprocesar)"
      ],
      "execution_count": null,
      "outputs": [
        {
          "output_type": "stream",
          "name": "stdout",
          "text": [
            "CPU times: user 5min 17s, sys: 28.2 s, total: 5min 46s\n",
            "Wall time: 5min 46s\n"
          ]
        }
      ]
    },
    {
      "cell_type": "code",
      "metadata": {
        "id": "TcCEJHfHlxCq"
      },
      "source": [
        "#corpus"
      ],
      "execution_count": null,
      "outputs": []
    },
    {
      "cell_type": "code",
      "metadata": {
        "colab": {
          "base_uri": "https://localhost:8080/",
          "height": 444
        },
        "id": "LP0W71KShiZ4",
        "outputId": "e15c507d-6b34-4fae-d60f-addf16b1bf66"
      },
      "source": [
        "vect = TfidfVectorizer(min_df=.05, max_df=.95)\n",
        "bow_tfidf = vect.fit_transform(corpus)\n",
        "pd.DataFrame(bow_tfidf.todense(), index = data.index, columns=vect.get_feature_names())"
      ],
      "execution_count": null,
      "outputs": [
        {
          "output_type": "execute_result",
          "data": {
            "text/html": [
              "<div>\n",
              "<style scoped>\n",
              "    .dataframe tbody tr th:only-of-type {\n",
              "        vertical-align: middle;\n",
              "    }\n",
              "\n",
              "    .dataframe tbody tr th {\n",
              "        vertical-align: top;\n",
              "    }\n",
              "\n",
              "    .dataframe thead th {\n",
              "        text-align: right;\n",
              "    }\n",
              "</style>\n",
              "<table border=\"1\" class=\"dataframe\">\n",
              "  <thead>\n",
              "    <tr style=\"text-align: right;\">\n",
              "      <th></th>\n",
              "      <th>abnorm</th>\n",
              "      <th>activ</th>\n",
              "      <th>acut</th>\n",
              "      <th>addit</th>\n",
              "      <th>administr</th>\n",
              "      <th>affect</th>\n",
              "      <th>age</th>\n",
              "      <th>also</th>\n",
              "      <th>alter</th>\n",
              "      <th>although</th>\n",
              "      <th>among</th>\n",
              "      <th>analysi</th>\n",
              "      <th>antibodi</th>\n",
              "      <th>appear</th>\n",
              "      <th>area</th>\n",
              "      <th>arteri</th>\n",
              "      <th>assess</th>\n",
              "      <th>associ</th>\n",
              "      <th>base</th>\n",
              "      <th>blood</th>\n",
              "      <th>cancer</th>\n",
              "      <th>carcinoma</th>\n",
              "      <th>cardiac</th>\n",
              "      <th>care</th>\n",
              "      <th>case</th>\n",
              "      <th>caus</th>\n",
              "      <th>cell</th>\n",
              "      <th>chang</th>\n",
              "      <th>children</th>\n",
              "      <th>chronic</th>\n",
              "      <th>clinic</th>\n",
              "      <th>combin</th>\n",
              "      <th>common</th>\n",
              "      <th>compar</th>\n",
              "      <th>comparison</th>\n",
              "      <th>complet</th>\n",
              "      <th>complic</th>\n",
              "      <th>concentr</th>\n",
              "      <th>conclud</th>\n",
              "      <th>condit</th>\n",
              "      <th>...</th>\n",
              "      <th>six</th>\n",
              "      <th>small</th>\n",
              "      <th>specif</th>\n",
              "      <th>studi</th>\n",
              "      <th>subject</th>\n",
              "      <th>success</th>\n",
              "      <th>suggest</th>\n",
              "      <th>support</th>\n",
              "      <th>surgeri</th>\n",
              "      <th>surgic</th>\n",
              "      <th>surviv</th>\n",
              "      <th>symptom</th>\n",
              "      <th>syndrom</th>\n",
              "      <th>system</th>\n",
              "      <th>techniqu</th>\n",
              "      <th>test</th>\n",
              "      <th>therapi</th>\n",
              "      <th>three</th>\n",
              "      <th>thu</th>\n",
              "      <th>time</th>\n",
              "      <th>tissu</th>\n",
              "      <th>total</th>\n",
              "      <th>treat</th>\n",
              "      <th>treatment</th>\n",
              "      <th>trial</th>\n",
              "      <th>tumor</th>\n",
              "      <th>two</th>\n",
              "      <th>type</th>\n",
              "      <th>underw</th>\n",
              "      <th>use</th>\n",
              "      <th>valu</th>\n",
              "      <th>ventricular</th>\n",
              "      <th>week</th>\n",
              "      <th>well</th>\n",
              "      <th>wherea</th>\n",
              "      <th>whether</th>\n",
              "      <th>within</th>\n",
              "      <th>without</th>\n",
              "      <th>women</th>\n",
              "      <th>year</th>\n",
              "    </tr>\n",
              "  </thead>\n",
              "  <tbody>\n",
              "    <tr>\n",
              "      <th>0</th>\n",
              "      <td>0.000000</td>\n",
              "      <td>0.0</td>\n",
              "      <td>0.0</td>\n",
              "      <td>0.000000</td>\n",
              "      <td>0.102261</td>\n",
              "      <td>0.0</td>\n",
              "      <td>0.073868</td>\n",
              "      <td>0.00000</td>\n",
              "      <td>0.0</td>\n",
              "      <td>0.0</td>\n",
              "      <td>0.0</td>\n",
              "      <td>0.000000</td>\n",
              "      <td>0.0</td>\n",
              "      <td>0.000000</td>\n",
              "      <td>0.000000</td>\n",
              "      <td>0.0</td>\n",
              "      <td>0.0</td>\n",
              "      <td>0.00000</td>\n",
              "      <td>0.0</td>\n",
              "      <td>0.0</td>\n",
              "      <td>0.0</td>\n",
              "      <td>0.0</td>\n",
              "      <td>0.0</td>\n",
              "      <td>0.0</td>\n",
              "      <td>0.000000</td>\n",
              "      <td>0.000000</td>\n",
              "      <td>0.0</td>\n",
              "      <td>0.0</td>\n",
              "      <td>0.000000</td>\n",
              "      <td>0.000000</td>\n",
              "      <td>0.000000</td>\n",
              "      <td>0.186388</td>\n",
              "      <td>0.0</td>\n",
              "      <td>0.065717</td>\n",
              "      <td>0.102369</td>\n",
              "      <td>0.000000</td>\n",
              "      <td>0.085409</td>\n",
              "      <td>0.0</td>\n",
              "      <td>0.08929</td>\n",
              "      <td>0.000000</td>\n",
              "      <td>...</td>\n",
              "      <td>0.000000</td>\n",
              "      <td>0.0</td>\n",
              "      <td>0.0</td>\n",
              "      <td>0.095179</td>\n",
              "      <td>0.000000</td>\n",
              "      <td>0.000000</td>\n",
              "      <td>0.000000</td>\n",
              "      <td>0.100314</td>\n",
              "      <td>0.000000</td>\n",
              "      <td>0.000000</td>\n",
              "      <td>0.374723</td>\n",
              "      <td>0.0</td>\n",
              "      <td>0.0</td>\n",
              "      <td>0.0</td>\n",
              "      <td>0.000000</td>\n",
              "      <td>0.000000</td>\n",
              "      <td>0.000000</td>\n",
              "      <td>0.0</td>\n",
              "      <td>0.0</td>\n",
              "      <td>0.000000</td>\n",
              "      <td>0.0</td>\n",
              "      <td>0.000000</td>\n",
              "      <td>0.077769</td>\n",
              "      <td>0.189762</td>\n",
              "      <td>0.307108</td>\n",
              "      <td>0.0</td>\n",
              "      <td>0.063056</td>\n",
              "      <td>0.0</td>\n",
              "      <td>0.0</td>\n",
              "      <td>0.000000</td>\n",
              "      <td>0.000000</td>\n",
              "      <td>0.0</td>\n",
              "      <td>0.000000</td>\n",
              "      <td>0.0</td>\n",
              "      <td>0.0</td>\n",
              "      <td>0.097615</td>\n",
              "      <td>0.000000</td>\n",
              "      <td>0.244016</td>\n",
              "      <td>0.0</td>\n",
              "      <td>0.000000</td>\n",
              "    </tr>\n",
              "    <tr>\n",
              "      <th>1</th>\n",
              "      <td>0.000000</td>\n",
              "      <td>0.0</td>\n",
              "      <td>0.0</td>\n",
              "      <td>0.000000</td>\n",
              "      <td>0.000000</td>\n",
              "      <td>0.0</td>\n",
              "      <td>0.000000</td>\n",
              "      <td>0.00000</td>\n",
              "      <td>0.0</td>\n",
              "      <td>0.0</td>\n",
              "      <td>0.0</td>\n",
              "      <td>0.000000</td>\n",
              "      <td>0.0</td>\n",
              "      <td>0.000000</td>\n",
              "      <td>0.000000</td>\n",
              "      <td>0.0</td>\n",
              "      <td>0.0</td>\n",
              "      <td>0.00000</td>\n",
              "      <td>0.0</td>\n",
              "      <td>0.0</td>\n",
              "      <td>0.0</td>\n",
              "      <td>0.0</td>\n",
              "      <td>0.0</td>\n",
              "      <td>0.0</td>\n",
              "      <td>0.000000</td>\n",
              "      <td>0.000000</td>\n",
              "      <td>0.0</td>\n",
              "      <td>0.0</td>\n",
              "      <td>0.000000</td>\n",
              "      <td>0.000000</td>\n",
              "      <td>0.000000</td>\n",
              "      <td>0.000000</td>\n",
              "      <td>0.0</td>\n",
              "      <td>0.000000</td>\n",
              "      <td>0.000000</td>\n",
              "      <td>0.000000</td>\n",
              "      <td>0.358551</td>\n",
              "      <td>0.0</td>\n",
              "      <td>0.00000</td>\n",
              "      <td>0.000000</td>\n",
              "      <td>...</td>\n",
              "      <td>0.000000</td>\n",
              "      <td>0.0</td>\n",
              "      <td>0.0</td>\n",
              "      <td>0.000000</td>\n",
              "      <td>0.000000</td>\n",
              "      <td>0.402099</td>\n",
              "      <td>0.000000</td>\n",
              "      <td>0.000000</td>\n",
              "      <td>0.000000</td>\n",
              "      <td>0.000000</td>\n",
              "      <td>0.000000</td>\n",
              "      <td>0.0</td>\n",
              "      <td>0.0</td>\n",
              "      <td>0.0</td>\n",
              "      <td>0.000000</td>\n",
              "      <td>0.000000</td>\n",
              "      <td>0.000000</td>\n",
              "      <td>0.0</td>\n",
              "      <td>0.0</td>\n",
              "      <td>0.000000</td>\n",
              "      <td>0.0</td>\n",
              "      <td>0.356367</td>\n",
              "      <td>0.326477</td>\n",
              "      <td>0.000000</td>\n",
              "      <td>0.000000</td>\n",
              "      <td>0.0</td>\n",
              "      <td>0.000000</td>\n",
              "      <td>0.0</td>\n",
              "      <td>0.0</td>\n",
              "      <td>0.000000</td>\n",
              "      <td>0.000000</td>\n",
              "      <td>0.0</td>\n",
              "      <td>0.000000</td>\n",
              "      <td>0.0</td>\n",
              "      <td>0.0</td>\n",
              "      <td>0.000000</td>\n",
              "      <td>0.000000</td>\n",
              "      <td>0.000000</td>\n",
              "      <td>0.0</td>\n",
              "      <td>0.000000</td>\n",
              "    </tr>\n",
              "    <tr>\n",
              "      <th>2</th>\n",
              "      <td>0.286464</td>\n",
              "      <td>0.0</td>\n",
              "      <td>0.0</td>\n",
              "      <td>0.000000</td>\n",
              "      <td>0.000000</td>\n",
              "      <td>0.0</td>\n",
              "      <td>0.000000</td>\n",
              "      <td>0.00000</td>\n",
              "      <td>0.0</td>\n",
              "      <td>0.0</td>\n",
              "      <td>0.0</td>\n",
              "      <td>0.000000</td>\n",
              "      <td>0.0</td>\n",
              "      <td>0.000000</td>\n",
              "      <td>0.000000</td>\n",
              "      <td>0.0</td>\n",
              "      <td>0.0</td>\n",
              "      <td>0.10864</td>\n",
              "      <td>0.0</td>\n",
              "      <td>0.0</td>\n",
              "      <td>0.0</td>\n",
              "      <td>0.0</td>\n",
              "      <td>0.0</td>\n",
              "      <td>0.0</td>\n",
              "      <td>0.000000</td>\n",
              "      <td>0.126463</td>\n",
              "      <td>0.0</td>\n",
              "      <td>0.0</td>\n",
              "      <td>0.318293</td>\n",
              "      <td>0.000000</td>\n",
              "      <td>0.103539</td>\n",
              "      <td>0.152872</td>\n",
              "      <td>0.0</td>\n",
              "      <td>0.000000</td>\n",
              "      <td>0.000000</td>\n",
              "      <td>0.000000</td>\n",
              "      <td>0.000000</td>\n",
              "      <td>0.0</td>\n",
              "      <td>0.00000</td>\n",
              "      <td>0.000000</td>\n",
              "      <td>...</td>\n",
              "      <td>0.000000</td>\n",
              "      <td>0.0</td>\n",
              "      <td>0.0</td>\n",
              "      <td>0.000000</td>\n",
              "      <td>0.000000</td>\n",
              "      <td>0.000000</td>\n",
              "      <td>0.000000</td>\n",
              "      <td>0.000000</td>\n",
              "      <td>0.000000</td>\n",
              "      <td>0.000000</td>\n",
              "      <td>0.153671</td>\n",
              "      <td>0.0</td>\n",
              "      <td>0.0</td>\n",
              "      <td>0.0</td>\n",
              "      <td>0.000000</td>\n",
              "      <td>0.000000</td>\n",
              "      <td>0.000000</td>\n",
              "      <td>0.0</td>\n",
              "      <td>0.0</td>\n",
              "      <td>0.000000</td>\n",
              "      <td>0.0</td>\n",
              "      <td>0.000000</td>\n",
              "      <td>0.000000</td>\n",
              "      <td>0.103760</td>\n",
              "      <td>0.000000</td>\n",
              "      <td>0.0</td>\n",
              "      <td>0.000000</td>\n",
              "      <td>0.0</td>\n",
              "      <td>0.0</td>\n",
              "      <td>0.000000</td>\n",
              "      <td>0.000000</td>\n",
              "      <td>0.0</td>\n",
              "      <td>0.000000</td>\n",
              "      <td>0.0</td>\n",
              "      <td>0.0</td>\n",
              "      <td>0.000000</td>\n",
              "      <td>0.000000</td>\n",
              "      <td>0.000000</td>\n",
              "      <td>0.0</td>\n",
              "      <td>0.000000</td>\n",
              "    </tr>\n",
              "    <tr>\n",
              "      <th>3</th>\n",
              "      <td>0.000000</td>\n",
              "      <td>0.0</td>\n",
              "      <td>0.0</td>\n",
              "      <td>0.000000</td>\n",
              "      <td>0.000000</td>\n",
              "      <td>0.0</td>\n",
              "      <td>0.000000</td>\n",
              "      <td>0.00000</td>\n",
              "      <td>0.0</td>\n",
              "      <td>0.0</td>\n",
              "      <td>0.0</td>\n",
              "      <td>0.000000</td>\n",
              "      <td>0.0</td>\n",
              "      <td>0.000000</td>\n",
              "      <td>0.000000</td>\n",
              "      <td>0.0</td>\n",
              "      <td>0.0</td>\n",
              "      <td>0.00000</td>\n",
              "      <td>0.0</td>\n",
              "      <td>0.0</td>\n",
              "      <td>0.0</td>\n",
              "      <td>0.0</td>\n",
              "      <td>0.0</td>\n",
              "      <td>0.0</td>\n",
              "      <td>0.147307</td>\n",
              "      <td>0.000000</td>\n",
              "      <td>0.0</td>\n",
              "      <td>0.0</td>\n",
              "      <td>0.000000</td>\n",
              "      <td>0.000000</td>\n",
              "      <td>0.000000</td>\n",
              "      <td>0.213724</td>\n",
              "      <td>0.0</td>\n",
              "      <td>0.000000</td>\n",
              "      <td>0.000000</td>\n",
              "      <td>0.000000</td>\n",
              "      <td>0.000000</td>\n",
              "      <td>0.0</td>\n",
              "      <td>0.00000</td>\n",
              "      <td>0.000000</td>\n",
              "      <td>...</td>\n",
              "      <td>0.000000</td>\n",
              "      <td>0.0</td>\n",
              "      <td>0.0</td>\n",
              "      <td>0.000000</td>\n",
              "      <td>0.000000</td>\n",
              "      <td>0.439321</td>\n",
              "      <td>0.000000</td>\n",
              "      <td>0.000000</td>\n",
              "      <td>0.000000</td>\n",
              "      <td>0.000000</td>\n",
              "      <td>0.000000</td>\n",
              "      <td>0.0</td>\n",
              "      <td>0.0</td>\n",
              "      <td>0.0</td>\n",
              "      <td>0.204872</td>\n",
              "      <td>0.000000</td>\n",
              "      <td>0.000000</td>\n",
              "      <td>0.0</td>\n",
              "      <td>0.0</td>\n",
              "      <td>0.000000</td>\n",
              "      <td>0.0</td>\n",
              "      <td>0.000000</td>\n",
              "      <td>0.356700</td>\n",
              "      <td>0.290124</td>\n",
              "      <td>0.000000</td>\n",
              "      <td>0.0</td>\n",
              "      <td>0.144609</td>\n",
              "      <td>0.0</td>\n",
              "      <td>0.0</td>\n",
              "      <td>0.235523</td>\n",
              "      <td>0.000000</td>\n",
              "      <td>0.0</td>\n",
              "      <td>0.000000</td>\n",
              "      <td>0.0</td>\n",
              "      <td>0.0</td>\n",
              "      <td>0.000000</td>\n",
              "      <td>0.000000</td>\n",
              "      <td>0.000000</td>\n",
              "      <td>0.0</td>\n",
              "      <td>0.000000</td>\n",
              "    </tr>\n",
              "    <tr>\n",
              "      <th>4</th>\n",
              "      <td>0.000000</td>\n",
              "      <td>0.0</td>\n",
              "      <td>0.0</td>\n",
              "      <td>0.000000</td>\n",
              "      <td>0.000000</td>\n",
              "      <td>0.0</td>\n",
              "      <td>0.102948</td>\n",
              "      <td>0.09836</td>\n",
              "      <td>0.0</td>\n",
              "      <td>0.0</td>\n",
              "      <td>0.0</td>\n",
              "      <td>0.342516</td>\n",
              "      <td>0.0</td>\n",
              "      <td>0.115855</td>\n",
              "      <td>0.000000</td>\n",
              "      <td>0.0</td>\n",
              "      <td>0.0</td>\n",
              "      <td>0.00000</td>\n",
              "      <td>0.0</td>\n",
              "      <td>0.0</td>\n",
              "      <td>0.0</td>\n",
              "      <td>0.0</td>\n",
              "      <td>0.0</td>\n",
              "      <td>0.0</td>\n",
              "      <td>0.000000</td>\n",
              "      <td>0.000000</td>\n",
              "      <td>0.0</td>\n",
              "      <td>0.0</td>\n",
              "      <td>0.000000</td>\n",
              "      <td>0.000000</td>\n",
              "      <td>0.000000</td>\n",
              "      <td>0.000000</td>\n",
              "      <td>0.0</td>\n",
              "      <td>0.000000</td>\n",
              "      <td>0.000000</td>\n",
              "      <td>0.000000</td>\n",
              "      <td>0.000000</td>\n",
              "      <td>0.0</td>\n",
              "      <td>0.00000</td>\n",
              "      <td>0.136338</td>\n",
              "      <td>...</td>\n",
              "      <td>0.000000</td>\n",
              "      <td>0.0</td>\n",
              "      <td>0.0</td>\n",
              "      <td>0.066324</td>\n",
              "      <td>0.000000</td>\n",
              "      <td>0.000000</td>\n",
              "      <td>0.189006</td>\n",
              "      <td>0.139805</td>\n",
              "      <td>0.000000</td>\n",
              "      <td>0.000000</td>\n",
              "      <td>0.000000</td>\n",
              "      <td>0.0</td>\n",
              "      <td>0.0</td>\n",
              "      <td>0.0</td>\n",
              "      <td>0.000000</td>\n",
              "      <td>0.437079</td>\n",
              "      <td>0.536748</td>\n",
              "      <td>0.0</td>\n",
              "      <td>0.0</td>\n",
              "      <td>0.000000</td>\n",
              "      <td>0.0</td>\n",
              "      <td>0.000000</td>\n",
              "      <td>0.000000</td>\n",
              "      <td>0.000000</td>\n",
              "      <td>0.000000</td>\n",
              "      <td>0.0</td>\n",
              "      <td>0.000000</td>\n",
              "      <td>0.0</td>\n",
              "      <td>0.0</td>\n",
              "      <td>0.000000</td>\n",
              "      <td>0.000000</td>\n",
              "      <td>0.0</td>\n",
              "      <td>0.000000</td>\n",
              "      <td>0.0</td>\n",
              "      <td>0.0</td>\n",
              "      <td>0.000000</td>\n",
              "      <td>0.000000</td>\n",
              "      <td>0.000000</td>\n",
              "      <td>0.0</td>\n",
              "      <td>0.094556</td>\n",
              "    </tr>\n",
              "    <tr>\n",
              "      <th>...</th>\n",
              "      <td>...</td>\n",
              "      <td>...</td>\n",
              "      <td>...</td>\n",
              "      <td>...</td>\n",
              "      <td>...</td>\n",
              "      <td>...</td>\n",
              "      <td>...</td>\n",
              "      <td>...</td>\n",
              "      <td>...</td>\n",
              "      <td>...</td>\n",
              "      <td>...</td>\n",
              "      <td>...</td>\n",
              "      <td>...</td>\n",
              "      <td>...</td>\n",
              "      <td>...</td>\n",
              "      <td>...</td>\n",
              "      <td>...</td>\n",
              "      <td>...</td>\n",
              "      <td>...</td>\n",
              "      <td>...</td>\n",
              "      <td>...</td>\n",
              "      <td>...</td>\n",
              "      <td>...</td>\n",
              "      <td>...</td>\n",
              "      <td>...</td>\n",
              "      <td>...</td>\n",
              "      <td>...</td>\n",
              "      <td>...</td>\n",
              "      <td>...</td>\n",
              "      <td>...</td>\n",
              "      <td>...</td>\n",
              "      <td>...</td>\n",
              "      <td>...</td>\n",
              "      <td>...</td>\n",
              "      <td>...</td>\n",
              "      <td>...</td>\n",
              "      <td>...</td>\n",
              "      <td>...</td>\n",
              "      <td>...</td>\n",
              "      <td>...</td>\n",
              "      <td>...</td>\n",
              "      <td>...</td>\n",
              "      <td>...</td>\n",
              "      <td>...</td>\n",
              "      <td>...</td>\n",
              "      <td>...</td>\n",
              "      <td>...</td>\n",
              "      <td>...</td>\n",
              "      <td>...</td>\n",
              "      <td>...</td>\n",
              "      <td>...</td>\n",
              "      <td>...</td>\n",
              "      <td>...</td>\n",
              "      <td>...</td>\n",
              "      <td>...</td>\n",
              "      <td>...</td>\n",
              "      <td>...</td>\n",
              "      <td>...</td>\n",
              "      <td>...</td>\n",
              "      <td>...</td>\n",
              "      <td>...</td>\n",
              "      <td>...</td>\n",
              "      <td>...</td>\n",
              "      <td>...</td>\n",
              "      <td>...</td>\n",
              "      <td>...</td>\n",
              "      <td>...</td>\n",
              "      <td>...</td>\n",
              "      <td>...</td>\n",
              "      <td>...</td>\n",
              "      <td>...</td>\n",
              "      <td>...</td>\n",
              "      <td>...</td>\n",
              "      <td>...</td>\n",
              "      <td>...</td>\n",
              "      <td>...</td>\n",
              "      <td>...</td>\n",
              "      <td>...</td>\n",
              "      <td>...</td>\n",
              "      <td>...</td>\n",
              "      <td>...</td>\n",
              "    </tr>\n",
              "    <tr>\n",
              "      <th>13919</th>\n",
              "      <td>0.000000</td>\n",
              "      <td>0.0</td>\n",
              "      <td>0.0</td>\n",
              "      <td>0.000000</td>\n",
              "      <td>0.000000</td>\n",
              "      <td>0.0</td>\n",
              "      <td>0.000000</td>\n",
              "      <td>0.00000</td>\n",
              "      <td>0.0</td>\n",
              "      <td>0.0</td>\n",
              "      <td>0.0</td>\n",
              "      <td>0.000000</td>\n",
              "      <td>0.0</td>\n",
              "      <td>0.000000</td>\n",
              "      <td>0.000000</td>\n",
              "      <td>0.0</td>\n",
              "      <td>0.0</td>\n",
              "      <td>0.00000</td>\n",
              "      <td>0.0</td>\n",
              "      <td>0.0</td>\n",
              "      <td>0.0</td>\n",
              "      <td>0.0</td>\n",
              "      <td>0.0</td>\n",
              "      <td>0.0</td>\n",
              "      <td>0.075485</td>\n",
              "      <td>0.000000</td>\n",
              "      <td>0.0</td>\n",
              "      <td>0.0</td>\n",
              "      <td>0.000000</td>\n",
              "      <td>0.000000</td>\n",
              "      <td>0.000000</td>\n",
              "      <td>0.000000</td>\n",
              "      <td>0.0</td>\n",
              "      <td>0.000000</td>\n",
              "      <td>0.000000</td>\n",
              "      <td>0.000000</td>\n",
              "      <td>0.000000</td>\n",
              "      <td>0.0</td>\n",
              "      <td>0.00000</td>\n",
              "      <td>0.000000</td>\n",
              "      <td>...</td>\n",
              "      <td>0.000000</td>\n",
              "      <td>0.0</td>\n",
              "      <td>0.0</td>\n",
              "      <td>0.000000</td>\n",
              "      <td>0.000000</td>\n",
              "      <td>0.000000</td>\n",
              "      <td>0.000000</td>\n",
              "      <td>0.000000</td>\n",
              "      <td>0.521493</td>\n",
              "      <td>0.000000</td>\n",
              "      <td>0.000000</td>\n",
              "      <td>0.0</td>\n",
              "      <td>0.0</td>\n",
              "      <td>0.0</td>\n",
              "      <td>0.000000</td>\n",
              "      <td>0.000000</td>\n",
              "      <td>0.000000</td>\n",
              "      <td>0.0</td>\n",
              "      <td>0.0</td>\n",
              "      <td>0.087565</td>\n",
              "      <td>0.0</td>\n",
              "      <td>0.000000</td>\n",
              "      <td>0.000000</td>\n",
              "      <td>0.000000</td>\n",
              "      <td>0.000000</td>\n",
              "      <td>0.0</td>\n",
              "      <td>0.000000</td>\n",
              "      <td>0.0</td>\n",
              "      <td>0.0</td>\n",
              "      <td>0.000000</td>\n",
              "      <td>0.000000</td>\n",
              "      <td>0.0</td>\n",
              "      <td>0.443949</td>\n",
              "      <td>0.0</td>\n",
              "      <td>0.0</td>\n",
              "      <td>0.000000</td>\n",
              "      <td>0.102495</td>\n",
              "      <td>0.000000</td>\n",
              "      <td>0.0</td>\n",
              "      <td>0.000000</td>\n",
              "    </tr>\n",
              "    <tr>\n",
              "      <th>13920</th>\n",
              "      <td>0.000000</td>\n",
              "      <td>0.0</td>\n",
              "      <td>0.0</td>\n",
              "      <td>0.000000</td>\n",
              "      <td>0.000000</td>\n",
              "      <td>0.0</td>\n",
              "      <td>0.000000</td>\n",
              "      <td>0.00000</td>\n",
              "      <td>0.0</td>\n",
              "      <td>0.0</td>\n",
              "      <td>0.0</td>\n",
              "      <td>0.000000</td>\n",
              "      <td>0.0</td>\n",
              "      <td>0.000000</td>\n",
              "      <td>0.176765</td>\n",
              "      <td>0.0</td>\n",
              "      <td>0.0</td>\n",
              "      <td>0.00000</td>\n",
              "      <td>0.0</td>\n",
              "      <td>0.0</td>\n",
              "      <td>0.0</td>\n",
              "      <td>0.0</td>\n",
              "      <td>0.0</td>\n",
              "      <td>0.0</td>\n",
              "      <td>0.000000</td>\n",
              "      <td>0.000000</td>\n",
              "      <td>0.0</td>\n",
              "      <td>0.0</td>\n",
              "      <td>0.000000</td>\n",
              "      <td>0.000000</td>\n",
              "      <td>0.113446</td>\n",
              "      <td>0.000000</td>\n",
              "      <td>0.0</td>\n",
              "      <td>0.000000</td>\n",
              "      <td>0.000000</td>\n",
              "      <td>0.163356</td>\n",
              "      <td>0.000000</td>\n",
              "      <td>0.0</td>\n",
              "      <td>0.00000</td>\n",
              "      <td>0.000000</td>\n",
              "      <td>...</td>\n",
              "      <td>0.000000</td>\n",
              "      <td>0.0</td>\n",
              "      <td>0.0</td>\n",
              "      <td>0.000000</td>\n",
              "      <td>0.000000</td>\n",
              "      <td>0.172153</td>\n",
              "      <td>0.000000</td>\n",
              "      <td>0.000000</td>\n",
              "      <td>0.000000</td>\n",
              "      <td>0.000000</td>\n",
              "      <td>0.000000</td>\n",
              "      <td>0.0</td>\n",
              "      <td>0.0</td>\n",
              "      <td>0.0</td>\n",
              "      <td>0.000000</td>\n",
              "      <td>0.000000</td>\n",
              "      <td>0.000000</td>\n",
              "      <td>0.0</td>\n",
              "      <td>0.0</td>\n",
              "      <td>0.000000</td>\n",
              "      <td>0.0</td>\n",
              "      <td>0.000000</td>\n",
              "      <td>0.000000</td>\n",
              "      <td>0.000000</td>\n",
              "      <td>0.000000</td>\n",
              "      <td>0.0</td>\n",
              "      <td>0.000000</td>\n",
              "      <td>0.0</td>\n",
              "      <td>0.0</td>\n",
              "      <td>0.000000</td>\n",
              "      <td>0.000000</td>\n",
              "      <td>0.0</td>\n",
              "      <td>0.000000</td>\n",
              "      <td>0.0</td>\n",
              "      <td>0.0</td>\n",
              "      <td>0.000000</td>\n",
              "      <td>0.000000</td>\n",
              "      <td>0.000000</td>\n",
              "      <td>0.0</td>\n",
              "      <td>0.000000</td>\n",
              "    </tr>\n",
              "    <tr>\n",
              "      <th>13921</th>\n",
              "      <td>0.000000</td>\n",
              "      <td>0.0</td>\n",
              "      <td>0.0</td>\n",
              "      <td>0.000000</td>\n",
              "      <td>0.000000</td>\n",
              "      <td>0.0</td>\n",
              "      <td>0.000000</td>\n",
              "      <td>0.00000</td>\n",
              "      <td>0.0</td>\n",
              "      <td>0.0</td>\n",
              "      <td>0.0</td>\n",
              "      <td>0.000000</td>\n",
              "      <td>0.0</td>\n",
              "      <td>0.000000</td>\n",
              "      <td>0.000000</td>\n",
              "      <td>0.0</td>\n",
              "      <td>0.0</td>\n",
              "      <td>0.00000</td>\n",
              "      <td>0.0</td>\n",
              "      <td>0.0</td>\n",
              "      <td>0.0</td>\n",
              "      <td>0.0</td>\n",
              "      <td>0.0</td>\n",
              "      <td>0.0</td>\n",
              "      <td>0.000000</td>\n",
              "      <td>0.000000</td>\n",
              "      <td>0.0</td>\n",
              "      <td>0.0</td>\n",
              "      <td>0.000000</td>\n",
              "      <td>0.000000</td>\n",
              "      <td>0.000000</td>\n",
              "      <td>0.287438</td>\n",
              "      <td>0.0</td>\n",
              "      <td>0.101346</td>\n",
              "      <td>0.000000</td>\n",
              "      <td>0.000000</td>\n",
              "      <td>0.000000</td>\n",
              "      <td>0.0</td>\n",
              "      <td>0.00000</td>\n",
              "      <td>0.000000</td>\n",
              "      <td>...</td>\n",
              "      <td>0.000000</td>\n",
              "      <td>0.0</td>\n",
              "      <td>0.0</td>\n",
              "      <td>0.000000</td>\n",
              "      <td>0.000000</td>\n",
              "      <td>0.000000</td>\n",
              "      <td>0.000000</td>\n",
              "      <td>0.000000</td>\n",
              "      <td>0.547469</td>\n",
              "      <td>0.000000</td>\n",
              "      <td>0.000000</td>\n",
              "      <td>0.0</td>\n",
              "      <td>0.0</td>\n",
              "      <td>0.0</td>\n",
              "      <td>0.000000</td>\n",
              "      <td>0.000000</td>\n",
              "      <td>0.000000</td>\n",
              "      <td>0.0</td>\n",
              "      <td>0.0</td>\n",
              "      <td>0.000000</td>\n",
              "      <td>0.0</td>\n",
              "      <td>0.000000</td>\n",
              "      <td>0.000000</td>\n",
              "      <td>0.000000</td>\n",
              "      <td>0.000000</td>\n",
              "      <td>0.0</td>\n",
              "      <td>0.097243</td>\n",
              "      <td>0.0</td>\n",
              "      <td>0.0</td>\n",
              "      <td>0.000000</td>\n",
              "      <td>0.000000</td>\n",
              "      <td>0.0</td>\n",
              "      <td>0.000000</td>\n",
              "      <td>0.0</td>\n",
              "      <td>0.0</td>\n",
              "      <td>0.000000</td>\n",
              "      <td>0.134501</td>\n",
              "      <td>0.000000</td>\n",
              "      <td>0.0</td>\n",
              "      <td>0.000000</td>\n",
              "    </tr>\n",
              "    <tr>\n",
              "      <th>13922</th>\n",
              "      <td>0.000000</td>\n",
              "      <td>0.0</td>\n",
              "      <td>0.0</td>\n",
              "      <td>0.000000</td>\n",
              "      <td>0.000000</td>\n",
              "      <td>0.0</td>\n",
              "      <td>0.089749</td>\n",
              "      <td>0.00000</td>\n",
              "      <td>0.0</td>\n",
              "      <td>0.0</td>\n",
              "      <td>0.0</td>\n",
              "      <td>0.000000</td>\n",
              "      <td>0.0</td>\n",
              "      <td>0.000000</td>\n",
              "      <td>0.358478</td>\n",
              "      <td>0.0</td>\n",
              "      <td>0.0</td>\n",
              "      <td>0.00000</td>\n",
              "      <td>0.0</td>\n",
              "      <td>0.0</td>\n",
              "      <td>0.0</td>\n",
              "      <td>0.0</td>\n",
              "      <td>0.0</td>\n",
              "      <td>0.0</td>\n",
              "      <td>0.000000</td>\n",
              "      <td>0.000000</td>\n",
              "      <td>0.0</td>\n",
              "      <td>0.0</td>\n",
              "      <td>0.000000</td>\n",
              "      <td>0.000000</td>\n",
              "      <td>0.000000</td>\n",
              "      <td>0.000000</td>\n",
              "      <td>0.0</td>\n",
              "      <td>0.000000</td>\n",
              "      <td>0.000000</td>\n",
              "      <td>0.000000</td>\n",
              "      <td>0.000000</td>\n",
              "      <td>0.0</td>\n",
              "      <td>0.00000</td>\n",
              "      <td>0.000000</td>\n",
              "      <td>...</td>\n",
              "      <td>0.000000</td>\n",
              "      <td>0.0</td>\n",
              "      <td>0.0</td>\n",
              "      <td>0.000000</td>\n",
              "      <td>0.103725</td>\n",
              "      <td>0.000000</td>\n",
              "      <td>0.000000</td>\n",
              "      <td>0.000000</td>\n",
              "      <td>0.000000</td>\n",
              "      <td>0.000000</td>\n",
              "      <td>0.000000</td>\n",
              "      <td>0.0</td>\n",
              "      <td>0.0</td>\n",
              "      <td>0.0</td>\n",
              "      <td>0.000000</td>\n",
              "      <td>0.000000</td>\n",
              "      <td>0.000000</td>\n",
              "      <td>0.0</td>\n",
              "      <td>0.0</td>\n",
              "      <td>0.000000</td>\n",
              "      <td>0.0</td>\n",
              "      <td>0.000000</td>\n",
              "      <td>0.000000</td>\n",
              "      <td>0.000000</td>\n",
              "      <td>0.000000</td>\n",
              "      <td>0.0</td>\n",
              "      <td>0.000000</td>\n",
              "      <td>0.0</td>\n",
              "      <td>0.0</td>\n",
              "      <td>0.000000</td>\n",
              "      <td>0.108968</td>\n",
              "      <td>0.0</td>\n",
              "      <td>0.000000</td>\n",
              "      <td>0.0</td>\n",
              "      <td>0.0</td>\n",
              "      <td>0.000000</td>\n",
              "      <td>0.317900</td>\n",
              "      <td>0.000000</td>\n",
              "      <td>0.0</td>\n",
              "      <td>0.000000</td>\n",
              "    </tr>\n",
              "    <tr>\n",
              "      <th>13923</th>\n",
              "      <td>0.000000</td>\n",
              "      <td>0.0</td>\n",
              "      <td>0.0</td>\n",
              "      <td>0.110969</td>\n",
              "      <td>0.000000</td>\n",
              "      <td>0.0</td>\n",
              "      <td>0.000000</td>\n",
              "      <td>0.00000</td>\n",
              "      <td>0.0</td>\n",
              "      <td>0.0</td>\n",
              "      <td>0.0</td>\n",
              "      <td>0.000000</td>\n",
              "      <td>0.0</td>\n",
              "      <td>0.108245</td>\n",
              "      <td>0.000000</td>\n",
              "      <td>0.0</td>\n",
              "      <td>0.0</td>\n",
              "      <td>0.00000</td>\n",
              "      <td>0.0</td>\n",
              "      <td>0.0</td>\n",
              "      <td>0.0</td>\n",
              "      <td>0.0</td>\n",
              "      <td>0.0</td>\n",
              "      <td>0.0</td>\n",
              "      <td>0.083639</td>\n",
              "      <td>0.000000</td>\n",
              "      <td>0.0</td>\n",
              "      <td>0.0</td>\n",
              "      <td>0.000000</td>\n",
              "      <td>0.118046</td>\n",
              "      <td>0.000000</td>\n",
              "      <td>0.000000</td>\n",
              "      <td>0.0</td>\n",
              "      <td>0.000000</td>\n",
              "      <td>0.000000</td>\n",
              "      <td>0.000000</td>\n",
              "      <td>0.000000</td>\n",
              "      <td>0.0</td>\n",
              "      <td>0.00000</td>\n",
              "      <td>0.000000</td>\n",
              "      <td>...</td>\n",
              "      <td>0.117689</td>\n",
              "      <td>0.0</td>\n",
              "      <td>0.0</td>\n",
              "      <td>0.061967</td>\n",
              "      <td>0.000000</td>\n",
              "      <td>0.374160</td>\n",
              "      <td>0.000000</td>\n",
              "      <td>0.000000</td>\n",
              "      <td>0.000000</td>\n",
              "      <td>0.116153</td>\n",
              "      <td>0.000000</td>\n",
              "      <td>0.0</td>\n",
              "      <td>0.0</td>\n",
              "      <td>0.0</td>\n",
              "      <td>0.000000</td>\n",
              "      <td>0.000000</td>\n",
              "      <td>0.000000</td>\n",
              "      <td>0.0</td>\n",
              "      <td>0.0</td>\n",
              "      <td>0.000000</td>\n",
              "      <td>0.0</td>\n",
              "      <td>0.000000</td>\n",
              "      <td>0.000000</td>\n",
              "      <td>0.164728</td>\n",
              "      <td>0.000000</td>\n",
              "      <td>0.0</td>\n",
              "      <td>0.082107</td>\n",
              "      <td>0.0</td>\n",
              "      <td>0.0</td>\n",
              "      <td>0.000000</td>\n",
              "      <td>0.000000</td>\n",
              "      <td>0.0</td>\n",
              "      <td>0.000000</td>\n",
              "      <td>0.0</td>\n",
              "      <td>0.0</td>\n",
              "      <td>0.000000</td>\n",
              "      <td>0.000000</td>\n",
              "      <td>0.105913</td>\n",
              "      <td>0.0</td>\n",
              "      <td>0.000000</td>\n",
              "    </tr>\n",
              "  </tbody>\n",
              "</table>\n",
              "<p>13924 rows × 248 columns</p>\n",
              "</div>"
            ],
            "text/plain": [
              "         abnorm  activ  acut     addit  ...    within   without  women      year\n",
              "0      0.000000    0.0   0.0  0.000000  ...  0.000000  0.244016    0.0  0.000000\n",
              "1      0.000000    0.0   0.0  0.000000  ...  0.000000  0.000000    0.0  0.000000\n",
              "2      0.286464    0.0   0.0  0.000000  ...  0.000000  0.000000    0.0  0.000000\n",
              "3      0.000000    0.0   0.0  0.000000  ...  0.000000  0.000000    0.0  0.000000\n",
              "4      0.000000    0.0   0.0  0.000000  ...  0.000000  0.000000    0.0  0.094556\n",
              "...         ...    ...   ...       ...  ...       ...       ...    ...       ...\n",
              "13919  0.000000    0.0   0.0  0.000000  ...  0.102495  0.000000    0.0  0.000000\n",
              "13920  0.000000    0.0   0.0  0.000000  ...  0.000000  0.000000    0.0  0.000000\n",
              "13921  0.000000    0.0   0.0  0.000000  ...  0.134501  0.000000    0.0  0.000000\n",
              "13922  0.000000    0.0   0.0  0.000000  ...  0.317900  0.000000    0.0  0.000000\n",
              "13923  0.000000    0.0   0.0  0.110969  ...  0.000000  0.105913    0.0  0.000000\n",
              "\n",
              "[13924 rows x 248 columns]"
            ]
          },
          "metadata": {},
          "execution_count": 149
        }
      ]
    }
  ]
}